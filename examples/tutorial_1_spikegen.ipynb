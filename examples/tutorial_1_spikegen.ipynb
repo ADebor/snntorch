{
  "nbformat": 4,
  "nbformat_minor": 0,
  "metadata": {
    "accelerator": "GPU",
    "colab": {
      "name": "Copy of quantAwareTrain.ipynb",
      "provenance": [],
      "collapsed_sections": [
        "9QXsrr6Mp5e_",
        "1EWDw3bip8Ie",
        "vFM8UV9CreIX",
        "xXkTAJ9ws1Y6",
        "OgkWg605tE1y",
        "OBt0WDzyujnk",
        "xC96eesMqYo-",
        "mszPTrYOluym",
        "VTHK-wAWV57B"
      ]
    },
    "kernelspec": {
      "name": "python3",
      "language": "python",
      "display_name": "Python 3"
    },
    "language_info": {
      "codemirror_mode": {
        "name": "ipython",
        "version": 3
      },
      "file_extension": ".py",
      "mimetype": "text/x-python",
      "name": "python",
      "nbconvert_exporter": "python",
      "pygments_lexer": "ipython3",
      "version": "3.6.1"
    },
    "widgets": {
      "application/vnd.jupyter.widget-state+json": {
        "ca437d1f7481455dafa4f6b92cd99eec": {
          "model_module": "@jupyter-widgets/controls",
          "model_name": "HBoxModel",
          "state": {
            "_view_name": "HBoxView",
            "_dom_classes": [],
            "_model_name": "HBoxModel",
            "_view_module": "@jupyter-widgets/controls",
            "_model_module_version": "1.5.0",
            "_view_count": null,
            "_view_module_version": "1.5.0",
            "box_style": "",
            "layout": "IPY_MODEL_4a4dc3336f114b378e2abfe351cd1a29",
            "_model_module": "@jupyter-widgets/controls",
            "children": [
              "IPY_MODEL_31972211b5fa45eaafe8d76f052fc1a4",
              "IPY_MODEL_9e7342f5ebb04407a4c167e964afa95d"
            ]
          }
        },
        "4a4dc3336f114b378e2abfe351cd1a29": {
          "model_module": "@jupyter-widgets/base",
          "model_name": "LayoutModel",
          "state": {
            "_view_name": "LayoutView",
            "grid_template_rows": null,
            "right": null,
            "justify_content": null,
            "_view_module": "@jupyter-widgets/base",
            "overflow": null,
            "_model_module_version": "1.2.0",
            "_view_count": null,
            "flex_flow": null,
            "width": null,
            "min_width": null,
            "border": null,
            "align_items": null,
            "bottom": null,
            "_model_module": "@jupyter-widgets/base",
            "top": null,
            "grid_column": null,
            "overflow_y": null,
            "overflow_x": null,
            "grid_auto_flow": null,
            "grid_area": null,
            "grid_template_columns": null,
            "flex": null,
            "_model_name": "LayoutModel",
            "justify_items": null,
            "grid_row": null,
            "max_height": null,
            "align_content": null,
            "visibility": null,
            "align_self": null,
            "height": null,
            "min_height": null,
            "padding": null,
            "grid_auto_rows": null,
            "grid_gap": null,
            "max_width": null,
            "order": null,
            "_view_module_version": "1.2.0",
            "grid_template_areas": null,
            "object_position": null,
            "object_fit": null,
            "grid_auto_columns": null,
            "margin": null,
            "display": null,
            "left": null
          }
        },
        "31972211b5fa45eaafe8d76f052fc1a4": {
          "model_module": "@jupyter-widgets/controls",
          "model_name": "FloatProgressModel",
          "state": {
            "_view_name": "ProgressView",
            "style": "IPY_MODEL_c162f18868b64c84bdf7d1b717cbb03a",
            "_dom_classes": [],
            "description": "",
            "_model_name": "FloatProgressModel",
            "bar_style": "info",
            "max": 1,
            "_view_module": "@jupyter-widgets/controls",
            "_model_module_version": "1.5.0",
            "value": 1,
            "_view_count": null,
            "_view_module_version": "1.5.0",
            "orientation": "horizontal",
            "min": 0,
            "description_tooltip": null,
            "_model_module": "@jupyter-widgets/controls",
            "layout": "IPY_MODEL_06f17482d20548aa86d9cc7a32f453eb"
          }
        },
        "9e7342f5ebb04407a4c167e964afa95d": {
          "model_module": "@jupyter-widgets/controls",
          "model_name": "HTMLModel",
          "state": {
            "_view_name": "HTMLView",
            "style": "IPY_MODEL_246cce7fc0154a69b62600b40fc418a2",
            "_dom_classes": [],
            "description": "",
            "_model_name": "HTMLModel",
            "placeholder": "​",
            "_view_module": "@jupyter-widgets/controls",
            "_model_module_version": "1.5.0",
            "value": " 9920512/? [00:20&lt;00:00, 271864.12it/s]",
            "_view_count": null,
            "_view_module_version": "1.5.0",
            "description_tooltip": null,
            "_model_module": "@jupyter-widgets/controls",
            "layout": "IPY_MODEL_1117eaf1bf3c4fd78ae8fe7a9dbd0657"
          }
        },
        "c162f18868b64c84bdf7d1b717cbb03a": {
          "model_module": "@jupyter-widgets/controls",
          "model_name": "ProgressStyleModel",
          "state": {
            "_view_name": "StyleView",
            "_model_name": "ProgressStyleModel",
            "description_width": "initial",
            "_view_module": "@jupyter-widgets/base",
            "_model_module_version": "1.5.0",
            "_view_count": null,
            "_view_module_version": "1.2.0",
            "bar_color": null,
            "_model_module": "@jupyter-widgets/controls"
          }
        },
        "06f17482d20548aa86d9cc7a32f453eb": {
          "model_module": "@jupyter-widgets/base",
          "model_name": "LayoutModel",
          "state": {
            "_view_name": "LayoutView",
            "grid_template_rows": null,
            "right": null,
            "justify_content": null,
            "_view_module": "@jupyter-widgets/base",
            "overflow": null,
            "_model_module_version": "1.2.0",
            "_view_count": null,
            "flex_flow": null,
            "width": null,
            "min_width": null,
            "border": null,
            "align_items": null,
            "bottom": null,
            "_model_module": "@jupyter-widgets/base",
            "top": null,
            "grid_column": null,
            "overflow_y": null,
            "overflow_x": null,
            "grid_auto_flow": null,
            "grid_area": null,
            "grid_template_columns": null,
            "flex": null,
            "_model_name": "LayoutModel",
            "justify_items": null,
            "grid_row": null,
            "max_height": null,
            "align_content": null,
            "visibility": null,
            "align_self": null,
            "height": null,
            "min_height": null,
            "padding": null,
            "grid_auto_rows": null,
            "grid_gap": null,
            "max_width": null,
            "order": null,
            "_view_module_version": "1.2.0",
            "grid_template_areas": null,
            "object_position": null,
            "object_fit": null,
            "grid_auto_columns": null,
            "margin": null,
            "display": null,
            "left": null
          }
        },
        "246cce7fc0154a69b62600b40fc418a2": {
          "model_module": "@jupyter-widgets/controls",
          "model_name": "DescriptionStyleModel",
          "state": {
            "_view_name": "StyleView",
            "_model_name": "DescriptionStyleModel",
            "description_width": "",
            "_view_module": "@jupyter-widgets/base",
            "_model_module_version": "1.5.0",
            "_view_count": null,
            "_view_module_version": "1.2.0",
            "_model_module": "@jupyter-widgets/controls"
          }
        },
        "1117eaf1bf3c4fd78ae8fe7a9dbd0657": {
          "model_module": "@jupyter-widgets/base",
          "model_name": "LayoutModel",
          "state": {
            "_view_name": "LayoutView",
            "grid_template_rows": null,
            "right": null,
            "justify_content": null,
            "_view_module": "@jupyter-widgets/base",
            "overflow": null,
            "_model_module_version": "1.2.0",
            "_view_count": null,
            "flex_flow": null,
            "width": null,
            "min_width": null,
            "border": null,
            "align_items": null,
            "bottom": null,
            "_model_module": "@jupyter-widgets/base",
            "top": null,
            "grid_column": null,
            "overflow_y": null,
            "overflow_x": null,
            "grid_auto_flow": null,
            "grid_area": null,
            "grid_template_columns": null,
            "flex": null,
            "_model_name": "LayoutModel",
            "justify_items": null,
            "grid_row": null,
            "max_height": null,
            "align_content": null,
            "visibility": null,
            "align_self": null,
            "height": null,
            "min_height": null,
            "padding": null,
            "grid_auto_rows": null,
            "grid_gap": null,
            "max_width": null,
            "order": null,
            "_view_module_version": "1.2.0",
            "grid_template_areas": null,
            "object_position": null,
            "object_fit": null,
            "grid_auto_columns": null,
            "margin": null,
            "display": null,
            "left": null
          }
        },
        "4abc57efc1774234aaeb8f4128f6f673": {
          "model_module": "@jupyter-widgets/controls",
          "model_name": "HBoxModel",
          "state": {
            "_view_name": "HBoxView",
            "_dom_classes": [],
            "_model_name": "HBoxModel",
            "_view_module": "@jupyter-widgets/controls",
            "_model_module_version": "1.5.0",
            "_view_count": null,
            "_view_module_version": "1.5.0",
            "box_style": "",
            "layout": "IPY_MODEL_806ddda0b8b54c0a99b019337e50615a",
            "_model_module": "@jupyter-widgets/controls",
            "children": [
              "IPY_MODEL_e78b287cdf694ae5a0254232a72f24ac",
              "IPY_MODEL_a70c6433b6754509b82d740027817c8d"
            ]
          }
        },
        "806ddda0b8b54c0a99b019337e50615a": {
          "model_module": "@jupyter-widgets/base",
          "model_name": "LayoutModel",
          "state": {
            "_view_name": "LayoutView",
            "grid_template_rows": null,
            "right": null,
            "justify_content": null,
            "_view_module": "@jupyter-widgets/base",
            "overflow": null,
            "_model_module_version": "1.2.0",
            "_view_count": null,
            "flex_flow": null,
            "width": null,
            "min_width": null,
            "border": null,
            "align_items": null,
            "bottom": null,
            "_model_module": "@jupyter-widgets/base",
            "top": null,
            "grid_column": null,
            "overflow_y": null,
            "overflow_x": null,
            "grid_auto_flow": null,
            "grid_area": null,
            "grid_template_columns": null,
            "flex": null,
            "_model_name": "LayoutModel",
            "justify_items": null,
            "grid_row": null,
            "max_height": null,
            "align_content": null,
            "visibility": null,
            "align_self": null,
            "height": null,
            "min_height": null,
            "padding": null,
            "grid_auto_rows": null,
            "grid_gap": null,
            "max_width": null,
            "order": null,
            "_view_module_version": "1.2.0",
            "grid_template_areas": null,
            "object_position": null,
            "object_fit": null,
            "grid_auto_columns": null,
            "margin": null,
            "display": null,
            "left": null
          }
        },
        "e78b287cdf694ae5a0254232a72f24ac": {
          "model_module": "@jupyter-widgets/controls",
          "model_name": "FloatProgressModel",
          "state": {
            "_view_name": "ProgressView",
            "style": "IPY_MODEL_d8fd637170e44ef983ae8b03bcbbbde2",
            "_dom_classes": [],
            "description": "",
            "_model_name": "FloatProgressModel",
            "bar_style": "info",
            "max": 1,
            "_view_module": "@jupyter-widgets/controls",
            "_model_module_version": "1.5.0",
            "value": 0,
            "_view_count": null,
            "_view_module_version": "1.5.0",
            "orientation": "horizontal",
            "min": 0,
            "description_tooltip": null,
            "_model_module": "@jupyter-widgets/controls",
            "layout": "IPY_MODEL_5c60fdb58bb743388c07efb4c9d0c7c9"
          }
        },
        "a70c6433b6754509b82d740027817c8d": {
          "model_module": "@jupyter-widgets/controls",
          "model_name": "HTMLModel",
          "state": {
            "_view_name": "HTMLView",
            "style": "IPY_MODEL_ec04496881ca411ab16c2a34ff7fec51",
            "_dom_classes": [],
            "description": "",
            "_model_name": "HTMLModel",
            "placeholder": "​",
            "_view_module": "@jupyter-widgets/controls",
            "_model_module_version": "1.5.0",
            "value": " 0/? [00:00&lt;?, ?it/s]",
            "_view_count": null,
            "_view_module_version": "1.5.0",
            "description_tooltip": null,
            "_model_module": "@jupyter-widgets/controls",
            "layout": "IPY_MODEL_84e1701544774369bb7811e9ce751119"
          }
        },
        "d8fd637170e44ef983ae8b03bcbbbde2": {
          "model_module": "@jupyter-widgets/controls",
          "model_name": "ProgressStyleModel",
          "state": {
            "_view_name": "StyleView",
            "_model_name": "ProgressStyleModel",
            "description_width": "initial",
            "_view_module": "@jupyter-widgets/base",
            "_model_module_version": "1.5.0",
            "_view_count": null,
            "_view_module_version": "1.2.0",
            "bar_color": null,
            "_model_module": "@jupyter-widgets/controls"
          }
        },
        "5c60fdb58bb743388c07efb4c9d0c7c9": {
          "model_module": "@jupyter-widgets/base",
          "model_name": "LayoutModel",
          "state": {
            "_view_name": "LayoutView",
            "grid_template_rows": null,
            "right": null,
            "justify_content": null,
            "_view_module": "@jupyter-widgets/base",
            "overflow": null,
            "_model_module_version": "1.2.0",
            "_view_count": null,
            "flex_flow": null,
            "width": null,
            "min_width": null,
            "border": null,
            "align_items": null,
            "bottom": null,
            "_model_module": "@jupyter-widgets/base",
            "top": null,
            "grid_column": null,
            "overflow_y": null,
            "overflow_x": null,
            "grid_auto_flow": null,
            "grid_area": null,
            "grid_template_columns": null,
            "flex": null,
            "_model_name": "LayoutModel",
            "justify_items": null,
            "grid_row": null,
            "max_height": null,
            "align_content": null,
            "visibility": null,
            "align_self": null,
            "height": null,
            "min_height": null,
            "padding": null,
            "grid_auto_rows": null,
            "grid_gap": null,
            "max_width": null,
            "order": null,
            "_view_module_version": "1.2.0",
            "grid_template_areas": null,
            "object_position": null,
            "object_fit": null,
            "grid_auto_columns": null,
            "margin": null,
            "display": null,
            "left": null
          }
        },
        "ec04496881ca411ab16c2a34ff7fec51": {
          "model_module": "@jupyter-widgets/controls",
          "model_name": "DescriptionStyleModel",
          "state": {
            "_view_name": "StyleView",
            "_model_name": "DescriptionStyleModel",
            "description_width": "",
            "_view_module": "@jupyter-widgets/base",
            "_model_module_version": "1.5.0",
            "_view_count": null,
            "_view_module_version": "1.2.0",
            "_model_module": "@jupyter-widgets/controls"
          }
        },
        "84e1701544774369bb7811e9ce751119": {
          "model_module": "@jupyter-widgets/base",
          "model_name": "LayoutModel",
          "state": {
            "_view_name": "LayoutView",
            "grid_template_rows": null,
            "right": null,
            "justify_content": null,
            "_view_module": "@jupyter-widgets/base",
            "overflow": null,
            "_model_module_version": "1.2.0",
            "_view_count": null,
            "flex_flow": null,
            "width": null,
            "min_width": null,
            "border": null,
            "align_items": null,
            "bottom": null,
            "_model_module": "@jupyter-widgets/base",
            "top": null,
            "grid_column": null,
            "overflow_y": null,
            "overflow_x": null,
            "grid_auto_flow": null,
            "grid_area": null,
            "grid_template_columns": null,
            "flex": null,
            "_model_name": "LayoutModel",
            "justify_items": null,
            "grid_row": null,
            "max_height": null,
            "align_content": null,
            "visibility": null,
            "align_self": null,
            "height": null,
            "min_height": null,
            "padding": null,
            "grid_auto_rows": null,
            "grid_gap": null,
            "max_width": null,
            "order": null,
            "_view_module_version": "1.2.0",
            "grid_template_areas": null,
            "object_position": null,
            "object_fit": null,
            "grid_auto_columns": null,
            "margin": null,
            "display": null,
            "left": null
          }
        },
        "7a22f65f13454ea085c8158931548d77": {
          "model_module": "@jupyter-widgets/controls",
          "model_name": "HBoxModel",
          "state": {
            "_view_name": "HBoxView",
            "_dom_classes": [],
            "_model_name": "HBoxModel",
            "_view_module": "@jupyter-widgets/controls",
            "_model_module_version": "1.5.0",
            "_view_count": null,
            "_view_module_version": "1.5.0",
            "box_style": "",
            "layout": "IPY_MODEL_a614830e5ab34c00947ec38e9a317091",
            "_model_module": "@jupyter-widgets/controls",
            "children": [
              "IPY_MODEL_b8cc4d672df54dd986398bca23ce6e34",
              "IPY_MODEL_333f2fd10d9c4c3d9d11546d40d797c7"
            ]
          }
        },
        "a614830e5ab34c00947ec38e9a317091": {
          "model_module": "@jupyter-widgets/base",
          "model_name": "LayoutModel",
          "state": {
            "_view_name": "LayoutView",
            "grid_template_rows": null,
            "right": null,
            "justify_content": null,
            "_view_module": "@jupyter-widgets/base",
            "overflow": null,
            "_model_module_version": "1.2.0",
            "_view_count": null,
            "flex_flow": null,
            "width": null,
            "min_width": null,
            "border": null,
            "align_items": null,
            "bottom": null,
            "_model_module": "@jupyter-widgets/base",
            "top": null,
            "grid_column": null,
            "overflow_y": null,
            "overflow_x": null,
            "grid_auto_flow": null,
            "grid_area": null,
            "grid_template_columns": null,
            "flex": null,
            "_model_name": "LayoutModel",
            "justify_items": null,
            "grid_row": null,
            "max_height": null,
            "align_content": null,
            "visibility": null,
            "align_self": null,
            "height": null,
            "min_height": null,
            "padding": null,
            "grid_auto_rows": null,
            "grid_gap": null,
            "max_width": null,
            "order": null,
            "_view_module_version": "1.2.0",
            "grid_template_areas": null,
            "object_position": null,
            "object_fit": null,
            "grid_auto_columns": null,
            "margin": null,
            "display": null,
            "left": null
          }
        },
        "b8cc4d672df54dd986398bca23ce6e34": {
          "model_module": "@jupyter-widgets/controls",
          "model_name": "FloatProgressModel",
          "state": {
            "_view_name": "ProgressView",
            "style": "IPY_MODEL_f3533223e28d495ca4d9c2a7ddf56e97",
            "_dom_classes": [],
            "description": "",
            "_model_name": "FloatProgressModel",
            "bar_style": "info",
            "max": 1,
            "_view_module": "@jupyter-widgets/controls",
            "_model_module_version": "1.5.0",
            "value": 1,
            "_view_count": null,
            "_view_module_version": "1.5.0",
            "orientation": "horizontal",
            "min": 0,
            "description_tooltip": null,
            "_model_module": "@jupyter-widgets/controls",
            "layout": "IPY_MODEL_4d2f728d85bc43b4a71f712fa6d6d120"
          }
        },
        "333f2fd10d9c4c3d9d11546d40d797c7": {
          "model_module": "@jupyter-widgets/controls",
          "model_name": "HTMLModel",
          "state": {
            "_view_name": "HTMLView",
            "style": "IPY_MODEL_4e01bc617ad44b868ebeaf577101ce59",
            "_dom_classes": [],
            "description": "",
            "_model_name": "HTMLModel",
            "placeholder": "​",
            "_view_module": "@jupyter-widgets/controls",
            "_model_module_version": "1.5.0",
            "value": " 1654784/? [00:19&lt;00:00, 133890.85it/s]",
            "_view_count": null,
            "_view_module_version": "1.5.0",
            "description_tooltip": null,
            "_model_module": "@jupyter-widgets/controls",
            "layout": "IPY_MODEL_be4af45865e44a29943935640bf2d2d6"
          }
        },
        "f3533223e28d495ca4d9c2a7ddf56e97": {
          "model_module": "@jupyter-widgets/controls",
          "model_name": "ProgressStyleModel",
          "state": {
            "_view_name": "StyleView",
            "_model_name": "ProgressStyleModel",
            "description_width": "initial",
            "_view_module": "@jupyter-widgets/base",
            "_model_module_version": "1.5.0",
            "_view_count": null,
            "_view_module_version": "1.2.0",
            "bar_color": null,
            "_model_module": "@jupyter-widgets/controls"
          }
        },
        "4d2f728d85bc43b4a71f712fa6d6d120": {
          "model_module": "@jupyter-widgets/base",
          "model_name": "LayoutModel",
          "state": {
            "_view_name": "LayoutView",
            "grid_template_rows": null,
            "right": null,
            "justify_content": null,
            "_view_module": "@jupyter-widgets/base",
            "overflow": null,
            "_model_module_version": "1.2.0",
            "_view_count": null,
            "flex_flow": null,
            "width": null,
            "min_width": null,
            "border": null,
            "align_items": null,
            "bottom": null,
            "_model_module": "@jupyter-widgets/base",
            "top": null,
            "grid_column": null,
            "overflow_y": null,
            "overflow_x": null,
            "grid_auto_flow": null,
            "grid_area": null,
            "grid_template_columns": null,
            "flex": null,
            "_model_name": "LayoutModel",
            "justify_items": null,
            "grid_row": null,
            "max_height": null,
            "align_content": null,
            "visibility": null,
            "align_self": null,
            "height": null,
            "min_height": null,
            "padding": null,
            "grid_auto_rows": null,
            "grid_gap": null,
            "max_width": null,
            "order": null,
            "_view_module_version": "1.2.0",
            "grid_template_areas": null,
            "object_position": null,
            "object_fit": null,
            "grid_auto_columns": null,
            "margin": null,
            "display": null,
            "left": null
          }
        },
        "4e01bc617ad44b868ebeaf577101ce59": {
          "model_module": "@jupyter-widgets/controls",
          "model_name": "DescriptionStyleModel",
          "state": {
            "_view_name": "StyleView",
            "_model_name": "DescriptionStyleModel",
            "description_width": "",
            "_view_module": "@jupyter-widgets/base",
            "_model_module_version": "1.5.0",
            "_view_count": null,
            "_view_module_version": "1.2.0",
            "_model_module": "@jupyter-widgets/controls"
          }
        },
        "be4af45865e44a29943935640bf2d2d6": {
          "model_module": "@jupyter-widgets/base",
          "model_name": "LayoutModel",
          "state": {
            "_view_name": "LayoutView",
            "grid_template_rows": null,
            "right": null,
            "justify_content": null,
            "_view_module": "@jupyter-widgets/base",
            "overflow": null,
            "_model_module_version": "1.2.0",
            "_view_count": null,
            "flex_flow": null,
            "width": null,
            "min_width": null,
            "border": null,
            "align_items": null,
            "bottom": null,
            "_model_module": "@jupyter-widgets/base",
            "top": null,
            "grid_column": null,
            "overflow_y": null,
            "overflow_x": null,
            "grid_auto_flow": null,
            "grid_area": null,
            "grid_template_columns": null,
            "flex": null,
            "_model_name": "LayoutModel",
            "justify_items": null,
            "grid_row": null,
            "max_height": null,
            "align_content": null,
            "visibility": null,
            "align_self": null,
            "height": null,
            "min_height": null,
            "padding": null,
            "grid_auto_rows": null,
            "grid_gap": null,
            "max_width": null,
            "order": null,
            "_view_module_version": "1.2.0",
            "grid_template_areas": null,
            "object_position": null,
            "object_fit": null,
            "grid_auto_columns": null,
            "margin": null,
            "display": null,
            "left": null
          }
        },
        "467fbe3571234944a9753fcebad93ed2": {
          "model_module": "@jupyter-widgets/controls",
          "model_name": "HBoxModel",
          "state": {
            "_view_name": "HBoxView",
            "_dom_classes": [],
            "_model_name": "HBoxModel",
            "_view_module": "@jupyter-widgets/controls",
            "_model_module_version": "1.5.0",
            "_view_count": null,
            "_view_module_version": "1.5.0",
            "box_style": "",
            "layout": "IPY_MODEL_18af9f558ed54e9c896207995539f788",
            "_model_module": "@jupyter-widgets/controls",
            "children": [
              "IPY_MODEL_ba796d280ef645199cda2724227ee0eb",
              "IPY_MODEL_c6c5c4d659104648a56d7904c879c842"
            ]
          }
        },
        "18af9f558ed54e9c896207995539f788": {
          "model_module": "@jupyter-widgets/base",
          "model_name": "LayoutModel",
          "state": {
            "_view_name": "LayoutView",
            "grid_template_rows": null,
            "right": null,
            "justify_content": null,
            "_view_module": "@jupyter-widgets/base",
            "overflow": null,
            "_model_module_version": "1.2.0",
            "_view_count": null,
            "flex_flow": null,
            "width": null,
            "min_width": null,
            "border": null,
            "align_items": null,
            "bottom": null,
            "_model_module": "@jupyter-widgets/base",
            "top": null,
            "grid_column": null,
            "overflow_y": null,
            "overflow_x": null,
            "grid_auto_flow": null,
            "grid_area": null,
            "grid_template_columns": null,
            "flex": null,
            "_model_name": "LayoutModel",
            "justify_items": null,
            "grid_row": null,
            "max_height": null,
            "align_content": null,
            "visibility": null,
            "align_self": null,
            "height": null,
            "min_height": null,
            "padding": null,
            "grid_auto_rows": null,
            "grid_gap": null,
            "max_width": null,
            "order": null,
            "_view_module_version": "1.2.0",
            "grid_template_areas": null,
            "object_position": null,
            "object_fit": null,
            "grid_auto_columns": null,
            "margin": null,
            "display": null,
            "left": null
          }
        },
        "ba796d280ef645199cda2724227ee0eb": {
          "model_module": "@jupyter-widgets/controls",
          "model_name": "FloatProgressModel",
          "state": {
            "_view_name": "ProgressView",
            "style": "IPY_MODEL_be442e526f59472ca547322312969759",
            "_dom_classes": [],
            "description": "",
            "_model_name": "FloatProgressModel",
            "bar_style": "info",
            "max": 1,
            "_view_module": "@jupyter-widgets/controls",
            "_model_module_version": "1.5.0",
            "value": 0,
            "_view_count": null,
            "_view_module_version": "1.5.0",
            "orientation": "horizontal",
            "min": 0,
            "description_tooltip": null,
            "_model_module": "@jupyter-widgets/controls",
            "layout": "IPY_MODEL_339e7dfa01024f69b7cc27a587074a16"
          }
        },
        "c6c5c4d659104648a56d7904c879c842": {
          "model_module": "@jupyter-widgets/controls",
          "model_name": "HTMLModel",
          "state": {
            "_view_name": "HTMLView",
            "style": "IPY_MODEL_1803b37866674d2d9b60558fc5a59dc5",
            "_dom_classes": [],
            "description": "",
            "_model_name": "HTMLModel",
            "placeholder": "​",
            "_view_module": "@jupyter-widgets/controls",
            "_model_module_version": "1.5.0",
            "value": " 0/? [00:00&lt;?, ?it/s]",
            "_view_count": null,
            "_view_module_version": "1.5.0",
            "description_tooltip": null,
            "_model_module": "@jupyter-widgets/controls",
            "layout": "IPY_MODEL_55fa906b76254a9bb54c983c26506144"
          }
        },
        "be442e526f59472ca547322312969759": {
          "model_module": "@jupyter-widgets/controls",
          "model_name": "ProgressStyleModel",
          "state": {
            "_view_name": "StyleView",
            "_model_name": "ProgressStyleModel",
            "description_width": "initial",
            "_view_module": "@jupyter-widgets/base",
            "_model_module_version": "1.5.0",
            "_view_count": null,
            "_view_module_version": "1.2.0",
            "bar_color": null,
            "_model_module": "@jupyter-widgets/controls"
          }
        },
        "339e7dfa01024f69b7cc27a587074a16": {
          "model_module": "@jupyter-widgets/base",
          "model_name": "LayoutModel",
          "state": {
            "_view_name": "LayoutView",
            "grid_template_rows": null,
            "right": null,
            "justify_content": null,
            "_view_module": "@jupyter-widgets/base",
            "overflow": null,
            "_model_module_version": "1.2.0",
            "_view_count": null,
            "flex_flow": null,
            "width": null,
            "min_width": null,
            "border": null,
            "align_items": null,
            "bottom": null,
            "_model_module": "@jupyter-widgets/base",
            "top": null,
            "grid_column": null,
            "overflow_y": null,
            "overflow_x": null,
            "grid_auto_flow": null,
            "grid_area": null,
            "grid_template_columns": null,
            "flex": null,
            "_model_name": "LayoutModel",
            "justify_items": null,
            "grid_row": null,
            "max_height": null,
            "align_content": null,
            "visibility": null,
            "align_self": null,
            "height": null,
            "min_height": null,
            "padding": null,
            "grid_auto_rows": null,
            "grid_gap": null,
            "max_width": null,
            "order": null,
            "_view_module_version": "1.2.0",
            "grid_template_areas": null,
            "object_position": null,
            "object_fit": null,
            "grid_auto_columns": null,
            "margin": null,
            "display": null,
            "left": null
          }
        },
        "1803b37866674d2d9b60558fc5a59dc5": {
          "model_module": "@jupyter-widgets/controls",
          "model_name": "DescriptionStyleModel",
          "state": {
            "_view_name": "StyleView",
            "_model_name": "DescriptionStyleModel",
            "description_width": "",
            "_view_module": "@jupyter-widgets/base",
            "_model_module_version": "1.5.0",
            "_view_count": null,
            "_view_module_version": "1.2.0",
            "_model_module": "@jupyter-widgets/controls"
          }
        },
        "55fa906b76254a9bb54c983c26506144": {
          "model_module": "@jupyter-widgets/base",
          "model_name": "LayoutModel",
          "state": {
            "_view_name": "LayoutView",
            "grid_template_rows": null,
            "right": null,
            "justify_content": null,
            "_view_module": "@jupyter-widgets/base",
            "overflow": null,
            "_model_module_version": "1.2.0",
            "_view_count": null,
            "flex_flow": null,
            "width": null,
            "min_width": null,
            "border": null,
            "align_items": null,
            "bottom": null,
            "_model_module": "@jupyter-widgets/base",
            "top": null,
            "grid_column": null,
            "overflow_y": null,
            "overflow_x": null,
            "grid_auto_flow": null,
            "grid_area": null,
            "grid_template_columns": null,
            "flex": null,
            "_model_name": "LayoutModel",
            "justify_items": null,
            "grid_row": null,
            "max_height": null,
            "align_content": null,
            "visibility": null,
            "align_self": null,
            "height": null,
            "min_height": null,
            "padding": null,
            "grid_auto_rows": null,
            "grid_gap": null,
            "max_width": null,
            "order": null,
            "_view_module_version": "1.2.0",
            "grid_template_areas": null,
            "object_position": null,
            "object_fit": null,
            "grid_auto_columns": null,
            "margin": null,
            "display": null,
            "left": null
          }
        }
      }
    }
  },
  "cells": [
    {
      "cell_type": "markdown",
      "metadata": {
        "id": "RBNKFLJIobYt"
      },
      "source": [
        "# snnTorch - Tutorial 1\n",
        "### By Jason K. Eshraghian\n",
        "\n",
        "<img src='https://github.com/jeshraghian/snntorch/blob/master/docs/_static/img/snntorch_alpha_w.png?raw=true' width=\"400\">"
      ]
    },
    {
      "cell_type": "markdown",
      "metadata": {
        "collapsed": false,
        "pycharm": {
          "name": "#%% md\n"
        },
        "id": "lnF_PEo5obYv"
      },
      "source": [
        "# Spike Train Generation\n",
        "In this tutorial, you will learn how to use snnTorch to:\n",
        "* convert datasets into spiking datasets using various encoding methods, \n",
        "* how to visualise them, \n",
        "* and how to generate random spike trains.\n",
        "\n",
        "If running in Google Colab:\n",
        "* Ensure you are connected to GPU by checking `Runtime` > `Change runtime type` > `Hardware accelerator: GPU`\n",
        "* Next, install the latest PyPi distribution of snnTorch by clicking into the following cell and pressing `Shift+Enter`."
      ]
    },
    {
      "cell_type": "code",
      "metadata": {
        "pycharm": {
          "name": "#%%\n"
        },
        "colab": {
          "base_uri": "https://localhost:8080/"
        },
        "id": "jxLoYgkhobYw",
        "outputId": "0d5fcaa9-5236-4f23-a352-c2928685b65c"
      },
      "source": [
        "!pip install snntorch"
      ],
      "execution_count": 1,
      "outputs": [
        {
          "output_type": "stream",
          "text": [
            "Collecting snntorch\n",
            "  Downloading https://files.pythonhosted.org/packages/05/f3/3a4189bf216a8450de65be91a833d6aeeec3179e22a8d03383954a68651e/snntorch-0.1.8-py2.py3-none-any.whl\n",
            "Requirement already satisfied: matplotlib in /usr/local/lib/python3.6/dist-packages (from snntorch) (3.2.2)\n",
            "Requirement already satisfied: torch>=1.2.0 in /usr/local/lib/python3.6/dist-packages (from snntorch) (1.7.0+cu101)\n",
            "Requirement already satisfied: numpy>=1.17 in /usr/local/lib/python3.6/dist-packages (from snntorch) (1.19.5)\n",
            "Collecting celluloid\n",
            "  Downloading https://files.pythonhosted.org/packages/60/a7/7fbe80721c6f1b7370c4e50c77abe31b4d5cfeb58873d4d32f48ae5a0bae/celluloid-0.2.0-py3-none-any.whl\n",
            "Requirement already satisfied: pandas in /usr/local/lib/python3.6/dist-packages (from snntorch) (1.1.5)\n",
            "Requirement already satisfied: python-dateutil>=2.1 in /usr/local/lib/python3.6/dist-packages (from matplotlib->snntorch) (2.8.1)\n",
            "Requirement already satisfied: kiwisolver>=1.0.1 in /usr/local/lib/python3.6/dist-packages (from matplotlib->snntorch) (1.3.1)\n",
            "Requirement already satisfied: cycler>=0.10 in /usr/local/lib/python3.6/dist-packages (from matplotlib->snntorch) (0.10.0)\n",
            "Requirement already satisfied: pyparsing!=2.0.4,!=2.1.2,!=2.1.6,>=2.0.1 in /usr/local/lib/python3.6/dist-packages (from matplotlib->snntorch) (2.4.7)\n",
            "Requirement already satisfied: typing-extensions in /usr/local/lib/python3.6/dist-packages (from torch>=1.2.0->snntorch) (3.7.4.3)\n",
            "Requirement already satisfied: future in /usr/local/lib/python3.6/dist-packages (from torch>=1.2.0->snntorch) (0.16.0)\n",
            "Requirement already satisfied: dataclasses in /usr/local/lib/python3.6/dist-packages (from torch>=1.2.0->snntorch) (0.8)\n",
            "Requirement already satisfied: pytz>=2017.2 in /usr/local/lib/python3.6/dist-packages (from pandas->snntorch) (2018.9)\n",
            "Requirement already satisfied: six>=1.5 in /usr/local/lib/python3.6/dist-packages (from python-dateutil>=2.1->matplotlib->snntorch) (1.15.0)\n",
            "Installing collected packages: celluloid, snntorch\n",
            "Successfully installed celluloid-0.2.0 snntorch-0.1.8\n"
          ],
          "name": "stdout"
        }
      ]
    },
    {
      "cell_type": "markdown",
      "metadata": {
        "collapsed": false,
        "pycharm": {
          "name": "#%% md\n"
        },
        "id": "Suffg8_ZobYw"
      },
      "source": [
        "## 1. Setting up the MNIST Dataset\n",
        "### 1.1. Import packages and setup environment"
      ]
    },
    {
      "cell_type": "code",
      "metadata": {
        "pycharm": {
          "name": "#%%\n"
        },
        "id": "cR9okh0jobYx"
      },
      "source": [
        "import snntorch as snn\n",
        "import torch"
      ],
      "execution_count": 2,
      "outputs": []
    },
    {
      "cell_type": "markdown",
      "metadata": {
        "id": "7Z5hlhbUobYx"
      },
      "source": [
        "Let's define a few variables.\n",
        "\n",
        "`data_path` will be used as the target directory for downloading the training set.\n",
        "\n",
        "`valid_split` will be used to assign data from the training set to the validation set.\n",
        "*E.g., for a split of 0.1, the validation set will be made up of 10% of the train set.*\n",
        "\n",
        "`subset` is used to partition the training and test sets down by the given factor.\n",
        "*E.g., for a subset of 10, a training set of 60,000 will be reduced to 6,000.*\n",
        "\n",
        "`num_steps` is the number of time steps to simulate."
      ]
    },
    {
      "cell_type": "code",
      "metadata": {
        "pycharm": {
          "name": "#%%\n"
        },
        "id": "e4LPD0WCobYx"
      },
      "source": [
        "# Training Parameters\n",
        "batch_size=128\n",
        "data_path='/data/mnist'\n",
        "val_split = 0.1\n",
        "subset = 10\n",
        "num_outputs = 10\n",
        "\n",
        "# Temporal Dynamics\n",
        "num_steps = 100\n",
        "\n",
        "# Torch Variables\n",
        "dtype = torch.float\n",
        "device = torch.device(\"cuda\") if torch.cuda.is_available() else torch.device(\"cpu\")"
      ],
      "execution_count": 3,
      "outputs": []
    },
    {
      "cell_type": "markdown",
      "metadata": {
        "id": "x5X2a5a9obYy"
      },
      "source": [
        "### 1.2 Download Dataset\n",
        "\n",
        "MNIST does not have a specified validation set by default. So we can make a copy of the training set in `mnist_val`.\n",
        "We won't use `mnist_val` or `mnist_test` here - they're only to demonstrate creating a train-validation split."
      ]
    },
    {
      "cell_type": "code",
      "metadata": {
        "pycharm": {
          "name": "#%%\n"
        },
        "colab": {
          "base_uri": "https://localhost:8080/",
          "height": 373,
          "referenced_widgets": [
            "ca437d1f7481455dafa4f6b92cd99eec",
            "4a4dc3336f114b378e2abfe351cd1a29",
            "31972211b5fa45eaafe8d76f052fc1a4",
            "9e7342f5ebb04407a4c167e964afa95d",
            "c162f18868b64c84bdf7d1b717cbb03a",
            "06f17482d20548aa86d9cc7a32f453eb",
            "246cce7fc0154a69b62600b40fc418a2",
            "1117eaf1bf3c4fd78ae8fe7a9dbd0657",
            "4abc57efc1774234aaeb8f4128f6f673",
            "806ddda0b8b54c0a99b019337e50615a",
            "e78b287cdf694ae5a0254232a72f24ac",
            "a70c6433b6754509b82d740027817c8d",
            "d8fd637170e44ef983ae8b03bcbbbde2",
            "5c60fdb58bb743388c07efb4c9d0c7c9",
            "ec04496881ca411ab16c2a34ff7fec51",
            "84e1701544774369bb7811e9ce751119",
            "7a22f65f13454ea085c8158931548d77",
            "a614830e5ab34c00947ec38e9a317091",
            "b8cc4d672df54dd986398bca23ce6e34",
            "333f2fd10d9c4c3d9d11546d40d797c7",
            "f3533223e28d495ca4d9c2a7ddf56e97",
            "4d2f728d85bc43b4a71f712fa6d6d120",
            "4e01bc617ad44b868ebeaf577101ce59",
            "be4af45865e44a29943935640bf2d2d6",
            "467fbe3571234944a9753fcebad93ed2",
            "18af9f558ed54e9c896207995539f788",
            "ba796d280ef645199cda2724227ee0eb",
            "c6c5c4d659104648a56d7904c879c842",
            "be442e526f59472ca547322312969759",
            "339e7dfa01024f69b7cc27a587074a16",
            "1803b37866674d2d9b60558fc5a59dc5",
            "55fa906b76254a9bb54c983c26506144"
          ]
        },
        "id": "OlbY8Rm9obYy",
        "outputId": "96b817d6-f981-4b8c-e17c-c3a5bfecffe5"
      },
      "source": [
        "from torchvision import datasets, transforms\n",
        "\n",
        "# Define a transform\n",
        "transform = transforms.Compose([\n",
        "            transforms.Resize((28,28)),\n",
        "            transforms.Grayscale(),\n",
        "            transforms.ToTensor(),\n",
        "            transforms.Normalize((0,), (1,))])\n",
        "\n",
        "mnist_train = datasets.MNIST(data_path, train=True, download=True, transform=transform)\n",
        "mnist_val = datasets.MNIST(data_path, train=True, download=True, transform=transform)\n",
        "mnist_test = datasets.MNIST(data_path, train=False, download=True, transform=transform)"
      ],
      "execution_count": 4,
      "outputs": [
        {
          "output_type": "stream",
          "text": [
            "Downloading http://yann.lecun.com/exdb/mnist/train-images-idx3-ubyte.gz to /data/mnist/MNIST/raw/train-images-idx3-ubyte.gz\n"
          ],
          "name": "stdout"
        },
        {
          "output_type": "display_data",
          "data": {
            "application/vnd.jupyter.widget-view+json": {
              "model_id": "ca437d1f7481455dafa4f6b92cd99eec",
              "version_minor": 0,
              "version_major": 2
            },
            "text/plain": [
              "HBox(children=(FloatProgress(value=1.0, bar_style='info', max=1.0), HTML(value='')))"
            ]
          },
          "metadata": {
            "tags": []
          }
        },
        {
          "output_type": "stream",
          "text": [
            "Extracting /data/mnist/MNIST/raw/train-images-idx3-ubyte.gz to /data/mnist/MNIST/raw\n",
            "Downloading http://yann.lecun.com/exdb/mnist/train-labels-idx1-ubyte.gz to /data/mnist/MNIST/raw/train-labels-idx1-ubyte.gz\n"
          ],
          "name": "stdout"
        },
        {
          "output_type": "display_data",
          "data": {
            "application/vnd.jupyter.widget-view+json": {
              "model_id": "4abc57efc1774234aaeb8f4128f6f673",
              "version_minor": 0,
              "version_major": 2
            },
            "text/plain": [
              "HBox(children=(FloatProgress(value=1.0, bar_style='info', max=1.0), HTML(value='')))"
            ]
          },
          "metadata": {
            "tags": []
          }
        },
        {
          "output_type": "stream",
          "text": [
            "Extracting /data/mnist/MNIST/raw/train-labels-idx1-ubyte.gz to /data/mnist/MNIST/raw\n",
            "Downloading http://yann.lecun.com/exdb/mnist/t10k-images-idx3-ubyte.gz to /data/mnist/MNIST/raw/t10k-images-idx3-ubyte.gz\n"
          ],
          "name": "stdout"
        },
        {
          "output_type": "display_data",
          "data": {
            "application/vnd.jupyter.widget-view+json": {
              "model_id": "7a22f65f13454ea085c8158931548d77",
              "version_minor": 0,
              "version_major": 2
            },
            "text/plain": [
              "HBox(children=(FloatProgress(value=1.0, bar_style='info', max=1.0), HTML(value='')))"
            ]
          },
          "metadata": {
            "tags": []
          }
        },
        {
          "output_type": "stream",
          "text": [
            "Extracting /data/mnist/MNIST/raw/t10k-images-idx3-ubyte.gz to /data/mnist/MNIST/raw\n",
            "Downloading http://yann.lecun.com/exdb/mnist/t10k-labels-idx1-ubyte.gz to /data/mnist/MNIST/raw/t10k-labels-idx1-ubyte.gz\n"
          ],
          "name": "stdout"
        },
        {
          "output_type": "display_data",
          "data": {
            "application/vnd.jupyter.widget-view+json": {
              "model_id": "467fbe3571234944a9753fcebad93ed2",
              "version_minor": 0,
              "version_major": 2
            },
            "text/plain": [
              "HBox(children=(FloatProgress(value=1.0, bar_style='info', max=1.0), HTML(value='')))"
            ]
          },
          "metadata": {
            "tags": []
          }
        },
        {
          "output_type": "stream",
          "text": [
            "Extracting /data/mnist/MNIST/raw/t10k-labels-idx1-ubyte.gz to /data/mnist/MNIST/raw\n",
            "Processing...\n",
            "Done!\n"
          ],
          "name": "stdout"
        },
        {
          "output_type": "stream",
          "text": [
            "/usr/local/lib/python3.6/dist-packages/torchvision/datasets/mnist.py:480: UserWarning: The given NumPy array is not writeable, and PyTorch does not support non-writeable tensors. This means you can write to the underlying (supposedly non-writeable) NumPy array using the tensor. You may want to copy the array to protect its data or make it writeable before converting it to a tensor. This type of warning will be suppressed for the rest of this program. (Triggered internally at  /pytorch/torch/csrc/utils/tensor_numpy.cpp:141.)\n",
            "  return torch.from_numpy(parsed.astype(m[2], copy=False)).view(*s)\n"
          ],
          "name": "stderr"
        }
      ]
    },
    {
      "cell_type": "markdown",
      "metadata": {
        "pycharm": {
          "name": "#%% md\n"
        },
        "id": "s8rZwawgobYy"
      },
      "source": [
        "`snntorch.utils` contains a few useful functions for modifying datasets.\n",
        "A train-validation split can be created by calling `valid_split`:"
      ]
    },
    {
      "cell_type": "code",
      "metadata": {
        "pycharm": {
          "name": "#%%\n"
        },
        "id": "z2AE1-TxobYy"
      },
      "source": [
        "from snntorch import utils\n",
        "\n",
        "mnist_train, mnist_val = utils.valid_split(mnist_train, mnist_val, val_split)"
      ],
      "execution_count": 5,
      "outputs": []
    },
    {
      "cell_type": "markdown",
      "metadata": {
        "pycharm": {
          "name": "#%% md\n"
        },
        "id": "T5wXl2bVobYz"
      },
      "source": [
        "Until we actually start doing some training, we won't need large datasets.\n",
        "So let's make our life simpler by reducing the size of the MNIST dataset.\n",
        "We can apply `data_subset` to reduce the dataset by the factor given in the argument `subset`.\n"
      ]
    },
    {
      "cell_type": "code",
      "metadata": {
        "pycharm": {
          "name": "#%%\n"
        },
        "id": "5FPsPU46obYz"
      },
      "source": [
        "mnist_train = utils.data_subset(mnist_train, subset)\n",
        "mnist_val = utils.data_subset(mnist_val, subset)\n",
        "mnist_test = utils.data_subset(mnist_test, subset)"
      ],
      "execution_count": 6,
      "outputs": []
    },
    {
      "cell_type": "markdown",
      "metadata": {
        "pycharm": {
          "name": "#%% md\n"
        },
        "id": "BSjMhKPdobYz"
      },
      "source": [
        "To verify, we can take a look at the length of each of our datasets:"
      ]
    },
    {
      "cell_type": "code",
      "metadata": {
        "pycharm": {
          "name": "#%%\n"
        },
        "colab": {
          "base_uri": "https://localhost:8080/"
        },
        "id": "nfMSCZGxobYz",
        "outputId": "18d6c297-762c-4e14-8972-d3985f753632"
      },
      "source": [
        "print(f\"The size of mnist_train is {len(mnist_train)}\")\n",
        "print(f\"The size of mnist_val is {len(mnist_val)}\")\n",
        "print(f\"The size of mnist_test is {len(mnist_test)}\")"
      ],
      "execution_count": 7,
      "outputs": [
        {
          "output_type": "stream",
          "text": [
            "The size of mnist_train is 5400\n",
            "The size of mnist_val is 600\n",
            "The size of mnist_test is 1000\n"
          ],
          "name": "stdout"
        }
      ]
    },
    {
      "cell_type": "markdown",
      "metadata": {
        "pycharm": {
          "name": "#%% md\n"
        },
        "id": "9CedMagsobY0"
      },
      "source": [
        "### 1.3 Create DataLoaders\n",
        "DataLoaders in PyTorch return an iterator divided up into mini-batches of size ``batch_size``."
      ]
    },
    {
      "cell_type": "code",
      "metadata": {
        "pycharm": {
          "name": "#%%\n"
        },
        "id": "TrJLlWj2obY0"
      },
      "source": [
        "from torch.utils.data import DataLoader\n",
        "\n",
        "train_loader = DataLoader(mnist_train, batch_size=batch_size, shuffle=True)\n",
        "val_loader = DataLoader(mnist_val, batch_size=batch_size, shuffle=True)\n",
        "test_loader = DataLoader(mnist_test, batch_size=batch_size, shuffle=True)"
      ],
      "execution_count": 8,
      "outputs": []
    },
    {
      "cell_type": "markdown",
      "metadata": {
        "pycharm": {
          "name": "#%% md\n"
        },
        "id": "mwSdczxKobY0"
      },
      "source": [
        "## 2. Spike Encoding\n",
        "MNIST is not a time-varying dataset. Spiking Neural Networks (SNNs) are made to exploit time-varying data.\n",
        "This means that we have one of two options for passing input data into an SNN:\n",
        "\n",
        "1. Directly feed the same static input features $x_i^{m}$ at each time step, where $x^{i}$ takes on an analog value $x^{i} \\in$  [0, 1].\n",
        " This is like converting MNIST into a static, unchanging video.\n",
        "\n",
        "<center>\n",
        "<img src='https://github.com/jeshraghian/snntorch/blob/master/docs/_static/img/examples/tutorial1/1_2_1_static.png?raw=true' width=\"600\">\n",
        "</center>\n",
        "\n",
        "2. Convert the input into a spike train of sequence length `num_steps`, where $x^{i}$ takes on a discrete value $x^{i}\n",
        " \\in$ {0, 1}.\n",
        "In this case, MNIST would become a time-varying sequence of spikes that are related to the original image.\n",
        "\n",
        "<center>\n",
        "<img src='https://github.com/jeshraghian/snntorch/blob/master/docs/_static/img/examples/tutorial1/1_2_2_spikeinput.png?raw=true' width=\"600\">\n",
        "</center>\n",
        "\n",
        "The first method is quite straightforward, so let's consider (2) in more detail.\n",
        "\n",
        "There are currently three options available for spike generation in `snntorch`:\n",
        "\n",
        "1. Rate coding: `spikegen.rate`\n",
        "2. Latency coding: `spikegen.latency`\n",
        "3. Delta modulation: `spikegen.delta`\n",
        "\n",
        "*Rate coding* uses input features to determine spiking frequency. *Latency coding* uses input features to determine spike timing. *Delta modulation* uses the temporal **change** of input features to generate spikes.\n",
        "\n",
        "### 2.1 Spike rate coding of MNIST\n",
        "\n",
        "Each input feature is used as the probability an event occurs, sampled from a binomial distribution. Formally, $X$~$B(n=1, p=x^{i})$ where the\n",
        "**expected value** $\\mathbb E[X]=x^{i}$ is simply the probability that a spike is generated at any given time step.\n",
        "For an MNIST image, this probability corresponds to the pixel value. A white pixel corresponds to a 100% probability of spiking, and a black pixel will never generate a spike.\n",
        "\n",
        "\n",
        "<center>\n",
        "<img src='https://github.com/jeshraghian/snntorch/blob/master/docs/_static/img/examples/tutorial1/1_2_3_spikeconv.png?raw=true' width=\"600\">\n",
        "</center>\n"
      ]
    },
    {
      "cell_type": "code",
      "metadata": {
        "pycharm": {
          "name": "#%%\n"
        },
        "id": "nz70JGXqobY1"
      },
      "source": [
        "from snntorch import spikegen\n",
        "\n",
        "# Iterate through minibatches\n",
        "data = iter(train_loader)\n",
        "data_it, targets_it = next(data)\n",
        "data_it = data_it.to(device)\n",
        "targets_it = targets_it.to(device)\n",
        "\n",
        "# Spiking Data\n",
        "spike_data, spike_targets = spikegen.rate(data_it, targets_it, num_outputs=num_outputs, num_steps=num_steps,\n",
        "                                                      gain=1, offset=0, one_hot=False, time_varying_targets=False)"
      ],
      "execution_count": 9,
      "outputs": []
    },
    {
      "cell_type": "markdown",
      "metadata": {
        "collapsed": false,
        "pycharm": {
          "name": "#%% md\n"
        },
        "id": "q0hATEwKobY1"
      },
      "source": [
        "As you can see, `spikegen.rate` takes a few arguments that can modify spiking probability:\n",
        "\n",
        "* `gain` multiplies the input by the given factor, and\n",
        "* `offset` applies a level-shift to the input.\n",
        "\n",
        "If the result falls outside of [0,1], then it will automatically be clipped such that the feature represents a probability.\n",
        "\n",
        "Note: there are also options to convert targets to one hot encodings using `one_hot`, and to extend the encodings along the time-axis using `time_varying_targets`.\n",
        "Both are set to `False`, so `targets_it` is passed directly to `spike_targets`.\n",
        "\n",
        "The structure of the input data is ``[num_steps x batch_size x input dimensions]``:"
      ]
    },
    {
      "cell_type": "code",
      "metadata": {
        "pycharm": {
          "name": "#%%\n"
        },
        "id": "ebdP5kFKobY2",
        "outputId": "6d53cf11-9d4f-4aaa-e4d9-1072ee261152",
        "colab": {
          "base_uri": "https://localhost:8080/"
        }
      },
      "source": [
        "print(spike_data.size())"
      ],
      "execution_count": 10,
      "outputs": [
        {
          "output_type": "stream",
          "text": [
            "torch.Size([100, 128, 1, 28, 28])\n"
          ],
          "name": "stdout"
        }
      ]
    },
    {
      "cell_type": "markdown",
      "metadata": {
        "pycharm": {
          "name": "#%% md\n"
        },
        "id": "oVFuIXxMobY2"
      },
      "source": [
        "#### 2.2 Visualization\n",
        "##### 2.2.1 Animation\n",
        "snnTorch contains a module `spikeplot` that can simplify the process of visualizing, plotting, and animating spiking neurons.\n"
      ]
    },
    {
      "cell_type": "code",
      "metadata": {
        "id": "4TYFlc4_ZK-u"
      },
      "source": [
        "import matplotlib.pyplot as plt\r\n",
        "import snntorch.spikeplot as splt\r\n",
        "from IPython.display import HTML"
      ],
      "execution_count": 16,
      "outputs": []
    },
    {
      "cell_type": "markdown",
      "metadata": {
        "pycharm": {
          "name": "#%% md\n"
        },
        "id": "fwWROIkdobY3"
      },
      "source": [
        "To plot one sample of data, we have to index into the batch (B) dimension of `spike_data`, ``[T x B x 1 x 28 x 28]``:"
      ]
    },
    {
      "cell_type": "code",
      "metadata": {
        "pycharm": {
          "name": "#%%\n"
        },
        "id": "ZZxTqqOlobY3",
        "outputId": "d0526729-b27e-4665-bac8-f585bcfc940a",
        "colab": {
          "base_uri": "https://localhost:8080/"
        }
      },
      "source": [
        "spike_data_sample = spike_data[:, 0, 0]\n",
        "print(spike_data_sample.size())"
      ],
      "execution_count": 18,
      "outputs": [
        {
          "output_type": "stream",
          "text": [
            "torch.Size([100, 28, 28])\n"
          ],
          "name": "stdout"
        }
      ]
    },
    {
      "cell_type": "code",
      "metadata": {
        "pycharm": {
          "name": "#%%\n"
        },
        "id": "4QVyvj9PobY3",
        "outputId": "4ddf3342-048f-4dd5-974a-bbbd3af444a3",
        "colab": {
          "base_uri": "https://localhost:8080/",
          "height": 540
        }
      },
      "source": [
        "spike_data_sample = spike_data[:, 0, 0]\n",
        "fig, ax = plt.subplots()\n",
        "anim = splt.animator(spike_data_sample, fig, ax)\n",
        "\n",
        "HTML(anim.to_html5_video())"
      ],
      "execution_count": 19,
      "outputs": [
        {
          "output_type": "execute_result",
          "data": {
            "text/html": [
              "<video width=\"432\" height=\"288\" controls autoplay loop>\n",
              "  <source type=\"video/mp4\" src=\"data:video/mp4;base64,AAAAHGZ0eXBNNFYgAAACAGlzb21pc28yYXZjMQAAAAhmcmVlAACZYW1kYXQAAAKuBgX//6rcRem9\n",
              "5tlIt5Ys2CDZI+7veDI2NCAtIGNvcmUgMTUyIHIyODU0IGU5YTU5MDMgLSBILjI2NC9NUEVHLTQg\n",
              "QVZDIGNvZGVjIC0gQ29weWxlZnQgMjAwMy0yMDE3IC0gaHR0cDovL3d3dy52aWRlb2xhbi5vcmcv\n",
              "eDI2NC5odG1sIC0gb3B0aW9uczogY2FiYWM9MSByZWY9MyBkZWJsb2NrPTE6MDowIGFuYWx5c2U9\n",
              "MHgzOjB4MTEzIG1lPWhleCBzdWJtZT03IHBzeT0xIHBzeV9yZD0xLjAwOjAuMDAgbWl4ZWRfcmVm\n",
              "PTEgbWVfcmFuZ2U9MTYgY2hyb21hX21lPTEgdHJlbGxpcz0xIDh4OGRjdD0xIGNxbT0wIGRlYWR6\n",
              "b25lPTIxLDExIGZhc3RfcHNraXA9MSBjaHJvbWFfcXBfb2Zmc2V0PS0yIHRocmVhZHM9MyBsb29r\n",
              "YWhlYWRfdGhyZWFkcz0xIHNsaWNlZF90aHJlYWRzPTAgbnI9MCBkZWNpbWF0ZT0xIGludGVybGFj\n",
              "ZWQ9MCBibHVyYXlfY29tcGF0PTAgY29uc3RyYWluZWRfaW50cmE9MCBiZnJhbWVzPTMgYl9weXJh\n",
              "bWlkPTIgYl9hZGFwdD0xIGJfYmlhcz0wIGRpcmVjdD0xIHdlaWdodGI9MSBvcGVuX2dvcD0wIHdl\n",
              "aWdodHA9MiBrZXlpbnQ9MjUwIGtleWludF9taW49MjUgc2NlbmVjdXQ9NDAgaW50cmFfcmVmcmVz\n",
              "aD0wIHJjX2xvb2thaGVhZD00MCByYz1jcmYgbWJ0cmVlPTEgY3JmPTIzLjAgcWNvbXA9MC42MCBx\n",
              "cG1pbj0wIHFwbWF4PTY5IHFwc3RlcD00IGlwX3JhdGlvPTEuNDAgYXE9MToxLjAwAIAAAAgmZYiE\n",
              "ADv//vdOvwKbRZdqA5JXCvbKpCZZuVJrAfKmAAADAAARsG58lw15q9IkAACtobhz+EtXgAGbPfnA\n",
              "6vBq2y4KD1VFSYr8QiGU1RZ6il6SV2xj+fxPL82aQu/D3lSKkbW2pJupkPm1/Zte65QCqYaaC3va\n",
              "p8Cdqb4G0n59ihADw7TiMq/qz9wCycelJH2LnLwbYJ4WK8lGQ6lesZE0bNvZ7QHH+ACOPu4RMVrA\n",
              "Wgb7DF/1Chb4ayhrXo7/0vcN9/l4SaJkKL4wA1w1fGL5WrjGBgADMs0BOomYx3lN9lVsrTU1aykr\n",
              "ImpzOKdaixXvDS0CGcokzAvn7op3sfws0/hHoIG7tsTgTF1U6gsdvdRUbh+riZgR56ui/RcySP0V\n",
              "FaXzO1VrcPCYqlhBNZ/82K8mA6T3CDpFjvmcI2+vTTMJPTSI4vqMmpTCksXsXhEWHFJVVv3i9Rxs\n",
              "UfJEtNFj4wA3uwsHEA0oYAzavPUkES7qF3j3iDkchkb8e+jgAC1klkO0iAcIxvnl7GNcuNn3k8vR\n",
              "53o0l09QLMLMKjv0w2HIyVq277WqZZNXX4Pv0jJegZNoVJ5G/s4j9b4Ro8SsLhRAu8n6SGOijRL3\n",
              "EDtM/LipPhQaO+WJlTx79PXV9/1FmYaw7vzjbfNBJ+5rvp9w9gLhwfmJ/RBhT3qH6Dd9QJXNkfd7\n",
              "95DBI4eIFx4oQFlIc67Zyv4SaodNGRR+WHOSZk08xRuiKq0lijirXwLFCCtIX2dAta5/4i+5rXQ0\n",
              "F3ide3MSIhGr8w30YmFnm6X/eXXyr/BZwuaC/xqrZ5z9J2FH367+Sb/ghK5mmo5Emqgss0kr1wSf\n",
              "7EBTpIUxPP8NbaLGASK6+18Ow6piIgZ6ZbPa0pC+4cKZJKYiM9baCA6Nq9QQxSpWyrUdN9vffL7I\n",
              "ANR9/qztvWG6Lz2qCr8x9Hrx6VjeeRCT0cMdflEW1+yYBs3cu09aJobqv47OZW+i+qqkIe23aDdO\n",
              "yrOFwf6RgYIJ3uSp2eZaWDlXpA0/S2Qabu+NODCo26qd2QNn1Px0z7mmBk3omND+jOLx+WSCUofT\n",
              "gA2xVepgRlDRxGabhw/0Xxy7mgspMlJ4fvEhdpYuwj9IiUzmJLOYZPAwnrxhJKlsbs7Lvnl+WUd5\n",
              "/hopUSxMCL0WGM0/oKPLuQ7fD9NP3LFSHC0jtlsz13HSXyB2H67FZnLxUMcbOxB8GHjUSUw7spXq\n",
              "23JegVi90kF3K+fbb7DUWAtk2iFa3GKt/KNfXbS3s824tmSLKH+4t+Z/ndCXyEQj4Cada0szr+9a\n",
              "/8/8AUFSwMTmTDxae9/aEVTgGd9PKMsBlp/lSz2LY1L/n6YdkcKqvZpH4G792zjcDHZY/txCEvTF\n",
              "aFYvRyqUQSH+38OWoct6r3G+S+UQeAF8vH2RbDihAvhsA9OUYq4TYepDdlvlFCHPWSPD2AviRrKR\n",
              "d7RSbugWLgtcCMf7wSJUFgfl+TkeGDHvniKsYWo2LeIItvc1YZdrCTCGvaHORpoYsZSeQwiRSIIF\n",
              "X8YtTsQ1DEPxOwizdObl44eSK4IFJOeka/HKNn+uCxFTpcBhbWQlx0nrhidNBtEueUUtTYmfL9++\n",
              "3I2dsC3KotESQinTiLif27NhaYeynATtNUfOUXdg4qO4LxcOjozFKVckWvB5E2nOhZkcpdTYtKYw\n",
              "IHKn8pPL2CRj81K8TLnSr6vGc6wsyna7opbBgktu+7BIcXZ+f9ty3CIrmAPM4BpAS18Ss4UFI7cx\n",
              "uAEZkpHjvGjm64wuwAXN1BawwMqKbtd867ET3B1vCfNcjEQipe5J7Peo3gxQCFb3/AJhL86zjv5b\n",
              "w4K7WahodR2baSbimqjPOVLkbDWsXH5hJxlknhef9gfgmXmqTMDKEWVHzbJEVQV1NQjsQSmu45uz\n",
              "4XhATLoXiJWwuCHCBmYWHq2gIaf/3/nApzKzeycQDhUYFoboVhEU2a68JUERnHKXrcUw88VicakF\n",
              "wr73WploGioSDLndXtGh0WgxpMH9sEytC1XkMx9HJYp5iu640p/UvUBNORT/G41QSxvLTfGq856e\n",
              "jsusuaxwCgnRDFkZasXJEySQUdPqfdOVglDT4c+Dgh/r4HhPxNUaKenDW1bHXREoGd1+0amdY4DH\n",
              "auF4oU/Izz7ncMLJjhczaaaEcANkj0NB1bIpCP5oYEWBCT6o8cQAFpA6ZiFo59j8Z8L+W/rj2dQJ\n",
              "K6fUfpDZEir6+ebiSARs64Xcd20TX5lvzuETZHSfJhd1tR82EnamJFlDGhK1ceb6LMVhbf65mdce\n",
              "clBMtz3Rf4kgUshDXKouahp/9eQc7aEUkiqjXpkEAwUEBrn/jQbJXsYcAeaPqu1pdqK6XZ0XGpkE\n",
              "ie9zg4VaEvZxtwqELghKHTP88SZJ9YYinuxAHacPk4KCE3Ucqfo47c6IF+Ob9sgOCalGxnvDiRYi\n",
              "77lpjxEAR3ig+OE/Xll1FUzIazl3vzAtqrszESHpYuMAxjqUzkR6yoP4EdfHmf6OL3vyYdM7XxYl\n",
              "JLCFrtVv+CENpzDCMWbtwoG3NMyhm1kwYzqBSZcWHnvn2nnGtUKlBOal5Pjk6HY6fPGGvw6KHAQP\n",
              "WnC8ZOjgPl4ZCI0m1uUWbBAsZN2mKr9cpn77Fid05P7fzglJ9Ru//vb/v80XyIz8SKtW6ww0fgos\n",
              "62OEPCMxzMalJqwvH1r8/sypvy3z/txuhh5Wy5IWzdgKljOmo7PzZp/NDrs/qon5oo6P8WfYYA42\n",
              "oVwZbquihmGrp6/at55UCuP7Ic/agtnIAAATOkxJtwAAA5FBmiRsQ7/+qZYAkDCPQAh3DproA3PV\n",
              "fb/wQa4/YjU/irXGlA5lFTIhzuQqieyh6ZL74/qJ4bEHwTpa+y11u5ioKI4SmYVX28mfxMSxvTKO\n",
              "Gte7M2LcjJORoYiaDcApmSMnHB5o2D5dXEqEmZ8YpF1x0aIEOiCY4rpXKIdMR6IxD08qL8r2snOR\n",
              "PIaWKwsXRrydjx8OaK2aBGcNFK+0rFCCu98rYeZ9Q14LnpVa9j5I2t975VXQDSmMeWsK3byQ9Ooz\n",
              "OlCWY/FljWJwG6pYEG14GpDuY6iiDr7QbnxEQLWdtSvnX/8QZ+jBeTimeNxAMT7ETsfHkawKRT4+\n",
              "D8+g/vxVtDAptoMpfAFicG7PONi81JypHup0A33QAeEW2E2kYtZrvS5RvOIQzc9k5uMTrP71AvGk\n",
              "BHfs9sq2wd9tcDLrTzrDnqM1rLtN13ePLFsJFZEZ97op7ruoFWF0TGoZj5o8ZJaEwGLUNmaY38f/\n",
              "hBRXfnQczdJ25zdt9gVJemz0+EEbwG2szbE6uEmMQegSg6RvUsv1bfIhNrImDH5fT46eEC8B2OVc\n",
              "GBLm3qgm+0feP0QK+Nwl+hvOem082ANWyTu2b0XKH5u6nvjf4MtophCn8NmlOhE88DsesAVkfF1g\n",
              "btV6iP2X7eTL8bNH6re8vTmwV+JBG0lxkFGtBbZ/ZU3x96ELJu9DUsBYiNgnZ0dctua8c2mLvlHK\n",
              "8LiIZpICHWJGXk1rsJ3qF8AJmN9+0bzQa/6zdhKb+FSFOPo6hRph2d6w88AcErSiKCubRh5tV1KK\n",
              "WWpJV482Wc8lNFnKabo6jAJmpa+30D0B0+sbxmfHL82oc8sto2wtc1lGwJIPojYyktvEdxxlm5CO\n",
              "tPQxnr1rtMZmb0YvWg/sKjIo1iue9R9ipm7Gbtr+HnWH5qdEQ9x/ioCk+yzc3yjdXGK56Olf5RFn\n",
              "mfVLKwdmnvmUfAD/QJ1sSeUtU2WQNhBTLfZyw3dQmihxIhVcY4jb/Vca0oa+qMyFtapoiBC3Tu3G\n",
              "Z7/mCaSo9Vt42J2oa6y+RSE4k/n3/8OyOSumfhuvEkrAoP9tcXlzrEMaly+YNVXAJUzhZomDVHNr\n",
              "JgYCLrfQD377NXPYh+Qk0i89GOgBtYe9VIFwG0AFSvUH/fhO/pp0uUqfjgS/DomdrrbA1xQRA3Ir\n",
              "bRHOFPFG3oLiM1dVdWKE78kVQWkrSmkuToxplKHnZFAK94mQAAABeEGeQniF/wBnGwVK2+8h+s0F\n",
              "RsHBrPB/UL5Nnm07d7G/T3W3Og9tF+Ae9cxD+TFgRKycwU7et6/utQH1NvmfnsSBmRYY3Vq2DaDp\n",
              "pos2GPXN5Fk/u1B9f/vD9tUrSzwI02gDOPcJsa6Lw3ciW75d2oxOGa32zqdz9k8fOVq7snP+CxWN\n",
              "sgKXDUSfVXnmCgxkEmbXj/Fy0fTQgK7GBpMcRG0/72HZfdRPIHQ8CnkmuuMfbnZuVZuPlzV99Eug\n",
              "8aYBJ653LuSW6D+g5j1PjgquJpTB63oWUw711xAplEEQtAfMMret20P0iwN1rth+T2AEmBd4tVis\n",
              "VKDTYrmygB2UX5C5IXFetxhOvpIHYlRzADteY3cSJmovc3tyLid5iDfzxyt/1+4jTgh2/cV/FDGx\n",
              "1br6fi1vMYsSf4wuGmGGdaULSf/mtbw9uvS8792nQh5NRbBlM12CBp1krKtAupuF3aX3a7w2B9+K\n",
              "MqymKcmIO351A8sWSsTcpBEAAAGVAZ5hdEK/AIbt27fFLzMrqIFrlS6ORJulUr49xbfILsCv8ryR\n",
              "9Cp/bjLNv2ITk8tRG4m2DjYdbq4OOKGrZeAo0rosSL7oFwO/OfpHtXb/MMGgPF6RjpL4U7ib5jQn\n",
              "qK4+eIqi7yzf1lZT3RRqinGbmGeVeNSl1LRrghMViIRsqnJz9+gwwTegGJ99i5Re9vmnloh/Vu7W\n",
              "NA2h1aAsupIkw45o80uNv2uPDPNLJcAVRaI05guLrleCKrzTsJVLEigyUyiI97lKibwSvKQzVAi3\n",
              "c7fPeUVPcrEck9M8QLmZ8o0mc/h8nXKRmnslzp8bCQQsAPuRA/M5V2msoUcu5yQ18HBXaYZb+PIz\n",
              "8hLxWfHcB3Qy7mlm4Ug57DBbxBMn43aD2dMPUrwmxvrESwQUBaS0tiCAHNBZ3GoBnGXqOZG6eDel\n",
              "hpWIpp74Lg5X23YiKF1oP/4kJ6yyoDPOLTgANRtGRXCorxRe1LmmtelnhGx7/X1oO3Yg80LQrET/\n",
              "rUsHRWoGXqL2QJQCvlFp92aGBatNQfyWJC2mAAAB4QGeY2pCvwCK67Zu8EbkDNrhdyRHDPN4l3WV\n",
              "7oQAcqASsuU4OKivuhPAnIMu8fkqKtoOogFFygAr5Avy7yXajjF0qWMWghTmR009YkTY+iRgGpbu\n",
              "e+ApYazv1efZvWYRFgmd4YLqsPoPcFCt8Mb72fqB1dvvrl+mlh+ZZ2grk0Y8rPCdokS/O7FegeMY\n",
              "wGH9H16gZbI6OEsQbNcOMhmPvSgzZXVeEiAFJTPhnGK4tvrE+/ypIBtINjqG6j5RVqau/EtDCRxw\n",
              "maf0o82cNt0jlVwxoMdaWv4jcKbIVBqWGNYQFwcDKAKaODvtxCW5JHRJ1aPbUQMz/S8+nn+X7BYU\n",
              "g/M2INC7CiyRupPeHT80sPL9Yw3JnmGvFbhywLzlbI9TWYL8qcrK20jWnUXNrcuKpFPfc9Q7o5T2\n",
              "h9HafCeTY6lbFGbU5rVXJyLQk88l9CTouFglW3ulIkkD/36ik45/dF17yQWyXbrGrgGTQgNy6869\n",
              "QT6DqDrvUMEhNVlagfbV8ZhW7ClSBuIz3P/wTJ83rzvzuh6DLW9GK5vV5ilDBel771YeDHuaoAHO\n",
              "WhyULMQba7cOZFOXzWydXdLvWGMbAjh5gKQ/3CpN0OtRSKjxIeMIuZ8dVZ1LIzJJYpNbEZd2LIEA\n",
              "AAHzQZpnSahBaJlMCHf//qmWAFS0srYCGmTfNFjkNYu3FKenHCowWecQB8tUewzDcE5cb42nKn9H\n",
              "M9MTz3NfuCauBH1XNgvDZvBc91X9OggLDvesRHuhrOrIKhDbVQKjEuhZii9Uz9njajtbZ/LgcZZe\n",
              "sZAY/B+R8C0SZ6/FG/j72lKp0hqDEwwl8tXrXE/GX7qPw4HB3aQk/cBV6k/jTtRg/7p7BAbxW4xR\n",
              "Idr2se3j+eIYq2I3LyX/9rVP767BwVUMMVNcQmJ5HvSp0SuSfnr8lYtr5inVcjUZi41ngvjk2yIL\n",
              "aClT/SCjjtuZ8tm50vFPXfBxOLSsRguZ961huhQiZIjATdPlPlsRWILryrsVyE3Q+sT5bz4v6pTt\n",
              "vseB1q+AsNs6iS/ZNVxidAvuOI/xlDsJUfm8cyWWVK9xaDR8QmVoJiUafWIm6dH9dGho1eZBQ0Rx\n",
              "XgHtcvWfJz1iwRXK8L57ZXpZPA9slHtedclmdObjUx/nUycB05c3kEiFGpSS8BRyXHzz7/Wno14U\n",
              "dyipdePTTM5W00wU3ruc9f3ybRswXTHos2QXjF+z0KgSPM2izmvsj63lfh5jG9oir5R+ppdqqN0N\n",
              "T4EzYnZj9ZnF1MQZ/XK12gQk+v+Bs/zVqcOYxvjXYXOSTeVhFjgnftxI+kEz4QAAAPVBnoVFESwr\n",
              "/wCLBrqKocfvZh5M4dCkVfz5zspE9tzXUZ0HVmfNK0uuya3DqhgqkE05jYD4fxFjB+Fil/t5CPk4\n",
              "b36VLZ41bccZKUwXnVHSGlO7aPiDmXmN4pr7YB3MX7wK7+165acnrmr4gRBTP2leElcF0tjH/gaA\n",
              "lF+KKOXpWAazPjGLyMh3GPlxbpOb5L6sx1XbSqOejKqRW8vCpp488OeRy4xvRc8o2upKbnHl5iL3\n",
              "gFCaf0VS+VeRMQIzwzZSpi0/MYJgEilnWLkGC3CQ7tD5nUX0Z62XprhrRHeoeKnn6LiVgLEQvvdq\n",
              "cs/vUM228jFnwQAAAUkBnqZqQr8Aiuu5QBM9qOXQ7Wh7rMYuSI36p0p+6SR9Cp/b1GuiWQC5/tl6\n",
              "uoya/hTO8XeQ8hWiKQ1GY2407jXM4EK4s/0hIuyly3b5HAC5XZkbC5hZ55pPsOGnj9WI5Rj6wmyc\n",
              "YCVUcxkTMizvOUrAqZT0bfMUQuElQc99KVEmK6tLiZ9ZpN5qzvDV8bRBfNQx7+8CelBuErqnYuTb\n",
              "JLKFLmpiZ3fI8eXzQgdiXDdUBqgR2ccBMnNte1u0UVbp9lpbt13PLLZKpTN+6zZyBBg0ZWdUTSXq\n",
              "vi7feDct5qtvu+Tlv3UsjX4YlWO3yM8DT8LA3uRn58KoALYbXHqRcfhamUOyJH1AtoGWEOw6Dsj5\n",
              "jEQKuft+iiw6qjG+I31idrbr2vN8Y+A6nT/sK6+h9zsPWCbntgF5ok6Ehvn0Sd4Kl70qKKad3YA/\n",
              "4QAAAixBmqtJqEFsmUwId//+qZYAVwJBwDya71Z+4VRHouOG68WuUbZ9n8vfRZ3w6CZfkW+013jz\n",
              "/gc5Jya9acQRml/X0hY/iAQhko//dlkmoaXo2Tyv9COeDa9tCo7cfNGLRu1nNuclA4UqWXj4XrPU\n",
              "EBofQ6u5zL88tZeJdnNzBDmN7Kbm4hehKqx9V6Rt4m4ARTQgLjNX8WassYv7VRODYFAylDBHfVoM\n",
              "906PLcIVKYj04K3vEunj179baXXmQgFoNRM/aP0aC022n4sKDLN+zhsxRh3Fxjn1eLWiWe7667aX\n",
              "6C/cI6xKDz99rMbnH3P84zxkON3/mHJuRgzmYsjr+KRorn3P+dhqhUFGvx6rUfw2cPMDzCwzZWCI\n",
              "SZ2AJbaaQwDVx7WWgwgC1MLL9/UUZRxxE8H6K6moPIE9inGmxMJ0F/XYQui3w18wrpnJOK60jW14\n",
              "NInzP6JbQmoIJF4gkKVCF2q5JOVrwYfPwiAierpkbhrhw20fGSUpWAXTPZh7O2o3YffN3m8oeQe/\n",
              "wxzEa6eC9TKn40TMLMos6DbZ4pDiFlQBf84Smqo0pf/IkYUOHovmW9Oi8nzWrtX5BnsiHtoR7r7q\n",
              "kHICMLrqhe0FtetrIlQ9Lx2+C/MPMRbv5RzHDeAnTsO3+cetl+GKOQQPOtOhyxJZCm4nyC0jHHcx\n",
              "ceo89jdK4DBJRmLl46TFH15h+/lZuEQfPNXhN3xd2XoHag/pz/ju7JLAcNeeEKcYAAABbkGeyUUV\n",
              "LC//AGcUyG2LyrGC227AA0HdooprBGrIn2Hkg+FsgJTKtNi151KnUpIqLxx5bhQ4CtzQ/oIQ7tUu\n",
              "4tJv5Sdp1tqBIp0rRzMEJUS0TXAeBDCtXF7mIYXDuZHTnjeEksUu2OFe7pZxszG6oNYcI3zuZfV0\n",
              "79yxYwTC+VA88Gcws0Kyhgg+qg/4ecdp09MuCvgzdpSoLdhLy4ZKtWJEFaivJ4FODbzkZF5mrIUV\n",
              "WkFhybv6yFsK/cJS6jgVSWWY2JEZKrgwCS2ROIQrvrr5omRY8L1c4WW6mxDvpFLObdhglUos6Ke5\n",
              "jcsU/oVU9mDqjs0v13l2WLG6rZArz4RWfASvu33kAjBOTpgSyA9nTptCLzz//+i/yVdH3pMmg8fI\n",
              "XfwCw7mxaQbs06QMCQ/QmzdyaIHyPCK+sd5+crD0+PIVlQ62wyW6sX3YQrbhghzrs/NrziktRIO6\n",
              "Jz/5ec5nMY3lc6NVorhdFapJbAAAANIBnuh0Qr8AitnMXyRBC96fpMrCp1CTsu9gAL11R2LbE+UG\n",
              "8ufTVd1HGTsUqlpmQ19XI2KIAK+QnZovQAvCOGKm2Z28EOkhHvHhLr+1KgBGUvsMG4pe3OCd6dh3\n",
              "QX99xJKWLQvCMnhCwxR9YE/KB37GJT2R9QEB6ADEjtjQ3LGHqHSRm0e1OWEaNbQcrqpG1pl8esqS\n",
              "NdiRyU4iEPyV9s9BN5fnBnkqNJrv3Fv14BrFhNV8i6Oc59VHztSO5Aa7WPmw54K8h2atmmT1++eq\n",
              "Hzu4+VEAAAEZAZ7qakK/AIrLLBGsyGftzpvBSNf9Bq8tVcvIwabUkgnA4anGBNkrUszH/6RNZsKF\n",
              "tPT/tUoSSKGfBP6UJTgxnyOiRZdpYgoTpawhs2j5UQPC9BJrgcHqTINl8uPqhcxRlUl1epoEbkhY\n",
              "63b+fQmmEDz07upZA8yJYEWiacEGFs9qwsCEPEIeM6k4pCcz4ARjA26edEqQAdFPw/nM4CdjzsXa\n",
              "30DZnNrd/BDi479iGzgNtaB1/gl0j5eTirSAIOqYs2c/u+Bpc1cgY2lWtHjFOB93ad8JCdW/R2Lz\n",
              "FzLXgVgbG2IGGn3G/xERQS+Zwoe5jFvfotwWGisWi4Ua8xrIY+UdPYqucX0/Yg4t5nMoAUF+S3Om\n",
              "zIqVekAAAAIoQZruSahBbJlMCHf//qmWAFcga6uLhwnqfDaNolWZZ9VecQAl/PpAuDV5/gDExeNf\n",
              "Nt+CBeFqJx0PyXAR0PiXK+S6WG71rIVyS3edXD4hfQ/PuhmcclAI4pfvxd84QaU1sf5xNXwyl9ef\n",
              "nsQdTdH/lRYnpN837oS56Gi7HAXUdtGjDgwGjJ5+dudqEsUZRZdirUWZrpILlyC7/LnlL3rMBw76\n",
              "Vjv6rQJPqKXw7fep9vuj4CfD73OPVG8k01m5nBl12h+I4tG5j3qSlBRxiJNPnZR8LDjkngfwB58u\n",
              "O/1mNkF3g2xB2bz3ntALJ89+LAzaAxn1A0fb4hlDfwOpJPb++OdWF+/QFInW2wj4XpF+JgqOSCQT\n",
              "PiF+wYqdnRu91D3P7Dx7BE5Qow4BHzCNM0TXU4Xv0EPopw+t4V/SbZftVd2dSVpf986tpAXHG3Mv\n",
              "twwg9DHgZ/+VFwJEy6GRiMfLwzIaShe8isIyYCjmm3vml0JP1PKwFaIMCwBPR7j80EruawqO1+di\n",
              "OJOYtVvBW+M4fg9sCZ9W74s05zmRaLnxwpB0+z8C5ZHJUMRmZbUtMVngeaeVD92KKVVSwPrFy+P8\n",
              "0Idvv2LdjmTA6L1KUWEkP+K0h9O/POKR4+X10XD1pTIsQbvKx/r+qQS9AjeZ/xrCWONEAFZPbJSn\n",
              "T01Q1WiG0FjL/plcEkR9nyDtbDsz9oIgVzxEtqHEzmXHXDfmJtLIIXkGZw8EzJQ0AAAA60GfDEUV\n",
              "LCv/AIk192jpKAXBL2QUW4xw5oBZ9XQL3FNEdZgBpgHLoA3sTE0Ez9eSRr1KBku7MewOi/A4io3V\n",
              "81iMwA1qrrK6OtsLsKg+vdONHsdzsgQuCXQxIGVkMe28BVFAZ5HC9KaprzjtIUIhS03KFIcykFFt\n",
              "wct37vM6OxP2KaXUZKs0TvwuXQH00bqKWfNbQ2mGo2UghPhxsZZUUyo0V/24JOZzeguQUoqBKm/5\n",
              "ojvtzPFN7Dt+Ddt1RiLqWtMGoZYXfJViQTOrhH+UDmO5HwqnTattiDAndZfpBkug5lzsqrNfzlCE\n",
              "VQkAAAGQAZ8takK/AIrGj5N3RYAOU+X10IWjGQTqXvofCu2VgeR8GAiYM8O6InQZK8aOidz4A+1g\n",
              "oAuX0CZFC09xThmEAkk/2OCDv7pwomwQ3N0DDKXSLqfJOwfZrUVz2ybj3BByppY91N+455D/RSu7\n",
              "/Eb3bOYoe2Zeiajk7IBiQeux5mj3PXPPiuYTPI9rDAwXbgW2gfaJh5PvJE2ItyjHyQ/0C5rspRPe\n",
              "HHgZvGDvQ/HmBasWrnLEhd/Me15rpcuARbWuLgsgerIKJGyc67m5eiy/2++Efhj9/b+a+5n8nbrj\n",
              "zCGsdxefSJDki8vuR4lF0HO1Ktr2VaZlqQQ8J0DRZfGr5+3ovObVYCH8b1J6wBPNYr+Vl3yVNPcC\n",
              "9JWe4IRCJ/5OLPUtdqEh75x3wh/cMZzvxc/tWrwYb/OksuDFYN/haIKN6IF6mp3OPL6roUh9H8KQ\n",
              "D9vn1J2+rAQUhXN5cqCgEHrsex5n37k32YOCLJy/RNyIw4qea5kh4XqUA9G1ad9Fz/4/K5nuEnC9\n",
              "aQCZbafFbQAAAVZBmzJJqEFsmUwId//+qZYAVwWjY4NHtMvmZwGfOjBYKuHbIUXpQlV2zkrIykHV\n",
              "vRvaNKhCK2Eu4KuP/2m8YAbqtAAdBfnpM/kxt7bFrFtecfJG/OtGAb6ZWRvLKJPsHWhlgdl3p9b2\n",
              "981xA8Ep2jAM4+bFkzmG3+UXrXirr//OyKR4uYY0oIn1asw/+EFDLDaz81sVQjDK04IHEB1mRSk8\n",
              "r+Urvbexz/Sc9Mux8UZ01vRDrzWJTvkXQsQph2R0XrsjXgtQ1ZVPvgcMDn2TmkVCMO2EMiQyn3gY\n",
              "kBgGHgART9uKrcFfQF5atUYymGgU1+kk5XvKmMSRdvY2qoW8iFLn+ugnLohza0kto0WWd7WwahS9\n",
              "4/X8c2JxTR9nO4mHHVZ1n17sbd8WnmI+3MLSKsQK2OfLvLYBJ+/4nwTnIMt/6RzPSoUyAJq3czPx\n",
              "vZf5BISIXq8KqEEAAAEKQZ9QRRUsL/8AZwL5OcMBtse74iihEkP8dNRJG7rJ5r8eGVoQHExZCXnf\n",
              "txxH8pma0+/D+V2COIz3KfvmMRs8yZ9e+4GxBnzDiRM9CXX4MWaADPMOFEL7EQn546/w4xrcfqfR\n",
              "Rlx8xbM1f4lnhFY+uIXbawgwtTjpb0Y8YT59JV2qay10TsT1YERvJp4FsnOSLGu9ItkTfANfXkwW\n",
              "PrZc3znvzwvx1BkFBSqanzUGzJZ7+dF5vg5Yh0t2gmgOVHV/naYtIGjeIB3GACqOGss80EI17l/i\n",
              "x7bnyQJK5q93zlc+U5zJabEe5BhH+53UM1W3BJvJ1rkGo2D07Kskm2Omn60+yX6bDN1LgqIAAAGI\n",
              "AZ9vdEK/AIr3qoGiwAcp8vroQtGMgnUvfQ+FdqjEjD9RSJgz1tCCcag7F0rtqZ88+N5YIlR0At4L\n",
              "cdpiawYUYLAzzpW2Eo4urgBjuhdWduRXoMOnTLMz9gE1N1xn/4aqJFW+1V+ns3PP85Cik0ehZ2fu\n",
              "k90uULQhxxd4uwni+ZxWjVNz2CzMbpVVDneAzf+4yV3/VTpMogjGBvR14Cn+DgRv0lji6B4aqz9f\n",
              "Z5J3GWYbQAGNz+92U4JxPYnBbN6IsfjkmfTg5oqyF6PBF0aHBWlA8M2k8Xbte7AWAbj8tCvOPnaB\n",
              "dXKEMci2CsK9+JKrXUAz6hG7mjZojmgafr+pS+zyslab+XpgaOkaThzD765g37qiXI8XnnmOsf09\n",
              "S9VayZo3xtcRLZieu/hdxgDC4JU49dpzF5lVVwu9u3GVdpSKszUOM0YhX+49OrLW0XSFZkxKInRI\n",
              "S0fKbGwhrvE8DQdVyWhUrWMraX4+K3zk2trHw4MIdXBEhEGnmHtuJHYPFcCJD1DLQFwAAAFaAZ9x\n",
              "akK/AIbruVHMucaoVcnT4IDAlSJsQAOrrvonEzSkZZIC7/nuZva68NDWcKgi4F1bXZLEwejj2CFW\n",
              "tICXnbL8mxc/Gi6uBqje6nnJh9YHdzmMU3OX+p/v7zMc1eqPug5bkK+HzL+L/TGAEnyZ1hwxNISm\n",
              "znTc+KrZ0WsvUPo1aAkmYikuQNyY0dpxu7k00vW8iuwUqwqh523KDA6cf+CVsbijinETR6oB9/56\n",
              "NWxFVxMlMFKjBF1Cqq/4JEdMbFrhzAF6kouP09VDZw39M6pPRnNYPXXFRHWW2+aL5FMZBa0H83sj\n",
              "1moaZzBo4i+dnbputyCGYaHiMhBNV37ZkibtxTh1+0AlvYqtHFkTvRGPRBWHj/V0TFq8YuXj+0HS\n",
              "zokg9DzjpR/aosg1EZS6SHKj73QzHqm2vF/J2EhFih/Y28wQEUKS9O6+gAO99s/TwoiiRbUYxGdF\n",
              "8QAAAWRBm3ZJqEFsmUwId//+qZYAVMJsVqfkE0bbmeXiqFNiP9y65bJYobifeUoUCU0gs5Mqp7/O\n",
              "D4cSj+Ve1PrqCJ+28RzrHvcM17Nc6mAcmSdpQk34IWzufSo75lR/J3R96LXbQVdbeej9CqkGZORz\n",
              "MfrEB5bv6lMVbszdPLVfF4d/SGzFC03P8BtlpFdz3dPxMIay5EDDi1z2RQDGk+BblesynsElmoHP\n",
              "wmeB7TbFuvJN1uXXoijpymuEi5QhM7F4z0/OwbSO7+ur7SXFzaDO36SQrtowj3VOZqZ5/TcPG78y\n",
              "9LZ/Xsgk9+X3ZGC0D/H/yKH2Ty+DI8AvS4FNyLZSOklfzkt3R8kcDQPFiu2rPjlJaJEqvCeLIKJS\n",
              "qJQx9GdkpTI3Pj8YQ1zMcrrz60HAOxmo7xjnlTDqAhfB1ttQIvxOGjzYvspja3F83GidvWct0OXU\n",
              "+UbgvD527xzTiNlsiEY2US0yQAAAAc5Bn5RFFSwv/wBnQHs2Peeqk+3ObGpLZs1ogkp3NKR8pvSe\n",
              "pFSRD8QCMKs09sOUtcJan3JAYdmdcGhSOIQ0lhZLGqiCzVs9PxFPD16YEjeIK3HZizaDmxLhPN0o\n",
              "UNeYSOkerxG6Hz0yLVlBX01lupG5pRZP24kBMPHWSWqw3Iy4iCMyAvBJNNG+bVNxwJOq/bb/pd9Z\n",
              "9Fn8Sm6FpBC3XB9z92gUYnWxjE7X+EVEAGNddx9QjUp3Bof9vXBXNVyYn1qEelbkXzyiDy8wscUf\n",
              "ZLJF2Lb1ERw8scaRYy3lzsB7AUNbBpS29IlqqmR5dhtAXqUGjoid58x6nP6I992/5Uhkr/a27U6v\n",
              "6Vp1aiHqPb2Ku5o6hAPjdD025zbzyiNASjozYC3XBEBke/pcLKuz8gRTl3C9M9v4cokMlCPViFBi\n",
              "CEsqBwXEkDhEsuQUWzQp/wlFk8M1O9ph4kdGNPnP0Xl48qOUAjDmcY9znBq31i9fGCi4mCFOKWZC\n",
              "Ab01LV+ssNhs4zncuXKmMTolAXKey7Mh5OzoVAjapGrMeTDH5RuHr+BL0/RtmUud/VRB+uvO5rvf\n",
              "8FW1pfLQpPtkGESHK6YYUkVt2CQ18uz/WmWWmCAAAAFkAZ+zdEK/AIqW0toCZ1NhSJh2AA6a1mvB\n",
              "KlIcZXHslf2GRlv+Aw0z9eqaJsX6u2/A3eO/vrcqCe/bs3RqfXJKHf7Fo8USPInx4HTqJmuN/85P\n",
              "yh1Dyu5ohK1LHcAEzdB/zqhXTr4YUNMSTivP5Xt5n05E+8S6PUlgK2z8UlKZgdT8dnhAL962p2I4\n",
              "ClY+WMbwOON/mI2HcNLIqYlLSeXXPsLkWNtMMwhbi70R+yv8Xljy+7Ohy3zzdmQdypoDvh6e+W9Q\n",
              "KEqC4KzTKr11VqSM8cWR+ZNKNX2tYR1Qo0B/tU2TYVYrYmn2MqrP/5son/AAEJripzpUwXxdqlON\n",
              "L0+n46xXrnNGp8TplXY6N6wYgINInQiNZfIXmQ0B2OxdQStwjk/p9gwKqWWnp+01VFslJCXbVAfp\n",
              "ANA3imyNUMV5XK6INRnjhiCipdf1yuzBB8MfjdoMLa6pBZBVkSyaXtzZoymbF4EAAAFVAZ+1akK/\n",
              "AIbrpOImufqQT0vfl+OoQAcnXfROJmlIyyQF3/Pcze114Z32vMqBq7996aqwjY6MzpBZpx3R4G8W\n",
              "xAu77K5kPuOFUku5D6zPXonxSN7BghReNbfLlYijI4QdCXvWS0XcoNlVjRh1kPmOt8N+lWFxHrAn\n",
              "jrmjgzRiiExYCCoxVBjaLrgd8Cv/fJuArV9eMkdJa0VK4kRwfPGty/34tmwU49J11Qq5O5HTOngx\n",
              "x4ByargZwqWF55JJchNiT9BRKw+93tFhNb8fRs6kiDr0VQzb5BF3as9QFXYUB6fKnpxEWJIx/Ayp\n",
              "HPu1nwbrtbAVZ/5BrndV//w101bVZuwptcuqLGhRxpp8Ia9IDYEAJwgfmzOwipyplyh/cjyVx90z\n",
              "xnZNwGc+9A5q+erRHn/wjyw5F/6RD/hODVUs0T88DyH69/Xl33/jCWli8w7F1mFJRf4AAAIeQZu6\n",
              "SahBbJlMCHf//qmWAFTCcaVxAF+s2R2iuKYUqNikyqeoiQWKBT9bgML1J2HVSbS5SsKaRNAFj4eJ\n",
              "yzhj6R7euaGBdr5msKEdUlhtgUP8uyVOrS3ckS/It57YfmtGo8hjwbAOr6qYRfbMePiq7DT7xjGd\n",
              "131P9J9WqLMbGNWpt/heCmRR0e11/U/j0nIW9p/6Mo7SNkmWgq2mY6A1bnKBttgFH8VMcBOEBNd1\n",
              "jhM1hH8sOz7fDzKtaMhKQqoGJ6AsF28Nl84cDsoT4FGBqxcMGxJnqh/6f8v0NKrOuX/K+qBOZoUQ\n",
              "BVWN7rbQYRZd6m1JifwYf4Unyrq/mpkwSy877o3f8Me+P9BAeUKU1HWdZTrDYzQUvAowesoa+9g9\n",
              "tDhNbqd3JTn83+zfM943t/B6NTvDcMjhoeMkUqURTzmlTi9Bi01WbH4rMiO9FQ3teACenXu44djL\n",
              "hglY5RSo9UyD2EXlEh9GczCICNJPljqfu2Jog/2ry3SD+wDWXhNf8NbQ2OJ6xk6q1R7s4/wFQOxP\n",
              "++p+idT6dd5U0PiRRhLagQp7Js971a18M23YZtK53twmwMHrGLx/QNSDy9ZENJx53M78I3BZptif\n",
              "zDAvqRjKbCN6Iky97qEFsUbMsBG9WlWBKAvsMqiB9HFPyYnz/j263jCmoS1XZbf5EDkHRNijb29u\n",
              "Vy2kEjPJ8YPRwlRQkk0mJPbct4mYAPwMu4EAAAEGQZ/YRRUsL/8AZeaFuGOrNKkP9hUWdEPkq4gZ\n",
              "JGkuEYjFYTzjUpTBSz0Pby/nvSBJ8HO+dt3BSWvFtjXq1tYtsVhHHP3EVcJEmvzkPLIqJ5OGzdTW\n",
              "97y1bOnf40KGC2hUtLiwLhC0euucRynH5nrCc3WZtrR77MiSTe+554A3IhFl1KEcsLl07DP2KJgz\n",
              "Vq0hG2fy4FwJmMs6zl6JcNzHQEwXPn55+xkIfKkNL+OmJLpUQ0mnql4vB1hkVJYynWnwZ3roIq4F\n",
              "bmXliD4X+PIz/9WLoLFZwPNabbj3rInsikohn/wJU2TxuDjiu3qVRHK8GbNVJvWiIA7udEkg0LGS\n",
              "YRmLts3jwQAAAXwBn/d0Qr8AivgQpXcAeh/5TMeRHYjmmW8bxIAOVAJWXKcHFRYJ3reYBGzlBmb0\n",
              "9iguBPydPhPm8H1/H74aOGy3Ntg8+Qv0XEZndZBfjk/Bj5ic4RPT+FRy2gi+RH2KnOMVYXl4Bziv\n",
              "5PTAo2WhEfEAU3WiztCZdLdrqC/n6cBsZMDn+rvgmUa1aBO+y0fAMcs+Z0DPT6udeG705z4TJpN0\n",
              "IDWH16VPWPZiPQw6U7xG8++ZtSFgJtgrvNc9BwaGqX6+jP21sZ04tZBpz+URH6glRlKfoJuxy0fM\n",
              "+n2kmqR/iuexJGNkvsz/mRlKp6vSr80TYEdX655uZ1zUVmi2hG9MXFkTqasF490CLMzDtjlD5+Xw\n",
              "K/jyq7J4c+d7FxIx0LQUmZqFqEOftho6Jno+TLcdjVAY1M8Qy842y184Q5fvrRFjPxnVGzvTxIDy\n",
              "KFjupxONJBD+HxMfaGax5sWOYmzHLzYMVuOBVII+Wv2pv6OgjvArixRjexfcS7aqfAAAAVkBn/lq\n",
              "Qr8Aiuu5hajBaO/LCXkgA5UAlaDYrrwJMk5LVnpNySJ+LuHXZpgvFrTfTAXtlbW7DINHHUusAnp5\n",
              "tHx+xpqht6HhWBGu5tssRnHZb50RrA9zK7AvmMz7oDqZxdrD3CgHFPqL6+RYSEXXDev9RJObxqMV\n",
              "BIgxAcgDLNZZKqandbJnX1VH+UJa3/RuOHM7BoYXvQ1P+Ml2dVDJwxB6vxxTDxvKXuDvsJ/XmPKN\n",
              "Ex1HuWd1cScVv9aM02xQct/mTZkmQ5z/HlI9NTF89REUIYLpvOOTItn4ClonSvy4BewnqLKssrQL\n",
              "w5ACYRG3/N03ytMVNVS+5BhJrJFHsvYqNyOoUsukrhx4//hoAl8h4X5K9ffkRBhCXiHGQY6dMLtE\n",
              "/6Qt4W9opfXJUF+UAbEpcNTNMfjWlT7qx4di9SjZ68gsX/YkYK9QDgGGdw1dkBaKz+OTioCbSoEA\n",
              "AAFKQZv+SahBbJlMCHf//qmWAFcCaKISA7CcffoVQu1f7AQ8XwBCthRJy3nbwFPLgiWteeJv8BXT\n",
              "mhdrat5z7BHWpZ8ecIo3FgGclwZFcO+EIMH6EV23wFCbpiuJzhZU+FECkSFz1xJR6sPtO3iq7tqT\n",
              "+boL0yeGif7dQvfyzrehOigvQnNJx1ASdkNAplFKdnJNo6odgSvbMA82ebvb+zAReXWDl1KX/ax/\n",
              "6V0OBUwrjhBZkKLhz2WnaDKbW4dK6GyQKAIoyJ7XJnk3F3hioSi6NfGgjpJFLVflb0SQ9RGxg6gK\n",
              "Z4m5EXyi0khc8ZiH0Ehi/WXGh6zMKgq8k+qXfD9tUz1k67z/nW32Z/FPdGvYX7mFbTKMq1XMleLO\n",
              "oVz3Wr29mjDg7IQITB/bao0ouUYl/pS5ouBj1/0S01IuCPpaAaNg5thwL9W4TOlgAAABykGeHEUV\n",
              "LC//AGcVfYl+OGpTv6okVOMUeHlBLpEmV37OjdlQ/D6bTf6PTv7Aj78JIy9hq/GU45/tl8almh+7\n",
              "h3xp8O8vBxRn9VCIUvJSwZSNFT8fJZVSj4RltjbMdL92WmLQ0rlRuhbE+mmXxOwI4F5tplEDe/vm\n",
              "TKhRxQ7s+19SJzjdpIfqOe3gQuT2lLWcbFAKtooW3lBIMmz1pQJjj1VSJyfpvAnJudy0uniFU5mG\n",
              "ruVTXsmmV2n+lWDTe53Z37SIjUHxsVn1UUh3m6f6eXlTn58TA2mO/GunJUuMKRpnQZCUqM3fg1pN\n",
              "ioynXJI6v+ZaAVtacLJVpzxRAdTOXxavSbi6XHIsg4/Alq2uLvhlcRVomE0zdYovrVqRpva4w2Ba\n",
              "Qetbgatz1DqOnYgUjyR+l0LVh54whGN1kXxzHHh4WM/tT9scBhb0WKVO57K9fxDJbh8d6AC6tgT/\n",
              "OhQXFqUYKuQ5cQvcOMLlyH5PlvagCGRiheS2DbFsXvcMjArWMdegrG+14cSc+6r3U+ZOLkms2YoE\n",
              "VYAtq3aypQ0ib1hZI7XMr7xRlMtYgY5IrqvZX8ADChr4PyfS5yyYHCA8cVHrSY3sl9tOi8ARAAAB\n",
              "WgGeO3RCvwCG+Ca1+hudAT1NN3E5V1S0uO2rfRCfEtnXRTT90PY2Dj82DssR8yXPo97UECyVFGzW\n",
              "YQvkd2/OpbDlL012SkEfcAc8AVdxKC2AArc26LRczLw1SVhn5kVm6PwC2gY2pHNaXeIu2T03kTk1\n",
              "R5LA2gL5GcBxpiUoNxMhbfZW95JdibFM0BC1Pu03DbD4CTYP9U8l2aMLhVCy02q+HvIp2SsuJYU+\n",
              "oza4pg/nP2YqzVlUhag72Oi1gehY9hlP97+naIgcBEXz3X17rwsw6wZHHLXqy8wdDklNnsMeZX4l\n",
              "yiy0l+ThLFIKrAbabEXXBr1YaR5tCLiL3/03uqltmRJ2uCaMOECKX3YE5WCuaxU0G1pYNWs99tQM\n",
              "aTiwdDmlcYsns+SiSYUCsBEXqa5oqBOo3EdC4tM8Fix7SCahT3m8Xw/yQRaNTqVeySDpzwOGpVxh\n",
              "Vv99pzEAAAGjAZ49akK/AIsGuoI1mP3jejHsYo8adQxAFAEiCs73Zkfw1yqjbKsINxDd+WpV3x7g\n",
              "vlWIDJyv89oLyMAtaQUaddTc4DV9mpb5RgHVv4liiuOa+5eYqccSntE6rjFZGpveVLK3Cd3Do5sf\n",
              "hteKsj7OqMiwipn0sYcehD8fsDMlvY3Ing6po57F6TKxpcbRkvyNFYUSHZHOJC25CGXuAl2PXi75\n",
              "RsUQyojZJGe9MShDEw7CPjjHw/G/c4ps1YzyaxHTAf9hIXjPTGJKw7mb7yRxBpeVUe1mwpuVT5uw\n",
              "qoNW0iX6sCTbdTzoPofTRmT++h/hDNrRqPoCkgDNASmS7GIwYF4+Cmr6TBWmvjtIVoNH3jVOesAi\n",
              "Ndc3A1ECAbBvqKQLNFzbpdYPpvX9z0BwnvMvcfHsyfx79CKAiplK5aAjhaKGe8f2QMAIhDV+6ePi\n",
              "puD6wP7o4jCa9pJXVzhHZcIPvfCO/nEsWBxvBTtxtTv0msAT/2igZWhelvtdQRTa+EUVHqMYkwJz\n",
              "vnBAaqaCucxjOadF0a1eDIG1sZXVGWa+ViDRACAAAAHIQZoiSahBbJlMCHf//qmWAFcFsCHgv9mq\n",
              "zjfOfbPRIHwDkEtJWh6qobTMTAFHK2kXKFP3OtXkzyIw2u4iq33tPngPMCeh9XJHrWA9kZow7NWs\n",
              "+EsFqQEWt3RsXDivOts1wq4/GEoDwKKSaNdEDgHoOLuDx1OPT+hb77M8T8ML8Ue7LbALd/jv9U3X\n",
              "Pg9cIQn7e4hBj8+1lEAVwTK23CH89vQFXH6mr5EDTVwj2RzNmuMnq1qWzsUvXpUB4NyPC8Jby1ms\n",
              "HsW4gpNiyhnGyKPZLr+0e/e4VUoKu3FSf53KxKvplBnhBRoY3LrjkJlnsVrtObfXTPHV6/CJlW7Y\n",
              "Hj0DBF/Mi4ogO7UzA7whXhMr7/iGbtPhwrZMWSAhTr2ic7i+DJ9MiN5eVZ45V1a1CE4YzhNXq9AK\n",
              "bW7fdwjaxrQsfhCOcpON2/3b+LTqqC8fzOuUaPDwBA1j4pdXsgg/yBnn10kl7bMzCgiBHoPxjMpl\n",
              "7iAjvZeIeoW8q2U9QS0arF7cWvhFDjH0FmCUWEBNcw86R608zietas2CAOlUL8tmrEmmNlsCQT9/\n",
              "ztryPDltMjorw/4xkeZAt/exxm5VlVEsSEW1XiZgJDDuAAABu0GeQEUVLC//AGcUyGjfCNDV8FIr\n",
              "vACD92igL4quU6vDJMGyBcXhNsYjdGlNPrCEp9IQAxI9ZN0EuqmHazM4/iy3C50YZOWKCwPengMj\n",
              "CSX80Lb3lIRxfD0CgWULIUjSWefc/0lg13DRrpNnqemEbTSq31DV6HDutteL2a18ph7QjsuLN5G+\n",
              "SLcV4b5RUkr23GvqqqB3N/XYeL5MV+lNErttH8bgf+gnqlMHYrJaF1Q64JS/xy9IGkD8rjDHvrtA\n",
              "gFA8IFut4y4S4HfFweoVA/FkMs8JbdNjYcUBxFM8xjYyBEUJktRnpoYZQNi5qS/guMLSRzJ6VF+H\n",
              "2DrMaBpdSQ8J90MEKlxZEZxZDvw0br8hITSCiCjbeaBBkBFOh8ndrt09jnR8IwKkqv/fsSb931Su\n",
              "WTFulQIoz8UB/q3YHN39U72wWdw0fJJnN42aNzVMEEi0se9R24ufA5UbdjGDPB58i1EVVZWkMRuY\n",
              "2xpIDnvFHhj8Ng9THV+Xtgd/P5K31t5mSKwfgyESbI0zkb3p7qanaabOXJDHNHyugw5CO8a2bBhA\n",
              "KcavXAkacLk648uhbqRu9nuOg3McBm+BAAABNQGef3RCvwCK2jqCNZkM/38ufrFuwySPoVP9TX+G\n",
              "HohrObBe6f4zALhh89xs8YVq9s09q/aktNhwIdKq9IjlKEhFReO77vK5gMio26EP1Wj+sefJpee2\n",
              "JMnzUL4s83s5uleS0AsvqsipmANc718IHznC30ulmm1G0b/bu8Uh/wY1ej1mXc3G302JQ4xzXcju\n",
              "qj9T5K5EvHtRux437p/QNGE4rZ4DhOkMBnG6jAmggraSQ/uHuWLzsIDRqNgZKT6piagAbFGRYJNC\n",
              "dtttCJutXiEvPyFRLsYo4PtHzWSu8vXQJG9VLUzjRM/8qEB2mwXIAfbeoHhfyVr7P02lIgxI3j0s\n",
              "8xshLV7uI8L6CtTruaYbWgkrVD7hq+VY+/Mi/kJrd2JwzCudqynucNDlNpRowACJsJBmXAAAAVIB\n",
              "nmFqQr8AisssEazIZ/nEXocza98oOh/rEU8IkieDSlaFTbND0rOcLnKqsdzXA9nQmYhWvkX9v0Zq\n",
              "VIjtn5l1njDZYGiDQTJqFbNGEy9ajDRRi2wfZlr+e2752UFUJE+SP5Yw3r9bdiFUil/rwMWd0ab3\n",
              "RvhP3BmRRKcreJCT4xMvZ3j8qereF9/t4GRgYBEeQpVdiGnS0hLGsfkNMnPWcg9hnZBr4r5oKtj8\n",
              "Y76WqiktVojgISbUZ3bbQZ5QjCzKA1jA9qEugHJOMJULyknxa33MMO/OdYjASjARxw45mZaOWMNo\n",
              "CUVjOAGPVnDBPdq6+tpiWP65XxVGMvT4WVO4jqhw7HyQWdtKeG+sPuOpD3YPTey+37iz0jZ7Eys3\n",
              "xl55zxVN1BrTjijBCvoyHSPrV8yEMEV7ZsufQf8DDmUVKl+YTd6HeT6ji2EkFEJIUpZNcQAAAWtB\n",
              "mmZJqEFsmUwId//+qZYAV3/Jd/kpP5PiBCyIHKzmq0XybewY98fGwCTo2KhqrVwuMq6Hp9hnYBaa\n",
              "zZY7XA9Uv423JlPZI0hn2/uPaHfeo2w0zlanDxdFrsrMWouzQYTlLprzZE0EwIt6/rNZZnxIUGhU\n",
              "JsaaxZrbv4CAvwa+AHQsDibd2ZYxCFcgXLcCKKW5hKMU6myzeJpkFWjMmDOnUV4wKueZw8yz48jz\n",
              "2moNKx4ltchJYMIJuZCw/2Td2PzWO+JJupRYhxBgQHPc908c0jnZMcmYc+gC425eDpbpMWS+TPmH\n",
              "9JeMXPsAwGFtJmFal/qo0wBjVPlcii3ifLTvEE26fxXwqzG8MEnezuXIC1cKFJvorWzTNTqE4Y71\n",
              "05y97RfCKv9AbdgRhHE/pytTA6Jrnt+C95ZUy64LW7RuaHvekn6qFQInMLOfYZMFIf6EQq3A7Tjx\n",
              "QNOHBfQvkOFbqax36FMthTRNiCcAAAE+QZ6ERRUsL/8AYiIn36kttFWsky1PPhbCuFPgAQjlGOiA\n",
              "hR5EmSwLyQztLMONezf8ScJfZjGYRHqnfD13GU0zCMlWLq+eAQycUhkqtdN/0qe/TAbGVCNlTD04\n",
              "U70MxnjcjZMvw10dhvMlOC4z33JgvbyD/L3w2CHzn14mYkk8ddystz0cFBnsPmOjjslY63dXtVuQ\n",
              "N78gEG1i+spSRuty3a82y5Mz/C2qp8Hi7G71kLQ0zMcT33AxtNxyvzpx111eRZ0rKHSBXQ6yiBaZ\n",
              "38MA1ZOg6ixSXC3fSYXsZNr9KuyNJ21L8Z2dB4ouqtwKdhD+NXYQxChD2d0R2sLywP8HS1W/6Cq6\n",
              "zm6XvAkD1pnmDblplkQraEyY4hdJuF/wuveKnnz4e22V37Q6Zjz613NVDgEwxtUGah7IyC7OxEsJ\n",
              "AAABZAGeo3RCvwCGs77nMgL6SYgbtb1MLcW5bbf+ocoihSdELijo7JGrAAdWe7DYkZ0QmgsXTGb6\n",
              "H1NvFLjLDmm90qTLtQsq4qkzWt+EeB6+l8SKJRE/+x1GaOjwwVzTKrqYG3nzLp1EZmC0T8GLP61m\n",
              "Ixs1tn3tW9ZEDpLDYfZpPacvcHQ9OYQKtgJtjQXHe6vhhHiMbcF68Am9KE1C48HmnFzKvARurTZY\n",
              "nusS7qkbnhEX4TWlMaDjde93cU2njYawN3uEuMVWId5Y2D6uzRnA++kyJZlrk4kvj39CH0Y0E3i1\n",
              "Scv7JjWLGKTjmdVWvK3QwYKVBnTNd5bwBDp1ozgSh8DMUzLXgtf+B2Eas/gIEGLY+OBTJFQpCmPH\n",
              "uc96wwJlDi1lf33Xxo6E6RXi/dWPWvEufwxI1j9TF8ilhAgfMR3O6P/cYbFxfIMWP7c1G1cQYlbq\n",
              "RYeERMa/FWcQt0IzG6QR1ZZxAAABewGepWpCvwCCaN5D3ksogVvFzHlwhlOpPOVAmJvw/wclkv5c\n",
              "L0A7R6VrF+rtveM7FRtusceeUATfc+fMHyXkeMO0OrKlsAw/z6UVH0n8D7FAp1dJrWIHZ/2lSl/z\n",
              "yLusxSOPw37DN9x5KfGUYg7P/HcBKBL0ntxz57xtaQcLX77PoIpfEg9YtUIscvd991XPoVCoJduM\n",
              "cPV95Lh6qIdQUrW06ACvAYUgR40A+vlH4iWzkUjUKcA5nAfry50F/alzXHBi0J/6fdQXk5fwb6C2\n",
              "aZa/yn5wm9hzg78Ga59J8xgW+7HG2lrvVojLcPp/WNoJA5+bwX5Okmclruub6Ot0/SmDvAn9wNja\n",
              "yOF5V3l61kcZMQJr9XIcFtPpN8IHtHd8OWMGts+/jd1M7bh9wy0PFsLgb3STeWRhlEvaV+t/rg1z\n",
              "CMt9w1JeU1jcfEycEHhJKkP0Laf1JJWeTmIyBjBfs9mVyW/VzsbryrTEjGamQI2WInya2w4vGVsG\n",
              "O1MAAAJDQZqqSahBbJlMCHf//qmWAFcaxs9VGZv3k7GUN3hHqWppzv0KpwY830qdH64TgdX03oBc\n",
              "yTHdHp87NNwXWctjKt6lyJ31cbiE6kzJgLyNNPr6gQOYTkMIKtbleMyjODgsy5gTke0Dw8vKcqfO\n",
              "/r34o/hRgl87vfiRgGkAAgp/OBxzfR3UHNxBVh2E/LVuwubSCL3k5irM//bow8Zw5q4ukph9aIBl\n",
              "/4iC9RvwT+6nzk0kZblV581vPNrphmG9TRs4/A89xSayQuK11Shd78925zuBnkt/cOc3OoDtgc7q\n",
              "LhQsUlDv9dANoQmz0Oct1cjBGK2dCt2DtzHkeE0VzZPqgD6J/AjZEuZE0mC0jkttKBCg+AXRMh9s\n",
              "K+nHkT2oH/P/eefpN3BlTahmktFNU3I7daP1qxjHU0hVevhqV9Nx4ATrNClTjYRp+5g0AN/yswub\n",
              "os3R/s3gNH/NKFVqifNsJaX2ElBEp/yr6G5sfMxEzMA842dnsy3sUcw84LOHJukWFYzxPKplqdsu\n",
              "XFUwshDlvFLsls3ma5cuvbHZDHrSgYSVNo0OqfSdS6OBr32TZhPcPB52mUJh//4aBEAwGzX278LM\n",
              "PPwVl+dRxN5oQhKE9L6cpkrZ7za9JukhrhXTnwTGsaABNhjzmujAB4nXsD5Qbw/TeG51Z/xPdwa0\n",
              "ITg+pwJMKmz59XaBi6LEHWKO46GAXN4ngoOWUlX9emWBsvgYHgaY6+3aqLPLVRJArKDnPKkWG/pa\n",
              "iYNM5mCne+LnA0DYL8sXAAABl0GeyEUVLC//AGcUvOKNMtv7alXLY98/dhPKGW9vHAvkUbzqFhXD\n",
              "Pm4lpOmxGir0AGg7tFT01HS1o+w5/tl3z8kDIfblUBD/nl/10qHIwf/MPPnGYyAORi98BI/MbG6w\n",
              "KegP6laPR7kGywZDQfIyBwPGV8AX/Hppdl/KAP/jH/J40v5dqzvTtwTprBV2sCA8XG5I6wdSrSnv\n",
              "QIDf54/wxE0rvUCBXFsk511fH9F/lKEgVtg6sJgdBp7TyRi/2W1q4WNw68LhRdpHGW2iyb4NQSsD\n",
              "nXIP07CD1QsobaklSD1WFYAAPFMdt2rcEFXfHZ+AKfzDIpcfuFpfh3AfGpIwnFWb+e0Y/fCgbKjq\n",
              "bvcDPDt0p8sDvmOpxrodHPAhbpE5uvDRbRGXExToztxeMhrmmhah1luOUHc2N+O/Yopj1wTBTdAO\n",
              "qtznIzQpvfZkb9mdVI5JKQ+fMNRc4pBVo+NrOAvBqQS4JBZpxUHxWG9qPRLaF4CWmnPSYp2gNf1U\n",
              "FDLP4GXq5KLKH2MRoXyoMSQkiqHusg9FxCssAAAA1wGe53RCvwCK2cxfJEEPJ6XISDW8wAUFSIKT\n",
              "gpgEzYNA1G6XIJc0Zm/Ag3JE9BPyzwgX4bUvZk2ArtHHh5AbXpq8pOSWZ/2dB8dyVnfSsAg5EjVW\n",
              "uM9/8rwLpnYHyIxmDhvsBekbwLZ2KyTPx9FBjD1DXiTGjleaqa2QNXVjXK0jxTXszYCh3dGpZZ++\n",
              "NgPSkhjp30wg0WPA92ieP+SIrwt+W6rP695bQCaZFZ0U4gCPSQAnK2c3diN2L+nZ4NILWo0JzMYx\n",
              "LmiKWMakOXreUCLf7pWUauwMAAABIAGe6WpCvwCKyBct1Wn386ADcKosOj5HjCriuJMwbArOAzmv\n",
              "A9arelHQxjE3boXhIOLtkjKYpqLVj4eI24HyLM7s/vP83Du6+vrLzo7Ge1Hk5WMUb0z+lTzoejc9\n",
              "mNQ2naaS6UD8PpaEm1Dl/DzbXTZl4YdQU/x+okZs4tfPKykEOwVMELxbb/bkQRNWbTrV7KxjvTRx\n",
              "aMb8Kp116/dA4mfWh8TZExo0cSfiZXdGYPj7sqAFeeBtEPYns/+z2y+TUVqQC5RUeYzmxZfm7mj3\n",
              "7J6oX62fTNqhmEFwdeZpUgBctriW4PEZXgZHsSOGX3lT02H7Wkrn4Hgnzt3+/qvQXx373fTRtNsO\n",
              "DobsufhoBNOKQgGBxMfg9r8er0ToSqu9OQAAAadBmu5JqEFsmUwId//+qZYAVwJoqfAqAP3VW6nw\n",
              "ZkNhIc6hXSrIlS6C8fnfRZDhtyXralBHEbOHWVVAvJbRD+5yrdr708ZlJSa2S5+j+VNbt/MbETV7\n",
              "UGeHKoTbtOqllCdJiATV018OA+x9tdAL5N93QMteYWyX7EOE3Gd0ld6Fu1IVgBtiD7uQdJKoaTDt\n",
              "mIUbi16IFk1dMRh30QBgwdpCYLC1QQzc5LVTZvXh1r6npg25pirIUlD34+5KaAfBNuzpiat/ypyg\n",
              "ar0ZVDPexeBdPrPgJUjtDsmDGwT3xWYV+fMo1kSCjNNdM2cAu/fa4sWpyRJlgIO9gbNGneLjFZtW\n",
              "A7PJZUfhXkRJ6czyYu4FOt0B/P/HII6GNiX+duTVwpD74lUy4ZX4CFruBdHijAZmTwu0I5Etaxa1\n",
              "e4EYg6eqCVcJMoLWUobNGzrTKuuAXU8iBChDWuVIy7If/O78UlFpkIUan9+DZmtFOtXD1/vvfbRD\n",
              "DEpRgw30TzYzp/rakNUZryHABTQSfVVZt+OOi+3c8AhdT7GyIjQ38T1JwAyS4Mt7tXK4grAAAAFi\n",
              "QZ8MRRUsL/8AZwL/i6SQL2YT8SNfrk8Qox+6YQTttlRuPXCi4FjUcMlntujaP04vc+UDthlm6wIl\n",
              "5UursX9RF1WwRoSSzVTmgE+KUwEeAzXmmnEfC4Qd7qjhpaqB2FrviRWccZxnAEJMEIqy4rTSaDO2\n",
              "LOECejBPSOcaTX49u4E+AHLK1nA6dTKIZWQRi0+sV17jsfHla2Ies5+p7r6L++uv0cHEUuM9jkAg\n",
              "/AFl3+/UK6ndPexcCsAoBKj5sidvzvESBonNRpI6jEj96SBjd0EIZQdyeDXOcqQEwPQDnWkqoaKP\n",
              "/knVwaytBfpL7Qe8lLZrYAHKtbuKaGNwrCl2CvfdwvWgs0RFMUdaNh9kNwien7aP/fd1Wigo4PEQ\n",
              "CraYv1VMT/7MAOg5+elJlc//3lK//4a7f/kRi+DWc9xdbNcdiCOzJ6jaHVfuNDqDerXsboH0dcho\n",
              "xXjSSvFFbgdIY1RAAAABqgGfK3RCvwCKubFBVX0XGiBbjlwzvKJFoovpYm082KcnJg/CE7USQ68y\n",
              "Bw//xVfbFrztb8DD47++txUJ79uzd8tMnFXkMWFvmkLrIzkPU65g7iYqI0wtbnbnvFZ5ofXy7/ES\n",
              "OKzJIBkgqeXBbyEJTqVWxizLMgyuYbHR/DARhVQy4DKq4YxHl/lx4icCA444Btdnp1UxYY2n2mga\n",
              "fApAETTqRYX3me1JU2kORExmDyhZ91w+8qsLX71zK5MrfUUmBGGuz6w7VhY4dvK1EuykhjPrvuKX\n",
              "QPiNy3i2iWyd7b607M2qfCwZRfvSAZSaazHTcsnbEV3W/uxBhZdp69gaLS3NJNwA2sQZMRoI92fp\n",
              "QsRlz+7V0B34+z1KNHMgcxOv4LRlxt3hhYskB+gOX+vkB3kIDTciYZju1qLywSaGN86B3BfdrAiI\n",
              "B4mPD0C6BNRqaCMLIqDKb7zqvTtqlp3xiqLtGBb5/IZT8k3hhxn3XY5S/v0dfkxRrUrapjDzRwZ9\n",
              "KSPt/EhaWC1a49OMi+e34wuAtwzkMW4yFTQGqUld2uhrk32f+vJ/msBa1wAAAMEBny1qQr8Ahrxk\n",
              "dR/FXRIKFV4D3MAerWnZFCVqnMXINIo3NXQm5Tp6UrZhGlXPUhzEybC3a2Ev+Z5jVJTV6F46Xncq\n",
              "UtAWeMafd4J3Kl/vRW+/Pz1JZanbBS7l7a6WUhKG866cBSkVc7xNmOM0xHbbI7tHx0D3ZcI6hb3J\n",
              "dpQDbT2al1iP6r7YuYHfhQ4uLmUqvJc5k4Xds0D1EbA58Vmc5gK4wtG7tPAuf7Zf5nwRMejlhfZH\n",
              "vP69BIoS3Y9k6Zs5AAABHEGbMkmoQWyZTAh3//6plgBXBcOSVUYhNjE/qsH+ahXCMTw9lD0uqRHA\n",
              "xzoxdb7j1XeETtfIioKTiEOm6t3KDlqwvREGM6zX92eY+acXyx1kKwU31zMJI//G3Y6x9TaBX6NJ\n",
              "Z9OMkkVBdoMg+lM4cvztdO1/vRii6WyHPjqZzLNl9Mk301DFIAIheJ+EvwWX28m6KvGfzUHP+5Rb\n",
              "oDG8cheqQdDJFcrNpsYAGNPFZxWUV3eIrdw/79GM7WGuLiqf9+44FOCQkp4sr4zznS66cQRS2Xfh\n",
              "EqDsCNtNiXbSQqYULVjpqfT/9MPNJ3uxwI8BI6Bv1N20REsAmwQ7WkvY1+oicO/3sWHSLzYCLmm2\n",
              "/VZpD7p5E2dMbJaIFyaBAAABUUGfUEUVLC//AGcUyGB9o9y1pPcecYSdky7Z6j5Cy8GJBAtANXFR\n",
              "jopjYXMl7eNM9HldaNpXaV5/SUVG4EYRGi0h5dv/Kt25vQFn0Lgb310f+6lQrDEa0Fb7gxQFszMn\n",
              "+6FaX3jBmAz07NK82F/nSq7HrPxDIqxjoRfDDA18u675biEi29JHTWaGIAPAHOcAuZ0pcr1ij9cm\n",
              "Gn+UVAVCYSL8D8KCBG2tkwklRVEpgEoesAKUE9Lg3EjBkyFJVyeddhzaq9t8cMXbjYJqihcNYXy9\n",
              "yV2mi/WbMr4dzNlSVLFigm7GjQ7cZwfJn9/rEG9oi+UCHIYvr9YrbF6OEw8mJ004rOGkYpa0Vo6B\n",
              "7+46C7ynnkNwWh79eZ0bmO1op8BaWkDaVmXxR3G4SJqUE3v41UZ5OCCYR4okffAA++DFPCJ1CndA\n",
              "D6ijyQhoJDRmhPjoMxYAAAEEAZ9vdEK/AIbt27fJ4nzFER61NZui0ZQjiZk3zzlQExvgamFp7Nwz\n",
              "3rB95d4ziKRepoPO7dwdeW66EuKXgDQ/KtIp1IxvWfQuRDC9DKqA4WHVl5wNgFrsyFxZ/zIz94hr\n",
              "7+G8z8eJOlJhY7XMl5D/wdUQwkGQRHjPZz/5KJ5Kv9zrLmJgWCVI9628rvfMxtupPOG2Pk83QkAN\n",
              "3OSsl51m1Pzq4QKdAYadN0qTzZR1Ww+bkgw2eeBd6c+bsDAp2/1lmAgKqSmGjmCaRPu/V9mKzVzm\n",
              "4+ld2dXKLklNPAbl6idU8MYO7mMLtOn1xvgjEUTgWXEi4Dg7XNzQw9V+yqv5dWlmY0AAAAEsAZ9x\n",
              "akK/AIrruT+neCuUiPWyl/0e7p+lAyb55yoFBlslu7GtHVbya92bpwWc8sX6u2+VXYXiIJeArhbz\n",
              "lU91mgrL8fz3p2IqwdbZhTZiJxEArpYmYTUHw5nwGRSvdfBiLE9ZL1u07BYl1IwBA8O4geezlu4r\n",
              "PzCZJDac1td1kZ3yD5cwtCAuqLQHjTqIjWVhqRIq39RA3M/08P7jVKkpruiUtbuukxPCvdLsUyrN\n",
              "DMlIEsm6//xWhQ227JG/tSY6sqeTmcSZ7q63/2Ic7TjX6+XMAw5hX+lyrIor7p8U0KeOpopn/mt9\n",
              "AQOVNRRdhEsI6omSzlp84MflqH3lhonyPZk7zVjLKfWkNqKytEihTKLHDXV9j2t883hVwSt1Z/7M\n",
              "hhiaxRfPj6wlA5MXAAACP0GbdkmoQWyZTAh3//6plgBXf8mPfKdDQWYMUCyIAIvcppaYPeVXiW5E\n",
              "/BAz9ASMjxUJTg+H1U8HYwmprbgqXEHPne/qdqlrxQ5L5Y9E2yf76k3xhndnSyX5JzTxl6QKVMtQ\n",
              "zwo/4cpgq0mci/2vMZ6GOULEFmK8l691y5vBTzWAWR4XE1BbwD+gTfCDye1ZR3v+tPUEAicfvBH9\n",
              "ZV8tfxPmCRUSCdG0lMDYyQVFPSfutDULkiqPsxgdnYvqBirYKlMpIiwoVzd8xyPFpwBQcph+qsdU\n",
              "/4qBs9ElXsCm9bBsiwVyefeh4dNk3S3w08wNy1kC0nunz8kDN7Xv+9PexWsNbP/3a/1KtZipVV94\n",
              "8Ip24V6mS35lakqaf1iN2cthutK4IZggclJc2cOihegyTF/dlm2Qtr8qn7rdk284otzIOJJPqkbG\n",
              "kvhVMKzUzXcRvrqhpQqPzTVoh2LG9GN9GddPCrkSgCwlmKfHDtn4CnWwu3PFpb1X/akBG5Kq+/2P\n",
              "nyAV4/uOAtmzKh01jiHlEg1YnM7nqXQEGJb0wwcVMsNe4V6hlki0JwPaiLQCQC4eF8nXGW6Ijq+g\n",
              "jJ2H6oH9BflpsVV2wlbClHEo3bpUdwR/ePz5PvA9xKE8fJtREcgSw1kyLgy2/SoIjF8qEJnjbA6v\n",
              "MsbXPwDhWFyKyGY9Njgv6AizBG8OF8kns3za1GbHv+zBOGAi621GTEWwoUdZnL2bkKKXadjs7Vyk\n",
              "bczixhB6Z6hr8kcwbzhJymzV0RgwAAABk0GflEUVLC//AGcEewjWKWMhhKroJzhHkDJoAUu+P4xa\n",
              "jKQEHqofcrHoFrMUUNcb3c7sOF/XveiYc71La+2WfKg5Qrt/0chNq7P9avw4NtNsf90MAVbzoQHj\n",
              "BsVFvOhVkzWjl1uW+w27Q9xooHHaFFMKJVD+opZJSAdsnLnP8ns4BFynvuROPlsHCIUIz0sMnydf\n",
              "zC03LBKY+z0pbJDWc4swfWHd4OOrFxvUjzJJYqrVO8ZNR3zv04uKWF+bObieQ/l8VrCbQGsfATxe\n",
              "bQWs7leBHZVupbsRpo6vKsp2CrmKSj3hqZjsUqUgznVM3QLrABEUU1TL+mKOn807Xbp5MeO52KD+\n",
              "UgQf7ggQnOZfkN9Z1ndxrqEUS9thu/mPMh8OzCZtuRMMyLBHUfw/ms1pP8lEmKUnHCVH7RMcuZVR\n",
              "yJtGQ/VY+iWHFV3EaGQVKRDlyKefMo4c2EUXJFyR7zUrSLbWfNO39rcOZpmyfCEJCwv10dtuFcQy\n",
              "cYRP3Z9yhESCzv6Ekiwm5PcFLRZgXaFWLa+CbZgAAAEuAZ+zdEK/AIq5sb3c6wewfHt9U+AA4XaZ\n",
              "zq28tqtHzQQrWL9XbfNODP+fFdK5rVw/ZvyF9fBfHEkSV43HmxxqqqNGYovk6tHEDsgwEmIWICE2\n",
              "6zeqto/VE51+gm7rqct8Z1LzxBP/b118UFC0i4L/p+CmlpVKOios33maWgY3hcvRkbKCbSNw33zR\n",
              "BmWAAXxQkBfiNTmL0xCswqYL8Hrc83tm/71bFjB4TA9eqNu1AVPVS1Xp/rzolSDpW3Y2+e5eZT3G\n",
              "16N0+z4Rn6m23kWVb7N6FrAcGfGV0TnBtF6Yj3c1v4Y+dwvC2rN2CBdKOXKgU9hozuDmENV0oeqr\n",
              "wudozYWW6FmA+Qa4jjBkOxzaSToBXh5tFkwfkZdEXTriaTv4MBUtZft9tnnaKQF6+OEAAAFTAZ+1\n",
              "akK/AIbJDzQoOkxaY6yFIAEN6o7Ftmrbn3wIgLXnY9TkpjznbYOLyDo2aYNbnraaEYT6bd7svqBH\n",
              "p2k2tShLQE8qhWf4dguJT383eMGM1HDWMjYgldo+uMVqWkW4R5hA+h6wCmmW0WLQwjko5IR4OuaT\n",
              "c0c+j2lREllupLEs/XrzrlsCXgdJ450DH2aVXKKGzl5ml8Jemdg5YfO1FgicShfqQsld5AI7WEg6\n",
              "EYbcFtEiRaJ1nN6drAiIuVh6V4tSrxHlyQ1mSwtsqLxEOTFozqK6mZDURPGymoPCUghanc8pCvNd\n",
              "ydqv5Da/8YWReL6VJ+fE6wC+ZjmVEDHcdwQjb0Zi6u2iVMW0rhdf+Dqb1WqVbp8RNNUOlKN5rDX4\n",
              "njyrVeFuiaxpx6LUcHOjWTGna9ufMP7QxnsVnf9kYYXVbvzO4i8DQ0h2YnjZD50gu96QAAAA2kGb\n",
              "ukmoQWyZTAh3//6plgBXf8lxaZsq1OV2sDbaC+VXOz4vd7+z1FFEDF2/5eeMnqrqHwXn8oA9DIqe\n",
              "n3pke5U5lRU639FsJkMSt+L4r6XmquYAklfqIci3zzZ45PgKAkjtRZLyZ6WdvIOxIo7P2R5opy/O\n",
              "bdCqaMBSfvgCezSCuFE81hXBmHRbxbkSVfWaFJr1cWtPnnLoCk6x+kf63XWMaOYGoZFHCbi76urK\n",
              "0c0Z2skf0hy8ytTYYs9/FMFJDKu4viZVrj5viFLlXtg7iFOBXDcUK9O7TsK1AAABKUGf2EUVLC//\n",
              "AGc8+mFs0xSdcrpyhumQejUYmoTpistKjtqOZxR9CCtSuG4ejpp6DoDj1cYGzFiKXhr0VWKQkHlI\n",
              "3LYYT+wc2M+HlvR5Cup8bO2FaSRaOK3RBdqGDJoO5PAJ71T3b79Y8j4Gtp1pJZU/kLDp5CBCOm+B\n",
              "OLWaillLXICxJQUjxnpyBaR6Jon+whxzLes9hWxLF4MyS52qobMTrmWbjRJa0LU+QgPSeoV1s2Dc\n",
              "GfnHdYWVmtyAEEZizBdXUTzf1+wvkY8DXvWGgq1bilSfD3sUviMmDaR3yHHzUwLs2c5DeRG89DcD\n",
              "3VFZuL6putwTGMDyCQoBatwGLWgALlqUcgtjmggfr8Vw5oGLdZJsO3kCusQtdXy/ErL4MYDO9P21\n",
              "mUmEtQAAARIBn/d0Qr8AR2IyVHoAL10KnYW8rRFbgLyQfCu0jpb8WopEwZDJKLvlPWm5NZPAV2eM\n",
              "sQGG+4ALkfoqWKaMcIRN4Oi4wtGNUioAtvR62uDX+QwX+Fm0JdwCl77rAo1kZfemaQquXfCFhH/4\n",
              "KSE3Enm0CshP3lU7wTViSl82Tdpw4wHj6tJ9gBKxR4+KQbkkR/8Zoi1fIb4RmXF4jPfGe1hXwFkl\n",
              "40o7zkmo6W5G2NBJ5BVVucvyN3vX4t3KsXHS6WVbQdb9I9h1qB5E/mgieu29opgVC4ajc5+fp9l7\n",
              "ry5P4LEemKBg5pPGOJC6sgyPPYLemsrSQyJRSZP8cMhLxqhv+yrcA/bMuG98QeK/8O8RuH2AAAAC\n",
              "WQGf+WpCvwCK5o3cniVrScI1yV79pAAB01rNeCVKQ31UO2oRIpqbNDkQLTHWRyVHYtsV14EmSZ3D\n",
              "08iTJh3p+pKYjodu++uEbcVG5V1/VMjfgd8rlaZto51sOA3MSz//DVK44Ie/kf9Z0M0+511U1BJY\n",
              "g4QU7ojW1dhFXALcBFQbaiVm7FqIUuyaULVkcclRz/4GSSD8X31mwqTr87m780ZcbpwguhPMyLXz\n",
              "bUrYKUbA+L3U4/KdSe2ERFkln0Yy5ENb6w5Se4JUAk0VVmN0t3NyJCaGHe9PN2VvlqI1c/KciFed\n",
              "d4zdMASrtUzdNf09R1pREXEC3PnkKzQsPOargmHA4dryHfjXxaVnNTITXCuVbiD1tssjLAQRzgaN\n",
              "CSnNEIkqbaK5cgTiDwoVL6y98hc5cZ/SfvqwQJLAKitHoxCnaSqP2Iih5eQFxqe+yDqkLJx0URZt\n",
              "eqXMwe3PLShf88RfGX7Qpts4/XQfNzWqjFInxcyqglCnhWiER6qNfH25R0YYxqM2D6euUSrMYlrS\n",
              "5PoYMkcOOXmPCYGW3HMCkxYjbM5Ic+k1oEJbYQqHO0qGG8k8jBh/dXFrjBEKLOMeNI67eReiu+FU\n",
              "LmDi09FcBvzkku8TiRe9WAhZbALOafog1/6J+eDylv3PCUyG0/mAw5jMfhmjT1PSkRffctPQ5y9m\n",
              "MfFYd7U1O8Q6FjMZAbrTu7D7qu2kg1zrsAE+ZzybGxorjznVKj2TOLyK/Gpou00lliyirHN/0yJW\n",
              "lNtMNWrzxzKAImzjkkOnVp52wNA9XTslpvH7Bb6A6oEAAAG/QZv+SahBbJlMCHf//qmWAFcaxs+F\n",
              "cC4AMqR4psqp7/OBbvJR/Kui5viGMv64wYllDkbYfg39/zU39pjIwAUIdD319tbnRuB3Df5cKROa\n",
              "rOJqoD0VbCu/Et7F2PKbXs+X7uBWfn2ESbi1Hp0cfUphjtM/g6Temt+CePozrJ3pQamZY+AgCqbs\n",
              "sBeO/7HWHiOqxvW+QJbuLz0o775t679WWlMjgiVzh5HSCYBFZpqjCS1CO1H2T0IAL4lOjzHernNR\n",
              "aDHRTfTDlIUyhSbfLXlz4rwCox0pHvtFFwausSb1cyAfK0yNq0X0csBiwT3TH0hqecYqEf3JurKg\n",
              "GwoLmpr9ZIwnDR+YrlNOHBP4NVtaVBPy2eoQxeZXLx2bVCUAmiZ3z2m1tjKnJf8xs3wRxCkTK5iu\n",
              "oTM4W+Dhc1OTMIlviBG+WeIycXUgdGutS/N+aUas8EibF/GR4nOUaEWxkZ13torAu7hCGbURrnGt\n",
              "Qx7zFRW+RvHh3DX2PgYGrDEUQH9jPv7vofTMCn9SqtA1+m9IbzDp785akLOk9F6vc25kSmj9myt6\n",
              "Mu95t0/SLp+JKd1/DgtdRYuP4UxF9UDe+66HAAABskGeHEUVLC//AGcUxzLUXgSzFbUoOR3xZNMt\n",
              "dABAPL989yfC3B/xH1dTgeztXOhtXVkRE5qbkpOiGm94OmkLzUKVoqXEZIPV082DWRa1RtHmUniu\n",
              "g1IzVjJr4olgE6WZ+M4IQCi7QNkb9aUgiA3y6ZToIV5lAL3wCxhmHUxzJ/Qyz6UgKCPIM5cR0DMX\n",
              "9GpZSq/fAAxF8GDipGwTpOlNdXhNxPlTHoc+x40b675zweNDscUXDqQh3RMyZqtAaAsvo/jWa48Q\n",
              "ifZYQJYQ5tWqK+3LZtINS2kKXiSWQMZgGfnrbVc/1/UhnvxuAbTEIvLWNfHjpRRT5ih63BAp/2KI\n",
              "EgtUE1x9Tncji8tGsHhuaWRl39mTdMwJJKf/lzaXZo/mKK3cWvAmEkVx9gfKGQwuOACyPl1N9VKh\n",
              "4SvIh4xaaA6pVR92El/1wvAbptmYoFX4bgVYXUWXMFugrVKnVpBYsD2pCd2tXsCETpJzs3BI7SJa\n",
              "Omx6uWLwfYGOtp/71zFOjaIaw17V4CnqA2JAh4+5yAgiKRd62j8cgvAS7sBIufA0logNj3L1NXjq\n",
              "GhiKa6OSpn+BAAABQwGeO3RCvwCK2c7Z3bke9T5g2dk5a7CZ7s1dfud/3qBbE58vti152t8vw8zN\n",
              "Ct8nqrJ7Bdft70d4iXr43geAqgRZ2SSF4AgLjY1qROiuFXr5ejSapQ6DJTijOMDkXrKQcOVgO8wa\n",
              "tS1nJiodm440HejcQ986+bKquF0y6Q7URUZoebM4NGjDFNTzF52SMuPfnZr0i3u3FgTIlB0G/W02\n",
              "ZYg2AOPgHm/7fsYTOq0W7uhdRzv6iPtgp8cY2xSRRSPR3WC+Q2DJg+yCpS7WyDIlks4hWL3vCLhb\n",
              "WI/YsXDR9uoqIo4+n8LXydtY2uRXQ1fvrqLG/7Owi/UpZA2uExftZUvhwB0IzI0OiPKN4vsyy3Wy\n",
              "Yy+DeX3XTCxRijQzgAFZmYCa71GlYxWnU/qmTFOOcs+HBtSMIX+BLZOMiVwcM2VWebaZAAABUwGe\n",
              "PWpCvwCKyG+a5MLTU+YNnZOdwfkR5KeurkPopC0Lu6XbNlQynta9NKuPpm5B4YEy+L9X7DBAkXgn\n",
              "enyxbX6IdhMiJT5gUcZyUsn7X27kbxyBDCNdF/Nc1Wtblk8iN6M2Fu8rbLSIWTdv3HclZoNtn4+A\n",
              "sTOaJ9gdFzLWUBXYw9bTXtsLCm3fTaWimpX7TIBiCF4B+J4tFW3UFyyG6LMG50ElCz13RfG+mSNC\n",
              "ZEtwreRrMIdQlwnlndhIOSYTMp3jgN3kRumZAcagX+Y82nDZ3vxtwWvjp07N359pbQQfo/Geypq9\n",
              "6KCK5uVBwU4bOQPZmJ7lBc1F/6YejnGdyoD9wvowgNsZnJySeMUmOTlwCRIdUwAz+XlO46kddIFY\n",
              "ZtXsKh6XaEVnz6k9fclcIxsnEeCQ/4JlCFDyh+LE8POLGvaXzAHigp6cVQeQAJy54ZhrwAAAAYJB\n",
              "miJJqEFsmUwId//+qZYAVwJpLQ99MbKvr42rLXLr8wK1Ae/vV8VYQNlMsB1iS/It+mHnYAF9051T\n",
              "lFLqf+qnHe86pEbacl+huUKdpjAv+gDNQ7N9UW8i4nPYOs3u8Q2ENSFT4B/ouCzIeIEC7Nl9tdhM\n",
              "URaHWzOJgu05pl9bwtzWPBQjacG+GEkpr/X/RWidK7LRTlHmUKORdxYqw2aFeCI3seC2d+JZdH0/\n",
              "Tn0xBH8JCEyjFa5o5nh8+poglA1ewJlfo9isN3AR+cUJ9DoNNDXfsr6dlrqknDjTx1E9Wcm22j0t\n",
              "ztbhD/OYet9dU/1cnkmPXd6/7QPltB9PoKg5C+lqkZ+a5gFAeRM6WEEZTdirAOBtpwXhq1QK2Sw3\n",
              "l0PyXRf9Rs97u7QsGtxiLNThBKKTNGn+JA5+f4+Xbi+6uejt6KefDZwXu0E3tL2m6ckvFRzZC6Nf\n",
              "7UIIv8dElaKL2aNhYaX0LePyCGMxExZ/BJNxG5zbFCAeOZVx0DDrSSiZIAAAAcBBnkBFFSwv/wBn\n",
              "FMh5n159QAM41Kk8xSLODwXUJd+ywMtXtaw82JBlrhMRHvNO2is8LQdMkvJHVaik7avflkz4eNKr\n",
              "hFzleznhxpn0bcZ7npNs4xtPBPsnGDWM2ccP9I4qFCUKV7bNKzss7yf/k0l3N/umzmQtKmGIpaJT\n",
              "juJI1w72IHijyGMFKCCpysj13ZzHU5tDeLSRVDybUHS6eXvWzLLKq/cpXAII8DfaJr0XqY+18BaA\n",
              "y760DEkWO20Uf+5dvSuFtnJqWu7lbCudaCLlNYa+LbYlo4jshEvV3hHnAlSzfVxrzTCyH3rvPoPb\n",
              "Vj3ceQenGejLLyzaMNqofWjnHmjTmgxigZj7rqisk0toPiQTErSpyDMpPkpHpZU5M2pofzO6fOyV\n",
              "E+wAsF+ndpedkTaZHzJWDYwquNEzTB6ZLPFR2nE59toiXOYmnMDJSIKCoZaZzrIVQdy65eZI3XF8\n",
              "3AmPaACKt4RbEc5ehcRyGkEQ9h/bEMzVGQABhe+mg7Mw4owDA/zZyXk0+AorQKznp521GNEEZtCu\n",
              "U5KMEnulwFz9x2EjJG0NGXUhR8MHaoFX0lcP5kBjFIxyqxZY/eWBAAABdwGef3RCvwBFe+i6Kuc3\n",
              "gIPy0wkg3zzYynhKxrqmZecPzNIsCma8tGuzzURNpMHGYaX6Qm0e0lei5ZNQfmAt6IIQ+mjvoa8q\n",
              "nFtxlDaS5tlGjHsw0sJE8+agc5rim3yI3fuT306MNJmM8CkiyZTOymoyoDr83rlUVRUvJn/E9fs8\n",
              "FX1JyizmxrmKLJY7xjsze61QZVtPR5O3JYLvy76KEj+ZAmemiOa6GOa7TVdbAdYDDhvuhEHVwELJ\n",
              "ZX8ZqIIbkPTcyd7s7687jyrbpSSfnhE4rCvPQZ8LPEiyamNdG5a7Gq5b0Byk8pmcxhsQz9JhDqOo\n",
              "LF63ul96ZGZbPaQTVUUerEe42S2p6+SabPnxQsr1JsO9pVxfCX8hWmKdGwOMf4IEXALJYxbcZgZ1\n",
              "EQDP9ot2cvE/Lqvq+RQfui4/ns53b7BoJvlMO+jK0N5AYQ1wI4UxAt5xR3x1BsKbohzplWCefpID\n",
              "TUnD3Y67t7SIYC44Sd/R7sHxggAAASIBnmFqQr8AiwY+3kZMwFVPEFeOj50KhF2VpjPe5CFlib3I\n",
              "DAyiT9EA5LWhpiRHV+/0kkbtPNGZTAqH6CqioQ3+/zVRUIgq8B8k/dwQPte4p6p0o4OlyFUpVS7H\n",
              "hp2bj2aqZxNe+2xCZiI6hBxla4DR0Bb9JV2+8xGSEcXyV7hscaF4GPmLkEkjzTMb3rFJ0aK6sOuD\n",
              "4DfYOnl/yrNPJu9JCWN9CBu75lURS8uz/qdmpqKoUS8t0kiqGiQJb3cFjBD8VBG75B0oz2l/I+os\n",
              "6xgD0wmkP3AAfGkgZw7GFK7nHtmWBzNY1H+vmtGl3WYnWxuwM0Gqk+B36fHWVSC8O28/HLoXhDOx\n",
              "f9aEWnyPWYIiytybFvpMJfcpLZPy/ohnrN6swQAAAfFBmmZJqEFsmUwId//+qZYAVvfQyOwlFzG6\n",
              "84/QIoz7/TkJoPL1vQYZPEB++GQFcMJaR+SiElp2R2unUzJdX231FqQ2ddMzwhUnAgTV3wwOSo9p\n",
              "QdDbBsnrFpNDCB0bRzdzNAfsArNiQzvIlnzM85NfHVq+QiVpGIl+ZVZBncs42YiQWm6hbckXeJOC\n",
              "I/yvaEyggdypCe/cbIxTmTFwyvkQfdlK6A1b5Tg3BV3uhjainWxfh7FpyvTV4gBsDcTZFzNtgWks\n",
              "1p827yaQgo33vbuvRWM5lpvrF+5qdrbqq/iLaPh/nyvPu3d6rpLrh5giUv2cIj9CpeqAAhxNK4BF\n",
              "SPPBXTUxXUD2w9gHud1z6mmCQzHUQORqe7jmj/3WG3IZ5icJsaxJ75zJ2+MFBElqOdugeUPFwWQv\n",
              "G6iMAs+VTO9SYEc+QeRZ28VHDcCBOx6OideY6v2WuNd4RWunPGbynPMrnwe6IjtdjQJck4eEoSd6\n",
              "8J4a4icyLLKqsHcny9T749NwLsmg2aDxQQCMGXOUye8KVii5SASVUKNW0QghmdT+0itVNvYO2HVz\n",
              "P5TU7V1+sQeZfJJ8bgnIa7o1ktrw9tB4ecQamdVt0DiHKEk+yq4EHdk8k0ErGO6gpa2G5pOOl2zW\n",
              "0WdXJC74j/pudILJYLqXgAAAANFBnoRFFSwv/wBkg1K72w0eaE/lV9RA9GL4J1ExRqYvQTsVueK9\n",
              "ifk0NDrQKNXz1vcAAVJ6lCX+M4zDTYoWsw7QcEzJqVk9L5jUK3WhPfj/41QwlyEh59SsMFmcakyx\n",
              "Q9MruatN6aG3ua2h1+qjSO/JQxwfHFGKhslGAF70NY26aAm8kq+kij9tWHQXaQkIjJKG0L1u5jZD\n",
              "IYbYL8P0WuJkC3UqJUJkETLI4N4uN9092Td33BZ2JF+bwfwUqTY+2BI98pIGnrqTg+edJHvlE+1t\n",
              "8QAAAW4BnqN0Qr8AhvikYU1jZQRfPA0x7pwyAgqsAHV1365Wu8SN/YLvrJobhz3xIj8nv+/xnFLu\n",
              "H7Ar0Gc0v+V89JitezUHn7J+CjnRFZskfu/9Lp3ivWh7KyegxyTK13T8EyoadKAI7kBSPQDPr/Rh\n",
              "lbE2ojSr28Rb96UPjsSjx8wf95EnMyyrSIeuGUnI8YO4qo0mZ04/zDck6KEZYLbI1otVmmQgXRfw\n",
              "MCZW7nrctWTOzOGXjVpJ9HsGImz0HB2AQ5hBuGYIBU6y9/tn0dAkJWR6wrgxe/lFZI0lBsVlvZjd\n",
              "RuAbVkW+/j81vTEKogLmecJr6rltMTsyRPR5fZopdqyiXA6P5DYdYiCqWvpMd1QsdHzINU7qNHdW\n",
              "bgJhTeaX4Jy4jjaHzWagJxtjok1Y3Uxtm6TvwFe6x7F3E/UTmNGTup7BrPcMCd0M1bE5QSzzHzAs\n",
              "UTkMGL8a+ubGgjdShJl8OiZfzlL7HbaxnpvTz28AAAF+AZ6lakK/AEdkJ3JogAnHQqdy6efOUv/A\n",
              "t+/3an1rvu9f6bxIG19rkRDoJ3oukmLC6gz4jwRBJ3Y78fdEMoaguAvZa5dtum4Btey4j9QMx1rI\n",
              "CBbRmEkrPtJzW1WC0gMTCruJ4+Tl7jtK2OfKX52p/pncTFUvkS3VMDKT8Q6Em9URHrJNpETFzzKu\n",
              "NaK+x0aN6yjNtU5Kmbr/61+Y8W2QSXWBaBTKS2m4MkrDJ32XznHji0dEZC4o4sL8j4JrGNeNrWwO\n",
              "6My6wO/j8Ezugrm9VH5CJqPQVaS+T7V7eF4dVZGaTRMNUOfeuhONZJ/Z/kMSCsD7sSVjkZwlx41/\n",
              "3gN65yWUxbQZE7zJiT1YJuF2otefpW9lnQe0ob7S6JHxOOrmhqyveSnpxjDuhyGwKloXFdRK7Ok4\n",
              "9tRNHMJe20mjB/vafjvlcAkhfuNCpY7ndK/dV510skMqOH8Dts4j78CxefcS+ugxnprvxJZDTM6C\n",
              "doJhLD10u5gTlFuG2wHsOQAAAeJBmqpJqEFsmUwId//+qZYAVvfQiX3VG9hVZlE5R+6nsSwP9GxU\n",
              "CfX1xabWUeshV4tFq9xECkuio1Snx9AhUfukR8nr0AUxP4Esyb5JF7tfH9bWY/kGN+7YNFFjpdkI\n",
              "8Ekmzmpy2bS7MDIQXbc5dERJx8PsCKqfgZrfl7WOh0V1/c4+c670AoutHFlujl9FMyO5CWS+Jv0B\n",
              "ELvtOC2B1HaFf4HEa+m//fAfe79ruyilhBmhctZ50U+ABfxKVMz52Mkh5tKN6QG+gmeqciXore9o\n",
              "jho9ZUf9U6vorUAHJRT3qQpNI9vptWA3OyF93bqS5zwhYxqonPSzUkWVJc2iSb4Sr4HXGoX/cp8+\n",
              "w7Pm0qk0DMKjXxHv9tGl1n3BWe4FEX6JymG0vZQyQLsMq89GXvHb8nQw5sRYdM6kCpSYhxcNZAF7\n",
              "SAIxa41xqI507Z7m+q/WydCGoVKww4yW105fn+t8jTwU0DJqqHh3fNpRosiPv2Kj/eIwOesOc/6Q\n",
              "0IhYRUkKUVSX/WPKQEfnBf66EGAsXwRnoVB6XRsDfhRauKADEsrW+lrxLGVvwzopMKAkvU43BikR\n",
              "Ig8lFz5/AlPmJnF7GTxr3bv2TRmN88/6AtFj68Jf4bfAmn/iUWaGgUy4ZM7EWQAAAYhBnshFFSwv\n",
              "/wBnIUix0tiMccEhOgniIwcv7KudyU3rJov9Lrf3goifnvo+lf1yMseBTeDuRgWrvakT/eWJKWfy\n",
              "8uw9x5mvrY/CRqXN20xyxyCwp74cSDlzo1Jw9mTHv7ErxoO4RJ2wI3cez3r6dw+B9UTNm0vgq4LR\n",
              "vIXR7DkhCUUd1shkzhlLRisK0j4/lA/DVkr8POyx73HyuvnYsHvW7UBC9Gjg7fQSd4nUGl7TDDID\n",
              "fOmzmaTzcT1Sz5kXCSf1InOE4vVstyZWdB+au+ayOqdHOR+TqbPNuS4iQPag9QC4RQuwsenlumRw\n",
              "AJo+I4u0VDUfnua5DyeeE5SJMmtAPuejEr0DGm7Jk5CimGy5A9qorqTcOXKbPG0Bsrq2FghkNhu5\n",
              "Blvv1rx8Qi6gceJsTrWg3Kq/pr5L8I54hQv8rSu/wu3Ccn3Sr9MHOE30oxJo0c0qvJIR7cyIP3yi\n",
              "AE0YQr2zG9Ats2Xiqz03tDHvEvuI2VGbszEViizor0jYImqXgRdhUlqr0gAAAX8Bnud0Qr8Airmx\n",
              "c9b3Ybsd/QhXaR0ADmf08RKds7XPRZWTOrZXp5l8RnNSUHZOQeBoIoK75JT2JVKjM6NmD0wf8sFw\n",
              "M9MVf+u2y3OUCMHfiNeHcNxdqIrr2LcAGF88MUQPmmKvKP0uN83Kufx7E8Os74/2H+pjE59dtAI0\n",
              "96YgmsS5RF/W5AG5CtJ7sk3UfCLLDVfPe3CnfIJRlN2JSC1iS/itul8WzUKeGQKkCV9PUFuTRmiK\n",
              "KrVvVtjK3G18fsuu7xu0dg+GP6vETUTfw5uZNpaAgFEfsiW24s4sil/7Hwu9MHwzgMnXnDoFvpLD\n",
              "TGRbDOcvt0q8AXFf2XzjlCVsDYI2iEGqCKYGxUNVLjtrLFPueMpGU+A3IARL5tFiWKpory1Bnt3R\n",
              "pzJsru/yrOvD6Td56QmOvj7suAQiNoncot+OZC3/YH9FAuTpiKo8rr+u8/SYJXQDjl7mZPJVC9do\n",
              "04n6AGO+fi4Gl6WUd6p9dmekEWMlAtWd9qBa3DypgAAAASgBnulqQr8Aisb4fgakfoATLoVOYaTV\n",
              "khmImk9sgXFeEQ3CMVPuMEpl3623PTBvn1yDib0iTrnVXOweiRA3+MzroFhvBsvIJFeHwoMyPyF8\n",
              "gzUMCboD1ncbtWx+zYs8Cqia/RB+rY06O6PL8bd4GrIGX4YuCtfjH89wAFxxY0vwc0qF4p9oG3Ks\n",
              "tYHmoMNiwyyvbDEsZnqGcMktpSZi8fzJ544vRkxPzCEbuLacxfQS0+4IuMBwrUrRwiSye92Gl3tD\n",
              "/V6LjgpxOAJ6N72qNTuP9gIeYkUUfdgeI0kDRYJzYzKE/Qgg1fkpW+u8E90dkUplNd887l2iWrl8\n",
              "C9D7pcQc9am57Bw6Hxz0iqjRNQHuK+SgTdpReVXSoF9QlYv9LW4XfvKR8BXNjQAAAeNBmu5JqEFs\n",
              "mUwId//+qZYAUoJonEtM8ajtyHqqtuO/o+gM3OqyjWocDpj3CiRa2gfqc6rShb3faZvDFQt2F9+3\n",
              "zzEranAj4/e5Y8Ay9ucaso8QvJwcY03l5u78lOCpcK1//7gLCvj9cvf0BndBMeQNeHj97QQYSF+B\n",
              "poBypXZdFu/DeKDa7s0zCNMmacfLqPoGHMGC0w1rJho1g5Ish3AzSu7Fop9REUEWv7zLePhgykGx\n",
              "Egbe1CSkwQUm5WyC7hz48Gqfhb+GQQJP9W1EBtepExBf7oxrFG3+J6LV+mKtTb+9kXKyD6Lqn62P\n",
              "O/Z6fi+YPhJ1Dbz3RMTN9pNRSMPgMj+irTeH8aqGkZtlkw0SFQA8bqWSfMKKeLdGeb4osTKWdVKs\n",
              "xhSK2mevoNKxSEk3cmeY2seAx1+vURfpazHMQb8Nd1pmITZ4a5B5NhKFcyKwhp0w/VjPiOlMido9\n",
              "TRjxJFyUdOI8PKkZpfkEnzS43ovoX2mSdvE8uo8RVW4uXzHfscr2y7omxAEXbIhSUcWq08j/ikKv\n",
              "jUwy2JKrOAnYQRoMuuIZRBHfR/9BQ8tjkWjxxI43xzBttDo4DjyqvkAPD2UwNxHgYDjKFI3JEAnD\n",
              "EKy5f5ocq8tDxjjIzGo5RFCKuekAAAFFQZ8MRRUsL/8AZyIfAJVqawAg/doo3cFXuGjZVN/P4lj6\n",
              "3dX/999bqu3s++H/SNY0/ynUSpzsYJ7Flhroy3UOwHIqU8MT3Lcgy70aExscgc3TAKyu63V0JwGa\n",
              "mS1VNtg1m84Ktcgu6U2ElaQfA1ecCcukf+CCyQt4pYAq6oEN71zM8/LcGLxURiiRJqALunjQOQ6L\n",
              "yzvgzgHWLLE9jJsSEzsOKBTvm24zTNKDOsiN3I2iTTl8SkYAvwxBIKEgEWbYUaZ6jK8ILdUosUbc\n",
              "YywTlgDHl+RTAV+zAf3+nqae5dvgaTnjwFmzWOAgaue7KpgO54l7BgpQGTksmFCAh1kzeB4oNgcl\n",
              "O0DRGi9M+OGPjMYZNKtcBkCZccaZ31JzyzrndsixDqmH1lBcCQba2KbIkOGeMjm931ZlxoCtA6EV\n",
              "gnOoeBpWPgAAAT4Bnyt0Qr8AivgyErg+I3vjWAAByMfpltEt7Q+4fHnbwLF9jCEa1EmoFw9bVInU\n",
              "VGotl7xskYuSv1ytd4kb+wXwW5ioZy92av66p0CKM52kJpFO3+Du6W7TZWtNgIdoB33zL+AI7FjH\n",
              "WktOh9zw+NlkB9Znr0T4pG9g5KdglcurMPFcbxRAzeSr31sS7h0/75Rv6YT69bzzPxxSMhmWhHPr\n",
              "8OxEPTNlrFR5ofbfU3mTvm2L6VUHxBvzcF6Lom1rP+vLTEcDF83nWtr/ANUX0EqDusZ81uqQngZO\n",
              "44+GY6BXce4SQKh3Zk0QWUn98UFgS7R9G2YH24RwHqg7GqOcqjlF7qmvS4z2u6vP60/RAAFWksiy\n",
              "goGhi2G3PI93bTyNWDQYiq4KpTBDfNYFJXnJi+vKg6PH5XA/1UCoVHza1nEAAAEfAZ8takK/AIrI\n",
              "b53nWEVepf6RJOSRXrO8O+AAHamKFuLs8Z8mmAGkjg2OukX8108L2ZpagPFMUpDjAIzCBSQZ3UC2\n",
              "J0kJEzFHFavBtAuHIy76O5KcxL+vb0fw+c/bskFQgwJvRmmbgExqi6q/DXmSWZWA5lDPtRN2y+rd\n",
              "bBQfb0TyeFUTQWzlgySQJTRDQ/uVpHB2oxPFjTvcz96+liHSXbIo+6qWDDLiZC4AoVowAHq0boYh\n",
              "obaIoZ00aPcSEUjQLIkVCTlQ14wMhFodKJBQjYbFylF12qDrGruH9L2ejpsYzPl0X8ch/Z9glZT6\n",
              "APESg9/+GZrMxHmvQOJL0lvVw7gXqlzBT3KLnxp5qd8PU0ExsKvdwdJeWlUzNS4o6lkAAAGZQZsy\n",
              "SahBbJlMCHf//qmWACzf3L9UrHmqHpdUiOBkjVf0oAcE2n0dDOp3DVFWrLKdIjqYQkZbrwHveuZA\n",
              "b/X54L88TaalgmZpaTwNJDspYZLwOKZLknZvpdGOd06/AONPkFke/W3jQcJq9qXnima9BPsHWBxm\n",
              "59suQKbJuF1khrRn8ZqjPeuZuLFdt6F90u2rOS0O+wgWugF9rjl/dRZoXZ2zL8k6ZUvywI4+g4Cc\n",
              "K85UbcZXP6Jwq7C7YNTmRrDM5WMRsyCHv7Ln2/+wpNbxs11WP0ofwz9pIl/N0SYiFAAvRWW5Kvvz\n",
              "nYppVZkTONfZ9RVScYUpv2XiN/UxAkFSJhfYH2xzL6FbqZcCBcRwQ1n/NVD2BPT3auBCSKg6LdwJ\n",
              "kxd7QDjOdB2hhahZRsEXSGYcQin0iyRQHaG4gp0eUg0kVxCKw84o7loJXQaLz37ihKRvCVx6Q3Vj\n",
              "G3cQhK87vdIrsbGjV5QUhp4G9wiZyS1++z2ocYmSfwJ0DxKr60wNAvUXyD9ZPKIXom81Aq5p80Qj\n",
              "IvBKiL4E4QAAAP9Bn1BFFSwv/wBiHFglrVhZ6wnSx3xhZSwzC6bmmDYHu/AAp/doqejd2uuFvdH/\n",
              "fM5t3nYVowPZm5JXzJfAKhy/xgF4E6oCMQy+ZFvweOfnLJ/hTLUGEk4VZsDwYxc41+k4Zd2UNLtx\n",
              "H67c5m1T37N0GFrWXW8kFt6FtlS8D3g+aW3WF4wfmNdiO1FPvmwpZ2XncAyiXk7Qrr6QVsA/jMG4\n",
              "F0/+oPevVPfpoJcWNebSMnyo05WdaCLOKeu6InivSaycThPvwB7hcoTw0mxY9Mnkb2K6/BhuXRp9\n",
              "QG5nzK9jIaed/DzO59WYsh+YB7l6QZtZuvgp+RW0J1eK8cN/K+AAAAECAZ9vdEK/AIK5scAR/i1O\n",
              "nC1tlV3e0AF66FT+3qNdEsgFz/bLzbNZFny22wndCao+05Y0qEcAMr4lh7q53hnEtai1nsfuj+HX\n",
              "PuxhHa5CpVgrm/DokTQJj+APhEL1zSyYllLU1ZjLencpX2chBQupQ7AcP72c1t+cikvQljJ2EHkh\n",
              "YYTFZyFU+1EmmvGNSsK9QYRZwPOnhBy4BaufntSULlenJAPN6oPfHA4OQ6Y9GbIvJ8xhljGZp4iD\n",
              "t7L4MJQtDaWJYkeXlq/wSdTPwGdASi113X+RT3ZTuEq79sdrgcTvx/ra73yDYZwzqN+B+FNQeTWo\n",
              "57iXcoUiSa/mvirPrxxwAAABmgGfcWpCvwCC67mG8MYElYuAC+Z9Vd7cTYRk0i9LO65tED+gh6ME\n",
              "sq6DffIjca9QKVI+wmcSjarZ5nKkdQHa/cyUiCXuWOJsQ0Atr56HPvt1U+6Uk28/ftXBbz8GbRbv\n",
              "rpKf3IpIrxosw2lmjR4pmPTnontrp/AWth+vP91qkeMlbmdOYBq1+v0qQu5doRnjwEEBvtj+yxAO\n",
              "M2h1dfo+n6TfGm40gLWsm4qllJhm8oMT3Cy1FxNjQRcWJL9ZOjvsLm/NIQZJ0YoYEL30igFUs3lP\n",
              "ujVuIvKDT5G2Ki5Wov1iO+knm3ixQaP/OuLTZFUDdVEtH/+gsUUxWXl/mLtmE/NvmbIS1zKz7F9D\n",
              "UrocLFraUUrpQbGmr/Cd6Q7HMlmmO56MJrlQEm9KkMu5Q+9Ts5SscN5xJCRRYp7MfYz5jv4N4KSw\n",
              "tfDM5CSeGh2fsjMxmET30HRJM752sJ9r+0UuzYQOGEL+44MVGWjMrxg0u0lzcAwzKyBjzLks2HZE\n",
              "jV0fzUotl7eEv0RGa5bRThikt0kqhnM87yPnRqV5AAABA0GbdkmoQWyZTAh3//6plgBSoGvjhETm\n",
              "1RXS4di+fr84S1JhtyZ2nrG2kdwljcqtaYvMoes6dbA8Pg5zTZ+eeW9funlxdpIUHogsPqG1L/u2\n",
              "lLmAN0IXv6JhSERT6z0EjfWDrwn/c+bsy9IHkMlLd2sFJ0p8a5YkjKF5oln8qAyvXMdpnX4nRnx9\n",
              "u2YLFfBbJGMbGpMsvSPd/t/4pw0FXPcpRcw2FhExDtF2JSiNN0NWEcLcou8evwlYEJwa0r8tLGc8\n",
              "iCmWoMlDyLic5Qt6+2YhIbLn5lmyAT2CMdbTg8/A8URhcSoeDB5hnlD9e3mfOBdihak1y7d9kywy\n",
              "AGIF3e+u9lQAAADbQZ+URRUsL/8AZJIynWgZhQ43SpyHk1e65vABT+7RU9NR0taPsOf7Ze5Be4uL\n",
              "wjfwcWU6lbWg+RG1zwVcU65a9HMbJsU5BYqfnBYlb1Qre0RzOfoqemP+M5BuxEWMLuGy3Atw0Zxt\n",
              "ik/h52u2MNK6xIiAGABA9lZoi7Loyg9HUe9eavFXVbTg/LeyLBexqLtMyJlcYM4UUnnJNjYS5P7w\n",
              "Aoab/7oObVih6uqq9rf/V0sXqJLr6m0d4bbVUEK20k1AlGeaaWHQbQyckGaFu38mApgwO1u6UUrW\n",
              "awkCAAABhwGfs3RCvwCG9+vZg129PK3cAGv/3jP1/p3LfWcSUKna83pZOjWAvKIipaKTcYjs0gCl\n",
              "roQRHazA2CJMmeqxV1ZCGCzHwyIsqYaDWAB9AMK+IOpBiGDT6ZZVN1AIi2DeuESPNKG8mMVibSDj\n",
              "IKH7ccuItu97AxXBq7kxMnFkmOGlqRznOWbTso0sFoTks1MWTmuMVOYiYJxbIlJgKVf3/epbHq+X\n",
              "yktia+GStPmE6dcxYMhZB3G5byRsEPLT8qxhtgjAmPUYnlwC3nEI0phycNSMUb0g326jYWudLkYP\n",
              "5rVI1rSq0q0vH/zw2oDYTff+D9Sqlnjw4U1/m9+1LqqJkH2U1h/BAuGXgZ94ttV1zbv5+ntIdNfP\n",
              "MR3z6e6AGFDlfMgLnd68QkG3P6OIHUBEqHpr/RlnWURwtLXStZkIpFEpCawD7nDeu61KjV/nPxjS\n",
              "XGF4KdMArmTdHURtsAg39IjSVAfXpLUnmOxrkQogf1IQnPksoPxpQr87Yhko+zt7yKR9yBmPF28A\n",
              "AAFOAZ+1akK/AIbsB449RB4ZciRZJaY6yAsd/VHYts1bc++BEBa87HqclMec7deJYhM/7aYNbnra\n",
              "aEYjNfNDdrlgI9O0m1qUJaAnlULRylA3kJf3qqba5WpTH+qoxNSyH+fMKtbkrChzkWXYb3zg4imX\n",
              "zt74Ul6MdCgI41weSD8Z1b1ZlcSGkV7JJOofU85jh7+RfI6NldSOs0vUYwJsrAdRpyvY7n9xXaea\n",
              "4ouQdddyTOZ6IBoIXkocjZEbZk8YfxMw+zdriVpHpyeaxoQ+sd9UFymc9uxEdgybii8m8wlXKtj7\n",
              "ve9irWUoBmONXkGXUFEf1QqfBuHr7IcMpgZmYxBGLNbJTDUTkY0osXNYBzj/93Ao2VORuMxfSrPV\n",
              "CD9DbQVpe8hUn2zVLlbcxItYDPhQff3kkgSbq6GdwQQXGHQ7jORxfaBcFzkQr7NqQwNUgAAAAVtB\n",
              "m7pJqEFsmUwIb//+p4QAWIQ0GVAiACckEZd+RIB5VWRoewf93sWYMxIVPdICXj/4KBoyMFgU0ibG\n",
              "pv/JXpKht4tCmsk0K9cLVJ8tJ2kJMiIZwc1aNy0ZyvcYydx0k3y1XB/gnULKeBrO/pSO17pciH1n\n",
              "1OM2dAgzXn1iFV4A5LfpNOfyS4FPnIVLbW2jsKurOKwd9WZomZ1VcqR/nOGmLGvRta+h8ev/dySf\n",
              "AH5AJL/Ddy0z5etXbAMhGeWBP+uHstGxld7ronEGRDVSYGQCSkx+UvemSuEJfx9ii5Q1FdVHv9FA\n",
              "hG2K3N7d+Emxghrpg08spW+UTsbYXKhPqFIgi/8kXTK0qGQH98K7Ar1rb0gXc+nKcTAiwnqiJ5/t\n",
              "QM0BOuwoBuD90UjwoVSwmOWZZoWSUJkT2xTORxlLXTWtLL0svmgg95oTHDs7FwX76deGjnH8/lRi\n",
              "NepDQQAAAVZBn9hFFSwv/wBm/TY5MrEbz4K5a/2Tvr7uIALxBEx7djHEO7IaHT+kuo/Z5aw8m5i2\n",
              "7Fq+NV3mbTYFmuyJaQOYmPTJzE212Hg1ZXF/pIv5CwyCRTQHlyWOwFO02pjfjku6szidiIMa8Y/J\n",
              "oQGeKzTti4Os+yUyP8RVsG8m5CEQm27ZeyWITWRRFg+VHzcdn8mj9iWdaTUDJK+lipCbdfWNQym+\n",
              "dBUmPEH2wznwiPB6aw8l0BLJOyiFL7VmJA+i8yOIjBDTzsiTfra50JfyVm4p283oan71xCqnVWOH\n",
              "BAX7M2N6D1jRJsXEViiu3vp1BTagSMsA54u+cyVQV8nFp57nX1Qk0wJU1aoTA/rzJ97CBbVd+XQd\n",
              "+tVrw6Ns373L8LVmwO8z8Dr7SspC8VRgaitrFzVum5vJcYTtU8KAQsdnCNrouIB+VTMr4Tg0g8wh\n",
              "AW2C+l8CPCkAAADeAZ/3dEK/AIr4JrwAnb/HXkD33csR1DQ9NwZABfKcc44eJqtZiZS8wLpMNVHR\n",
              "BUgK7GVJufiCAB3i6anR2IBts/H0bU8CElb7VxIH0bUfpo10zDZ42aHnUM2ltzZfoR3LAdn73DHl\n",
              "mLV/qEGDTYIZHjo3xtB98R4a0HT+aDKPm4A3eSNwmxESiXsKfYOJXJVxksOdLIyrpXlPYSuspsO8\n",
              "+rLL5hja8q2G0GI44HxuP+prFoq4zi5XXkFN/W68hcn5/YxfWmoTKVQ+/BLvpsLMqhTglfhi/yLM\n",
              "W2kLFkVCAAABFAGf+WpCvwCKxvh+BqR+gBMuhU5hpNWSGYiaT2yBcV4RDcIxU+4wSmwCfyvDIO9/\n",
              "VVDnlPcC5iK4egdnnbCl5JSvQtcG7Q3i581NsdLR2pW+BZRjgdrDcI80FwcyDLnlsE/gWUwmyMin\n",
              "O7eZxGAjzO2yszOn93NO69qoJOwasq7ANgOZriyZOnfhWW3uTuytJ/T3akdTkF8CcowZBBEvXg4K\n",
              "D65ppH4u7HI/iskJ6twUhPCG/dPbfBmbygY6ft7O+Ijaj6ho66gGFgGsI3xhQGhVOLGRpH7Sxxky\n",
              "klkEDHY9AUNl5To18eW1k//3Xvld8QDZNAeqfQoxO8+wqpmAvj2KhsLrltzz8WxcLTjh1vsN/fb/\n",
              "gQAAAUlBm/5JqEFsmUwIb//+p4QArEYUHZET0nONWXcakdFI1vOExIHal2vJyl8NCOTAAo5pTEU+\n",
              "W/ZoOEXeoi3WyqZCNK+24O7AWm25opQs75b9F3IpLkCCXo8brc9FgbBAM1wEhjzMt2g/84CGrwGn\n",
              "KOXFzrTv3ZFDgCI3cFGHj6xaQzokS1pPQlhssFAT4NK1pRjiFJTvY1mPIa+B0namkfOaeRdH2pCG\n",
              "ERFBmEc74SLOcVaBwEmYTCIuHiIIspaRLivPyla4yn5aOHIInfDzU7wT/EO52KHObMRt37OIvDv8\n",
              "IyddCjnLkBAAFTicalnQwLhXUYxNnqghFdADWAfQZCt0IzgXvCEOVgHLkRRAYLK+g4JfeZOAqPZO\n",
              "Hdar6KoXvJfoyxBhbJc0LyrytTKcxYrlu58TM1j7z8qCmjyXTSlhoPU1BfoOZeFPoAAAAZZBnhxF\n",
              "FSwv/wBnAnQXm9O5CAAL13gSUr3An3VvAFjT2F5+0nbtbR0ZVUVO+zd4fX3HzlmnhXxDbYfTQ2E+\n",
              "KeoojYzkJmbPbDpq5Xeb+XCYn4OkPdqfet0w3gnJQGmItRhOY9Yfdx5aPy7gCxYI/BXD1aZQwTH4\n",
              "1emn9lR1jqu+/hmRI9d2Eh6u0u/dekTZY2QY8uZ22xtxYc166pgKzKskOncV5pnSO+RUWKVwGDME\n",
              "iKBiqLxSqDwUM34PPTvP/kwN9SXG7zF3kt1ZI7mD7lW7sqx6ws543cGBu/wiqJ/pgsEWebqavefQ\n",
              "z8YSzZBsfUcfA8LI+yheuWxD8Fhc9C3Neq15LPJw+O74hmb259xMyTyk1pN1qeCK72pK1P09LWEH\n",
              "SIch3YWBk0BGDOnCBeGE4OCMwsaoUjNn67+htzLYAb4BpcH9RFeSiJwTUO/HVev4sVewBlsr5WTl\n",
              "zT9aE8rt6Q3nns7kxqfMaRS3/hLB+5IDqgzbYt/1pvzrZg+zeq6hTfZjTMRM2w83TCjpu6imBT1U\n",
              "35AnAAAA6wGeO3RCvwCK+Ca7xl2hYSgchoLdN9+WcqbH6Uzctp2gVuJZgvvK439mcLVhesT3NShu\n",
              "vDRQL8qUHcDIb6vgZFo3wbdjwh+ttf/4aFsH6TqPu9DeI0mUrtd5U7WZ7+2FWILjXKGHXVvBgA0p\n",
              "jNvZEvqP0RAHgoH8g2OYTVrg8rJF3nTjc98Spx+LK2g8W6xUZjETAOc8zes4FVG1j4IYMDK/+CEb\n",
              "SLDNwaQb7CYQta44k5I3KtanXsUkR4QVpgpuwji+4yI5FEK35ib/TChZEqkkvGnwG7B+sMptr2eb\n",
              "f3XlamzmcWetUiPXNrkAAAFKAZ49akK/AIsGU+WKja/Id3nP+uDGIwhaZTkRNuIfXDx9DR8AHC8B\n",
              "subTD0vTH3ZgIwAXhxay5C/ZopknC5ldsDVGK2hlf3lEAp31/ORylrjDdUOPNtVwpDByAgHRYynU\n",
              "GysOO7P5NanWx5RKOVNNmP+2OrEHsB0k8FHvQ1j6T7RKHkkx3Ej53Uch1h7ovcQImzdRfU5fHKoM\n",
              "i0i9sGcGrV0pr6NVzof0PV6IC/+T7eiWCYaNL3EWQmekbJs+IQqqBlKpEDPEJ0eyvOvuJNGFvDPu\n",
              "PrjV8zjzu1vqqmEBXi5pK+7cNR9/SKpklOi1bVEqiT06I+BBPeF5dJ71u/xxDGwKku1Xjyzv08RW\n",
              "UpocmWNfDYyd+dTHLCeICd2e1slf2kYKq4xpdHAgAND6dCLKUcLSnEbS27DvFMnX/fdl3AW1cdfp\n",
              "2Seyk4ycAAAB+UGaIkmoQWyZTAhf//6MsAKCGhAMuZnWy40iTSoAA6HSuvwp1o3N6mGMOXSFfVOl\n",
              "tpoukXaq9L0Zr+ZnCjL/YNphReRQ3qTpSCgGpKJ2JWlIDz/a8l3MN2pocY4erobeJV//YlH+OW3n\n",
              "Qg3g71cGKRnaKmKGJfP9eOux6pW6htIQq4hwDxQCzYCwA784AbWfHSfPY0hK1bthGT3QUjPcQJWO\n",
              "NupCndpUHOMjXSIhg9bD6XzdOYMaBHhvNE7lsThr4cLVJozxytbnp7FArqNr5HsmR/1rp6defC94\n",
              "NxZJ/gSq0aY9Q/Kd/FnLSntlzPBojpTqJj46Wp3NUwp7SGxt5les5BiPxUdu5ya11pqp70Wum4kN\n",
              "kTX9HajF9GoobNY1Tm1CtR3/Gyl9u6QNOi0aMY+MW6pCtWEEgWInHe3NK0zTb86L9nJ+GFFMv+dK\n",
              "XK4WpRj/BHXqjQxRx0fW/8oqY8Zgv9mKWszOE7VoAISdbEyGv8TiGCWeSnp3Jli7TA1dulMp3XD9\n",
              "8r7SqRjzWR+F9nqifMfWJQjnxUTX4b4B2g5QLXBgMjJQ3RNeDbN2xydm4tXPka5fl3nFJLn9huzL\n",
              "rfGY47AVmL7GWeHoBvahGEvp6CABYgbRFlQlGfgp7BpKTgLrulFJoNIt3WCwD5zMlMM1Mk2i9zm4\n",
              "YXoAAAD8QZ5ARRUsL/8AZxyXQEuQrPM280H8Kndx50YWtz6szeU/Cl0zzo+orcsUNbCXXoyXOqOZ\n",
              "pwVdFPXwCG6Mtp13zyARwlXSot+s0HGo/jVYrCqRIG4jeSY3lYKMtUrbyMxuRwSSyGVn1ABAHnB9\n",
              "rnqi6w1UApGXX8D41a9qvYrt88KKTMQMpVovhwRwB960Z9BueNQXDlR633dWKOa9ApKDsv2E7hDg\n",
              "1HIkJ4gqVDtOqZS1zbRE1fM1ABdsLGK/sLPYT+MnXCm74m+3dohZh7x7E4EI8l0Ca85JGijf3lea\n",
              "vxP3Lb39l3zBh7RzZLhpR9OUs+MssY7tv7/WP0b1AAABGgGef3RCvwCKu8gEa0+J6lUFUmkLEuia\n",
              "J37qySRTjh1Zm+0Gfe8iWZyBilW7D9BM0yDWrMsonF60o3wSuxmUtUBUDTDFOQnxfrADNWX06oRo\n",
              "bHDTd3p9O/syu0JTI0jQd4mZ9s9yzgXU8FqFrewHosLiTQEeOSSSwZb0bm63u3OyTdqaXkBVB24P\n",
              "aXvx2JmMVm4zzRa5lHwe4h6PsZE5ovotxFBpEW2jBce4SNztVu0K1Z5B9bp3wTQT4MOoWREMjjCF\n",
              "Fq7N/GZu52qgNbAz/GpkkzGhsUYfOkcdXGCC9X3v+l2eVAvVh2PR5Q6wYHA8fASyFr93ApQva+cb\n",
              "nAR0kOJvuXDZqzOZVv2HXpGPRSVqXpiR3FVHmWLMjwAAASwBnmFqQr8Aisb4f29M4CQAHWfFV687\n",
              "WaQnS6vomjpolyZ6eNQl+zlil7Uf53ZpuYy/GbFEPsMeTsuzlsSBu0CCtHTNMjAp5sMJYRLtzOpb\n",
              "uWuqP1Qtvw6HmNVfSrD2iwgJMNqpcCNpt//Zng7h8MS9NJ1B4RJ8AnCZUnqvQ3qqTM2fi1tEp2jI\n",
              "oR7rhAX7gKN3iLfywXBgY+BqCD5P3g9sf5hvt1of5axRSmGNvnLW2gdffphsw1Wf6CmbkRz+Z8ra\n",
              "cTYEzXWMEiVZBBndru2nKMXLWOOgAtxPdP3ACtff7tPFOxqYK3btS9QHgONoz8/Wj+JfgYSmo27l\n",
              "i+cWpXs+qUHj68KMUqPTwCrdWmGVhyZ2sGDpceKDSsfHncabBGfZIbSllUlsz3sjdy8AAAGuQZpj\n",
              "SahBbJlMCFf//jhACi9+4CNc3l4GorZ8JKpLDSaskMxEQGJ7mf6cENwjFT7jBKcaS0i393Vw2Gvb\n",
              "EI23F4x2Q6RQfgq0zW1J0FK4a1eZJQo4AISYV1K2hKT7CB9Bs6sLGwKgwnhkBUq/eE8ETr2Lk/MK\n",
              "jWFZUlB/v3clESoLQVs8MtIvrqp4pmp8e7Ez/XkUw/TVDfhFo95mIy/QrWa+xKL6ukkGWMxUgDqd\n",
              "6XKqnk9ZG+hHgkAHPHdQPAcHxOKU5udL4MYoFFcdBh30iNI3yY6LhR2fiFSs4FHCgcOMt3aSENd9\n",
              "5DttJHOY5fkVgdvxAgkwjTGjPsTPgd2fzhF1TARzMCqSScFoWUPAa8wi9ISD3B/z8rFvmNVfxwq4\n",
              "sSJZIgRuw6LWLzmer6grfdUxMClHiEgUiisqHwISy8O7XFQgstXuSM01UazGNHOp/zUJUKCXBpKJ\n",
              "ITttBb+Al61drlHSxRpeoPHE1qJYLw8UZD26N9DEv3ixrYWF9OyyoxAdK+iADH7Bn/5i1k4FTHLQ\n",
              "czsJZyUIoRI8suh2+3H1h2bRWZV5VxVbpGvpgAAAB85tb292AAAAbG12aGQAAAAAAAAAAAAAAAAA\n",
              "AAPoAAAPoAABAAABAAAAAAAAAAAAAAAAAQAAAAAAAAAAAAAAAAAAAAEAAAAAAAAAAAAAAAAAAEAA\n",
              "AAAAAAAAAAAAAAAAAAAAAAAAAAAAAAAAAAAAAAACAAAG+HRyYWsAAABcdGtoZAAAAAMAAAAAAAAA\n",
              "AAAAAAEAAAAAAAAPoAAAAAAAAAAAAAAAAAAAAAAAAQAAAAAAAAAAAAAAAAAAAAEAAAAAAAAAAAAA\n",
              "AAAAAEAAAAABsAAAASAAAAAAACRlZHRzAAAAHGVsc3QAAAAAAAAAAQAAD6AAAAQAAAEAAAAABnBt\n",
              "ZGlhAAAAIG1kaGQAAAAAAAAAAAAAAAAAADIAAADIAFXEAAAAAAAtaGRscgAAAAAAAAAAdmlkZQAA\n",
              "AAAAAAAAAAAAAFZpZGVvSGFuZGxlcgAAAAYbbWluZgAAABR2bWhkAAAAAQAAAAAAAAAAAAAAJGRp\n",
              "bmYAAAAcZHJlZgAAAAAAAAABAAAADHVybCAAAAABAAAF23N0YmwAAACzc3RzZAAAAAAAAAABAAAA\n",
              "o2F2YzEAAAAAAAAAAQAAAAAAAAAAAAAAAAAAAAABsAEgAEgAAABIAAAAAAAAAAEAAAAAAAAAAAAA\n",
              "AAAAAAAAAAAAAAAAAAAAAAAAAAAAAAAY//8AAAAxYXZjQwFkABX/4QAYZ2QAFazZQbCWhAAAAwAE\n",
              "AAADAMg8WLZYAQAGaOvjyyLAAAAAHHV1aWRraEDyXyRPxbo5pRvPAyPzAAAAAAAAABhzdHRzAAAA\n",
              "AAAAAAEAAABkAAACAAAAABRzdHNzAAAAAAAAAAEAAAABAAADIGN0dHMAAAAAAAAAYgAAAAEAAAQA\n",
              "AAAAAQAACgAAAAABAAAEAAAAAAEAAAAAAAAAAQAAAgAAAAABAAAIAAAAAAIAAAIAAAAAAQAACgAA\n",
              "AAABAAAEAAAAAAEAAAAAAAAAAQAAAgAAAAABAAAIAAAAAAIAAAIAAAAAAQAACgAAAAABAAAEAAAA\n",
              "AAEAAAAAAAAAAQAAAgAAAAABAAAKAAAAAAEAAAQAAAAAAQAAAAAAAAABAAACAAAAAAEAAAoAAAAA\n",
              "AQAABAAAAAABAAAAAAAAAAEAAAIAAAAAAQAACgAAAAABAAAEAAAAAAEAAAAAAAAAAQAAAgAAAAAB\n",
              "AAAKAAAAAAEAAAQAAAAAAQAAAAAAAAABAAACAAAAAAEAAAoAAAAAAQAABAAAAAABAAAAAAAAAAEA\n",
              "AAIAAAAAAQAACgAAAAABAAAEAAAAAAEAAAAAAAAAAQAAAgAAAAABAAAKAAAAAAEAAAQAAAAAAQAA\n",
              "AAAAAAABAAACAAAAAAEAAAoAAAAAAQAABAAAAAABAAAAAAAAAAEAAAIAAAAAAQAACgAAAAABAAAE\n",
              "AAAAAAEAAAAAAAAAAQAAAgAAAAABAAAKAAAAAAEAAAQAAAAAAQAAAAAAAAABAAACAAAAAAEAAAoA\n",
              "AAAAAQAABAAAAAABAAAAAAAAAAEAAAIAAAAAAQAACgAAAAABAAAEAAAAAAEAAAAAAAAAAQAAAgAA\n",
              "AAABAAAKAAAAAAEAAAQAAAAAAQAAAAAAAAABAAACAAAAAAEAAAoAAAAAAQAABAAAAAABAAAAAAAA\n",
              "AAEAAAIAAAAAAQAACgAAAAABAAAEAAAAAAEAAAAAAAAAAQAAAgAAAAABAAAKAAAAAAEAAAQAAAAA\n",
              "AQAAAAAAAAABAAACAAAAAAEAAAoAAAAAAQAABAAAAAABAAAAAAAAAAEAAAIAAAAAAQAACgAAAAAB\n",
              "AAAEAAAAAAEAAAAAAAAAAQAAAgAAAAABAAAKAAAAAAEAAAQAAAAAAQAAAAAAAAABAAACAAAAAAEA\n",
              "AAoAAAAAAQAABAAAAAABAAAAAAAAAAEAAAIAAAAAAQAABAAAAAAcc3RzYwAAAAAAAAABAAAAAQAA\n",
              "AGQAAAABAAABpHN0c3oAAAAAAAAAAAAAAGQAAArcAAADlQAAAXwAAAGZAAAB5QAAAfcAAAD5AAAB\n",
              "TQAAAjAAAAFyAAAA1gAAAR0AAAIsAAAA7wAAAZQAAAFaAAABDgAAAYwAAAFeAAABaAAAAdIAAAFo\n",
              "AAABWQAAAiIAAAEKAAABgAAAAV0AAAFOAAABzgAAAV4AAAGnAAABzAAAAb8AAAE5AAABVgAAAW8A\n",
              "AAFCAAABaAAAAX8AAAJHAAABmwAAANsAAAEkAAABqwAAAWYAAAGuAAAAxQAAASAAAAFVAAABCAAA\n",
              "ATAAAAJDAAABlwAAATIAAAFXAAAA3gAAAS0AAAEWAAACXQAAAcMAAAG2AAABRwAAAVcAAAGGAAAB\n",
              "xAAAAXsAAAEmAAAB9QAAANUAAAFyAAABggAAAeYAAAGMAAABgwAAASwAAAHnAAABSQAAAUIAAAEj\n",
              "AAABnQAAAQMAAAEGAAABngAAAQcAAADfAAABiwAAAVIAAAFfAAABWgAAAOIAAAEYAAABTQAAAZoA\n",
              "AADvAAABTgAAAf0AAAEAAAABHgAAATAAAAGyAAAAFHN0Y28AAAAAAAAAAQAAACwAAABidWR0YQAA\n",
              "AFptZXRhAAAAAAAAACFoZGxyAAAAAAAAAABtZGlyYXBwbAAAAAAAAAAAAAAAAC1pbHN0AAAAJal0\n",
              "b28AAAAdZGF0YQAAAAEAAAAATGF2ZjU3LjgzLjEwMA==\n",
              "\">\n",
              "  Your browser does not support the video tag.\n",
              "</video>"
            ],
            "text/plain": [
              "<IPython.core.display.HTML object>"
            ]
          },
          "metadata": {
            "tags": []
          },
          "execution_count": 19
        },
        {
          "output_type": "display_data",
          "data": {
            "image/png": "[encoded data removed]",
            "text/plain": [
              "<Figure size 432x288 with 1 Axes>"
            ]
          },
          "metadata": {
            "tags": [],
            "needs_background": "light"
          }
        }
      ]
    },
    {
      "cell_type": "code",
      "metadata": {
        "pycharm": {
          "name": "#%%\n"
        },
        "id": "ko8KJBCNobY4"
      },
      "source": [
        "# If you're feeling sentimental, you can save the animation: .gif, .mp4 etc.\n",
        "anim.save(\"spike_mnist_test.mp4\")"
      ],
      "execution_count": 21,
      "outputs": []
    },
    {
      "cell_type": "markdown",
      "metadata": {
        "pycharm": {
          "name": "#%% md\n"
        },
        "id": "gu1_f0XZobY4"
      },
      "source": [
        "The associated target label can be indexed as follows:"
      ]
    },
    {
      "cell_type": "code",
      "metadata": {
        "pycharm": {
          "name": "#%%\n"
        },
        "id": "7Yb76uofobY4",
        "outputId": "356db691-b63f-46fa-bc1e-d370659db801",
        "colab": {
          "base_uri": "https://localhost:8080/"
        }
      },
      "source": [
        "print(f\"The corresponding target is: {spike_targets[0]}\")"
      ],
      "execution_count": 22,
      "outputs": [
        {
          "output_type": "stream",
          "text": [
            "The corresponding target is: 2\n"
          ],
          "name": "stdout"
        }
      ]
    },
    {
      "cell_type": "markdown",
      "metadata": {
        "pycharm": {
          "name": "#%% md\n"
        },
        "id": "YTRqW-wtobY5"
      },
      "source": [
        "As a matter of interest, let's do that again but with 25% of the gain to promote sparsity. This time, we won't bother passing the targets into `spikegen.rate`, as we don't need it."
      ]
    },
    {
      "cell_type": "code",
      "metadata": {
        "pycharm": {
          "name": "#%%\n"
        },
        "id": "ymxnM4CaobY5",
        "outputId": "984001a1-a6fc-4aeb-fb9d-a6b50c982b67",
        "colab": {
          "base_uri": "https://localhost:8080/",
          "height": 540
        }
      },
      "source": [
        "spike_data = spikegen.rate(data_it, num_outputs=num_outputs, num_steps=num_steps, gain=0.25, offset=0)\n",
        "\n",
        "spike_data_sample2 = spike_data[:, 0, 0]\n",
        "fig, ax = plt.subplots()\n",
        "anim = splt.animator(spike_data_sample2, fig, ax)\n",
        "HTML(anim.to_html5_video())"
      ],
      "execution_count": 25,
      "outputs": [
        {
          "output_type": "execute_result",
          "data": {
            "text/html": [
              "<video width=\"432\" height=\"288\" controls autoplay loop>\n",
              "  <source type=\"video/mp4\" src=\"data:video/mp4;base64,AAAAHGZ0eXBNNFYgAAACAGlzb21pc28yYXZjMQAAAAhmcmVlAACttm1kYXQAAAKuBgX//6rcRem9\n",
              "5tlIt5Ys2CDZI+7veDI2NCAtIGNvcmUgMTUyIHIyODU0IGU5YTU5MDMgLSBILjI2NC9NUEVHLTQg\n",
              "QVZDIGNvZGVjIC0gQ29weWxlZnQgMjAwMy0yMDE3IC0gaHR0cDovL3d3dy52aWRlb2xhbi5vcmcv\n",
              "eDI2NC5odG1sIC0gb3B0aW9uczogY2FiYWM9MSByZWY9MyBkZWJsb2NrPTE6MDowIGFuYWx5c2U9\n",
              "MHgzOjB4MTEzIG1lPWhleCBzdWJtZT03IHBzeT0xIHBzeV9yZD0xLjAwOjAuMDAgbWl4ZWRfcmVm\n",
              "PTEgbWVfcmFuZ2U9MTYgY2hyb21hX21lPTEgdHJlbGxpcz0xIDh4OGRjdD0xIGNxbT0wIGRlYWR6\n",
              "b25lPTIxLDExIGZhc3RfcHNraXA9MSBjaHJvbWFfcXBfb2Zmc2V0PS0yIHRocmVhZHM9MyBsb29r\n",
              "YWhlYWRfdGhyZWFkcz0xIHNsaWNlZF90aHJlYWRzPTAgbnI9MCBkZWNpbWF0ZT0xIGludGVybGFj\n",
              "ZWQ9MCBibHVyYXlfY29tcGF0PTAgY29uc3RyYWluZWRfaW50cmE9MCBiZnJhbWVzPTMgYl9weXJh\n",
              "bWlkPTIgYl9hZGFwdD0xIGJfYmlhcz0wIGRpcmVjdD0xIHdlaWdodGI9MSBvcGVuX2dvcD0wIHdl\n",
              "aWdodHA9MiBrZXlpbnQ9MjUwIGtleWludF9taW49MjUgc2NlbmVjdXQ9NDAgaW50cmFfcmVmcmVz\n",
              "aD0wIHJjX2xvb2thaGVhZD00MCByYz1jcmYgbWJ0cmVlPTEgY3JmPTIzLjAgcWNvbXA9MC42MCBx\n",
              "cG1pbj0wIHFwbWF4PTY5IHFwc3RlcD00IGlwX3JhdGlvPTEuNDAgYXE9MToxLjAwAIAAAARrZYiE\n",
              "ADv//vdOvwKbRZdqA5JXCvbKpCZZuVJrAfKmAAADAAARsG58lw15q9IkAACtobhz+EtXgAGbPfnA\n",
              "6vBq2y4KD1VFSYr8QiGU1RZ6il6SV2xj+fxPL8Qgxj6AfSzF6QbW2pKSsSPm1/Zte65QCqYaaC3v\n",
              "ap8Cdqb4G0n59ihAB6WLz/I0eTeGw8CazJH6777FFolMA2coyAv3kP9zmcgGZzbhOff84ERo5n0o\n",
              "tkudVxlrsGouvCXz7Iyq1PZ638z7QHH+ACQQCJC5xp3ENc5Rf2kusuIGZt7z5SWdkzbd+QwhUi7y\n",
              "T+U6yJ4nhpWG00B8IvOyp+UHKLFuyO3s2AHCBOEd0M3u7JYuDHV1I29dviPVIebvFb8ZXYQM8Xo0\n",
              "BnjvuDR2rEEa8NrG9k95b/aXNawKH5uYpMv9KF4rAYp1wBYLB5d/F8VwtrlE4PURgYtbneDwJDOl\n",
              "o5qcSDhrOifuSnXrHJJFPDQTPf8HqjlIk5TxoZwDQcplYZh2e4Z/hGEd65DtLAXNya4fPkktvK31\n",
              "4DT4k3cVfkKDZGg0JSe81bSWXCpU3jUjxHmoT+yjZLOhivNeNxByz6zONKZsOriRlrKWEOqkX1NS\n",
              "c5KtqxGBwp9wYXIsCw8s/M/DGQgtIMIXj5X5pMTw/66LkqfBDFETBRDd2mxQFOl7TD+7bADqb6Nl\n",
              "u0VWSFSRfJCF6HWvHEMWlemNRraj9X5zLqwJQiWZhgEppqHXWayhHYsKbA1CAnptJg7eu6BFesXX\n",
              "JAf4v767matR+vh4UrPYD5mcZOsZA86Hz4ytfazIeZWmPQ4RhFh99dpepqs5a0g9uziZ5LKvcv05\n",
              "IjA3vrYWVBTXA+zgs5/22aBlUalR7Y7JGdlblH966Q2Bl75s5CrMsrMkhlkHHRrREKTpjyDsZYdG\n",
              "3UlFDLstqpXzUF+FiQNr+ST/JmlwRfOdQXn8etZU8yM+eaBh4zCMJetzrxV5OcjsBiJfnvdC+qKm\n",
              "CwYtb25hgBPelqAkDcL+UXVE9NafYtE+znqHDiOx3SSqNKbQoAeMYpmoQlRfgsB7q1WfK3S1LHP+\n",
              "ZeFkPdrkWLLtCulvFsJhm7qrkASNhVEvS56wr3QWj8NHdqkms6jf1Ci345kOIfh3V8RktSq3IgH+\n",
              "32bATa6dRqoGVBFSGUJbxBaNgnQx/XxRc5+Qqny9ZL0DEV22/o+VtQVzOy/ijS4QtXtPleq8k+R7\n",
              "ohA66BrzdkUapeoRygA+pGuJejNi5yvAzvEHZ44Ion0u+Chf2SukBvOSJTWiERnsXpIqiRbvhAAB\n",
              "YObaOhl8qFjOc1bfvtW/Ea9StNubWXPWQmoWOeNuGCm1HPPzVf5/qkV5GTp3IWRIMXSUO7/pO7GV\n",
              "6JPr0EiV/6GUqzRCI+kfx6PlfxuGFMJ36EmAKaG1fNtGHrSQ1BHXn8TtyIuQEEYGJz+tx7YXKamu\n",
              "yHbfCBainfMiigOqfaRYNra3mLd4pUkQw4wBLA1oHSyQDEAukWgAAF+qKo45AAADXUGaJGxDv/6p\n",
              "lgCQMI9ACHcOmugDc9S8lyHLLhjTkosJ8OlU9D/Gzt/YexNtp+aoW36HjuuK2jQFEIEhxtFSTP9t\n",
              "7fblVO+98k7jQIVxBLQqhf7oOPMqClivZEMrP5AgEo8dqBpenbodV3UtusH1fqyzBzC8oibM8qOL\n",
              "Dhptvb2GN36GXz9lM0Kjx5qkjpjFFgJuYFsBsNipLHid5otWuwR4yNpuzMuEYltOlrxC6KgEhB+V\n",
              "cijRQUzVh9tQybrUmSPlrienl+xsrUho2yWMmDRUMvbCBcaha+hztwxmzlnD1kAlSHsGXL7fw6sL\n",
              "yGLxaFPlAuz+Wp6V+d00KNJbPoZ+aayGZCduvoPeKebZTHPNrZ7q1HBnOaFDkRXECZcnnciHJ8dS\n",
              "69FS65GfM+EEVrdT3OI1p1UwWz0bcdZmKaXRQevjiuGOSWOQsbpO8eHjq8oD0ogf15Ac1dikhYZT\n",
              "HMGGyrG2E5W5h1v8tN6Aypnmoa5QMlVE/HLo3Re+Dc499Z3X7zYiY/4ZS5wUQdipctckANMVUepV\n",
              "SSA3EussbA9cdx3P8RVJfZSk8ytCkfcYNw6xKFpeVLAcIeUJhTvPiEJiIS2Hk3V6t3lUXzP6k69t\n",
              "g+u3euPLX0eLBpPELySCN5IzrzTyhzFnGmW1H4zqbgjbwAylsXUtG2qbY6IYfwRARoxFuXC9Qmn8\n",
              "4nkT6fAu4+FJmU+D+qJ1pIwgWz3nJUxnWlxmgKY+Q4ZLFD4YnhANixIPMVcNRBabcIi+EcrthtLB\n",
              "pglTFE6JFhHtdMBmZPczz8ElUYpm34kR8Auw+c723WCWN4xBPdb5eZb32kIjVl4aXPfx4dl2ofBp\n",
              "p82BP5qONyZ9xs2OvuaQWNgLh+vW3r3+iWomOXedrAsuoQBcQH/+/Ajs9vb0tupo4gcgSNRIw6PK\n",
              "UWuDoIxeTUrpMr4/84eP47ibgBIhrIgHrTEH7YkTnlqbKmZMiO4VMTEsEsDuhywrPfcU+wDVnCIr\n",
              "DdRoR0En6KFNDepOqFk9DhIRrhLuxs0CqkBS2PZdxxCusiLOwU1IUC5eQ2c7EqhqnXazXyxfZnno\n",
              "rltZDpp7vIvWe9Krmb9RiCw+mWxnDHGJ0y5gtyc2bDMXxROuvVzAP9qPpUI8lAH7LQxphjCgYAAA\n",
              "ApRBnkJ4hf8AY3hCD2Vi9eQejJCa0bYKe95WrY76b1u8d5kEX4AWINuNGw1aapcxCLntfESLSpOr\n",
              "Sr3/m/iKlk2XOzKyFZPmHCau+navXPWweEaYonZGBzcxwDJpgHfbNz8ZyX4vOBf7qln0Zj0hO7hY\n",
              "Dd4rpBxVeMEKKphgqmTYBq6LFzM32Bit+dzATR2nH+7KyXt9j9WBNZVT+FGRTpqcSHRBy7nURtjJ\n",
              "Gt21bUJprUtdlVeGHgHFjI3YIQmK9eqOZi2gr94Lvxzm/Hs55A8jMv/8lMwS4oNyL3rgbAaH2w/k\n",
              "n7h8QP5iobBcdc6lyLmaNJwEqZYW/r5/CAA3MiUjsl+PEJ6gd/3g4U/EJne7tBn/jdGVtzHzE4SO\n",
              "kIVMAeS+lsuGF4wPJ1Ers2rVFgukoG90/5CotGGH/ZT15Ubcp9TFuNbqgEhcFHSgzDNP/lM/+DrL\n",
              "0viz4MOkIBmCgbGLrDZJfA9oCHpmWhaZe7zYaQ5/WKcjJmd6SA4kLCKuzdHwP6CJF+v779JfiyhG\n",
              "BLI18OLMZLeNKIKZFVAt9TQo9BQBO5s3sem4ofCOJzRx6+DHWZc3ODTpCYypPkAKUGW4AxaEGlRS\n",
              "wVJw2VLB6UWWmcf/Nx2sVy5TOg3JWNvDkT+keGBvOlp0eAcy6BLK9F54tPqg5gQEFhkAOqLxzfy+\n",
              "V6zBc3+nPZWVsuyHsDYHF6LCbI5U3l4YslH+zoaBuRgBEAHZjjhyANq5iqOcyi111FlXZBLFHt3z\n",
              "Ho9WGlrwlQSYt20bLw0udLuqI1KNVcEm4yJFB5DB4VNQs4a6i648+tG9UbmmJbQEUbhIYPN+oubp\n",
              "7VlRmZKwPewgA0mLrA9adp3CB5whU6SFLHJVj4759MPgosEAAAHVAZ5hdEK/AIK6JJ2/8OyLTEZ2\n",
              "VAAnHQqcw0mrJDMRNJ5Mc914MPGA1Smr5yxDqTWNyHNUCOPIADhoqEEUrVNpF/yXhMqmcQFa9xiU\n",
              "RuTw8CVkf78ELEBENLjBtoLe/7l9YItPx27Sni4RU1w8XWnHdZlD+0jvTnZ4rzf5t9OSWsW53ycz\n",
              "EdFq5ka2s3YobpL/jcYxuf4w98VfsD8Kq0pO8RUxJSyhsmx3ai+IgMBbJA6FTjpjIUhKTC0JrpRc\n",
              "2OMPB7PbRx9ZC1UoGNpPbfy8VxDYaDdvHsDBD1vbqIaJxA11ILRB9bwMflRK8X/bHxXlURqNxp0G\n",
              "csR+/xRwm+WLSB/h2qq/qhV8tv76BbHqMMUoZ7VOGhJZn53HzBzo2knplizVNgl7ANIM/J6CDupD\n",
              "g9A3n/yFJHv6RAeE4NEF2TylSI+O/PLdon1A5uEetny4eAsncVLUhIS77y/eYj/UgilZuzVrn2Rl\n",
              "/K/kP7dnfpyyeSEgWbjJav5QbJRpX5ACgRzVtwZNJDRHIkao77lk9zr5VNb0du98W5FOjamG3oeu\n",
              "BbyZLaBnL5F5NQc9txh3wobHv+gDzhErMsRIcV9W/A2IizC55Aj++/gbJ0sa3iceEusyEAAAAWIB\n",
              "nmNqQr8AhrxkXbX8R9IMvJuXM6PJgHwI5U10tfn6qDZtZWs/CXc4ALm4owz4VuP1yfQ2ynePMePw\n",
              "dwseEjheL12G59AE6XeMzXVNQdmNNNmGv2eRad/UmXyyT3JXZHJPQCDJ4E4uXo265X8lysJXHKwq\n",
              "I/LyQZ1LX8RVm4QtjYffZtSosmSy6bVyTG/f/YUscP3T26Krh7eTkqgQZZkwocb3L9xH6+nEvpfC\n",
              "LuFEPbjRiuvwuwljlC0uODLMHx7gR79v0XKqBdc2d+wepGWBBm+JQ0rf3euPaMLLhfayXJ+hiDo3\n",
              "rsxW5b46d5ASE+34hLEBLgo4rJg9weTWB8U0ld9msLP3EnlgPE07BqlPX+Jv4OFPqX3nmHBKupHe\n",
              "nETOF6nicpWGd2MR7EnyoVfOYDzd6Zx7IAM7TArvF8xZ26ScfD8bRJZum3ha8GOo0rsCJN39YxLk\n",
              "W1SgL63tqTeZLbcAAAI+QZpoSahBaJlMCHf//qmWAFb2KTU9Oo6frwhb7EWLul8pfunTsH9KJ28O\n",
              "dG7ACFkeKg2OfGxFA9w2nXG8sVqZJa94ezshqsGVEWl8PNYGQCTuktLsvl/4Z22odxi3+3ojVqs8\n",
              "rJKd44RL2dGJPBk67aDmAyEAvJ4lNc+GiVNFnd3nxXzXxUAYJR4b814xwBp+GkY8kpFJqimgm/U/\n",
              "YYvdt8NwbxtmKTrNe4yuvK3nCJqzAN1700ehWD2n4hlsxxjSZb9TnKskoHRq0PbBKrrr3uAW6tbc\n",
              "2RJo9SDeGVWIfxJIcK+d2nkNLqpv2QzoR3WUV6sd+I+8CErC3EYjLaHTzk5s68+q0kul41Ce23lm\n",
              "LcAj6EbeYrXBwjNPYbo0B26gBnKXCYY9vyM3HkqFH1cVt0U/B5ARjE75y1DooUJC78V60MAt4mF0\n",
              "ZByH0fE+BLrX9AhWLAHOKssvPh1O2N6Z4BIiHC+Z/wOOCxtLbLwcCT6zr9Ck0THHa7meGS/Ol8er\n",
              "xfQorrBwdxRVIgRkXgdkSRgmBaT4/nPBgUVCXZDZVD1HuXpuzJRgOhL3K8kuIsruEcrTqnqsYGz/\n",
              "INxJSVfxKSDO7SG06L3dou38bIOpAgccldvjvwt9hYDUjETdhTPmlZgYy5nT271VWn9EcMrxt87l\n",
              "rPjprR26w1giCK0jHUIoeTOSm9UmO2kWBDkcf8NnZbKEUkEOcJdPZ03RNSEd+dbglIIgKXxurcy7\n",
              "cdJCUEFY0vzG+1bezObtVYI2wQAAAfVBnoZFESwv/wBkhHv79qm99m/SCJEcbSe5zcgk48T4xDVL\n",
              "rfgo8oAKDiox0VPOZgCtKGjSYIxpl9jszIVggJfzTb4haCHwLaApRVuUgrhAJkPG14f6f9Ls8+E4\n",
              "imq4DEL1/11zWloLz78x/+IpQZ6yoDrMrnOXsovz1M0P5IDc6eNlFGeIEJLS0Q1TYABKO8mB8lLj\n",
              "0bhaww4ihlWMbbM/3eITeXV5GoARmI+wGFin90S/qdmxNYuHwmu9M++wVQn/ZI6x+uuseFJ10Blr\n",
              "1+cyNvl1xE7wereajbg+3V78kXrVop5NY185pCPOA9ENsULL2xZRkkojt+4EYKjzD1gHKURKzMGS\n",
              "XxxsSpxPY8QAamTmkAOS+CumiUPwFz6rjx1fuRgPQD1LqnjF2Z509WIHDnAZxlfzfR/WT5Uk++76\n",
              "qoVF1oCj7AVcvxVZTJRNdA9r0kfvQ37ZjWyfecGQkVdHUbmI5F1uOlxQgufOB9rHtDEPhQGQN01S\n",
              "UAKCIAEjQQ0Z/cbzCrpXzztOFAi7KPi1qFL50L7VXz3fWi3ofsEfbCzsrxPfoN4YYdhHPooRzukQ\n",
              "2M8DNs59picyGlglG4EP+CoKbnpblk81+xLo0Nab/yQQtOXQv/gqN/Hv8aNpry66dZyUn+yayBhU\n",
              "HZ7VoKNjTTEoQeEAAAFlAZ6ldEK/AIbEZEBUSkSnfx4yr0qMwAdZ8vti5gd+FHUvG5svPn7odPgC\n",
              "/suFCJNFmNR4zLnyw4yPdrN7+dNH8qXtzUseCsLl7wdM60RuEaYtTUd66pROFA5P2kz0hjWF7jyI\n",
              "71fCKwRi6VyFKWqmsM8eJbVannjGzJ19C7pQKn6RHoLKwqpZesV0p00Ng7bd53ZhJ/HT/5/dBEZZ\n",
              "VtMYEgs1FszGeqnlpXEIK0c7di6r/OacuK68QF3zZq0QOPrdxA0Icw3mSJz0XT3PotiCQIHvveif\n",
              "HDwUJdAaKlLJke9HVdIIcmQcINf4sPn8SKxuDxYekBFJa793DbovbDBJ43pyElssu1gRzZXOS39I\n",
              "Rhf4gvDNedBNHF9FVVkEYz1TLip9CcLaK7+O4b2ZX9CvALcNwDUV7HNywd0OSEKjJw/N5GIzEep8\n",
              "f40OXxfpu3osFEDO8xcb589p+G2ni0VwiIadVAeNAAABzQGep2pCvwCKgqLwoznq3M0XDbkP8oZ0\n",
              "asAHSS9A7eZtd+iYqdhHJQFtaEn1iwQcOpfajEQyGAvWDVQ3beuHjA0E905lusyY7PJWeTMgyyHa\n",
              "muhhnObQEtBFyFOL+VU5h7bDWDBA+ffpK04PFJ7bOp1U/8PXaFHs3BWEeBuLqJ0eginvAlgf6tY1\n",
              "QZkMkgi1ymTdJj8cFizRQlNpoYxVBGXkHdFT3fXUCAChpe/TsmW6+vB+jnVKccX3XtoGnejSSrO3\n",
              "Ply8w1EnQg52t9EfIkefUUzz3V0ROI2N4KvLV5iu4qxCPY7v1t1y89X+FmPoS4nQB0d/SI73htFK\n",
              "84rf3eTU0fw3ysRUxYp6pxgVo+Gjnu3Km7bfAfG2w100KJQhCKhLZu5ueYYlV343foCoEvo6U4JX\n",
              "Zw+/I6f4ghQz3q0g9iQCFHqhNgvOPXDVAazoexbRX/2UITb9kbnvvlsPhCfRRj/OCOBnzSA1QDgx\n",
              "Nano/kVABvI1GmYvvQdBuh25Tv0+STHupyH5372N7wIxK7qB4oxlFgLyKdcQIsZ/XhM5IeE0ZZer\n",
              "9OEQ7zb1DSDBQr0lEp4mC4RCmoOUfTvX1KYp+2Y6yx5AkDtFRLggAAAB7UGarEmoQWyZTAh3//6p\n",
              "lgBSfjlIe4Fk7Ieg2dhy0DjHgK/KLbYUgAvZLSuPojx6xGIG3URyvtkLq9mWBG6T3wuU1jc/7oSx\n",
              "dI/IgLG2+YYyAb8Dk0K1QysWcfBfL/VXgVuHonYynKiC//9nGaNh6iCkSzQIPoRjOGRorpUMETOm\n",
              "P82/tVgHe+85NkD1apxfP+FcHwe/798QmhmTWh/miUhUMjAokWfgDyN1tDaB5SEglEpsm8C2aaZC\n",
              "26KXXhcZ61MTJ6zzjZQI4DbNDelL8Mbpl0qroNWhBXMoHM4gk+j6GarHkoNQ71bkMtgwXK7Zbndv\n",
              "UXOeJpsPPCmzhsziyM0HOLDCKICdanYfY85AVE58nega5PvPEaGutrwj1EgO7kvStgW36bcSx/XW\n",
              "4fa/bpNzHphMo6aiFHbg2QA7KgiPT0LPzwriPCIc/hmsDTs2KL7wKwShXrFWAnB/1KSIV7ThfK9s\n",
              "7zJSFTmYldmhSHg4TfP1Opb7K1cPmKrq2/h2f7Azm+lBU6A63vNGwFjc+yIASafe7MWhmXzMNH40\n",
              "EaQQXWEG9UTYsGGGIdglm/3V0TFHFMU9UPHVFecpaEc5l3sk3AD+ltecw648FIsi6E5CAnG6YPz5\n",
              "jV2GkLCGu2gbO988AQ+iJQ5MvPsb1ScAAAEDQZ7KRRUsL/8AY0XJKrCXAB9Wm5vehj1UE7crvtAC\n",
              "ma5lyGWktYx2hoWgNsYa+AhmTiRZaoZ0wFCPF6YxNuLN/9Tcxn9iDy0iRNjd+WKvNoBi1hn2Itck\n",
              "y9zOCEW9OXPMCt2gMzhtepkX2ifl+vKFB4DUACqBIdD0DZBBzAGIr5RgpGUnzJziK+86jrduaQ3t\n",
              "hb97SNwb/UgSdueEuex8sFLA3O/d33U6+hbwvmRqzuY692PiBiH/Di00A1RbPATi4FCCqZaMmx5o\n",
              "F3c6bnLyR0vW53y3eR+Fkqn8gSq/xKLABi9fyDa7pYUghPw4vZYFsDWfpLkWYvPy7eCPyBxRFGiN\n",
              "wQAAAWkBnul0Qr8AhvtQiYaaXlK/IAlM6YtfPpYvvGzAJH1R2GlPsL00RdxauQVBwZZ1R5yOc658\n",
              "HAow3T724VzG5gC5JJ0pSIYwt9Rl+N8QyNGUOXKddoaue1Vw9325g9ozT8+LhuvoGv80/u0alzgA\n",
              "InMv5+YG8XFZAcNDzYgbEjcsenWjvvh/O/zSby1EVVF0mYeuABjE8Ai2M5mUB8xhcWbfwB8jF18H\n",
              "6NqR6oUqcwWTI4EMIir+sy1OYyCq6xuMg13HisARWvz1P6Zib28PxBrapfwNybBvadmuXb1a7rTH\n",
              "HRMQ2HcNNuV2w3ae5CETwkc6f7jQj/dQBsskgj8F/fQoXoaILobtI9bXVWMRLXb/RgxM1kkwLHFx\n",
              "iOmtjdgqCSQIigTXo2lbQqlz/ydIG4LKzG7kPzkKPlTsRyVZyU8425eXmHTFMDmLnRF4yNKWJk/w\n",
              "iD8A7SDSB4nSQEDzfjGpmXgI2pwPaurAAAABtQGe62pCvwCGyywFO0Fu7Ajx3BL/QoMYvKwsg3dB\n",
              "ZAjp1BrtvXdY9PErshoqmCDzEbWQQ63TW2Fn9Q6hg8nEyJNxB7fFzIoYsh048Y2OReP3pNC1+W/g\n",
              "wknLbspqIjrgNHQWe7QSmzl7ut2gNKQo0vxPeWP20Y5RanIuE9fCfIVhmvDjdVrku/oDL7Us9S2x\n",
              "5EzmOT4siaby7ci8E6Q14Nr9LRSfrfIVX2FIONpObuJT3MEs4lfNpO0WwlDsNr3i5Bsd5XQVqV7u\n",
              "eNP6ZNN86QD/xOeRvx6VZPNErRSbLRdpSSFijrpIonPbSYJceZeHoHuZti1nr5k2qFtG4WQmBLnR\n",
              "lm/yPRbcQC5PEH9WbOqUiETB840zvE7/ENW8s2i4AIyzznTHqMp2/jVpu+hv9+1akhCWgqXeDd9h\n",
              "xV2Yrx6w1VxhZwyC94cfNFCxGjzsuXo85t+h4INNmQltOMpj8OXz1Bu2tJyGahzFaWIkgCHUDCt4\n",
              "gcc0GdQwYdQJZ8QHarLsAvzMY1bmsucw2w/nG58aG+s0KDemIo/+z/BIKWEDRz/CMVt9hldSiqSP\n",
              "7aq/rVKhD7fAAAACN0Ga7kmoQWyZTBRMO//+qZYAV34+YPwfRYioVV8VFhXGYtgyqpGBFjrwhE5y\n",
              "ndKllJ8ytBsAMR63gBQKBBoaAzdl4Ab0TnHci0wlG38fHOLpiq0uGzv80mXD/9+rlYYvaCelVNGP\n",
              "i5ZjMlmOQkpdW7xUcy/k/7F3wtNFVHPkIBKP+1slmoozd4x7zZb+HjTebOQXNM8bk/IJJOdlgil6\n",
              "5vxYEX6fwhVgVlReSKCjf/mWblG9PuQAi55i8Hbxd83HMAVgoye0T/od7I2yqV/YjsYAGCoz9Qqd\n",
              "eD686ZOF7A5sD2JFvZ4hq7RNBPGXwR06UVK8/3ZfaXAgNUsubI3FCjEnd4G/ROMjhN6BkPJcf2VL\n",
              "ccxG+3QW35xEr4D55lGjqcojMN76rvUOD9xI/j2ZWob9o4RkME+FOUmjzQN+xSWPjsXECPlGak+h\n",
              "kZBNzQjIy/rtyAaxkr3uL7PCxQtkrv0afC0RskUs/8V56bZKarFplStXTorQ4+GEs7xem2YOpD1z\n",
              "hOBaXHbU+hWii9jKwEPdm2br6Y0oQuyB9+5rkO44D7fSoTC+gbpICrq7hKE3tCh8wgZFIMoFFmrV\n",
              "F8gdWlUUkbooflaty8tj36AvfOCTQy6YGYnWT3IpvMSSxnDn6DOkSIVunxd/1NReOIMN+DNzWf1+\n",
              "kJuvnysUz0gHGkZ5ex4zzgLs42Eb2wtGshNSHqM14r2LijAqzGTtvhbq3dGFHWAkDWKE3GUF+V2c\n",
              "/X0JAUAXDpYPJQAAAegBnw1qQr8AiPmPmsfD33JXBYuyDaomrbPsAHA/pvATEv2umX2LsKPHf6SK\n",
              "y/A+TQeyRTyt6Y0DYDdy0n8lBqyIA54O3e5T9MgajF1CsAP/M/CU7MhQeEGPKAb2geYAdL2HadZF\n",
              "TcHlyuQq4ff+s1vL2bzHkPKxQg1sjvCJoE9FGFH9RVkHn/sA315f38J73Rsku0IVTdwAxoVmu0mG\n",
              "fHwIZaXR+5tcyh9McdK471wH0tziGYyfRgEasDExWGog++S9jsxZWbCSQD1XZMiIzqepH5iusq72\n",
              "bGyw0i3PHNQ/J/lN3QaBOM0OXpNuC91UQQGjNEBv+JXWZX59YKL5awROdaoJCCvf2QWiAwE++gyC\n",
              "5CmNzCAcur2GvN6XHGnxvwMU9SIlFujI4KVMRPAEpz62NeFd5jKPZX/nqvrC3hVCfXYBQwbVDZcS\n",
              "OIxJUzyTQtKvf0h0LACBy0iWqMLXABFeZH6ub1OKefawddWkrCWpPdWjXCgtJd98JQTdBIBYuW3O\n",
              "wyZ/LPessJaq/z5z6K4ckHU+4eSfZpNt+iFJbXf0nnfbscCtVcLKmhaD4IgO5NCgu0w05YWBBUdg\n",
              "3sd9Cpihdaj4XI1b31TQfSCqOLY9zq+LsvtYQWukGz2Aycxsr8mrM4UVEYI1YQAAAeFBmxJJ4QpS\n",
              "ZTAh3/6plgBU85shrkthPSBJscdgC8Wu0pyE6lx9ufXERpmBgi4EH1xby0BikFnQmOJWhHS4ovEz\n",
              "Qxal9uTjkV1hE7qQbTWAD86Kd/ZaSXU4MbHWAM/aFuDeHyrB5VH5aoCMqUIXia1i4m2d89cBvDVJ\n",
              "L54UssZoqUHvzNKtEv8etNr2/x4hq58W29JTWHy0D+tXnfiqtlUfYAdCayrCtSaWwXpytVJ4xToc\n",
              "fq48hArgDxRrV+evTPliwuiFoOjwbmd/+hSfEfKV9NkskEkJ+YsTfAc29m7RJKIXkKTKrt8ZGGii\n",
              "lWhIFzBLvZARzHpKSyhZp8tMu5uTYqBqMhH6JU6lrncE0gYlSZu/R2e9YGzA+x5XUl5KhJBOOpG3\n",
              "9wKnBHD1LuTiL1c+3rRjhQlRqQ2rGJMIvA1vMuTt4xxM5o7NqbOeGoAYqJrPkR7DQYdgxSAaedoj\n",
              "PBp051CVpA5nodMizEQQZ4j+8IAVCqSj17AXnDsmyo+zm/MpqnsMdH15gjpG72E0hu16wC8NIMNj\n",
              "sgzT+VUy72fKE+2bupDFdcNGTyFBurIcqZpxY32EPMmx2SnHfdD5btuluYuBSb0fJwuk4PiXVLt2\n",
              "XDiZQCQ4FlEu8lIllCUBfbRpAAACBEGfMEU0TC//AGTAeEpt0/Qv3S9pIk1L/CVbqKNQVuiXcjP4\n",
              "vU+H16s+T+1awHUwzVJGPD3yWMca74ONJ+JN5O3lONcr+Nwimnqguayw0C4iTpRSAV5UqO0M31bS\n",
              "wa0BUldW5oGYGUXd7U40DLO4NObn3bc1gBwwvtl0vW4VPVj4IhXtVdquKPw7FlXAaSfOlq1VZBZm\n",
              "rFod9XXqHl7xaAFgjpgAl8qH175/pYNqHIRxrm6FnTkLhf7dIXExAJypuufWP6sR7/z6YYR6wFmp\n",
              "Dg65SeYBcDEhK0MqFBgZ2kvutv/FURwmO6NYd7Gde6r5RHErgsSwa8e9qk+PLcfSR/Zbo17qq+I6\n",
              "VZuzOfOc+72LcSwdCNuEKUibF4HEv4CKmBcDRqinAV3YGlPbIe8nqOkM1ntIQlrkgATWmib0IFLu\n",
              "8F3lfFuqqiXZrLvpqgJCDn1b0wVytP32Yl4LdAEHDPJ0aAwceNQyTSEBH1QcSDLmZbcEdH7bZS7Y\n",
              "6tBkj4fsZ7lKy96WF4RjcPHzW3IvOSj/BuWl00VylTZ8TTjXNQS1E9PqP77cHwrfirTxI3GmgB1G\n",
              "jwKWb1gm5K+ayyVxYwOQcvF2uAJQcOyNG/PyGk6g3gDuU2QoCKnNSDGKoxXrpH8mUB4kDBLYrcz5\n",
              "sgCnz3rKGb2MaDhqr1aisznWSf/x4GrvwQAAALkBn090Qr8Aiviis6LaEjppgBLIptkX0krpyqXy\n",
              "/TSjyQLIhng7Qj6LJ8qvzhrSU0sZUnnGlwVa5n3ammFV4cbUX1NOMp3HWMkcQp0UnTJtovInoOcY\n",
              "AAs+GiG6jl+rgw6+QuQ3e+Hud5JolauTvX3YMuh7E1351X0DfTbMi31eyBpwMxM+icqSruIIV+0g\n",
              "aLHKtwQf25XuLbzijgFItoCfsTGGbTxf000kodALCuxKTLjGrkJJMVgYQAAAAhwBn1FqQr8Aismu\n",
              "xhPy6HdLnasBZ5DXABydd+uVrHCRv7BydZNDRI988BsThoHxDXKAc/fmAnH7Pi6zZ8Uobl9ZfFwJ\n",
              "CCJ58DfE2RKsc4rTvnZ0MF2+P+pTp0op5JJJ4u7XhdCUH2r8HvP/xEM7c1lRER+65Jg8waTDZrLF\n",
              "0QLz9iV8OU9RopobWc8W4FYqMlE4Dj3fn4Lhe1Ghfe1i3jWwoMp/0T/uGsOwd2ZElMwP7HMcirVf\n",
              "2gHTTBXMhL9Fd7HXs/7Tbep+wEVsbcSVtoJ7VYvN0NcEwFkdUzX2bYK7hMIEAnlf/y0lR8xEZMzA\n",
              "gpNgvd182eW4SH2XgTAqy365K7lLHuzb3GTNA8npIrUmUyg9cLPkS+z7NHTee+p19ao8/7sw2L/n\n",
              "1LU+Jc6NQK7MfPwItEoVcWJmkf4bRvxKS15aSjwJi7301LFEHiPV9VhaennKkAOyXC7TDMT7k0BO\n",
              "olRmq6TLbAqm2p5pMUYuAq/3iN06F1V/jtuIUpiWJmEbbwFRhf7c/xPmo4ceKc38gk/Ac/9zwDuu\n",
              "NPJz+ef4LuISYSjlOuUKgtwxK7NPck/lVLvGibD0DaRoUWslYm49XPtYeJA6tF7L3ue0LrReDuob\n",
              "ZSI4g0Oi6bDgbMdOJQUT4Xn/0c4Aj/7ZopFW7b284RcNnTe4qjWoNbPmIBCh4Kjk+GjNBI3Cctl1\n",
              "FP5tvGUPQIX+d8N25QZT/oEAAAKAQZtWSahBaJlMCHf//qmWAFTFw5HaHoAcIi/5D5YfRnX/DRHL\n",
              "iUsvyLfWBmlIBhiBPbcHN/XJMikGLOr9O64HWrto6ViLHQJ18vL+i9zcfVJZBk9L01v8oiQWKrt9\n",
              "54MMLXUGLN0DXsJJ9gddu/AL+BsoelkWd87QVwkkf7LRjsUxsyXv//j6SAaEYkRgdfrdGm/fE6bF\n",
              "N+QiI/RaK51T5T3A7bqAWjqsu0dSFhIIIHTp/RAHQKNK3KS16o75K/91BOq2gePzwjeHObf9O2he\n",
              "xjTL4uMGvwp+Dp5LwDb5WQ8udYiyy3RD++iRNfb+ircPr46ZLa1cQWfw/sP820hax+HiF3oVfKoH\n",
              "oQyhmZneGmw/q+DF6CUww3+QagqfedyrtJPJ27zM9j+vHU8cFc4H8n7K67/aTCUWePgEz+EbwnbH\n",
              "M6pjFA1XrFu8/HE85NpUxhERIDEkALdsYhkdbQS9CINN8Ih4ZXE3gBYSvZDL3E6UuVsj/Z2b9rVo\n",
              "2rrT+Ju3EO0YnfUiPGZr4mPjGA3ZemvVccHLz4eJpdLTtPQyRZ+xAt+z3exW4qJx+MYNc5QIjzln\n",
              "Y501FSLYyco45UC2LJp9nhwmBCWbQWwnqne29BIeWSpH3VEQhuO9hzHqfQYgrwB/gEDKKwDKqeJI\n",
              "e43GaNjEeUQZz7vHlpGp8VJpYMhaegfaVIXCdOqqjQRMownJWSkr6BJ11ZehPGUP2W6Ng3QWND+/\n",
              "QYyRYsCTjDpBeEG7A/qZ3f9RXdl1l4BIQy8VtJ10/xdVTDQJxFD4hn356T+rWvVFCMYutJzBPNvD\n",
              "xMeOSuViIyFEu5qJQO9vjZgYO/IFHAnUkToBusRD2uGCQAAAARlBn3RFESwv/wBg+ElbwrO7MLzE\n",
              "KgdP2xSM3pRYAQ8/xgkOfmsee2rmcliAFeTEbz1o2UmkY/QAUW3lWZfvriLrRoiqabdJQq3g4n+q\n",
              "NYYyKfOLRVZiCHiees9NnYjPbqmIak6sjB2fa9inpWCuvLUYd3DZBrHY8C7n/wbiy5OqGkC1EVsN\n",
              "hYwrzCDaweT9SI6gUsBHPtabNt0MPJAFFSeDFr3DXuarbqmjatuRhCwVXbmMPBnQHAGg0C72om7x\n",
              "MF3szi7Op+LFCruZDrUtXgZkhXUB6yG/iL8UbewXo84MfSnoSDufGA2BMx5+Wu6kD2xMnGBQtZT/\n",
              "b+7AbQdu2pS3r3U2NnA8rNhd7zfxHyv2dGKatsMDM2YDgAAAAP4Bn5N0Qr8Ahyz8uh4MXcKEYevS\n",
              "LAf8w4Wge0tCnvIdpesuXb5lGBDy2KILhMDOEDa449OsPx0UuuJRngU3oWPmpFrTKtXfGX3xX/6C\n",
              "OX9rIzNcywPS0rHeA43WO7VV7XI8pG5gxZWwFiX4ZnDDhPmXIe7r2BKBTeGcJyRe7RjbjrS0dP7S\n",
              "r1CLz+wOZKyMNpicGbHgvFIF6oBCh4VqYrdC+jWy9GqRCJZj+tZw4NJsrk3i675btrhu0AY1UX7p\n",
              "XV3mX2SWsyIQDlACLwR5qLyaRCz+dkSe8YMra2WTZdFTJJvVK18qMGHc95KcHl1nG+wrOU8qfrGr\n",
              "l5xD07EPgQAAAWQBn5VqQr8AhUq+Br9HgA/FVfWD8VWSGYiaT2yBcV4RBusqm4/PpUbetMVxz979\n",
              "uNIGIDr7PWOYn6vxTonDrFjwiLyQxmq8ZAuskaqb9vdI3iu5QEcJlr5dMYX4RYfiCOIFgFtytUKD\n",
              "GxKwGHJLTd/ntgz+jYsXF41eOUMY6+QqaHez7oKP5Ff+qxwWVBW12HlXyErxqHVtCHrDZCj1Yjcb\n",
              "ms7DDeRcxVxA5poOEp7wXo/R0ZKEoYp4uLa7tvYSKG8oHVlSLjhKQCnfXPVvk8uxr+kS/e6bw5Hq\n",
              "Zp1ktRsU4wTJ2HpGyMCXopJ8++edH4zVU8KH+T4xfoQVeek376mdd/hmKDU6EbLsrzzoVzDbd3Ez\n",
              "HFE2jVSdzXo9XUFg8Au9R9yCK8wKK2chfLBMj1I6LOmmlX8bIwPEgMi6v7NIRrJP6Y0MzFgNeywm\n",
              "sQHw0mmdN/TySl1G4Lfk7BqqJbW5ThQ+NAAAAZJBm5pJqEFsmUwId//+qZYAVvfQgMR6ZoQx3SBL\n",
              "hTJzMImReGPGX/4QIze52vDTt8oBpJPkYk+M0RTWaUVjmbCWl3m5kLFnQJ9fXFptZR6yFXiLd+7M\n",
              "EhcvUNTSnq54Z8YY9qLkI/QfUQh7iTODoyRvLIDa1dcFBkp7necG0R0vC4L0IXGfifZfw+HLFy+h\n",
              "Lz6i1F7QxlGuzLfBJ2TeXONyxeXk8J+ZVQsgwmnNhvlj6ApRikIzMfjxEFH0v5uSiN72knbC9qAo\n",
              "iVPnPrW/2IrsA1F3vR9rFXCeQUcH/tmYh+fk816DFUO+4JgtGrkZ0lpQW2vTHar0lTlxNEia3/fb\n",
              "ov6M4xx6vY/+PTu2RgTN2b1MI4UpLW7LSZilTn8C3lc8xPV7iS4Tcgy3YjWsDCLstNrqFWB1uHP6\n",
              "euQivvwassiGvoZNGCQZbMdd/1xDHcLlzdIaMXZyiJxtbK3IA/Kv3QC44m2glWb19tdxoZqNNkgH\n",
              "EjCbQiGE8LYBMX/Av6kqzcQiNOjn80OyDNErJXjWGd0AAAIcQZ+4RRUsL/8AZz0a82ou3+DgeXQN\n",
              "o9dyEBxqfH7QfdRLP8YFAJXgRThAByoeUD2S+taOpkP3bNaBNBrBKBrtCNvAZTKSLjkOoyrq3gyo\n",
              "qyF5kM7n45GBzF4bU6CvU+H+HvUiWsqWrWLP9imoq73qk6kJUnORuQJ6Tv7Bimz+i39+neNgpnZy\n",
              "mmci2M5AUSsoWQ547R8/1YhvdBGUIr12zF5GhpwmAtebz9F5szZoOPhigPyXcLslrf3izUzX3fwv\n",
              "DCY4/e1aBf4ll5b8hh/DYvoIut1e8XW+/weciLT5xh8AyZB+Xqi4LTMrxomgpfZ6RKk68TDyMGcn\n",
              "stXoat3kPtK1PfPomMvFk7IDyUjq1mq/VERJQX5Sok7gR6TEX7sLhVzGIHGDeamRDKX1M/tdlUUV\n",
              "PIJJDQknTNPOBjZQKwQnbYf7PAqWIehsbLCf38wk/ESqVHHf3h8JIcJ3ejl7YO1R0RLAOZV4nk+J\n",
              "JL15UqwoXHkAGRbu+qnV6cxo73YdKFDu7Fz9kyLJ6Kes91E1C765P8aW9a1Z7Snkhe1nTmirTg0O\n",
              "EFFncTKha9K7IsU72JQ0d95yB3+MDUsQjpVHUFtFcUyLGNOr7CBWeeB2ilQSYgLd90sNUsEWXzCh\n",
              "d2Uic9fUK8mq7L+5Njb9mPITiT6J5ZZekkkiaU18b/kYBqkWBXWLq+Ydje48kXsNAqBFOulHu6br\n",
              "Kay9aEwtAAABKgGf13RCvwCBNCo6JtPdVVqxFQZZsMgbp8KQnB0ADmfy+0p5iPbjv/2LFRrJ8Qye\n",
              "LdN9SkkV2gOgkcNa6YvYl96/W4WAuV7YKch2XLtyJobykYZX210iQo6JKUEnHNil4Ezq3LozvauV\n",
              "mvC5YTA2IkXk2re2aT/uO0KA7Lz9jSpI2hmmToBEj3FArwA7rc249Wq2FZq7HEMhjY5OllalnMxU\n",
              "E2PxVE7QlwT4JLRTykfsSVZCMmrRJdxWV5HbAVRxT03CL0zFKY54losWr5DEuoHDSZ+kgXu6UUzG\n",
              "J7VPDQK8PW5Rl6joq/10cIla51HmQI808cqNwFYXPl+qQw9/S4txpPKK8x2Ux4EZcqJ2LdTyVvpA\n",
              "QU9iFMpP5wTRtzIIGagYdKijIqNBizgAAAGVAZ/ZakK/AIssaY2mey+72MHF7kAF5ehSbe3YHom5\n",
              "LaoG7JrMnXZI/xN0qlduMs2/cnTcbLGc+FAe2+LL1Jof0XHyglkiDzYFuqZ8ve334LWdLBo6relb\n",
              "QtOhvvvXqKW8oHDqhyxsvlMXmOquqDqS0dabETQz4/+IbRe8o0gPZZfnNvkOC9qfgMcFhP3DBj8W\n",
              "2qYwbWMPl99tekaJKpDSnp17puqKI02WHhL1htE04stQAJXvXNUze05TVaNeEkAT2FV9xp5PO0wn\n",
              "OGnrdyBdveD9ptxhkUI15IK3C+ZtSeM4Sii/l3m9gvIpib7QP1qWMy5Y4WAWm5PVEUk/bfh6cN/r\n",
              "Mv5hwicG2oi4ott/V3+xgsEfj1lQHDDCqxBu04Sb/7xGa7b9L0YsFiIA2RQ1HBF4TBNpJC8x3VCM\n",
              "XbHUiO1+JLbPWwp4fgwle1V9kNWcVjClDRiVBa8Q51YBQ5+W0RS6lieZ8M0yx4jbQMCajJv1vR5G\n",
              "iojZSoY4qbxeK1ziU24pKkyDYk9jD0bfZFzZIaZ6zo/XAAACPkGb3kmoQWyZTAh3//6plgBXBcKX\n",
              "HYhRMyBapkNGFZe8+bHSmLsohVxnYm9BKDZ4IAKgS0rbD13IZVX4KggjKH+eTwjsSYJZN78rGVUQ\n",
              "uHG/1/7QiF1MQIGUv/k8vkcnW6t8/plLwOOabZIDB2b134AybUO0lmvDd7ArOnfGZ/NP9xScCKOP\n",
              "p+RdKXkBDzaR5HGTjm9G/DpfpdrQe/ZyyGqA7rZ20W3uj8dvlNc96ljGvqkUeSt1sjTUfFJTDX8A\n",
              "LwztkhhU3tXoIot5/wSCR+4avJUB+GnT6x1kzhDYo4neoXa35EVuv6yn+Fin1tGoXiTMs7/XmACj\n",
              "UgTV+gcrD+nqmuq4Rj4WCXm3Z5CuVhPxokKIdfvjeumWlkRouDowszXMEtjgXyMLpfCMK9QQBU7A\n",
              "G0qcFMko0xpsYSuTHMRlT6ExRcj/VfKYsnty6mvnO2q+xj+EiMAzGqCfknYwg/QLz3g6BM1PLowo\n",
              "uwK6pG4Jr7Dq4DHF784oKl71xu4GFDj46/ifRQFi80zmzi19foWdykPsyqN+lMWpCJQO1OtRUCKH\n",
              "+kdP80wGMPZ6q+K2dRXRN0s1VOI8RwiSUap+g9ayL4rXVg2MUhyAZQOYbhLR056k1AaGg2aas1pA\n",
              "hS2CBBgeAYIULKdvbnzTdKv1cxTyVE/AIelkdk2D68j6bEKSVUXb1wobBfMJdHfKyMuQGvGyd2On\n",
              "tTSYEqBBHDQ7EwHUq8MGebXgQOm9J1K/CjAVqcsHyHa+ugzz/VCzUmAAAAHVQZ/8RRUsL/8AZz0a\n",
              "82ou3WztiqCoLAmhAdP/UbWq/4DSDtivHmlAXOZcEGCqEe5JuZ5VJorTasqlCixQzD6uHjdtDh1u\n",
              "Qml4vHqkMFbemldpClB20gEYcu0U40gHpwkxhiHysDQyjlvxC/79j/7bEqS7CiZj9YiAJZTWwW7e\n",
              "UbaZjwCYl1G24f1r5/iK1Nk1LKwmPpGIv3aHjiCRFlL0LQEDcQF+bJUIM5WpTgZhIShskvUspwnM\n",
              "u+TK2JzXK4MoNklzQl6AjUcPkIy9TlOeUd6esYLXb8R/GkJXt9n3bPoU4Vv18vZk5VLvO/UWjHAg\n",
              "Y8yXC+QB8GFqTyujQYLm59lZc7EYZFfHmxWRcTtTPu4iRzLSYRGJ/8sdAGV2OhuGajjcEC3D0ZdZ\n",
              "xWnbgkzlBrJsUwz1BK3K03FgpnCLgJ4Y2gtt1fUCr6Skynn1IrTs23ArwRa426g5Pf2XMkYeuKY/\n",
              "zx1s4pRgCUbOEvymaVIAjPX2sDt7AOAs2CLccJ477ZmNmUqb41oeq+rXJ7uG2jTQN2yZ1l2AFC3w\n",
              "mrwXdegCad8y5OZ0JwJ/kq6B4qcgyT9EwCih0R8uZ7d0DhIORJpE2gXp4bS+pS3MUDqXponNAUFg\n",
              "gQAAAU8Bnht0Qr8AgTQqOlOtCBYNfK2Yi/1Zz4Juy7RxMZE38OX69osFejfACUC/UzAT5LMr60PR\n",
              "YoBQOAoknAZuinQl4ZK3MJzbxfY1HZoFshbT9Fko/eiMbcrelBkQlYiPo0272ui7oPw8clqSvMRQ\n",
              "QjikBAXtfyb1j/pa9GQYy5xNTyb8bBGAZIFQM/v1ziCd1XSvCbfvXKAlhFma4teMZan5bW/U8VhW\n",
              "IVHq+xx7O5hwVsmeg5cL7t3+qY6ZIXt7zMtFZ1BTSjOs4aoLFMa/ZitfRc5d9A/qfahwcW8O6/0f\n",
              "kZGWfNtOL/zhfCAYp3I/+Zmxxn6VTBqRIj9Vlmgy5gJ5q4AJITNVLicUZ00FVUii+JakihpcVwQH\n",
              "LKolQ+TGumyz+MrmhSBonrr9EuUZPlu/a6VXG04LaVQousZyySWNbJhu5sdElHlnU9A2sADGYQAA\n",
              "AY4Bnh1qQr8AhrxpqxM6MtcQeq0qpNpKa8aMwVvgA5UAlZ0VVFZD7uoSto+rlZlsp36D4KYwbg9m\n",
              "zLlJ8tG3QvQyvT5ernIrdVZT4URTu8XC/VrcA49jsoBRn8N2neH0GZFy752jq1R24OGJSg0sExyO\n",
              "zkhOPENJunI08TrNT/Ik8qQVxS6MiMrx9TxlmMYMjycRD7LkNG9s+AAIpcR5QUkqQPqf9kH9zn8r\n",
              "K+ybvupXB7g+aUpzrGIGzCWnP7+J2Zc/Q3BhcdNu5/NmRDyxt+kVKBuPMQNLzpJel/+U1znYy1ZA\n",
              "T4jPqCvs21Cyl9jDvGvLKEmD2Xglsm9M7/mTEUJIFqLKEwV0a70kQOC9TxCY3tlvDr2tHIScq+DQ\n",
              "CtktgRLV+YQztGUZPZu+EKdzsMRmlN40uNfcmnCMf5SMGL0GBbNVhUZDsH3KJq1w46K5JjlkyPH9\n",
              "HYVbn4bl0WxdmsTxcVLKHveRM33+VYGKYcKU0c9M5fYqxBhqsKPyW2KONZaKv6RvU/YJkgE9BIf0\n",
              "QAAAAX9BmgJJqEFsmUwId//+qZYALN8AWCAn8BPvrRDKmxxFwwwLElnIPGaHfgJKHFLhFAboobkO\n",
              "sYUP8EzRNu4mzx4zLmwhnnSbSRAJR/7PM2O//2BKAPH87SFVaFTPQW8uxaD/2lfxD2n+rRls6cxH\n",
              "A0h/drmje62rB8BXzxQ67aEUhpv3UhAxYDAMCBLf2+Bq1/OkLeHIzmvXukGI9Dm2zUb4QK/kVrui\n",
              "XcE+lxWKyKP7X+0TWubXctuZpWXLYE8lxYQZmnBbts6s0r3cTSzzBx4sSoDtJlXoKFqtjAHj7Txs\n",
              "Upq+pq3BvMXOOJIUuCALnuBPqYI5A258A/q6fz8tcuHLs7GF+cotM4l9vW9ulAXf65orrMbh5amL\n",
              "+h/Qu6SebRuBW4/znngSBZHEwgAzF1KcGQmAZlyrLSX4i2fOf8jYZsOaDCe5OIc8Y15Yj+kIw+yw\n",
              "WzjqWZYS4E3pAeR/tb2wj97qu06Rcs267z2avesBJAmAy4w98NDUZUaOEXt8fgAAAbxBniBFFSwv\n",
              "/wBkwIFmA+EoPD68QM85UvmrQGnVLo7QKAzEPKB21RsSlH2HP9sv+6/+WvRzHqdm03gtfmfJDzAE\n",
              "Mw0f+pItYGj8eMhRjggYMyz/BG4ZmNuDNzHQyCycGomn5dp1034jPNNgq25WdE9hyKBoFVwv7O07\n",
              "ofhknI0bJ/5HrFJu+dSavKMqyNYjc8vJIZeNE3S/4j03mb8gkvLBXyxBKNZL860cFeGlIVQnPAc1\n",
              "MfECIm4RUYc1C34MKIngs1DODBO9OnxdiwlSMrGQYMPwwYAJhfjK7OIucPZy4hgqhHnmYHQ5QQaw\n",
              "q13df1N+qvNQw8e+XBCsDaZqTn09Umw8lw4PkK3Is69cCn1vr8TVlvsgkpPq6L4sNxWXdxzimKav\n",
              "3nAqIb3EbnTPpd863dbGbtw2bNHk1q2x6BCQtOVlpKVaLR81OCIS3YdoPYc0L3tP4nA8H9W34rLU\n",
              "H0Hc/0wM5xqfAxTlyuMwUfmTuveXUPJHq/uHZNc9V4UOLzye4E4jt7L9J4I00Oa9L8lCWlp12iDc\n",
              "Ul7aGCueVxuqWCjrhmEzyCNbslJthlP6A5WLi3FtUyvj66QG3pEAAAHzAZ5fdEK/AIr4UmYGZ3fA\n",
              "VFfxOKh+lLGbiMiADl8QWy6vk6FqrlRfyIDqz6bdTX1y5txHJx/pvAQeYFT2kccEO3p4u/MJb3GZ\n",
              "Ru9XTcfyKsWeZTny9tqac3al5m9T/H+ohw2UDj64pd34y9Tri9J8E5+CyHlGRiaYrkuLFxDux9EM\n",
              "Df73+fhEY5TWw7LXim0i6l0aIM84tD6dsqksMU6Kl5msXpEQBLSu7O7G3KdAhW9wxk/SuSKtMClr\n",
              "uwBu7Jr3e2zYfmFUZwVVNvY4kp8a7+2NIY4lLTfDHNSWynmA0NcWARV68kavq2HabTle7jW3NMB+\n",
              "MkeJtBgJQ3faRXw6QoigLhzWdsrAiDDee9/px8uVVOqZlxMPBZw2UQbW4gcteX0g6EJY3hX91T9b\n",
              "S/jrCQWz6uar4ggvdFGGaZzjk+d2iQTZsNWxORUQFG3gGauzClonKXjvxWb+S5SuNpfALDw0Ifs6\n",
              "KexsLY68uNhp8/lm4OBXcqKqyh8V5jpEyIi7PbWlw1xagGxX3Et/Lz1yp0w01BxVjvo0hJNBdUsM\n",
              "9UG9P28iJo1ah2gBnu1LoKKnjmr2qmhrL57ahAosn5KJZG9N3xuBbr5nX7Q29q4D0Q7v8ud952Vp\n",
              "z480bzGr+OAAW3EOwUshttfDNReKvjwQoT6R8AAAAWoBnkFqQr8Aisag5OfMQAcp8vti5gd+FHUv\n",
              "G5svNojgm7YG2wnT6HZAkrXVk5TVCLNlAX5V6qHAS+Hq8pql7dw5Sav9fxAqURXpeqn65VogACKa\n",
              "Gv5SMXTLXW7DRYkOtNuokKWh4KwqIKrx5SuwK3C5Z2oCjetesGwSiWE4QGiJPeJtpxAwmEkdfO5f\n",
              "SJkBnvUN15DJVYTdtbhkREUvt5txLsalb92hGOuAKF2KdR3FHlzV46GCooJlAhhdgUOPIO6pYQHr\n",
              "T7U02dUWaDD8SM9lI5f0N3+aFGHKKHjRO4J077f0howWActlsyCeSDqe1OGlRK64jwmDdyycsT+2\n",
              "PVWh8AXE/y9InVMsnpMkt47YDR8Oy8J9F6wnzaVHwwaCEqNXtLjLCJgp7JU2w/hz2kC270LL1/6n\n",
              "hJs9v76bjRCmLvXosdrCj5mkDvYxrkNodiJN88BkB8NQskUHMhD0g7kvwx2EKXn0UG8feQAAArdB\n",
              "mkZJqEFsmUwId//+qZYAV3/JcAxnt3F0rOjWs02YXVmK4Uhp7RttOdgYzR0zG+fPXgciKoLZDZ2I\n",
              "GcxqIh32DN6xCbN70tZsJT2Phq2HqwRns98E0H65lPef2JV0YqH0kKI24HarulcHeOB2HIsV091U\n",
              "si4jVP55flPb/ZapamlVhiqMl4TqF+1QMffFc0DwDKRNYoZfi8iqtUYVhECHTF2xqG5Jcy68XUID\n",
              "ugtT0hFjp3mpN9R7aGvTZoSrzItkavyfCUEBOJ512p7InGFsDflg2tHmpMGbKkJ5rSMMXnNA+QCg\n",
              "q0ptoGwyRy1mwmoma5yvTF88tziWMP6B+FWs+EsABUdwdOIb3JPAiHCyIMHlu4pDvKKLY1Sh3QuW\n",
              "NiYYVyVOzdFKpF3WDNC2PJwEWGTR3Psh7xmZvyv4AfvNcbSNLafByrZTmWlRDFbdGURikG6ZOykX\n",
              "zoXuyOQnNZ12mE7RrLo4BeLAqIZC7AflcGlEzARta7RUBDplcuOmpHbwXyDe7rXtZTPQ/hOJXbOB\n",
              "6qaoAuidhUuTpRkPLGbv4VXwq0sOL99VfhmqJ4MSrOEB8mjvLkmTroAjRj84wQGgBF4JlOxPF5gT\n",
              "81EfTeLRmOqziwCeKzz0lomxrJ/s+AoWv5XW46h1n11sbiIQpTD9a9w0n1RgOdbJdqa+v55v72kF\n",
              "4pIpFbQzesjViQh84zlCj2MTgCK2MyuiyVz4PoSLM27WFIF102RGwgMp34rx9j1QlDDpWQySY+a7\n",
              "aiiGstyvecfHWkNtZKWgUpWUq90ipq4HY7aOuWQZ+llUSwZM4mP9azAoYbEzhy90qAOE4wbNyaWb\n",
              "HGyXGwyY+MUdQ7CxX4GpkS1XbMf6jDZd0Ag837grOHByAM5G6QeR/TXzOTSygiBYvLOG8ib29WUg\n",
              "82Aip3tbwDTp+AAAAR5BnmRFFSwv/wBnFMjpAE0b5409mNmDUVTn2tm3jJcwxOKEKJQLVIHfwaWo\n",
              "YpznUssb6hQH/pf7vs9nB06fph8WzUTf1fh/OW+vStvoa0ySvz3jhARrQGcK+bum/hRw4IVTt9dS\n",
              "ExdnKYUQLhH88Q4FxYyQFtau2/e/IUk5dyEOH9IfqKlzFNRtO43f8YWrC+9BkDFbylFlMz+NNcaS\n",
              "iPauqp2Q/MwEqc9CKBiy4NAgPxoKeH0+F/fVstZY8whneNp6O9R0djv2Bm7/fYvKoF5hTsXHMkpO\n",
              "ArN6wr4EgjH8yNa4Is2Y3dMNn15Tj8PymLe3B6hRK/O2AI6F5CJL//In3Pu7taAZFwTXzCdplyt5\n",
              "plInRkxpGnTZZ1r1u+PBAAABdAGeg3RCvwCG9tiuBsE5gA/FclZctpzLAVpQ0aT4AYjqxeuOJMbS\n",
              "Sgp7m/wu4MqCRMpa68lnshHX0Luw76DzfsUdZYEK+2hInohn01J6SPldCxSAwb3BhKbNIlyaaRu4\n",
              "Whpn6Pm0EGpJUyIGkjYRi+EKUEtHd87lZMIT1b98HpMyIYaN3QgHXzXI+LyM1HBzivWB+mL6ONm7\n",
              "cie5POCKobtXLtZmjFMdiAPSEiBsJxA/MEbXATAUrzV9ZrGOGBR2pPBu94GXley9BBtLgZeXaH9J\n",
              "jrsQL4guOC+j+UyeSpV2mOQTGG+v8dtApYTFsQCtdyWd5KXja/G8O6y6RaY7TymwhesMrieFyjZ+\n",
              "PGrhPza///P93x3/Good5rPDxQYJbKkGxml9T4+U4Jetuvwm0vTa0LJFLZZhPYIjYT/+HyY/e0za\n",
              "P//C4vamKj8Hh442XdIBf8bxgQxLoe7f92xdncIrrFis+LylnnKaj0iIQbZYkbQKcQAAAYQBnoVq\n",
              "Qr8AiUq+Br9HgA/FVfWD8VWSGYiaT2yBcV4RDcIxU+4wSmfFJfW+0MeZoZutfCMkUDP9j2YdoLO5\n",
              "JFSHaFWl92/3hC3gQbRiabt/Ql2UR5UJbfsre4FVuwyuCRst3On3W2aJoZDv/ngr8Xll5SEBvk3n\n",
              "llflDYvTPYhfW8ecFoapLecgOrgQutF4zcN8XDFF+jJ2t3CntHbUkLqlafj3LcIO4P9QnkdooRj5\n",
              "WWF3mT4LxyiHZKepuzdTiyvHx1ipLuioyXwkMXZNmnzVl+uv8owK/cERCYhryzxEA9lrAJXLsTEp\n",
              "yLhz9OPaa4WhgswOhazOE3OLgFIpE0JjtSdwc+3TdV9OkFjOfJJSNrTFjPektXzDVmIBoAAlIGWR\n",
              "2OybpqJg+stuyoNZep/LyXWClQzf0swNXj9LOWaLEeJcrcgtR8EJVa+Je8rEB6COEPbHxxIh1xoI\n",
              "o+ivjZlLPBt799EOK7D5BNMwaXEjLca12+fWCr3PodbIlGHW4IPWvZeBAAACjkGaikmoQWyZTAh3\n",
              "//6plgBXBcKWgINfStLBgTi/haRAB+cVo3i9pZbTgjUsaTbca+hRmJXBm2/UMKZeDiExVMjOI6vm\n",
              "gm5F8I3A7r2G1luieIVJC3CAxgM6xG13H5vSXmHetBuQeSrZmLxpxKF4zYHZVjRi/p18T1UFVLA3\n",
              "ZZCDVTM8eCU9Fz9gT/FnM8aJv/rwAD+SwFvQTerSYbhGP0IhpzAjEbegeMMwDQVseUuJHxMKViol\n",
              "njErJ/fDkDj6wMgQp8+fHL2oqTic3pKG6poLA4/IV8nyGEGaghgbhWoV/4XLugEvF1VoYHPJaeGn\n",
              "tJW3PRIVn0+/NljtNQVIJHudWdyMMcK6Yxora9htEkMr2DQn+JbyvTP1uSqQo+DMrxVg/DjCsO/g\n",
              "HfEVud5d5wXKr0l2W0Kd3rWXJrxsXcH93iGI108WStYRQLYh4dSxkxyg2AVpX6z7v1Gth19cY4Ds\n",
              "x1pNTE3V3Km9DMRp+gRIu3YV3+yq0t1g0c8F0YDjn77X1BSyMKMl4z/HD86iyldfJL0DYzDfvP05\n",
              "vDktjB2gEQkIjcBwQ19Su1Ywf0vYtZkaM85b75y0WO6ePjX6kBGzY9mjieTizv8l1bfjR2DuEJ0P\n",
              "DDPnKZzABUZpb+dgoz5z165ex86e33W+IEG6Qog/OI3i9UjXCv9phXNcsWUeoodafUfXiG9ct/bk\n",
              "fy39+4DuMxA21jG27EnpDxymSdatxb8NB1eQQvHt/VFZZFZm2W7dpW8oPwNa6eStEKaEqNYudOT9\n",
              "fJbk6aPuWKrVULnyU1jGdb+tVSC85g7Wk3YDZKGAZwi22yMkw22BS0ajfCkcClxvzSEdQ7Hgnt04\n",
              "KuhUMyXevoby09qdBlsdUQAAARBBnqhFFSwv/wBnAv+Lf8YHuPAvA4QYHrw+4IbIR22DAMBeaef5\n",
              "Bk10m38pTXFrNsIUJNCx3WfwN6CAYUNhOmERv1bwodnxDSfo8rfqm0ty+iIWtP2kHHWd4UzRbbwJ\n",
              "UxeCuUjgkqWJ3Ngd0FsyaZ2iWZN/Y/dOp2w1CiYcayhZn9QngIb1Rll+VvkbQ520CVXIk/od6EWV\n",
              "ioUKH4yCeUKRxp6xNo+ggzrIgEF/VMukfu6KFMIV6AbJkz/BgtMGrN6CJ8ZOc9JAyOEbXMvSzsnH\n",
              "5pL1NFuXIdSCPzsQA7T83FKMTe2EGhHK2ova0Ed4AWrDMKdDaqx897SQX8sTv0f2G56tve7DZXdH\n",
              "S9Vu8+ZTcAAAAZ4Bnsd0Qr8AirmxQblZ8Pu0kukBz9M5yBal81qxyAC+tpT7/yabiTIfwNjFwKTH\n",
              "0uHjb+sWosI23bzXhHrLzPAHCZ6LV3NgRP2j7Xl2QR/9Tt/BlJucJqfVUbMmIYECJzTkw8Nr6iNI\n",
              "hShq2/AKJ6q9e6wspemUE19pUrHslz64le0VPTA/vruJZeoDUfxkGNwUCa684Lf0XwD2aIH+0yz/\n",
              "H18Bmg05S9ThGNq53Rk3bUpCbm1Zem754josrahC8apoh0a63ES56ctKb36zuezoUj8LdPcLG1jV\n",
              "UWOmuf4GFk6Rzd46GxZuy7MR45uoaQ57MkxoJQHC6WLLqdT7ZT4t7jRy3hYVmD/5HjRYs183LBZi\n",
              "l1sKWzsk/n1WTsrnrrkVaEqnKqKM7Qm8DxfQ1DJ7VI3wmXD8xwx+BiqPuDcnDC6T+ON/jNO9Q6B9\n",
              "gbTivDJdYrp2HOHczM28/QgICQwDQs2W1ia6eMykCq6wJxFCWRW7bJAqpG3xNz40CQAV/nueiZS6\n",
              "CSFeSZXdQsy53YgF3jI8QpEjwO+tJ/qhmeAAAAGRAZ7JakK/AILs2FOGaebkA4WQTgGOZpjd2QYH\n",
              "Z9FAFpVqdMw4lXkPY2HidlLauzP1VmTDimfcGsEP9W2LjC0qHo2Fxu6oan7obHSGDPdgMbQR4ZGu\n",
              "aQaqKqUXcTXeCH5gI19F0QKIZphE7kvm2bRumK6goeou00Q1ql9MeLsXkQOM9UYEw1U4PxXrTdAI\n",
              "qGMivGVUj2yf8x9DVfhfGlm41Y70QZrKYZ2zwt2v1waxgcNcTQH7CL1SyTB3wITSEyYBqDUwdh0b\n",
              "SNAMx+HtguQfg87bwfrm+JryS2y/hcWulZvVJ17GxKa2C1lAFI2nHfgNA11LPq511OKxbHpsflTt\n",
              "VNz1bNMcsgY9OWjGrxx1MT8FUEvdJvAe7CxhsK0+J7kBdAFOGwO/lNWtodLkb1T27b29D8Xk2D4q\n",
              "cC8ZlnGo67WdY26s6hlFPDFK8EqCGPoAGy0t2wCE5+t/YDfZiGmDnn9ZbGuG6eSTedvzRQJARCGc\n",
              "9UQll+lVCjWyz/ydE1aA5dCViEHlybmh1LDptRtVZCEAAAKwQZrOSahBbJlMCHf//qmWAFb309qe\n",
              "xI4L1nuI+qlP+PlObdTXcgAXKCzmNjnxsRQPcNp1xvLFamSWvecoxTqi0cHqmTBH+MDIBLyKZSLI\n",
              "aSnGNAp652VQryX0KpdPoneL7fnRerfyf/4RBJjP1KFVu94+BmyWH6P8wJdsbmMUl14GjlQhkh33\n",
              "dHr9Ybm+H5dLn1d4q3vFfvd22aFwUL5l98baGqnWAY3jquhzvKUxW4ym6wPVPosd+jtwd6ECBxy9\n",
              "AauMIfXOANso0A3R04cM/a9PanmzuZKvPW0pADVhlXRuvKQSZx9vqFEBhbdSBKqFYSaxNsv9OZFT\n",
              "l+Tufkr3VyEXwqwHBlHrDOhchWcpT2yDu728tLOat6PopIxFBRFBFPcKC3rhNeWKAtS2vg02DBP2\n",
              "OlVFmKnklwLbn3jUAeViYNXprByFtJLxJd9gWu+tSfYf9yg6tWFWoxp/HNR5J7LB+TADvf4lNacr\n",
              "ViluMZtsQN6SPDfdvDf+oV73nLeBp+87fFaryON3DF52GEp2GRSK9EU+0MLI6lUYhkMIKVjgUzxZ\n",
              "bQkv/vb27z4bVhtrlKbPlDCkzsAD6dPm83zskGYU+nc7UnZdh719y5n033XUPzAyt53PO7nnnWVD\n",
              "mTPHmDeSdVLeIDssryHDmAzYs9XqJeh5FADUpdqH+AL6u5EAP+7Gh56I8h+6ZSbCjZhNVManZGYL\n",
              "5FgoW8+pLaKw9oWKjrq7vLqs1KxP+N3KOLn3Pq80utVEXQZYDBSPWDtkmETLG0xiC4eMEnhxn18D\n",
              "2TokdauwzvkqmMbViUbdPLa1C+Vovz8w6WuEKcArTBeqR5odDMlA+PS2Fc4/HPe08t4cqzbdEPug\n",
              "giYoGCA68jqVVqnp16c1DNgwr2lQ3owWx8S1oyXKySgTRPEH2hy+kAAAAehBnuxFFSwv/wBkgv+Y\n",
              "ID/I+9gByN0/hsf3FijTPaKcPVVVWwAg/donATM8nsgfry9U3CsxIo6f2y4yqlXBXuqclyg5H/Mz\n",
              "RYkLh6MPIlf73QnXH9BA0vQCgtVTb8b+kUOL4XZsctMDFwsbEgAEOX+Mb/o7OhUaR7XeOFbLeaSy\n",
              "XhidomRjenfRRgA0DvhhaJLMkbuCAXlkxN63vJmcbdh4PpLp6Tzr2e5j6BgRLr8IR+0vEHsDz5BP\n",
              "/2WNEYY/7pgxew9DOVWlZF54ntA1eqA/Gk5OZujGDepSmIWd5BPDZF3IxY60npHOOp1cUeGzFwlq\n",
              "d/Penc1kRAIZf+UBULAw0T5Rv4TAz3ku3ZIsjO8Uux+xLVp/RpQqoozyKCbOCF7E9J38GcgcpnDj\n",
              "Q38reIOf0HUZtOgQHHpAmnbQRoK7bSdYAQ0wQvWRDE4REZhNAmCgLQqrt0mKiIa84e8jXfcnn57F\n",
              "DQoWGkE/7A4+JNTBUZKtH3qcCnzQ56gRRHN0xuDpC15+rVl97Xpzz3XdZVdTavB48q2GBrJOznoJ\n",
              "A+Utdug4cg1p8xG2tWl4+MHBWSL0rA9khLkoF1bxBiQOkiAC2/drqyyJC7tqRxcbVX/08yPMAmcR\n",
              "4X/dJDusQ0mScS06tjXL6g+hgAAAAYEBnwt0Qr8AhvfkYJKsg6Xr4GxIUACcdCpzDSaskMxE0ntk\n",
              "C4rwiG4Rip9xglL4bM5BXshQ/Z8sC42YdoLPP2PVMAJ27ch0p/1u6j3NN8/r07gV1ykbPU2bU+sC\n",
              "ImUAadVZrjNd4DhSD8jHto1TheBXC+CHnvNAVstqvzY7GVMzSEprtAaTsnDfLWnB4v1JlMbUH8eJ\n",
              "ssj+2JWDMV5BDqzTXJlrNM7xbtmtX5I2xpOE0OSsvqspLiGTl+hqi+UR6MFw4G4dio7Pr2MNCDNV\n",
              "20T2XMVlmA+CG4ZzOWX4J7I7fjQSjVh05WU31+WgaM+xtmjW48xLW56X9EGx77D/tSJqXNILxkCb\n",
              "ZYpRIZBHOW74GqLLx1g+eET8gYbxNwKMPgRNJL7VUin9kfJGReidcnzHC2nPxU8FwUm43Pc8x2eZ\n",
              "bOOEq7yaZAuOuzq5LR1g2kDQa0j9hypFGiFp1sI7YxN1TEAHhMqJagce37kAhxCt4SENsIL7u5/d\n",
              "qH9ss5epQFeVAAABQAGfDWpCvwCHBrqAnqabuJI/WcyrimQcPQrG+lacVPYkBgm0NTw6DgekT53w\n",
              "7MjAP6u+lMi7yjsNfWhIrqff1O5lP6eX+jlpUNV2EAOI6skRfuhFd1joibb4UXMtemX2nQNLzN86\n",
              "w6+3AtCp09cx4ErG4xOIxtig12erh0aKYpEd1ffy8ZlFYhVKVHlqa57Lz1JXqsscKMS9pmMtk9hF\n",
              "ufICZ5s2zPJ+Ge9FMAEny+wqNwf681juCEba6kXfFDAx2KRbB+62skN+wfcy6vxjS3MqqZIkE6RQ\n",
              "AJR/I1ZqRHRj0tiSwmQemysSHpf6Gi4ctICl8J3To5K3IFWwMxqtWAQl6vSDlBu1B1jbI+ETg+/o\n",
              "PdyB6S3johv5dm7CsNKISJeDp2zkabDP3nFC5DoUw6mz3DVIa6HzpmNSM9GdSNWBAAABrEGbEkmo\n",
              "QWyZTAh3//6plgBXBbWEB5OHEWr6o6H7d8B/hGyg6VKhjNi+fCBE8zFM9Uo6u1Pg4P+tR7FQB6xq\n",
              "G7DFYXBtZw8udAhjEBeTS74Vl1hkqwL9ssLF+O+vXlnuosJQ23e0EHDvizKaJzLO/TadJOV4kS74\n",
              "oIlMMAR3BorMwE1/Oe5SdtMzWvzt3MNGaU1WSgizdG2c2eiJ41Ctkvj07O+hDyWcymMGG/ALW13u\n",
              "cfrEBKpQl17P7xtWWBCiujU5ajlX68Kg16gxqFEa1I49RrSA0n6FGyyb6gmYyuuybWZV6ujArEee\n",
              "3sBEGd5TiXdL7jJnlPOk4jwK0nbWdsJDfHeYAYya8QdbXB8TYQ4YrHHBrHDv/8OqhjFKM+bOcqdD\n",
              "53yXQb1YcoWPWBIaklx1AAoklTDc5CVOjPdm4Sc3uFTj2B87S5TS7lGlaRpmcFbxZPl2rdP1X6hi\n",
              "rFL1/2pCOJZhiwnY869wyhXDaemCvWjxsOzHJDcZUzdKiuTofADQ84g8PG0Xd9htlZkpzL6wK0iu\n",
              "cp71zkZd0gRdCT9Kkw14sn7Bx+Pt/fKBAAABw0GfMEUVLC//AGcVH06pWSXNtPy4LsjuXv31ABfP\n",
              "YLTHM6UVdJCLvkX5+/JRiAchdiQGCrfcxqU5pfefMOXJ+R+Tmxpbad/enIWmOmojTibVNL1r7hVI\n",
              "Df7hE0aoYoVa+K8bP7FHUibGFzb/Qi2WdX4EIn8Cna1QTJBhzw8Os6BD6tCdsRsb6b0FvuPh1IeV\n",
              "owag9aIctth1YKNBTUalJN79zS1s4mZW2yzyTzO3rgruClQKKPNfhA7EAw88L/lHa/IvIol9SxPF\n",
              "xSTPOo0K0q2Uk19MikA9fwSqSIGCxCsxpMy8O8dNqcBMqBc1oIv6xx2rBJl565DEt3lRRazQ2cyU\n",
              "fDLPjtklypLyiUTRoO5GSZAjO5B87qZQXLH35VO9RioNGpMwFDonAmvv4sb+pkZjIOwJHOGhyqtJ\n",
              "J1me4Ay/8vmPxjLwtYcv8r/xTcrCxZJL9nfZijtuWA50Zw+/8K3vQn3599W5SqUvX47FlDz+Mcii\n",
              "MJtsQePuZBVmGsu4FwcBmTncF1m8yfn44YtWXI/esLHGHU+LrQMnHmSTfLK8iTP07Of/irqNPp++\n",
              "w9I8qAUr/mVDHqftoDPosmeF10TVK4gAAAErAZ9PdEK/AIbaOoCeppu4dZrcW90bGGU7IEc8dCeY\n",
              "BZQc+z7ZL9TZcyXIiliLKWG2YTcQKhQkgFmVG03iNZ91kPZMxxk61c7qFqnKWqH+eotLBo6rfrJO\n",
              "EP7WTyDxk9LGOI1w1bK9sueGPHv7yYuAMGZQ7Q4kSO4WDMZAjFa+onIt/WeR2OBDN99+986xJNku\n",
              "9FJm6WYkcr+faMhDB8FUM31f3mqGItM+zpUH7nSAGiXYqMduP9IZX1HP7eBYH4aGwALi4sn3p2mH\n",
              "GBh8grfzkcnjyuUCNTcCyIOc4rEUS3Nyt+AnImcXy8l9C75HY0CjWR2HgXazGLuLHC0Oj3TqhoOh\n",
              "FosVJxGIZGXMTFJBHoTyjGB0LZE7pNCjSwgd59c3NyEH5eJdgHsQmUAAAAFTAZ9RakK/AIbIT1Zd\n",
              "UVdfmtyUCR7SKdJx0R0AE45oU250Gq5QLsijhddEiou+8idVy2hd+FMHTbY789IP5j73cCcz3Jfm\n",
              "4Un4B54bg43CzSh/SQyAES6aBpbTDs8pNdt1r9HczMSUr8nuI90s8E4TusTHkWHD9hmvA16PcO1z\n",
              "8EIBeig62Trom/vchRInbxo1TF1TKeUfFyQMo+BYRs4glg8wFv1EE6kHP/WKpc0YFdkxIN4CY/AI\n",
              "9svzJOne4vFlVrhp1lyOofz+/q2LTBKgaIkwJQmWLSC2xDlYQUXlrO5Q7zDSFc0Wt/Evd5fImpn2\n",
              "gUyMIh9p29/82l3mU/msZmgNP0Lc1sewRY430iJW2Wrh1wNykH7u825l71VOvjtLotEmytJcywD9\n",
              "M1YfzyR3uo48rx8IueJ4Xo9LPi3IeHyIN4h7gX7Bv/KJa1Ok05MsPscbAAABckGbVkmoQWyZTAh3\n",
              "//6plgBXfj2LCay/Il8HeQrfB7A45ZlZuJfGRQy2wBgiJvwwCBXBPWW4NUL2pi6gTbq0dwkpfw9I\n",
              "9ZHl4hLRLiGddb7iKfvn8XFO4ozShebYaswnnq0fDzZPywijpUOlicqs40KUgOGf77aLYYsTVmqq\n",
              "Ug7uddylABfqJTeKY78QGK5GOgUebOBWdunBQ4FYjwW1RmFbt0J4cu2SVdF4FlGK4yqcYZFD3Kxm\n",
              "jLdESXDlnLdF8iPpNM464m5Ku9CYEOyQON2TcO/jbcZTi8EzIyuA30VEFWFqZsYmMgF5+DC/7fux\n",
              "c1sWQB+BOqeKjJYGrwXqZdslgfaBhnvCPZAdgrw8VnSo4GL6Ifp1uQz4rQMznKoWnemD7wySoeHH\n",
              "Gy9vYOGQI1OK+ViKSIGcyZdVKFU3cEupFlp7AuaUe0yrIjz+EXtsMF0gqI8/kUSLgdhb0iz6BEeQ\n",
              "I76Caj2I77JvyNnn+oie33AAAAFXQZ90RRUsL/8AZwMSVB1TRq0u7bgm6lua1cECYANDy9wdRn5z\n",
              "ab7a/6mF1z5NfK/q7o+G0D2N6FBsi/+odUsQBh5mqFfmS5ixOKtRC9zuqC3OcbileepFzkNAdDg2\n",
              "aLm+Wk2ZHU326qsxDRFkFK2zZ1cRNy6MZl8R7fRmOxln6f+z5qST/2j+AghF8ea4JYj96cxnp57v\n",
              "oikLjP+iCpNCkZ67bLZEL74isY5O4lPZXmNBnHOtL7E1rY7xauYzKBNK20taTUo4MLxHJtjC+SLd\n",
              "upLWfmFkeAGMsZ+q8FNrlcO//Kuan2bhioVI0Ae6Mx3yE/IstiWBaiSSriFhGefknPe5+pLwcwxd\n",
              "F0unKq7z5bYmaRGKvo+NcPDdS0VyImZNRLQbTtVZuucXV7pN2brYrs8OpReEKsCrhrLa5gtOVvv1\n",
              "iDh7LXcDG0BSff/R2X5rNgL9VDDoBQAAAYwBn5N0Qr8AirkOPwNgnMAH4qr6wfiqyQzETSe2QLiv\n",
              "BjdoPR89eA5vwgaJGQPqUmJpUEvIFsvi7omjmCYypISSrDbb0IRtrcvtlu2vNn9D1Sm/t9txISx7\n",
              "Y6DBcc/FbWiMOB4j3uunUccgpmlyzRrVkAAuqRq6+ot9p/iAVef8qnJpw/+5HJ1oVR8Aj/p/vez9\n",
              "+IsEZA4s2H+JbmOB8Axdv5ZqXhyLjXH/1SCJmKZ0ra/RBKza/7AJVjlZEptJ8dxgQb5iq73KuBwW\n",
              "J8eh1l8ZQNuNmpPZDwj90vmroSOfcQ6X6AWdNsjA/SdlxHL7nn0enSLg3diP0ktChd1lBHeAApZE\n",
              "T9kuUqNEkSkeKE1gEcv5jAxv+h2/oBVwUA7p9bLigFuSIxZnLBDR7wladS27kKXwVbhOfk0MvKyC\n",
              "0psBXzIT7g3/19gaQKIvCCShHPU3nMHcpfVV1OO9nzVIv5sJrzP+4NelQw+d0P1rmzyVU4X926RP\n",
              "5Z7KzIgMWvdwpdxISi3fgY0rCYa/oIEAAAGKAZ+VakK/AIbNH0AF66FTsLeVoitwF5IPhXbCUyuM\n",
              "7ARMGRrPMGFHvIJ3Qekv2RpBvNVvMrjBgJ8NOwBt/x4fXQJDFQTrQTZAEmdgzxBgAxV1JsvyJokH\n",
              "eXCAjcRV+rntDPIjDsIdYAjDqi2mjT2TPwkc/p5enjhH0ohiMtFJba6RFOtG0+lxn9Kb7ni+Tta+\n",
              "Nb7CK2LpM45a0cgz5HsnleXaUbFHyIflLmolDa8ggDxHoCJDv2LXk14pMwM0dB7+Ib9pADuRBhHI\n",
              "Rc/NoGkjjR3uOK8ap8iC3ekm7cOltSdavxZ0NtEjyIZI3CcqhTADEzFc/WMeRUqTJGxwRf18kl9u\n",
              "8Mnd/29AyqCp2CiosDoROlaMSu9qZ1whqad1N9BJktL241cDZCT8A5/RyoY+r6cRKy2mWyNircYD\n",
              "AOs5nCvIKGFQPrwvuegQewd9Vf4tITpOH6PIvGb3In9CL0mn/1XfehoZogyncxsyowLxr44M6iYu\n",
              "JRnQRwHYqWIAlWPWfCGVbqXRfHn/5gAAAbVBm5pJqEFsmUwId//+qZYAVT49i7bJZ9RVgDByYWE2\n",
              "59yD860QX/aHWCXFXKuXayloGE3pA8y2IIZgeITG4eb/KBkWblW8K5us+SrYTWqOOpVm7R5IyuaZ\n",
              "Le9TmhZkkuETQv17xtQwWww6LwFVQkdcIDLHYG1ZAA17zEF5X2oBOAnvTrL0XXPExlhdQvNPN6KI\n",
              "gEo/4Mv7FSkowClew2XuctV2gLaeWTUF+38wJxwpQD3k084XGrogdW+BNjcKZEKKbVvYw/6NNNK6\n",
              "PucDwqmISYb9qCtlQO91lM+a5yzZ1ryADw5NKhvmEvvwteJOwEaJAXFigu3MHqUMJYr53ejt8TdE\n",
              "M1+O0BuF5MvRMAuSHytiLsA1CjUxAlzdkYmMdLROh3zIpZND7VXfm6kSp3qWzntPclBEg3oxLCUT\n",
              "x4EviaFOONIRqozKR1HW51ylMClWL/g4zxwXKYbj3HaOMQBhohT36kTJrCz84B5LiRtmnV/Ugtlg\n",
              "WktdOWV4nXTpaNzduOa2yurSRo3bOTzMesGYeQkKlWFTumB6JGorg3fI/NX+axMFNIwrB6UP7bBn\n",
              "DwSJJe6u4wAAAZFBn7hFFSwv/wBkgxdjItXyhHNJYNZhvmZoo7IAQ2YB+QsMnrr29BM+mH7A0mDL\n",
              "F3OPP0rl/66IU74eqBW4HYvPQa+3i2mT0UGmFYdQoc1kA50AVcaddVDnU/D7DW1DPYPx/Ls4d3Vv\n",
              "WTOmNDkLJeu3TeDefKbhsnEe51bC4rrKe2KggZKKRjdiBLd19voon01Yi/OxSCF7C8SupxQFw7pg\n",
              "qjMXOJifb+vYzaNmV72bIX+yLu3TIsdRFKvanuOQcNpBot3wIKEZ2s5QvoSyp0zkhvp4nD5lX3J0\n",
              "OM+kKlY+ZfKXrBqYVUQnWglEnsMfFXHcGsxzRvka8nbmz6W7hdGRxrhXWMamDIBHCuz5dbjvrpWm\n",
              "utMCWm5VMoZKnu5mTgsRvFd9GyVUXXtrcKwv4XJA1J8rwY9J/OrLNJ9kOhBDT0Y+MjbOecOMBYtS\n",
              "5zboFC2+afI8u1nFhFUshRyGBzocZyCnRUeOoI+RoFQlNK29x39XEcARlKhhPeSjjssOL13y4z1l\n",
              "XrEVO26ZTGw/bs6/WQAAARYBn9d0Qr8AhrmxvWIOhaIgBJoxo8NwfgbFmCo7DS2nMsBWlDS99bPz\n",
              "towjQqzq2HpzINHEudIgFZ6rlOS9EyjwYngJonYD62L2CGlNSXpGwNbcVyuUZ7dJsM8yG15FTTPn\n",
              "5i4S68j1MhFPE+hmrD8YjwtFDp7ytDBrDLP84qAtOU5LFeQPNw3+hTqEZbctm/CpY0lXiK+y4D9r\n",
              "v1IaCemIBfTj9TC12S7RJnKHkmfKg5GW9W1QKYbu5OAvJgrEvbNLuAZbVpxpQBIy++3WmPzSW+eU\n",
              "WQksYfDzA9n338vJev5r7eBpJyv/8oQ3kQwEIkk+qnwmru9aDVVvC4cJAeAK5AzjTAMmkFEQ3LTY\n",
              "61tdGtV9kPg5BAAAAicBn9lqQr8AhrwuJkOgASpC11rY6nKargbClHL6wfiqyQzETS2T3NcJdYbW\n",
              "iCPz15ciqvpUfipu4aN8CqZz05WnbHAaRCsUHcGDuO2TPAAIv1/ry8ILd9edRuh5hk9dwbs05syL\n",
              "3Zqwek/wbx7Czq16lDlIz5YoUV2ydUC+19nlwAQ9rL813oSdRSAG97JJDYcoXCq4PkOLURYB7DUX\n",
              "jwK7PtupXyKkmKyPpv5aGPL8ByMcn9YqZdstEf55gq1CIxyi5nYp+lnuCF/MYLnTdRQfeiAG+Iq/\n",
              "4JQzpJ2nPIp1x6xlaHvms5RiFmX+ZAM0Fd47Fbl4cXA3UZYEbyX8+vkYFCLFXGc7FxtyzxNwrryi\n",
              "AdEDDK01s7gMmHuMim8U1R2NIIxTAaZattG91p+tHpiKFnZLq2Ey6tSDahwZwW5ReR4cHsVHYQj0\n",
              "rrUw70PQvXEOaKeXalPJni1Kln+d0sEldD453c/rTQk+fGwTiBoylLZGmSwlLDFfgWbXyAbfdDar\n",
              "JPL6PY0BqFDedFd+kU+1vhtXdkhm6iMdQQ8iRid1w3X+y8Nc6sfHeL+AqK/N0CEPJdNZ4pFvaaBw\n",
              "EbXN5+BQKB45XKVMdDePf/WRFlxfbGrX2JZ/gqgacquybVrCYiIT/XIbpTdEbE0YrxzEAG+ou1ms\n",
              "o682Y0W4Tpr/K36Lk6ktAHOXJSHS6m0lJIKKv3w1inZsxl4NESTZTYZly/cdshL/hUOfmQAAAkFB\n",
              "m91JqEFsmUwId//+qZYAV3hb4INfcAFo5EVBSc2ua9WfPlaJXK/NUJylG9KbXAxE2nnLcPeSpraM\n",
              "vZjUtIzMBCoX5iLG93iRtxhZosrH2IXKYe3oDYpWwIhl1Qjvi/pqxsRSG2cquOb7yZK06wuByxb7\n",
              "qJ4sxAzVMPGWmVdAf89fISRbg6NVQJ/OP1ym+UBU8/fsPMPeVPlhMXXTNkhxwBEDZkaHHvj5waL/\n",
              "TLX4mR90l2r4QFhIKFshkNSbqnqpIaHzNQKeTvwdzBerJmu202fu5ZaFXahoo09HPjr08Jg8vOwV\n",
              "3CCn/TIOF+O2qV9Vk403AGHPHUozO1h3Ua3so+BIaWJjJlhPoxuOn/Hbn4udRzR9H+4cai3W6EAT\n",
              "oUrqHU7sS+w2DJOxA4uIB7Z3veBc72COOTNvyHUY/KJJp8o3DeTEzP+cV2i5aoa38R99i9tNcwst\n",
              "imzSq5AmujLl68tTvwKcqVi7EfeW9LrXrTVjzYGaV76yzij23uquH+J4dK3eel4t7hB8AXH6O8k7\n",
              "q5+cJRPDnLv18O0zgcnbnhNG5ktcSR3dlAFr74EF1M66Qoqd+oHQHDZ5DGGlql1L6n6WzyGkW1Nh\n",
              "kv3fEDpgsrR5Q3zhuSulOXIeMVPgutXHz/q665a0DTnqZIR+fGGQ/Vdw3Gu78SgeUcXmr5geZYBO\n",
              "13IUu3s8pRqp53bJmiFx48KppTEH51ehKFlrSZNPCW8OEehggUMvH1NasU3U08rwhCuu162gJlse\n",
              "zKutTenkAAABMUGf+0UVLCv/AIrruSNpsAgBBmuOXPgo31+eZMs8kijItkh540Qqf6murGHy/64O\n",
              "wvz4Mur4xayDZXarj4VYV2wjK0R+rLIkuYPi9JR7b7+c/t3WpPxNe8w/rqHcN75nEq2e9AyzEj6v\n",
              "3WaMNzrtbh8FhnkwwVcEtwcCJK095rdWTzqnA70humfGhxIn+QYUaG4yPUzXUya4STSQv98Dheub\n",
              "wXyaagwSzebXxuQ2Sbl0sjLQJUuWMRcicNMYSex/0c+M7JI1Ra4o4ROBF81e+TJKHmVox+udN6aY\n",
              "2wiGd/ZByWoBNxBIbegJJVopbTy3Smw/JLGiBmJgqZBlEhocQ71U8zttK13Oh4xMXg67qXdBQWRY\n",
              "wHdNgJvV1Heuh9YkzN2yMiCDeel852EafNEAxJNZAAABiQGeHGpCvwCK68cNrcYQwX99hodpTUh+\n",
              "N6Y6w47hSVSWGk1ZIZiJne0hyooHXDXfPA4HP/3EkVPuMB9/W1Lmt04zFVa+E1CZyQeJlYep03Gu\n",
              "eUiiG1SbGQy8prlFZU3YHI8yDmxvjTmjN2OK6oxFqan1+jNZkKgcigR7wCh0j1sSAcxJu7qvIjGH\n",
              "dGEvUZF6ngXitWXJLv96H4qkuIILL7d+y5P8MHgc44jsMbPioqDaikdRIX1YwyYVizthAS1oVwBw\n",
              "1bgIoW05aj/cEJTZo6/0LzCnQTk767HY3doYxXG6+Ams2HbGHMWVNAs753ndKir9X1WSLZEEVdTz\n",
              "jwV1pdACvcnypmDU+kvB3jwAD3bUC0VAbrlVjSH/jsPi43EHeGOEvu27Yw5ksPhLFnYLn/n6JScE\n",
              "wXCevcPvKcMmLMwtWZ/mpmVeqjX7mCwKdr+yIpjtc69BG5gKKDp6cmzYRq0ytdAW7A9t0srKyOxx\n",
              "OU3kWrBjGcbQr+eKAVgNB3+WmDxRPDxUrgm2xQAAAhxBmgFJqEFsmUwId//+qZYAVwI1m6XQpKiG\n",
              "Vwq4sGqGv70bYikeyqUtBTuKLhrBg4AaxBZzFJxCHTdb8A72ydTbCrF57oT/uPgIvjQr17KQKD69\n",
              "HImfS5d/1kFeN6e01SEDBqjblikTPK/I0t2mdd33Ven/c/4R4qW+wJHtPJBCJZ2DKw9UdhbS0zwR\n",
              "fh2+e+QrTd7B6U3RavgBW26JVkEmUxzO/qEyEj0JDarCTGewepa3fXSDBLDH/5S2tTETPvuA49o4\n",
              "2ZqDcJA3mfv2aEK6GyS91xQt0qp2zWk6w5rHV+s8fJEyL0rjVa5AyN9IlWHtlCkjPRTyVSf47y+K\n",
              "9eXqOLjVaifrBej0rc7YzUCNkidu18TZNVniUHb0Wfspyk8vFZm12f/jEPPpppyMP+ANTfFGpyeZ\n",
              "gavDPinWHLjQbTjbB6mdRktEhXtcAsi6IT5av2J1zwRuQWF0SQmvfnqXVNwzOjgImZtL79RRR50S\n",
              "sCm0EITgRSW4waLKgOV2DmgvUn7j4Jsjfznx53WjOyrWRNS//t6OuVfAzdBTe5O9ET0BkLe5de8/\n",
              "DrvStOL459yRC5NIhlLdsDRr/v33t2cAeEAKvnbnQWI9eCsr8V7WtLi0Td1pj86tPgR4uHcPWt/q\n",
              "pE1Of/ckctrP5AD4geIrJZYkiVSp0qJhnc23CRWxWhn051AYEKMohZSnTl3V55c4SlOiS3iqIubi\n",
              "enAAAAE1QZ4/RRUsL/8AZwQ3L7Mo/IjJbxC9/Shvyp8LLbeMWuNzsxHX5K7htjI3EMWJCfb8zNGD\n",
              "igAaCYB60bKTVaw4UISkgxdhSH+sT7omH5r0+I22WWvuOIexfq72bdgKK8LlMsHFl7VvXj17kjpn\n",
              "1lExlRT0+b+URgkmiIHn7jgvO2deSBv3/SWyaqovHyXwfADtANn1ioqE7X8YtktfiESRdA75jbl2\n",
              "9QRstjCtOPveQ1O9SPN35ezTgLxrTpVYCs0zNC7q6HSkENClwswuTymkZenDrvF822y+G+z2VSV5\n",
              "ZHhwcmQvkV4FGqgFSCo+SyDRExFfoTeM/1tPSrm+AZChidNwFyNTnT13Q8vGYo5XpuR+f6razfb8\n",
              "Mrvm9h7BmL3GswBuT9yMjvOsYSv8OQTckzTNdtRAAAABaQGeXnRCvwCKuZuCSqE3GaiWj92Up8dA\n",
              "BDehU7XYQk1grs0GBDvksY4SzwcaT+T2yCRvm6N9ZfrqLRGqUz0/asn8n24LFuqYOe2zlXnrIfT7\n",
              "bkFTjqw717Yo9vQBb6d6XGFJlKpw5MtTgYz4/fkVbxnt0BlqMsXLMdeiqLUxG/QO8ROT7bvFp3ab\n",
              "1S/uoxG47zs7YESaJTCL/KJ2ZiaH31GWyQk/wcJOL1ZhuLM/nBGYZMZGuixIhOeKwTQ/Qbc5jge1\n",
              "D4GMn+0a11wQxdGlOukkce1BCX/J4Z4fLQ+lxG5Qfop967vzBMKz7TF1F8kc7FGKPKEMc4v/s/99\n",
              "wlMgHHmL3gb2m7hjfWVDlZtr+4ETXsYAwuP9vGlqn1d8fSVMex81eBTx+L0LbBNaO+DhsUgPCzEb\n",
              "oASh3gAA948zVoQ8QcAOOHA1YUqznO2lku6EPSk949XzAUkvwVXMMDMSN6pCuOTghjo6+cEAAAEh\n",
              "AZ5AakK/AIssab1IQ4skT7IEqbqXA2CrABOOhU5hpNWSGYiIYGyBpNvi9xYlT7jBvzb45ems1Mkq\n",
              "OvF8O4KHLJ8mXjVdy1HjARijKH9eYxz8ifSKQsSNv+dBkLH1wDT17mqZ6v4TUrQSBIqyRQygVOxU\n",
              "WPsnjqd9FZS1FlLDt3Sg5Hy3r4j9s/DFVEV4ey75LNtdyfieiCuvxWzv9GNcpIYrZjxXUOXdvjdw\n",
              "ET7AJDnCgfWBX+XKAlnf0ut+tUdXYKXgJJXgBC12H6U3TNu+wLw8Orr5Ay79zIgPcH2rLg8V5G28\n",
              "1yJiaRUeGVZPbwmT+OloI6uoeCGB93z4fBtEEU8OzBf6myyXl/+fgb7wd23azIhp2ib4grihA18U\n",
              "5iwZIAAAAqRBmkRJqEFsmUwId//+qZYAVvSUDlFu19yfABQsya6Nv/NscXjdr/Yvd2kyNokDsU4A\n",
              "SILow5Roght6M5s5okoCJKk0BbeU1OydJ2Dbt+S8xK4M236hjkk5lyuzct6u0OdJegq2y8kMibCg\n",
              "BNcXTVjb8X8N97/g6bilvlRihgtzu2IXkC8LvUdAtbMAvt7Ayv6LymCeHe4hkX5jg5IX4npJCkqX\n",
              "5O301cX5LXEehmvxeopM3GD9dDSjLtDDWRovKtvViJOtA3LMe+6bNxJeuPOiqOvGCOpPF/aEfoA3\n",
              "Y+GkkMPSLifunWhBzk/W/eKl0Y22ViYCovglw8GODfJAzTyJakkfk5wRr/xW7Qn00zozsiTnC6R6\n",
              "7Zpzj4zdyaErIHo3mBtnkvJ8VfomreAgSmb2R443itSsOMTKSfnIQo4aEhmdlcmy5sgQiJIyf8Ji\n",
              "3hY5Mvswz4e72HqSpI+/H3+Yk7zZgWe2bYjqvNqoxBICjjzUMR7arfmOOpOf0uitjZDmjxCxf4u5\n",
              "FZYt5wNS4z3hQ8TyVRQZX/YP3wjgEAuxVTjEOFDGKTc+V6oefTOAZTkzEUE3cnrz3MM2K95/uKeK\n",
              "m/TQgnzc5oZFk0LAroiQ+b2ym7agUWyk9xWTpH2Jx32KBVde4xzbIjQtgx6x1wEpq4psk5dY4fct\n",
              "iMTsKcPfORRQnz1pGkBLsmhPFIowleLUExqb6n8GyNRBm5DSe1tKTYjoO4tjs3FUh2zFOl3Qd3Kt\n",
              "7K2v4+NQ7IQuVZuzAfg7bnxNjiTLmbmHxGea+k+83CkDJDQMoHQSnbihQmMmkobGDJDWNlugdSr7\n",
              "59q5u7w8mXST4e+eV3VrsxQlQitB/Ael2oKbQTioIX9QcMZ7yw13wHzdy/wGaYH/to+eHimoCC+B\n",
              "AAABdUGeYkUVLCv/AIrs0SDYtvobFVPa528xtHltOxPpnxBCEiGsIi/cQAcp6Vx/swC165CkmdOF\n",
              "EMtECKBuqQHzFQOT6CTgAv3MixkDVVnZO5YO+wZVlRYJtx0REopp5l1MoYIL+mSP1vWkGC8yj2ga\n",
              "42825erwcJDpDaNyDJjhfvdPsZn8F9pCI44PkfM+4/QN+SM2PcqNEK3v1nEbm9dx0WVm3tPfTWgc\n",
              "UXs85tb1/11Bim8EOUnImI7FYIObsKOlP4W9SNMd9UoxQRRtXjI63XOxzC4ygrXQr+ylpQgZs8sf\n",
              "nTzEs3X4LWs/CNdtM7SQlU99VWPNKWu4H4RoUnibnZvhB8LfWb2LevdyrGVSlDj2fnXETDP5mpcX\n",
              "mT35InmcVZpdiAE4uxRgY1xqtJ0WVIFL63WafZPUF9od+0kPsZ1aVvn8UrqW5sHA757wJ+bHtmZk\n",
              "5k2fiY6nHLRGRxKii3exEvvy7dGtg0etZ+VZq7Y1xiMVukgAAAGaAZ6DakK/AIrrxzr3xeXQ8QLt\n",
              "qcGQZuKEheBmWVpQjaylMgA45c61VNc0R7Rr5VJwt5WiK3AXkg+F7bomraMYyiHmNdNBbNK11xVZ\n",
              "RgeUHAe2hswvIhjMj52ZSezKr7NFrKbDY5puVGWGRMYjulXNbA0XtD0HzIuT1e97gHjaqKXrtPU/\n",
              "AxxPZ9Nx05Mzzg3Y4XC5Q/aZjt9ifPluxBuS7oTmV/VxOWKqY6qioOcrcbwHRLl0Dl5pTE4N408i\n",
              "lB5pT45lTUEMJp6EhKNQ+bbdMkgT1cY0/qmc6PHaxHFrkkTxRAklE4ljZuOqpc2lXp8aPOsepT15\n",
              "Hu+1w7YyHpWYhhWH4P7p84JRJtYWXkep+vXcg7ckL+Oa/MSXC62N+VyAqmIuXKSsQ4F8VnWshFne\n",
              "/w4iclauoI06OMEfLteisvdBM5nkKfJpd6hUOvGKquWY7KRQu3qGbQdzexDVeTErabOZeusV+Qnz\n",
              "SNC2erBtEoc3oY0z9HorUJHf/i0dxDtn7Y4qIszwIvnd/+Iq9KXkL8oevpkBzkqvQssAAAIrQZqI\n",
              "SahBbJlMCHf//qmWAFd+PYYmMAJt+CBxRbCVEs57Rm2lb4dhCmX7pnwKHbqY4+RPwQfmKOQH9zmI\n",
              "+FxeDul/zBf1U48G8iHA5ykuS+y/DKe+l0quzu4XQXgxk62J5L4mT2z3cGrFVGa4mn5gw4KN3eom\n",
              "J9NmYK0v1grSizxiuC26hGDpIlLQCNmbKFzJ3YliHdUEKq+sxstkJg9DzrlPtFabSjrzFO8zUWby\n",
              "/Wxy+3m9o7ErL5ynrkq6eRhtTPey2j41BifodDdb1AbMDwY7FmexqAQtdu+1KuM8j/1cIB1yzvjW\n",
              "8BubAejYl0DklxfTOAcJy8VaixiB5KfP2Hh/mpH3T22Z10Dd5jz6qyXTd2tnOxbYlpxO+P128KSq\n",
              "JLE5uDjpe/8goBp4OyDn4Q4ySWPUVWGFzsJhENWaF9k6qLeuL4c6H3qxUETKg9Lo/f/O08SlOssZ\n",
              "Szv9bYtsW7WUwz+3BJ5EMgvV9mTB+wEdpulb+wTTmc41WzSJJW/Usv0Oxc2PRHOgvl1WLvIF4Bm+\n",
              "exn5lfDbSI2q2xSrSVBpgZx76Lg03faoHi2g46pkrju4/Uy4CygHJBz6xnyiOvEnuiSm5Y4UOakR\n",
              "4H7sHwkIuJVd+Wx5JX0r5J6MokxAxAOOw32CRzmgj7q0NKx6EiZcrzSuf1IjmlVsHIWuB/2Klj/y\n",
              "RpkETJ4dQFjtoFEAMwVtk7EtJAhrIQLPZSElCAGSZ4jQb13ZA4DBAAABJkGepkUVLC//AGcDED7h\n",
              "ji0JxRVZ3ZcOSO/FsW6uskyRkwUA4xa4X6Oftn1Vn2zGYNgNgjv3eVk5MB/vPrdNN8wTuKyrtbiJ\n",
              "VQvW77MhcwhNSP9Jvu0LYXIDWH7oaWfdQ4i6vMwtCmHQSzVv+AmMjjaUG7IY2bQVfHB3L8uCnqEp\n",
              "iNXAsdLuJk5Ukar+bGqQd3QBAapPIERV5BPPiUZoa2nOR3hecNpNfbSVezU3o3AUTX3m2lxOrQut\n",
              "VUsN+x6BovceIYHatvwsnybHzy/VckuBZo0LiC2xdQfYcrKko5CaC5///hyHQ4VRrJWa0F5cPTJz\n",
              "BzMtDg8yWI+sBI4dCJj68ekUTPLN5DZOfs1dmtSoaD736tcYYj2YqQ75Rva8vsjBMbXKwQAAAXwB\n",
              "nsV0Qr8AirmV2MKFQQ92Yx7GbmxKRjTWMx6IeIq7ApipMuUvlAnhbDcylrYTETMqX84tkznZVLfG\n",
              "4FTOrAR+VLQgTDyJyLO9/cUk8OmJIC5r0saVXweNjFJFocRdWcVywEpaoCwaq2WvdrN9FW2mQ5kj\n",
              "q/SQzCYZ8OuMrqJWBRi46UvjZBNZF8sQw+yoldHJNBTACXH4U0170/n2bNvFwauoNaY1ZQO9D/AA\n",
              "2JET/v1dIaGZuQTq2nqBQ65DNL1WjiajaU8xpN0Z+fju5dk0eN1ayz2+NQwJVMI8lBGnHHnknMlV\n",
              "ONWaUA+GZ3HZCWJ+cl7lIHr9j0LmXD48OI/DolEVsMdW1+56nBZufiyYe6JJp7jZJW9WIxyZvyYW\n",
              "7KvEIPvzMU8aPaqW1ozcjFtEbY1IjNUybJpkHxYuz649jMEp/3IBA5dxRFW/KaEkwVi9KwdSzFGA\n",
              "Dak5ap9rKVsW244FUwNhUnPNji+0it3ydw6UAgnYI7/UtyiT7QAAAWMBnsdqQr8AhTYeITIYckb/\n",
              "V6j4UgKy+X2xa87W+MK375nfEwagyih3HaLcN2tmzLdtrZH1AQ2iSIqbB+ZehFUpe4dwr+X97zld\n",
              "FaIEGdtAsXLtzAmpn+PoYbmvZWy/D+SBW1OL6qDuzSQOf1CQt7BV/VhX0htdaxkgH64JzXGuD3mt\n",
              "ttcX0zU/ovQjb0q8wlYdL0AqekAJV1aQHOeoHsaHanz7vuOTlr3WtXcKqjXK1BCIa4JMqihbFqPK\n",
              "EHiv/zebKcGsQEe4PcdBOj0osuac8Ae+wRHZwL8T3oczs+dd4kgVP21TmDG+wbdaGbFw3YODpN40\n",
              "jWxruWpJXEdZt9VmQ5QT3E47LRkOOT+1uxhtltuGpSjjE0WTFFqn/cAwRLGwqO3xQ8zWrK/rz1u4\n",
              "AD7nfahnn4b8vAZkLOQP/77ht2rtj+uu08CxNd9AHu+OE2yBs5PiP5Zfun/XaaUnlG1gra1IAAAB\n",
              "bEGazEmoQWyZTAh3//6plgBVP81sEKYr81Q9LqkRwMeU7NE3PgE79zsLJp7Nwx121cB6Jofw0AKI\n",
              "OziHeP9oMWv+Tg3+Vxj6y2chJYJpgMBvi7YfmCoufuugE6Aq7+xcHmNhva32QhDApmpWxDQYDcYL\n",
              "SrBKGDm3dFSC+94D/YrgMSYwWbVuon4b8oqiNtU0149nwdVfFaMzUVwZCOHNH+dN/s0Ok0cgHZjn\n",
              "1/vZJUaFvu0LDo26pUav0jiuXQ4amN9bxL2/d3SSW/xW8jfmRIxYJIWm6Gmkxg8ualXNibNb91G8\n",
              "RuwxdfVrsDMXfCi8jDLEoZceNwiNRzVZNi1oYsmj5kaout8tEQOIyvdj1AqR+AzpAWzruC765GWt\n",
              "Dc0dR3i3fmQ5alQEtvSFAfyfRuXtz8OYdUZJovlM4oKhdEp+o9touMsr0+Aakxn3yicxtjagpFNP\n",
              "9hDWGFpX8QcJyorNSswMgQmwNXORBWwAAAF4QZ7qRRUsL/8AZIO+nP8w9PggU4a7uResJ2apMpg0\n",
              "ShoYMvHRCTBRge874X29s7L9f2qvvmZJAXXbDefkQ3EdwpWnrMF74o+ZPOqDpqY/kQrKeditmYqC\n",
              "mA1LY18x6+WW2dbHN0JJyphVlSJcbcqa9PeMVYQbqbfXShTNwPjJtP52QoTEiluZkI4dOs1IUFOJ\n",
              "SQDKa5i76Y/WIHH9nPzLldNC+n4Ie+GrDqgRDuEvOIhf40ZQnECO5EMmqnA1Zf0Vg0V5fGwtxK4/\n",
              "5o9qvUOqKA93vcGVqH/Xxg6YWXEM14dYEJNl0wsMnpA0On8/TGXflLCvmea6OIzccq+EKHkDce/R\n",
              "DdxSKm/SVYVWgPcVCsAUhSmd9LvjSjouTWA5qkNclRX+jSBKVR5CwFmmn/I9wuB+HhNCvuuc9Mll\n",
              "bXA5glwNBKkEnKDyrVTlnqxnQhtuVyo7jUSYJD9Dx86Sjz4GUd1useXX5c55S0vWugKHCgnBRaiv\n",
              "pQ0rHwAAAYwBnwl0Qr8AhrvIAoB5q85pjl8f/mCyy6WWH/f9YsX1qqq+or+DlMYKhYFvlE+BsdiU\n",
              "1bHLnoVNP+kLXudEI33i3o6IN6la7mC72tNdsGRufAp9lv5mGq5Kp7lNC0iyK8a71ZH6XVuNWDoH\n",
              "ZGNRm5IuaXBLPxat/uO1C2nRdWi0Nokl0qch2/PqL9hfbq9Fhgrr4v9NCvocuedgPId+Mo4LHoek\n",
              "3/1XSJGL9QPZHp3Hf5igK+PREbxLw716DHNZUSiNhFEp1R+OXrdLO5E7ZYo48UbD2RLEryWZ2ZPN\n",
              "o9rbA33pVFIc+ydYUHgDZSmvZ2v/LBS6I1mbFKI5i/0xZqG7Xtz8WeEfVvSic/pn9UwJmuvt036i\n",
              "5Cdsp6VDST6lKigbhUE2ZhelrVeY+pGIJZ8exNbPi05NwXv5rJebBJPDEsvqYDIAXeyrS5EWIhba\n",
              "NJH5/U/Yxj5j4/2Xg1LZB6P/temwIucVawNnQUaEHNEavBoi/8T2+TUQhx4SOb1N5P2B06shtGnV\n",
              "rP+fi6EAAAFkAZ8LakK/AILsBowixj6OjZZWpkN4HEAHA/pvATEwKnroA+BUtbEDead/qfQB+VU4\n",
              "HIMA5b7YXnymT9XGB9vrp1PKruljh0ZC+4YhmSfXnodlvfg6rlp70ISiBh3F+i7pS0XhS9K9R3LI\n",
              "Wr6eMcAfdG/GmNt89UwtH8HStMMHaUOjOGWGvgINWMaihmALWnChs7NSCgZ5jGlaLNn/M56w2It5\n",
              "RAAM/ekw3QQYXLdZnFlJJtmzxBUPYI0+PYDiVkuA2dHePZ4Ey7HA5d+FUQ5l474lNA19hHh/4Xlx\n",
              "dXA/BKRqKKt1ggLMJ2PIbfGfbfwTb2FhRqSLtAEp9NcCN5UFQkW87SFPpehix1Got05CSdsftim2\n",
              "II3rEkdoAs6Sgwme0J9KH5diM9360A4ATRKTbVrmPVuvuFIugSAAYQMYec10JsLMp6wd1fsuEhIo\n",
              "GiLwSPwFK0mSOn+ZMYGq/IBYnjSKv6MAAAHVQZsQSahBbJlMCHf//qmWAFJo9Y9bNbIAMauA/3oh\n",
              "8tCpN+D2CyyAq18iKbKqfLTNGy1R/Kvan4ok9xaiajN4j9c5riAPOZ4HxYlhuulfYw4chSgbjbqj\n",
              "CqMcVR06FRZxTu/dHZZp+OFMJn9GSnR1t0JhCt+C/4FyBA86g76Za31GFlzZCX7hDmwPKlDByUHk\n",
              "0d75XSTCfZ4fDgnVJlrFZobxrOZllQCRI3fQvYr/i2ez+p/bYEg4hglQkim6VNtiRHotDQV0xdox\n",
              "P9bt65VFQ4laog40ZmnXdf2u+dX+rzUVlVceJosHRguvU6nhRQGNbZPeBkJxxyfDe6Li3lKw3g/j\n",
              "Kd/wQIZfSQ4kNwWIu4x0kD0TGQXscSqq/5njAeXf+P9wW6kuUFcVD+Tte64TxLYWtTW50KR/SYks\n",
              "Us3SPRnWqKU8x9oFT78/RrCxaCurbRhjyhOOujAX+dPTXntYbXHjPIPq9OZqfc4LWh3e76RhboG2\n",
              "WhrprgYdSi5FdQR9XAhXMFaGfrnD1ZhZluNmcMSsCSmq9rv+rbkD7wu95/g9wGcqc/DamSDqLjNZ\n",
              "VB3L7HNFKZTFzxNIheoK0EIgXc9pd9hZfYGokkDHpao2cNlG2KwkHQAAAWhBny5FFSwv/wBkt+Vd\n",
              "MyA/tBBRmW3x9PAbjIR0oOCDSLugAMzaLsSE/q4N/oB6CoSptivjKL0qR2m7soEb8EZVg9EBfw0P\n",
              "ZNx/nQBjJhXcbn+LnHj7wCXAg7rgF8oL+kan5G2mPyApAI18vnp9NByBOMUuEZsQtdgIKJ5uGi9r\n",
              "H7dZMcfX1aDJ+tExkQwKXcpK0CEn+I6GSdxTVetzTuyfC1k0l7E0AnByAG7JHeXjfvK1pmKxMXIZ\n",
              "SSshmIA/mcwJpgsWsAYzeXM8tPGuXfu8U3NAc2K8ABMdIdDxJKSDUYJR9+Sy4Y1FuE6q9yA/B9bS\n",
              "i83j+GO+jzAl1XxOPkm4+xwdpKmOQJj7tHvL61ms9qvkTl/cF5FacV/kNYkVnwdXCD8d4i27PvzI\n",
              "k1Wun6OSAjJrOcUI3duv+OTj8gnqIr4ZiHRKHI5m0OOJFDX1LPFd27YwWnCN6HK5fLYXTC2ay0X2\n",
              "MjgM0MEAAAEdAZ9NdEK/AILuO+TAfrGfzTkTEi2Zh8QpKOnI/0Bl4gI9Lm+X1e2mbommUpQeC5kC\n",
              "jXTbEkngYIOk51twOZ3kC5ySMdJvxuWhAnqaCf9HG+fS4Xy2P84bcXDfK7EUVmzUAvzJJkOsCJRG\n",
              "h3q9pJSSZZfUJtnKrbd+qWxGraPCp7+nTn9Mol3og+YOSCE/qA+ZMFaH2hO1+mLB7hIoz6VLOvNj\n",
              "NWzhSZ2X1UKJUJgChGtCkRp/yfhyJOUvnhfxlgupEiJOGZmFKRg/V5j8mKe3eLlGmp5kwKQLJGg1\n",
              "X0qAeK8X3vQVjgq4u9ZLeXd6IzwjcI3eyUoPhGMbXkjD4sx6fTyzBKZPXvFPkOggCNqV840/KdzB\n",
              "TtWzZs+80GfBAAABowGfT2pCvwCC5o3yYD9Yz5e2mjfN3FHJW0/y9N+J+LNaFq97S7rsBQoNkb+D\n",
              "ETB8SnUsZ8Qpb581DQWGeKwfriWggjyUX37tMw/vYhOqQ4t8ehL9/UnZ9HxueuQvbI6IQA9qUbnF\n",
              "fJTUnN6zmYUUk+wJwsdbKMNj3lbMv/KR3nZgAddBsrx709Env0KMWNtiSnsjDsOjhpYnT1Zp9lPL\n",
              "//DRrXfvEWPFjCreVbXCDVcO6ZOtzfzFjQ00FaUYhDkEqkv7mH9EMnpUoQ8KMYvrZ0lrD7M5ntet\n",
              "y6WvNYr0FY6LgsvN579TWCn5hcpvq3PLKl0ulQzShtjrcn26R2QCmbLz0GVK4C/nTeN1k0Wqe6Lj\n",
              "6CbnbWWzwMGYxNXaPxAJrsLLoxnPfY3KxAeFDl9HiE6yIxpcmVavYX1znqzYvLhKMJy2Fz3rPAGK\n",
              "U8l1gugIN3ofD2BZG2bV5QleW2VIgqkA+nMJs+ADu+0bdce93dpFmdTDU8ZxlF9EiSXrqbik+v87\n",
              "GN5AUeh/h2ItL7SYjjgwnHT8Q83pCmcYEefcNYFVOeVnAAAC3EGbVEmoQWyZTAh3//6plgBW99Wo\n",
              "+Qlwx5X+mivbjpe7JeXxweEdg0VzullTsaaalA4jvHt1M0rABOSPFQUmopoUpjQofcbzDO0CCqe9\n",
              "6JL7zarp6nanBPF9L6ik//Ytw3JgcOWKUEgSV7rH+M1J1wuq9US9UjdznGK+a4nqY3A/yPt/gNWI\n",
              "311G+s1cDDc1O07pX6NjcGd9UO3ukmxOjeBkqxs3anggt8d6ONeAWJcxP1L0uAZsdtnKmx4/dhnS\n",
              "F9ghK4HBMyyHw7+WLVcLUgOBYYCGTVCLaaXTOkIv3WHbTkGxi8cyhAkAWvZE/aDntHYsxfn5Af0c\n",
              "bGelLKfTYcvQ/nw2ACpugR+uMs32trFIW/SjmmXf7lMKJQO4Avu0cmaP0YTBTq7UP8aIPsXqJ3vw\n",
              "qrSH3AV30hHN42J5olykyHNIwTcAbEFUq13E8wHzgTBBfT0MfZR4eWnL/Zlru8oMge/wjyYL09am\n",
              "gYP/+NHM+m4BIfnljuygsoDpjeYfQiBjenBI6Mfrd8jTxOG91vLleFerNPzKpGv4BJOkIPxP+o5I\n",
              "VLKOMGPyNEvBb3UbHCH0Ig/xfQB//w4iTgBAOHCy+5pQb8MnekbvZIlwCEw16LTptI0ZmGM59GYJ\n",
              "RXESk2+Zys7IOrYn9lzLRJzJhw7s/JClHownJbn1PLw4AghzaNVRmbt5Nrvrsei5Es0svqBxGOj/\n",
              "g1BsZlYQGoX5whaoXai9ZWiChryE8MhtbrzuJkXf6TSEcq6QYoCI5SVYuRbavl/nQuEHMI3lAZkp\n",
              "OMh9MU/kdyC+aX18VdURX8XE6SwqsPrzP0Ymr/a91ci+Mx1FL6bEg0FpQQpu2RAvS5W18edpBlCB\n",
              "HD3PvkqkqYb68w/HVBtGoeTcx054AD96SSBG6aHSC0E89M2pEioa1D6BcMRLSQ/fkat4lZNoyEWj\n",
              "JIGnZc8vFT1j4hU3vhhHenjAedc9YDhHXvWzwAAAAQtBn3JFFSwv/wBm42drOi82h8NQAAeGoljl\n",
              "ogP40HHRCbeEd3x2jZi4nEYgH691S0yLRTVEA2irTWO3tXhQSkexShPLigjU7natwPVuNoTVe6Uv\n",
              "ucGu+Zcfq8jT52Fm3j66Nn+wggBVO2W9mL02SnzrcoXK7m/F6jQlR5Ujeno1ayBK/AtdCqrmloyK\n",
              "PKsvTorjj6B/epdqnH9gngPHtGhSnuZ/m0nykVxzvFtHFAr4izr3Tn3nVdwZmmM3n1J/Sz/Wg43V\n",
              "LVkJuMyg5LFrq/KXPW3Ob0Cfhwcu89+OAy/IWouhxy0Pire9SyYfIhQTFKfE4G8ksWf7czY73CvR\n",
              "8suxrKyvOJPVgmpdx8EAAAHLAZ+RdEK/AIq5sJRYHXBsy9hoUbSe42MAHKfL8PXYCFqCiLORlppQ\n",
              "1L/3qRSY6xqB476jdw8XMbIdMlb0K81OH0lZfdrgGcqcCvC2WbDYO1WvvzvANDWZxlFsh6ZnW6S7\n",
              "U3kiKt5YMMQAEDWr/ytG+rG35Iwu2/5oIT4HTiA+HppyY3WtxB5qmcSdTUZ9k1Zt2xJ6Np7Jkzj9\n",
              "Tyck+dHbvajIUjsaaiQSVzhaGnI8HXM3OeQABDYy8X2y2Ac/jq/1m7hvIggxV4Ac4HMo94t7LGvB\n",
              "k95sAutJomI6axvNopwxJtAtM+sRxB9RGt/DZ5AqaQ9IJ9SjLg8CgcNzt+N8ZPCAwTsZ9D3pRdAI\n",
              "8b9KYRyKcFXz9xi78OjRTn+N7612uZcGtVtAoeM/2STalWYsDJqXV6ZybsFWJN6Ugl0N3QvCEn82\n",
              "d7/2zL34vp0LXd1XWENUkxxA/0+aB1jib8RxdfCa1G1zdeQN9Pv6zjwacHGNAD/UCfja98QQyqYg\n",
              "IcbRKN+bEHxJLxLR86FC00qEH5OhgZZVrvgnjUG/pAJgso7uiUQB7ENDqxnj25huUJRPCRLpI/CH\n",
              "bPtsIIxMzBJ8FL/x+v6JdJoSfXIwAAABXQGfk2pCvwCLBg8cmJ9wqtR3OCSFHLUs3DqBlrsiTGBK\n",
              "bwExMCp66APgVLWxBJcVk8jKNv68k5cVEnTxjNq2JtfYAQ5WO86b8cPSqAO6QKinPAOnsWyHKzNu\n",
              "9yoexgs/ISzEPSe+Le7/q61LU0GhY96xn+sIG0EJn2Xq3f0mRvNEFO5Zr918cjq0VIpjxO9rPYgo\n",
              "EG19F9jYOEW559kuN6teKV0vjOSzi0WHlzikiItTkvuWwVkSvlDMqhL2KVG5iajXg3KtKyGJVTTj\n",
              "IddF5WUHBNaAziZFv1uATPLGcGPR0DzXbeXGL9LxTbP/kJs0oIbiA0y6vcIrPKXa6IimlaSLmUn8\n",
              "w+X8n1rCp8xW5iRqgCCyIWd35/QuwMwfq47gG1xKs7FeleZf+9n0N5ELrUhup0BvgFUIodiUCvmb\n",
              "hNm8aS8Ztl27Jso7D4C0K5TwxJdwqdcV/yb/CRpYK2AAAAD4QZuYSahBbJlMCHf//qmWAFd+PYve\n",
              "VfKk41q8e3WHVVyLSzd4/MdZzVIb6KdeU6NACwBVYU7a9IXhafNbV/aHt1SvWDGjQCRPNr8LwXqj\n",
              "ckStuiDqsqe/3vXUsN+xIE/+QwE2BbRyjTrPhLpDJksUjILA03vN7/I1usgW9HlBmIhEdnDdu4Dc\n",
              "zhXEn8Dnsl7rC+yarvc2LPexXRT8WN0hVGi4zUCyElRYFm71XCJld3+bXpGdcKB07ii/kItxY3qN\n",
              "g40GrCMvDgHxoZV1opvev2SV7lEBZvyL1KPWGKij4KQ9TA/j8R2PkkwvUIHDx4IsbhCKI8x9X80A\n",
              "AAGzQZ+2RRUsL/8AZIxqTlYW/E10oBkC5N+/WW4KOTDjkgAdgsEpPaxwUSGFCYiDZp/DsYFvJ6ZT\n",
              "gZTDWCgvEbmBjj1dDR6HAi+c8+T55UDj9LLOH9/hMkbmCHwSRkuOBZqfjBctMTyyQcBcdwZojjfg\n",
              "H92XrpLPXhFv6x0zLxbTg5lDkZ49fRvyMUnZQu5GqfYtz7h9oOOKc+neTfkO6ltzvfVR9j0H8YC2\n",
              "+bRH73ts4PnLdy8mQXJ5kvYeN7yX4TdzNegIs9f+oDEHrLDRFe6gOfEfGm3OMn9jpEJ08QoP6aQf\n",
              "nd4pw6DxtMHo7tg2uiRMcLLRocJH6OKhn0MD3ejALAbXuLeTCN5KHacwLvBECAzV/KymwbsErnZ5\n",
              "ttHmthtzP1Kfugv8QHxKPwAqWQJjIukhscHggtirDm9lS43A6gKTwnUqPRzbI8SwvUoU5u3AtoXY\n",
              "ASfn2W5nskxNNZktW2FFmDX43J6k6oH0J2cTgk3qpa4F5ygaEKDRp5hRCfMqMbu3UGG/thZEdCoM\n",
              "gk3Dx2tRqvcjWDInwzTxnfq6EpkMsPibEUGUJLXR07idQaOVY6BAAAABhwGf1XRCvwCG+BFNQf+x\n",
              "U/2q5MtGxkOb26tXVTZP4n1FALuJeEFKG4uvRbruxuu1yGg03VDslTVoHo1hFpVWPtJpR76JCBO2\n",
              "vG1EIWHikxUMqeGeev0LpiM4RTVF88rirGebI9c1YJ4/IFBhNvKzGmppBEPV9uckKgnG6bkI7YiJ\n",
              "8VFcwv4JbzSSWHclclnc5ItpeHRSAAfUnftvKyqSCyTLgTt7DA/cf5jdj+skvsNkE+HFqA1bs+Gg\n",
              "8HtbuhWz24Hxsv4SCQ2RFqDh3j7aiblgRawUMpH1J4o/MiSCIXT0oruBk5YfmsNgkSlbd4M5eOtt\n",
              "79a53OfvjQGJSQm178zobLnC+pqgkM/EiB0Bm8ktJnHBg/owOGCW8L04MlT5FKY6Q5NISwPkomMa\n",
              "CqBagbo+p4eo4SGdCdgTgdo4W/g5HNgV/4Elt3CImn1Tfz/K+/RRmMJtI8hBrFTIJ7zGPGDD5G0C\n",
              "VTPimq2aoBmP7OKH3qZA55fCR6uZX6CGEXxfqxRaa0QdXpEAAAGTAZ/XakK/AIkSe+a2g3UzHlC0\n",
              "q0cKMAHkpM7w5DGNg+BEPO5Up/9beoVrF+rtdqVvfUQOo21+SkxaT2iz3HRxwbheyfpvDKwzhp6J\n",
              "6sd59bzoR7h0WCSq5Gu/aR+7ByoME4smbsZONrP8Yj/bwZ6bdZaNfCnKnb/I9JKc8rJZztbnUlj3\n",
              "6OLRC1VaiFwvfnPI2ByeJlqqubYLpDjR37keyoIhoIOvFJW1bRZuvsVnInHygO4ACBwc2dAoS52p\n",
              "79b2QJJGavB93i1y19pRNqw3uCgGShvm+ofeEZ3qDbC820Y8zNPokGqx654aWwFUSNfbYoqisJ2g\n",
              "1RxOkdrfg7L6PQGzDKGLT/FAsCYbSzH3z6MkuXSS4ICHykaCfu6+iF3gzqtku7cK6U4LfA93WNmx\n",
              "YRQR/vSvjVW8njMkTOnV5m+yX1uOY5RilnspTat8j1J/LIDWyKlaNBtf0NA/PaGNhpghix5LL3hI\n",
              "uWK3gbcO6PcjikmNQq6WVq/zE9SUtUOg0oPyMlNUfRbjL/ML/3RJNrNfbQAAAg1Bm9xJqEFsmUwI\n",
              "b//+p4QArK+phaLMH/5sPvM2ABdOKMyBiIX9QDvDQ3sSruPyWF8shQbLLlfAr2QjFxHxaAOnwFPg\n",
              "uGZrdy0tpAEtJScbUgnWfjENB0k6FmKIPg748GDtOxaZPLD2FRuMVm0k1xAOdR4eH5xyZUhi256f\n",
              "tWqEbjH5mHEwg9ZKz/xioBQZOXZ/ytlSAO2pupF6K1qqcu4l+n6sVFdLUKQM0RzltA5jSUln//kQ\n",
              "P9CFtfhZesta/WtjeCQaBJVYhwAAve/5Sz+xDPWlv+NRyes2Z78w4I9+vD6b5RuB6p+xRsSe0dYg\n",
              "tb1Ovvi1WfwgtpmIyv9lMUN7U1YF2fpq8HatkAmk/JebFudWLQ964b2oK6Veh+0vkUKFIH/OGXFW\n",
              "89X0YB5Hq8nTSf13KyUlEenWrV70D+qfuR45tiuiW5pDSWWSnRrSbAjUL+/Wk/IVZHRna+4dr0ar\n",
              "x5t7/vcT9xNQYSTj8UetmBsmaX6uTLOaeA/Tmd1i9QYjBKslC7CzEYn0MDzj2oyp2ullrncGJ0Ap\n",
              "NmMnkdC27/JIA+v9EOYv7cCN70Wt0faFcZhYIvrZmU3P/BQl6ESkO3K9ZdgWLY3n264ilnszeT7A\n",
              "8TgOAL6A6r94UK7jCOXey99bHV4Dm5jcWNJ5hnW7CvifkrqBpseuqJqKogjh/Jj+YpyYDzNnP0rr\n",
              "FjwAAAHGQZ/6RRUsL/8AZtzSsiZdy9rgo9cAWQPJ9aJBmrytRkkWM3abFxPbPdbdTi+ryEzUWsir\n",
              "ZDDUclaL2OvZbnBkQYiWdTdWOlDo3ueH6wyRFLCOFlP0iDp3vgyjNwqb2ww2ITeoTwuyONFJj73Q\n",
              "y+E9VJVVZYvdFNLQBgxyGocEHniOmzYYrh0D5EKuaqogSCttmfLeYyeGjq981ucBpEGCmPBjwzVc\n",
              "lGQgYWz0zhjGgx8F6Mw/pWxrGGLMPhq7vcsUsRlIWc6wLDRfcSpBTtu0vl1Pw96hBh8kKNpXaVME\n",
              "dr3gMAeM5JhT0ZOUksMg74je25MPI8iYRUMLN4odiVUrZsY8fAwgR6x5Mmzs5PD86F+4OFdwPHuf\n",
              "CXPhAieECyusaDoSpOvwOu2NdjQrwg1JyIgUMq1FUESgdrRZIslwBiWu+EKzhnmbbIMc4zKPUAGK\n",
              "U/Lqs+yx1YgSXMIcgix/AVaRRkp3lSd7LTrji0Ba7Mt4DhVLRBZCo4I5oRXnW3aDRB/Mc0s4TD7m\n",
              "h3buDpepJ6Yb12G4rkgmMYmRYX+HNGId50aYGNRmXoTsfP6SU1qgDxNXC3boQxB+mkuonlreh0tp\n",
              "L1qu4QAAAk4Bnhl0Qr8AiveqW/3FlG9YfIgEpmemLqUIAHWeleDtXa7bQc9go7Si7kib7YVd17lm\n",
              "fZfHAH9xWhfsPZZYc1OGiJfeMVEDc5XVd4zHxBFcoFXGMZMkP3zNW9RyBybOKjYFlwtLrNhtrI5P\n",
              "EPe2veW1cVfWIKCA7jcrx/9Sl3lq0cDwqa2PDHYGXDBk05J34+aEst6f9+7bbAVbfAk0Q4m6zEVy\n",
              "R+XWb0vVa+H8XU93xUvhinYfFHhrQc6oVSmTIZ1c0ZUiSUClOQCyFqGqmUk2JDwmlVb5NgypmvXi\n",
              "BLF+y0KPoheUtUoYW1I0801gvoZ9SGRYJiYp9pQMjp0kYYpLk9Z9gxLNI511DIjdBSPQjoDnYlCi\n",
              "mnWvREmtbmQONqEf/2btoePVeANTwJzFw4hDN0x8ID9DCfmvzf4HL5ZShGhpP9yL5U6ybIdP8mac\n",
              "aFis5O1ds+SvqkkCbIyCPH5O+sLCWCZcx1L8obiQ1is+3NQjAwSPu1fIOWdKib7hFfP3YxaH8Ixz\n",
              "/I9JkN0V2iAR6OPL2Xa5Pzxk1CRN9v0NOzdugb07ZOsjcoJWb8dKJNJgSfObNgvp0Dg1WpS5phkv\n",
              "hEuXXZ5V6//FiszTzq2JJ6tb/NjPWgopfbTxVsptv6CnbiIfHegr/mN5G6GAaelbxKkCnzLNF5JQ\n",
              "GWwWOXwe8LmNxZuMTe2ZsTivRvl1jUGHmjAt5At0vLQgs/k4NyecxRjtyCII1KEZUM3KwvEqA+eT\n",
              "YAPT3LVHpNFSWwHpY5nFJK3bverw+kN8lDV+2AAAAYoBnhtqQr8AiwYOM8bW44EibJTkHN86YiDq\n",
              "jAB+Kq+sH4qskMxE0nkxz3Xgw8YDVKavnVb+JhmH7+qqHbKe4FyKMVGo3ixUlNJ9vAIg8/sUvIA5\n",
              "fGf+wihn9Di/x71fpTogIHUuGPB2FtO7c3RV6nZDZ21iNF9wTRNNve02AmzZ+XgKW/2l++R24qk3\n",
              "/cPyFNcvYQLSH70NzzlmWmG+T7tcJEZxf71ii3xNmVUnqMqyfvf2bjz0lnkh9G4l5np5PYeIxbyM\n",
              "lNVQD7YxsMRt/1tcBzDUYFfZMAWKoAk6qBVqIfpR6s+2ZFH5IMqtvnYJupAi09nGSQDvCLxolD0P\n",
              "1TqWSF1FVugU0F4hEgJwa6+jK/Vo9F+her7q1DUBtD59hru35c/n2l7KH7QTSDgaHQYnIUbY+Gbj\n",
              "rUOOlk3Y3mQDfgkoge8RPetZwtBH0rIkrGp01ZSMH0ZGGwoIv6fzdWGIr55EseQdo1l+W/SeFT2b\n",
              "HlhyGmrvYDNApp5M6eAglxiWQOziv+Tx3XSBAAABuUGaH0moQWyZTAhn//6eEAKeDzfkJ9+CkVMg\n",
              "BOPOC0Wr2siv3St6cIaY6KCbXQN20lP/v9exq9fkEIMy48jp6sBiEPNIVliuGblNHsdHIgRkhsWr\n",
              "9ACVbnBFLQGTC07sreYbHuVdOzfh8irMFDUumaVOVVhvFsBa4qzjr1+QhvSluEf2cK/JezGpXsEK\n",
              "FxsppjDvWhgwF04uujsXhHEdd6tETdpO/dPGEwwXiOL6anrmo/87+vLtzcVR/88Y4qoTapk8M0kG\n",
              "7jmX4M5C6+dTOQhRjCtS1scCKGK+MhDa046f2y/JNnVM0u+I9MP1jGOmAorhbfymAJYvNDFlgvll\n",
              "+wPmE7wW2bIsbu2goB4NIV3k8ngbpQc2ZMH/NmoFmlCounv/OyxGbkArBhLCkQ6HRcBtBFFZXYI9\n",
              "BgW5wiR5VvGuCMX2Y3P33JjOYmiSX7e4EDwmmhcTLk25pTjcMI/PO2YJlf9uOcdzYiaQ1FY7qL/o\n",
              "pF1o2NW2lD2sI6Fp+INBdWsAh9OTF6Yw2OzbQ1e87N0XSnX0qqMG2AoLJx2JbDH+Jo0PgZTPPcDu\n",
              "k6vV2weruThpT2kKo6KEbQAAAYhBnj1FFSwr/wCKya7qfACZApC67cxZP30uso78a9JKZVG2hcZp\n",
              "hfN9YaLhazMAn7Bc2LKdFwsjkshnCWg422E5+2Fo4BX75ohw3M4l//DRJX15N9ckCLHCT7dzugdf\n",
              "gmXrcudc3T/7cw+lZXKvdwR7J5VPA2HT9JqGBHWzzzYLWkT+NA1B/Y2K+UHzzrmLs/Myil5KhYXI\n",
              "mLALdcVUKIbnxcbWmTef4sgsv7lMWliEIa77y/8BUGsieCLeJOuwEie6HRa8yzdUrqDtPdkpOqVA\n",
              "sjlGAlBI/8NOS9/MrRIQDoUELAs3/Qa/bTqt7MpGpA7JyzQQERTeRr5s/AkCSMuuwijgTbI+Q9/B\n",
              "whH3DtMsJmMICkqCTMG5H47YqIkO20jLZwYQ32yuM/DsG3o0bb2QAR9pMBm00zO/gCCHQIPw6U5L\n",
              "N4Wjwc0Evt9rrXswd0/u1z+9Jsy9jGcuG+81AEsxVrMIixUT2XNkrY9eGmWrji1gwmhwzshqWnDa\n",
              "T/qJ65F7f27u8nM3kAAAAbwBnl5qQr8AgTYeITIX99Oz5sdoMrff2fOJjf8NB75FF/2clUuOp1EC\n",
              "9YFnGgYyb0eiXS+8SwwzzDlarcJ8Ljy52kBTYdLArjf9h/xG6Wh7L8ZX4VNufQK0wK8lZaL88i1h\n",
              "tH8zFvcrI4ZTp20PtMdoB8oYCXe6+UDytOuy7S+W/afTIyQR6ZxJVySMDu3USTHiG4sn+VmC8ru6\n",
              "VEieNHQeAVMqOt2EE2jrwj4R896T35tkoLrovF8KFJIRC/05hzIi5Sx/3g27kICxJTmURtFmP3fd\n",
              "aoIoGdvjWeU4qU2+V8WTYdv0x3keieVb7Uq42AZRMyA6fg3zg4a4h5w4tB94MoozZ5GXGI67zjjA\n",
              "hVS2sN85WDO05MxdTjDx0Yo0nJwvunxqOESrp3l5Y8rVZi8B1D5SbRpAORflXUpwXE76hZocbtYt\n",
              "R0UpBcGqrcradm1Uc1ZFNWOYIAWN5sB6d8AwQvIW3Gs5rKX1GCRhaoHcHFWMATvSiGjulR2Vd0ga\n",
              "2Jl3CUVO8BMcSZMf8d+S6iGVGabBkNVT8TGVLijzL6RSm2kfRy1QAQUlfIBighCc+I2bBuU2MwTn\n",
              "s9Nil2AAAAHTQZpDSahBbJlMCFf//jhACfKuTAAxgA5wVdkdyZrEVcnWtkSF3u1wNg0mYpFYWJK0\n",
              "q5iJpbJ7mugRH9luVy8UUqsaSJK3Ipl3MTGxs/eoccp6d2+ruZJq3Y1wdGsU2fbE4h1QDE3rywdl\n",
              "uDB1sWiRML2GuYfjKLn6ckXw6LRGGGLxcm4ZAEL5lMMMOa/7UwKSytl36rjhfX4XsSdDErHEdB+k\n",
              "7JPMOtFzlJ9h8soIrxTEA4xnZeP7Cdu9E9wRtPvOkrE5voyCLAPlURsQ+gD13vbdQHCbje1Fsx0Z\n",
              "rS4CV5Lj/od3vRBJzLod/5hopfuf9+YTFvgIIcqBD6ol0FpaZEpDA8IhETDx76S5eD8bl4rVkQ+S\n",
              "UE+PZEja6E0oqtIED5GhnVT04C0Cgfo7eHvlOuw6FVFWwjzBYiu6eVy59x0eEuahVjyGb9faUqHU\n",
              "HL199WLdTYU6OR93ucQPYSw/An02GrKkzGcObzRwUYmpn23L5BuWOTO2Jfv/ljqxdePHD77Xg6Qk\n",
              "Odx4cc83A+8Iu8swOvOQ3DBK6EG8sRHpiSAccYM88aBgGbAHiLKhZAPSCJkHy7dxuHtqnsOQuxG1\n",
              "GQNFMAs5+X8mNd3L6GKbkNGfXTEAAAFyQZ5hRRUsL/8AZILX9cmT8HwlB4fROeGAuqCX4M+ooCfH\n",
              "chtJPCXqwUJ4vQqywqJ4Xb3NRbglPJOYKHtoONUg2GM38WnyNPtlvk2GqTXZTg7HoTTLsesEEyhI\n",
              "nx1a2tguF00tQjHZbmJRRx9YnhTQWxoJTjGE6e1U6tyrXxC4DrZ808zE6YZa2Z9DPQSUYzFGiY0N\n",
              "PPweBplXfarOIFc66MvN9tZ35WfVxNbE+XdNuro4WYAOxu5sAgm2y10mAUE4fAMkJ+d3KbjQDzXL\n",
              "cPWYUVvGtaBiEiSsPiSSRqZil+spRegf8wDI+8ZelbQxuEErXlhEWasYC9HvhX1txKmaKVsN3COF\n",
              "C22kog8QBdo5sTztilsnghpuEr3O8oKJNqdz/wrFRYHR4/um3ps4HyuiN4dKQxi+lvPZJZpbI9fs\n",
              "c3Ihj4aEjvBa0iumkrtPM2hSqgFwjcBN4NXeDMMh0xRr0/E8gNARAh/tNkTu/0WU/2ELCAAAASgB\n",
              "noB0Qr8Ahve+vAzWrGed+WuD4NDatSUU12skustGtHVdi+AC9dUdiYqqKyH3dQlbR9XKzLZLbsc1\n",
              "CbWZrTZtwkklXNzYudHL+PB6/u4+8tXe24O4/rS6srThumAbbcE64B7LNojgtp4ZNDs+hy3UsCki\n",
              "U8ZXrAyza//4R8qDng/uqCZPWLxelEoQQnSiKqnhewJALl1NcscaJ4M+T0R5vHF73KEJ5HX+vN4m\n",
              "3oqsdLjx7h8Nqlnk03YCldY0yuV5eVJTa/Ne++jI90BDOw/AgNEDnRyTe7YCl9HVcrANTJWn3vI0\n",
              "OC8W4Xk8ElhbEcMBSnxGz3fWrANoBhbLRQ30FW3L30sDLdVOFm5q/tu51L9jGb4HUpXRl15u5da2\n",
              "p1irYqNiqNg5wQAAAegBnoJqQr8AhoFf7SVGyXLt2GBHZksskADrPl9c/9gIWoMPPAFWxL8KyxEy\n",
              "FTsvGeiFhyw2kSmaA0eXmWJjov+5aYmSfyzxsD0Bcm/CTy1x519+LNbVouIW8UWcA1mevxx5tM5C\n",
              "i8H4AABBItQ0ik66bG03lkfzI3PPOZrTkfLI7KVIuBZ+15Glcyu75aTWS6YjPdV7k4egEysgEu/R\n",
              "bC3CfDkAhBj8sb08k4gUBJeJXEhumWI6EP0OaLqWNnjoStR3vMSAIriHXyxkozojcD6yiIED8wo0\n",
              "KnKPnzT+1swtOvWR+7mSNhDnKV7ML+TAmoFhJAewH4FR5DcftzGnRZ4YGzMCDqLJnGRcXE6nKmiR\n",
              "QHrH9s10OmIM6jOVpW2KtQIBdTjSpafww8U9zkN0HfYknJVaN/HQoVH1yrDRLDDd0kkYH+vynPYb\n",
              "zmxsASHJf8qOIVnwWRZRxnnxlveNZjHWoCtR3ZI7ruiOKpNhOAA37z9uGEHjbGr7jfwI5XQ/tH94\n",
              "1BM0ZMFYOnnghJ16KgIi2mA+3/bM4qIxbb9ehe0mlFMKvdYBNggFUd2qFTa9C0NAXlx3B3DevRtw\n",
              "k5vdYT7cOYLXwVGpnsUII+6MMFyBGt3aiDGQ7Y4t+tEbO7aWSYvoVoNlhgT3mAAAB8Ztb292AAAA\n",
              "bG12aGQAAAAAAAAAAAAAAAAAAAPoAAAPoAABAAABAAAAAAAAAAAAAAAAAQAAAAAAAAAAAAAAAAAA\n",
              "AAEAAAAAAAAAAAAAAAAAAEAAAAAAAAAAAAAAAAAAAAAAAAAAAAAAAAAAAAAAAAACAAAG8HRyYWsA\n",
              "AABcdGtoZAAAAAMAAAAAAAAAAAAAAAEAAAAAAAAPoAAAAAAAAAAAAAAAAAAAAAAAAQAAAAAAAAAA\n",
              "AAAAAAAAAAEAAAAAAAAAAAAAAAAAAEAAAAABsAAAASAAAAAAACRlZHRzAAAAHGVsc3QAAAAAAAAA\n",
              "AQAAD6AAAAQAAAEAAAAABmhtZGlhAAAAIG1kaGQAAAAAAAAAAAAAAAAAADIAAADIAFXEAAAAAAAt\n",
              "aGRscgAAAAAAAAAAdmlkZQAAAAAAAAAAAAAAAFZpZGVvSGFuZGxlcgAAAAYTbWluZgAAABR2bWhk\n",
              "AAAAAQAAAAAAAAAAAAAAJGRpbmYAAAAcZHJlZgAAAAAAAAABAAAADHVybCAAAAABAAAF03N0YmwA\n",
              "AACzc3RzZAAAAAAAAAABAAAAo2F2YzEAAAAAAAAAAQAAAAAAAAAAAAAAAAAAAAABsAEgAEgAAABI\n",
              "AAAAAAAAAAEAAAAAAAAAAAAAAAAAAAAAAAAAAAAAAAAAAAAAAAAAAAAY//8AAAAxYXZjQwFkABX/\n",
              "4QAYZ2QAFazZQbCWhAAAAwAEAAADAMg8WLZYAQAGaOvjyyLAAAAAHHV1aWRraEDyXyRPxbo5pRvP\n",
              "AyPzAAAAAAAAABhzdHRzAAAAAAAAAAEAAABkAAACAAAAABRzdHNzAAAAAAAAAAEAAAABAAADGGN0\n",
              "dHMAAAAAAAAAYQAAAAEAAAQAAAAAAQAACgAAAAABAAAEAAAAAAEAAAAAAAAAAQAAAgAAAAABAAAK\n",
              "AAAAAAEAAAQAAAAAAQAAAAAAAAABAAACAAAAAAEAAAoAAAAAAQAABAAAAAABAAAAAAAAAAEAAAIA\n",
              "AAAAAQAABgAAAAABAAACAAAAAAEAAAoAAAAAAQAABAAAAAABAAAAAAAAAAEAAAIAAAAAAQAACgAA\n",
              "AAABAAAEAAAAAAEAAAAAAAAAAQAAAgAAAAABAAAKAAAAAAEAAAQAAAAAAQAAAAAAAAABAAACAAAA\n",
              "AAEAAAoAAAAAAQAABAAAAAABAAAAAAAAAAEAAAIAAAAAAQAACgAAAAABAAAEAAAAAAEAAAAAAAAA\n",
              "AQAAAgAAAAABAAAKAAAAAAEAAAQAAAAAAQAAAAAAAAABAAACAAAAAAEAAAoAAAAAAQAABAAAAAAB\n",
              "AAAAAAAAAAEAAAIAAAAAAQAACgAAAAABAAAEAAAAAAEAAAAAAAAAAQAAAgAAAAABAAAKAAAAAAEA\n",
              "AAQAAAAAAQAAAAAAAAABAAACAAAAAAEAAAoAAAAAAQAABAAAAAABAAAAAAAAAAEAAAIAAAAAAQAA\n",
              "CgAAAAABAAAEAAAAAAEAAAAAAAAAAQAAAgAAAAABAAAIAAAAAAIAAAIAAAAAAQAACgAAAAABAAAE\n",
              "AAAAAAEAAAAAAAAAAQAAAgAAAAABAAAIAAAAAAIAAAIAAAAAAQAACgAAAAABAAAEAAAAAAEAAAAA\n",
              "AAAAAQAAAgAAAAABAAAKAAAAAAEAAAQAAAAAAQAAAAAAAAABAAACAAAAAAEAAAoAAAAAAQAABAAA\n",
              "AAABAAAAAAAAAAEAAAIAAAAAAQAACgAAAAABAAAEAAAAAAEAAAAAAAAAAQAAAgAAAAABAAAKAAAA\n",
              "AAEAAAQAAAAAAQAAAAAAAAABAAACAAAAAAEAAAoAAAAAAQAABAAAAAABAAAAAAAAAAEAAAIAAAAA\n",
              "AQAACAAAAAACAAACAAAAAAEAAAoAAAAAAQAABAAAAAABAAAAAAAAAAEAAAIAAAAAHHN0c2MAAAAA\n",
              "AAAAAQAAAAEAAABkAAAAAQAAAaRzdHN6AAAAAAAAAAAAAABkAAAHIQAAA2EAAAKYAAAB2QAAAWYA\n",
              "AAJCAAAB+QAAAWkAAAHRAAAB8QAAAQcAAAFtAAABuQAAAjsAAAHsAAAB5QAAAggAAAC9AAACIAAA\n",
              "AoQAAAEdAAABAgAAAWgAAAGWAAACIAAAAS4AAAGZAAACQgAAAdkAAAFTAAABkgAAAYMAAAHAAAAB\n",
              "9wAAAW4AAAK7AAABIgAAAXgAAAGIAAACkgAAARQAAAGiAAABlQAAArQAAAHsAAABhQAAAUQAAAGw\n",
              "AAABxwAAAS8AAAFXAAABdgAAAVsAAAGQAAABjgAAAbkAAAGVAAABGgAAAisAAAJFAAABNQAAAY0A\n",
              "AAIgAAABOQAAAW0AAAElAAACqAAAAXkAAAGeAAACLwAAASoAAAGAAAABZwAAAXAAAAF8AAABkAAA\n",
              "AWgAAAHZAAABbAAAASEAAAGnAAAC4AAAAQ8AAAHPAAABYQAAAPwAAAG3AAABiwAAAZcAAAIRAAAB\n",
              "ygAAAlIAAAGOAAABvQAAAYwAAAHAAAAB1wAAAXYAAAEsAAAB7AAAABRzdGNvAAAAAAAAAAEAAAAs\n",
              "AAAAYnVkdGEAAABabWV0YQAAAAAAAAAhaGRscgAAAAAAAAAAbWRpcmFwcGwAAAAAAAAAAAAAAAAt\n",
              "aWxzdAAAACWpdG9vAAAAHWRhdGEAAAABAAAAAExhdmY1Ny44My4xMDA=\n",
              "\">\n",
              "  Your browser does not support the video tag.\n",
              "</video>"
            ],
            "text/plain": [
              "<IPython.core.display.HTML object>"
            ]
          },
          "metadata": {
            "tags": []
          },
          "execution_count": 25
        },
        {
          "output_type": "display_data",
          "data": {
            "image/png": "[encoded data removed]",
            "text/plain": [
              "<Figure size 432x288 with 1 Axes>"
            ]
          },
          "metadata": {
            "tags": [],
            "needs_background": "light"
          }
        }
      ]
    },
    {
      "cell_type": "code",
      "metadata": {
        "pycharm": {
          "name": "#%%\n"
        },
        "id": "dicJdyG2obY5"
      },
      "source": [
        "# Uncomment for optional save\n",
        "# anim.save(\"spike_mnist_test2.mp4\")"
      ],
      "execution_count": 27,
      "outputs": []
    },
    {
      "cell_type": "markdown",
      "metadata": {
        "id": "JgPZBNIaobY5"
      },
      "source": [
        "Now let's average the spikes out over time and reconstruct the input images."
      ]
    },
    {
      "cell_type": "code",
      "metadata": {
        "pycharm": {
          "name": "#%%\n"
        },
        "id": "e4ikMCQLobY6",
        "outputId": "1055b1eb-094b-4d4a-b111-92eb92b9f1c0",
        "colab": {
          "base_uri": "https://localhost:8080/",
          "height": 199
        }
      },
      "source": [
        "plt.figure(facecolor=\"w\")\n",
        "plt.subplot(1,2,1)\n",
        "plt.imshow(spike_data_sample.mean(axis=0).reshape((28,-1)).cpu(), cmap='binary')\n",
        "plt.axis('off')\n",
        "plt.title('Gain = 1')\n",
        "\n",
        "plt.subplot(1,2,2)\n",
        "plt.imshow(spike_data_sample2.mean(axis=0).reshape((28,-1)).cpu(), cmap='binary')\n",
        "plt.axis('off')\n",
        "plt.title('Gain = 0.25')\n",
        "\n",
        "plt.show()"
      ],
      "execution_count": 30,
      "outputs": [
        {
          "output_type": "display_data",
          "data": {
            "image/png": "[encoded data removed]",
            "text/plain": [
              "<Figure size 432x288 with 2 Axes>"
            ]
          },
          "metadata": {
            "tags": []
          }
        }
      ]
    },
    {
      "cell_type": "markdown",
      "metadata": {
        "pycharm": {
          "name": "#%% md\n"
        },
        "id": "6bbbI1o2obY7"
      },
      "source": [
        "The case where `gain=0.25` is much lighter than where `gain=1`, as spiking probability has been reduced by a factor of x4."
      ]
    },
    {
      "cell_type": "markdown",
      "metadata": {
        "collapsed": false,
        "pycharm": {
          "name": "#%% md\n"
        },
        "id": "WpfpKe3zobY8"
      },
      "source": [
        "##### 2.2.2 Raster Plots\n",
        "Alternatively, we can generate a raster plot of an input sample. This requires reshaping our sample."
      ]
    },
    {
      "cell_type": "code",
      "metadata": {
        "pycharm": {
          "name": "#%%\n"
        },
        "id": "KCpsLPySobY8",
        "outputId": "45c51255-ce9b-4600-96b0-90b8e44d154d",
        "colab": {
          "base_uri": "https://localhost:8080/",
          "height": 350
        }
      },
      "source": [
        "# Reshape\n",
        "spike_data_sample2 = spike_data_sample2.reshape((num_steps, -1))\n",
        "\n",
        "# raster plot\n",
        "fig = plt.figure(facecolor=\"w\", figsize=(10, 5))\n",
        "ax = fig.add_subplot(111)\n",
        "splt.raster(spike_data_sample2, ax, s=1.5, c=\"black\")\n",
        "\n",
        "plt.title(\"Input Layer\")\n",
        "plt.xlabel(\"Time step\")\n",
        "plt.ylabel(\"Neuron Number\")\n",
        "plt.show()"
      ],
      "execution_count": 32,
      "outputs": [
        {
          "output_type": "display_data",
          "data": {
            "image/png": "[encoded data removed]",
            "text/plain": [
              "<Figure size 720x360 with 1 Axes>"
            ]
          },
          "metadata": {
            "tags": []
          }
        }
      ]
    },
    {
      "cell_type": "markdown",
      "metadata": {
        "pycharm": {
          "name": "#%% md\n"
        },
        "id": "WvhIdrAZobY9"
      },
      "source": [
        "We can also index into one single neuron. Below, we are indexing into the 210th neuron.\n",
        "Depending on your input data, you may need to index into a few different neurons between 0 & 784 before finding one that spikes.\n"
      ]
    },
    {
      "cell_type": "code",
      "metadata": {
        "pycharm": {
          "name": "#%%\n"
        },
        "id": "R3kY3uoOobY9",
        "outputId": "ebf02eea-4909-4060-d977-8b0c11fe4313",
        "colab": {
          "base_uri": "https://localhost:8080/",
          "height": 132
        }
      },
      "source": [
        "fig = plt.figure(facecolor=\"w\", figsize=(8, 1))\n",
        "ax = fig.add_subplot(111)\n",
        "\n",
        "splt.raster(spike_data_sample.reshape(num_steps, -1)[:,210].unsqueeze(1), ax, s=100, c=\"black\", marker=\"|\")\n",
        "\n",
        "plt.title(\"Input Neuron\")\n",
        "plt.xlabel(\"Time step\")\n",
        "plt.yticks([])\n",
        "plt.show()"
      ],
      "execution_count": 40,
      "outputs": [
        {
          "output_type": "display_data",
          "data": {
            "image/png": "[encoded data removed]",
            "text/plain": [
              "<Figure size 576x72 with 1 Axes>"
            ]
          },
          "metadata": {
            "tags": []
          }
        }
      ]
    },
    {
      "cell_type": "markdown",
      "metadata": {
        "collapsed": false,
        "pycharm": {
          "name": "#%% md\n"
        },
        "id": "1lxp91nlobY-"
      },
      "source": [
        "This covers the `spikegen.rate` function. \r\n",
        "\r\n",
        "For examples to convert targets into one-hot-encodings, refer to the snnTorch documentation. "
      ]
    },
    {
      "cell_type": "markdown",
      "metadata": {
        "pycharm": {
          "name": "#%% md\n"
        },
        "id": "enzqRvuNobY-"
      },
      "source": [
        "### 2.2 Latency Coding of MNIST\n",
        "Rate coding is quite controversial. Multiple spikes are needed to achieve any sort of task, and so more power may be consumed than is necessary. It is unlikely to be the only mechanism going on in the brain. \n",
        "\n",
        "Temporal codes capture information about the precise firing time of neurons; a single spike carries much more meaning than in rate codes which rely on firing frequency.\n",
        "While this opens up more susceptibility to noise, it can also decrease the power consumed by the hardware running SNN algorithms because the need for multiple spikes is mitigated.\n",
        "\n",
        "`spikegen.latency` is a function that allows each input to fire at most **once** during the full time sweep.\n",
        "Features closer to `1` will fire earlier and features closer to `0` will fire later. I.e., in our MNIST case, bright pixels will fire earlier and dark pixels will fire later."
      ]
    },
    {
      "cell_type": "code",
      "metadata": {
        "pycharm": {
          "name": "#%%\n"
        },
        "id": "m835u23QobY-"
      },
      "source": [
        "spike_data = spikegen.latency(data_it, num_steps=100, tau=5, threshold=0.01, clip=False,\n",
        "                              normalize=False, linear=False)"
      ],
      "execution_count": 41,
      "outputs": []
    },
    {
      "cell_type": "markdown",
      "metadata": {
        "collapsed": false,
        "pycharm": {
          "name": "#%% md\n"
        },
        "id": "AKDPjTvKobY_"
      },
      "source": [
        "* `tau`: by default, the input features are treated as a constant current injected into an RC circuit. `tau` is the RC time constant of the circuit. A higher `tau` will induce slower firing.\n",
        "* `threshold`: the membrane potential the RC circuit must charge to before it can fire. All features below the threshold are saturated.\n",
        "* `clip`: if `True`, spikes below the `threshold` are removed.\n",
        "* `normalize`: if `True`, the full range of firing is extended or squashed to fit `num_steps`.\n",
        "* `linear`: if True, the logarithmic firing latency of the RC circuit is replaced with a linear firing latency."
      ]
    },
    {
      "cell_type": "markdown",
      "metadata": {
        "collapsed": false,
        "pycharm": {
          "name": "#%% md\n"
        },
        "id": "VGH7b49SobY_"
      },
      "source": [
        "### 2.2.1 Raster plot\n",
        "We'll start with a raster this time."
      ]
    },
    {
      "cell_type": "code",
      "metadata": {
        "pycharm": {
          "name": "#%%\n"
        },
        "id": "kypMtfF7obY_",
        "outputId": "1e49ac25-9647-4fd3-a6b9-79f621ceccb8",
        "colab": {
          "base_uri": "https://localhost:8080/",
          "height": 350
        }
      },
      "source": [
        "fig = plt.figure(facecolor=\"w\", figsize=(10, 5))\n",
        "ax = fig.add_subplot(111)\n",
        "splt.raster(spike_data[:, 0].view(num_steps, -1), ax, s=25, c=\"black\")\n",
        "\n",
        "plt.title(\"Input Layer\")\n",
        "plt.xlabel(\"Time step\")\n",
        "plt.ylabel(\"Neuron Number\")\n",
        "plt.show()\n",
        "\n",
        "fig.savefig('destination_path.png', format='png', dpi=300)"
      ],
      "execution_count": 48,
      "outputs": [
        {
          "output_type": "display_data",
          "data": {
            "image/png": "[encoded data removed]",
            "text/plain": [
              "<Figure size 720x360 with 1 Axes>"
            ]
          },
          "metadata": {
            "tags": []
          }
        }
      ]
    },
    {
      "cell_type": "markdown",
      "metadata": {
        "collapsed": false,
        "pycharm": {
          "name": "#%% md\n"
        },
        "id": "Hm1--DHYobZA"
      },
      "source": [
        "To make sense of your raster plot, you'll notice that high intensity features fire first, whereas low intensity features fire last:\n",
        "\n",
        "<center>\n",
        "<img src='https://github.com/jeshraghian/snntorch/blob/master/docs/_static/img/examples/tutorial1/1_2_5_latencyraster.png?raw=true' width=\"600\">\n",
        "</center>\n",
        "\n",
        "The logarithmic code coupled with the lack of diverse input values (i.e., the lack of midtone/grayscale features) causes significant clustering in two areas of the plot.\n",
        "The bright pixels induce firing at the start of the run, and the dark pixels at the end.\n",
        "We can increase `tau` to slow this down, or we can linearize the data by setting `linear=True`."
      ]
    },
    {
      "cell_type": "code",
      "metadata": {
        "pycharm": {
          "name": "#%%\n"
        },
        "id": "ZX8azDNWobZA"
      },
      "source": [
        "spike_data, spike_targets = spikegen.latency(data_it, targets_it, num_steps=100, tau=5, threshold=0.01, clip=False,\n",
        "                                              normalize=False, linear=True, convert_targets=False, temporal_targets=False)\n",
        "\n",
        "fig = plt.figure(facecolor=\"w\", figsize=(10, 5))\n",
        "ax = fig.add_subplot(111)\n",
        "ax.scatter(*torch.where(spike_data[:, 0].view(100, -1).cpu()), s=25, c=\"black\")\n",
        "plt.title(\"Input Layer\")\n",
        "plt.xlabel(\"Time step\")\n",
        "plt.ylabel(\"Neuron Number\")\n",
        "plt.show()"
      ],
      "execution_count": null,
      "outputs": []
    },
    {
      "cell_type": "markdown",
      "metadata": {
        "collapsed": false,
        "pycharm": {
          "name": "#%% md\n"
        },
        "id": "pZuk6g3NobZB"
      },
      "source": [
        "The spread of firing times is much more evenly distributed now. But notice all firing occurs within the first ~5 time steps, whereas the simulation range is 100 time steps.\n",
        "This indicates that we have a lot of redundant time steps doing nothing. This can be solved by either increasing `tau` to slow down the time constant, or setting `normalize=True` to span the full range of `num_steps`."
      ]
    },
    {
      "cell_type": "code",
      "metadata": {
        "pycharm": {
          "name": "#%%\n"
        },
        "id": "RLgntdwSobZB"
      },
      "source": [
        "spike_data, spike_targets = spikegen.latency(data_it, targets_it, num_steps=100, tau=5, threshold=0.01, clip=False,\n",
        "                                              normalize=True, linear=True, convert_targets=False, temporal_targets=False)\n",
        "\n",
        "fig = plt.figure(facecolor=\"w\", figsize=(10, 5))\n",
        "ax = fig.add_subplot(111)\n",
        "ax.scatter(*torch.where(spike_data[:, 0].view(100, -1).cpu()), s=25, c=\"black\")\n",
        "plt.title(\"Input Layer\")\n",
        "plt.xlabel(\"Time step\")\n",
        "plt.ylabel(\"Neuron Number\")\n",
        "plt.show()"
      ],
      "execution_count": null,
      "outputs": []
    },
    {
      "cell_type": "markdown",
      "metadata": {
        "collapsed": false,
        "pycharm": {
          "name": "#%% md\n"
        },
        "id": "1EFIqaylobZC"
      },
      "source": [
        "One major advantage of spike-driven data is their sparsity, and their event-driven behavior.\n",
        "In the scenario shown above, a majority of the spikes occur at the final time step, where the input features fall below the threshold.\n",
        "We can remove these redundant features by setting `clip=True`."
      ]
    },
    {
      "cell_type": "code",
      "metadata": {
        "pycharm": {
          "name": "#%%\n"
        },
        "id": "uowgb4FPobZC"
      },
      "source": [
        "spike_data, spike_targets = spikegen.latency(data_it, targets_it, num_steps=100, tau=5, threshold=0.01, clip=True,\n",
        "                                              normalize=True, linear=True, convert_targets=False, temporal_targets=False)\n",
        "\n",
        "fig = plt.figure(facecolor=\"w\", figsize=(10, 5))\n",
        "ax = fig.add_subplot(111)\n",
        "ax.scatter(*torch.where(spike_data[:, 0].view(100, -1).cpu()), s=25, c=\"black\")\n",
        "plt.title(\"Input Layer\")\n",
        "plt.xlabel(\"Time step\")\n",
        "plt.ylabel(\"Neuron Number\")\n",
        "plt.show()"
      ],
      "execution_count": null,
      "outputs": []
    },
    {
      "cell_type": "markdown",
      "metadata": {
        "collapsed": false,
        "pycharm": {
          "name": "#%% md\n"
        },
        "id": "W7gN02QOobZC"
      },
      "source": [
        "That looks much better!"
      ]
    },
    {
      "cell_type": "markdown",
      "metadata": {
        "collapsed": false,
        "pycharm": {
          "name": "#%% md\n"
        },
        "id": "XG9erdfxobZD"
      },
      "source": [
        "### 2.2.2 Animation\n",
        "We will run the exact same code block as before to create an animation."
      ]
    },
    {
      "cell_type": "code",
      "metadata": {
        "pycharm": {
          "name": "#%%\n"
        },
        "id": "BjLC1Pl_obZD"
      },
      "source": [
        "spike_data_sample = spike_data[:, 0, 0]\n",
        "print(spike_data_sample.size())"
      ],
      "execution_count": null,
      "outputs": []
    },
    {
      "cell_type": "code",
      "metadata": {
        "pycharm": {
          "name": "#%%\n"
        },
        "id": "uwVwMVpzobZD"
      },
      "source": [
        "spike_data_sample = spike_data_sample.cpu()\n",
        "\n",
        "fig, ax = plt.subplots()\n",
        "camera = Camera(fig)\n",
        "plt.axis('off')\n",
        "\n",
        "# iterate over time and take a snapshot with celluloid\n",
        "for time in range(num_steps):\n",
        "    im = ax.imshow(spike_data_sample[time, :, :], cmap='plasma')\n",
        "    camera.snap()\n",
        "\n",
        "# interval=100 specifies 100ms delay between frames\n",
        "anim = camera.animate(interval=100)\n",
        "HTML(anim.to_html5_video())"
      ],
      "execution_count": null,
      "outputs": []
    },
    {
      "cell_type": "code",
      "metadata": {
        "pycharm": {
          "name": "#%%\n"
        },
        "id": "VgNLaB90obZD"
      },
      "source": [
        "# Save output: .gif, .mp4 etc.\n",
        "anim.save(\"mnist_latency.gif\")"
      ],
      "execution_count": null,
      "outputs": []
    },
    {
      "cell_type": "markdown",
      "metadata": {
        "collapsed": false,
        "pycharm": {
          "name": "#%% md\n"
        },
        "id": "FONW5DIkobZE"
      },
      "source": [
        "This animation is obviously much tougher to make out in video form, but a keen eye will be able to catch a glimpse of the initial frame where most of the spikes occur.\n",
        "We can index into the corresponding target value to check what value it is."
      ]
    },
    {
      "cell_type": "code",
      "metadata": {
        "pycharm": {
          "name": "#%%\n"
        },
        "id": "wrqfPu43obZE"
      },
      "source": [
        "print(spike_targets[0])"
      ],
      "execution_count": null,
      "outputs": []
    },
    {
      "cell_type": "markdown",
      "metadata": {
        "pycharm": {
          "name": "#%% md\n"
        },
        "id": "mxrGoLIjobZE"
      },
      "source": [
        "## 3. Spike Generation\n",
        "Now say we just want a randomly generated spike train from scratch.\n",
        "`spikegen.rate` has a nested function, `rate_conv` which takes care of the feature $\\rightarrow$ spike conversion process.\n",
        "All we have to do is initialize a randomly generated `torchTensor` to pass in."
      ]
    },
    {
      "cell_type": "code",
      "metadata": {
        "pycharm": {
          "name": "#%%\n"
        },
        "id": "-Q_7uj0vobZE"
      },
      "source": [
        "# Create a random spike train\n",
        "spike_prob = torch.rand((num_steps, 28, 28), device=device, dtype=dtype) * 0.5\n",
        "spike_rand = spikegen.rate_conv(spike_prob)"
      ],
      "execution_count": null,
      "outputs": []
    },
    {
      "cell_type": "markdown",
      "metadata": {
        "collapsed": false,
        "pycharm": {
          "name": "#%% md\n"
        },
        "id": "KOy-NZ5YobZF"
      },
      "source": [
        "3.1 Animation"
      ]
    },
    {
      "cell_type": "code",
      "metadata": {
        "pycharm": {
          "name": "#%%\n"
        },
        "id": "yCIwKN0WobZF"
      },
      "source": [
        "spike_data = spike_data.cpu()\n",
        "\n",
        "fig, ax = plt.subplots()\n",
        "camera = Camera(fig)\n",
        "plt.axis('off')\n",
        "\n",
        "# iterate over time and take a snapshot with celluloid\n",
        "for time in range(num_steps):\n",
        "    im = ax.imshow(spike_rand[time, :, :], cmap='plasma')\n",
        "    camera.snap()\n",
        "\n",
        "# interval=40 specifies 40ms delay between frames\n",
        "anim = camera.animate(interval=40)\n",
        "HTML(anim.to_html5_video())"
      ],
      "execution_count": null,
      "outputs": []
    },
    {
      "cell_type": "code",
      "metadata": {
        "pycharm": {
          "name": "#%%\n"
        },
        "id": "kx-VKWxFobZF"
      },
      "source": [
        "# Save output: .gif, .mp4 etc.\n",
        "anim.save(\"random_spikes.gif\")"
      ],
      "execution_count": null,
      "outputs": []
    },
    {
      "cell_type": "markdown",
      "metadata": {
        "collapsed": false,
        "pycharm": {
          "name": "#%% md\n"
        },
        "id": "C_IH912xobZF"
      },
      "source": [
        "3.2 Raster"
      ]
    },
    {
      "cell_type": "code",
      "metadata": {
        "pycharm": {
          "name": "#%%\n"
        },
        "id": "F6QgcKCrobZF"
      },
      "source": [
        "fig = plt.figure(facecolor=\"w\", figsize=(10, 5))\n",
        "ax = fig.add_subplot(111)\n",
        "ax.scatter(*torch.where(spike_rand[:, 0].view(100, -1).cpu()), s=25, c=\"black\")\n",
        "plt.title(\"Input Layer\")\n",
        "plt.xlabel(\"Time step\")\n",
        "plt.ylabel(\"Neuron Number\")\n",
        "plt.show()"
      ],
      "execution_count": null,
      "outputs": []
    },
    {
      "cell_type": "markdown",
      "metadata": {
        "collapsed": false,
        "pycharm": {
          "name": "#%% md\n"
        },
        "id": "N-SsITWKobZF"
      },
      "source": [
        "That's it for spike conversion and generation. \n",
        "This approach generalizes beyond images, to single-dimensional and multi-dimensional tensors.\n",
        "Next up, we'll try to do some learning using both static MNIST and our own generated spiking MNIST."
      ]
    }
  ]
}