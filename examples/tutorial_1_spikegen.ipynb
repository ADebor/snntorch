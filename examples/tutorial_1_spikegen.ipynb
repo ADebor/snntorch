{
  "nbformat": 4,
  "nbformat_minor": 2,
  "metadata": {
    "accelerator": "GPU",
    "colab": {
      "name": "Copy of quantAwareTrain.ipynb",
      "provenance": [],
      "collapsed_sections": [
        "9QXsrr6Mp5e_",
        "1EWDw3bip8Ie",
        "vFM8UV9CreIX",
        "xXkTAJ9ws1Y6",
        "OgkWg605tE1y",
        "OBt0WDzyujnk",
        "xC96eesMqYo-",
        "mszPTrYOluym",
        "VTHK-wAWV57B"
      ]
    },
    "kernelspec": {
      "name": "python3",
      "display_name": "Python 3.7.9 64-bit ('snnenv': venv)"
    },
    "language_info": {
      "codemirror_mode": {
        "name": "ipython",
        "version": 3
      },
      "file_extension": ".py",
      "mimetype": "text/x-python",
      "name": "python",
      "nbconvert_exporter": "python",
      "pygments_lexer": "ipython3",
      "version": "3.7.9"
    },
    "interpreter": {
      "hash": "579503e60735c0b0ad61cf404d04af89041cf694c55fa4cc17d05f5d9b483dbc"
    }
  },
  "cells": [
    {
      "cell_type": "markdown",
      "source": [
        "<img src='https://github.com/jeshraghian/snntorch/blob/master/docs/_static/img/snntorch_alpha_w.png?raw=true' width=\"400\">\r\n",
        "\r\n",
        "# Tutorial 1 - Spike Encoding\r\n",
        "## By Jason K. Eshraghian (www.jasoneshraghian.com)\r\n",
        "\r\n",
        "\r\n",
        "<a href=\"https://colab.research.google.com/github/jeshraghian/snntorch/blob/master/examples/tutorial_1_spikegen.ipynb\">\r\n",
        "  <img src=\"https://colab.research.google.com/assets/colab-badge.svg\" alt=\"Open In Colab\"/>\r\n",
        "</a>\r\n",
        "\r\n",
        "<iframe src=\"https://ghbtns.com/github-btn.html?user=jeshraghian&repo=snntorch&type=star&count=true\" frameborder=\"0\" scrolling=\"0\" width=\"150\" height=\"20\" title=\"GitHub\"></iframe>\r\n",
        "\r\n"
      ],
      "metadata": {
        "id": "RBNKFLJIobYt"
      }
    },
    {
      "cell_type": "markdown",
      "source": [
        "The snnTorch tutorial series is based on the following paper. If you find these resources or code useful in your work, please consider citing the following source:\r\n",
        "\r\n",
        "> <cite> [Jason K. Eshraghian, Max Ward, Emre Neftci, Xinxin Wang, Gregor Lenz, Girish Dwivedi, Mohammed Bennamoun, Doo Seok Jeong, and Wei D. Lu. \"Training Spiking Neural Networks Using Lessons From Deep Learning\". arXiv preprint arXiv:2109.12894, September 2021.](https://arxiv.org/abs/2109.12894) </cite>"
      ],
      "metadata": {
        "id": "4blpfg4y44uO"
      }
    },
    {
      "cell_type": "markdown",
      "source": [
        "In this tutorial, you will learn how to use snnTorch to:\n",
        "* convert datasets into spiking datasets, \n",
        "* how to visualise them, \n",
        "* and how to generate random spike trains."
      ],
      "metadata": {
        "id": "lnF_PEo5obYv",
        "pycharm": {
          "name": "#%% md\n"
        }
      }
    },
    {
      "cell_type": "markdown",
      "source": [
        "# Introduction\r\n",
        "Light is what we see when the retina converts photons into spikes. Odors are what we smell when volatilised molecules are converted into spikes. Touch is what we feel when nerve endings turn tactile pressure into spikes. The brain trades in the global currency of the *spike*. \r\n",
        "\r\n",
        "If our end goal is to build a spiking neural network (SNN), it makes sense to use spikes at the input too. Although it is quite common to use non-spiking inputs (as will be seen in Tutorial 3), part of the appeal of encoding data come from the *three S's*: spikes, sparsity, and static suppression.\r\n",
        "\r\n",
        "\r\n",
        "\r\n",
        "1.   **Spikes**: (a-b) Biological neurons process and communicate via spikes, which are electrical impulses of approximately 100 mV in amplitude. (c) Many computational models of neurons simplify this voltage burst to a discrete, single-bit event: a '1' or a '0'. This is far simpler to represent in hardware than a high precision value.\r\n",
        "\r\n",
        "2.   **Sparsity**: (c) Neurons spend most of their time at rest, silencing most activations to *zero* at any given time. Not only are sparse vectors/tensors (with loads of zeros) cheap to store, but say we need to multiply sparse activations with synaptic weights. If most values are multiplied by '0', then we don't need to read many of the network parameters from memory. This means neuromorphic hardware can be extremely efficient. \r\n",
        "\r\n",
        "3.   **Static-Suppression (a.k.a, event-driven processing**: (d-e) The sensory periphery only processes information when there is new information to process. Each pixel in (e) responds to *changes* in illuminance, so most of the image is blocked out. Conventional signal processing requires all channels/pixels to adhere to a global sampling/shutter rate, which slows down how frequently sensing can take place. Event-driven processing now only contributes to sparsity and power-efficiency by blocking unchanging input, but it often allows for much faster processing speeds.\r\n",
        "\r\n",
        "\r\n",
        "<center>\r\n",
        "<img src='https://github.com/jeshraghian/snntorch/blob/master/docs/_static/img/examples/tutorial1/3s.png?raw=true' width=\"600\">\r\n",
        "</center>"
      ],
      "metadata": {
        "id": "d7qhH_lt8_mn"
      }
    },
    {
      "cell_type": "markdown",
      "source": [
        "In this tutorial, we will assume we have some non-spiking input data (i.e., the MNIST dataset) and that we want to encode it into spikes using a few different techniques. So let's get started! "
      ],
      "metadata": {
        "id": "lGNOnFM4DzHY"
      }
    },
    {
      "cell_type": "markdown",
      "source": [
        "Install the latest PyPi distribution of snnTorch:"
      ],
      "metadata": {
        "id": "GAbXmmVN50Pl"
      }
    },
    {
      "cell_type": "code",
      "execution_count": null,
      "source": [
        "!pip install snntorch"
      ],
      "outputs": [],
      "metadata": {
        "id": "jxLoYgkhobYw",
        "pycharm": {
          "name": "#%%\n"
        }
      }
    },
    {
      "cell_type": "markdown",
      "source": [
        "## 1. Setting up the MNIST Dataset"
      ],
      "metadata": {
        "id": "k6E7VH5kbTmA"
      }
    },
    {
      "cell_type": "markdown",
      "source": [
        "### 1.1. Import packages and setup environment"
      ],
      "metadata": {
        "id": "Suffg8_ZobYw",
        "pycharm": {
          "name": "#%% md\n"
        }
      }
    },
    {
      "cell_type": "code",
      "execution_count": null,
      "source": [
        "import snntorch as snn\r\n",
        "import torch"
      ],
      "outputs": [],
      "metadata": {
        "id": "cR9okh0jobYx",
        "pycharm": {
          "name": "#%%\n"
        }
      }
    },
    {
      "cell_type": "code",
      "execution_count": null,
      "source": [
        "# Training Parameters\r\n",
        "batch_size=128\r\n",
        "data_path='/data/mnist'\r\n",
        "num_classes = 10  # MNIST has 10 output classes\r\n",
        "\r\n",
        "# Torch Variables\r\n",
        "dtype = torch.float"
      ],
      "outputs": [],
      "metadata": {
        "id": "e4LPD0WCobYx",
        "pycharm": {
          "name": "#%%\n"
        }
      }
    },
    {
      "cell_type": "markdown",
      "source": [
        "### 1.2 Download Dataset"
      ],
      "metadata": {
        "id": "x5X2a5a9obYy"
      }
    },
    {
      "cell_type": "code",
      "execution_count": null,
      "source": [
        "from torchvision import datasets, transforms\r\n",
        "\r\n",
        "# Define a transform\r\n",
        "transform = transforms.Compose([\r\n",
        "            transforms.Resize((28,28)),\r\n",
        "            transforms.Grayscale(),\r\n",
        "            transforms.ToTensor(),\r\n",
        "            transforms.Normalize((0,), (1,))])\r\n",
        "\r\n",
        "mnist_train = datasets.MNIST(data_path, train=True, download=True, transform=transform)"
      ],
      "outputs": [],
      "metadata": {
        "id": "OlbY8Rm9obYy",
        "pycharm": {
          "name": "#%%\n"
        }
      }
    },
    {
      "cell_type": "markdown",
      "source": [
        "If the above code block throws an error, e.g. the MNIST servers are down, then uncomment the following code instead."
      ],
      "metadata": {
        "id": "6ZyzEp9YHgPb"
      }
    },
    {
      "cell_type": "code",
      "execution_count": null,
      "source": [
        "# # temporary dataloader if MNIST service is unavailable\r\n",
        "# !wget www.di.ens.fr/~lelarge/MNIST.tar.gz\r\n",
        "# !tar -zxvf MNIST.tar.gz\r\n",
        "\r\n",
        "# mnist_train = datasets.MNIST(root = './', train=True, download=True, transform=transform)"
      ],
      "outputs": [],
      "metadata": {
        "id": "ZpGLLVqeHgwy"
      }
    },
    {
      "cell_type": "markdown",
      "source": [
        "Until we actually start training a network, we won't need large datasets.\r\n",
        "`snntorch.utils` contains a few useful functions for modifying datasets. Apply `data_subset` to reduce the dataset by the factor defined in `subset`. *E.g., for `subset=10`, a training set of 60,000 will be reduced to 6,000.*\r\n"
      ],
      "metadata": {
        "id": "T5wXl2bVobYz",
        "pycharm": {
          "name": "#%% md\n"
        }
      }
    },
    {
      "cell_type": "code",
      "execution_count": null,
      "source": [
        "from snntorch import utils\r\n",
        "\r\n",
        "subset = 10\r\n",
        "mnist_train = utils.data_subset(mnist_train, subset)\r\n",
        "print(f\"The size of mnist_train is {len(mnist_train)}\")"
      ],
      "outputs": [],
      "metadata": {
        "id": "5FPsPU46obYz",
        "pycharm": {
          "name": "#%%\n"
        }
      }
    },
    {
      "cell_type": "markdown",
      "source": [
        "### 1.3 Create DataLoaders\r\n",
        "The Dataset objects created above load data into memory, and the DataLoader will serve it up in batches. DataLoaders in PyTorch are a handy interface for passing data into a network. They return an iterator divided up into mini-batches of size ``batch_size``."
      ],
      "metadata": {
        "id": "9CedMagsobY0",
        "pycharm": {
          "name": "#%% md\n"
        }
      }
    },
    {
      "cell_type": "code",
      "execution_count": null,
      "source": [
        "from torch.utils.data import DataLoader\r\n",
        "\r\n",
        "train_loader = DataLoader(mnist_train, batch_size=batch_size, shuffle=True)"
      ],
      "outputs": [],
      "metadata": {
        "id": "TrJLlWj2obY0",
        "pycharm": {
          "name": "#%%\n"
        }
      }
    },
    {
      "cell_type": "markdown",
      "source": [
        "## 2. Spike Encoding\r\n",
        "\r\n",
        "Spiking Neural Networks (SNNs) are made to exploit time-varying data. And yet, MNIST is not a time-varying dataset.\r\n",
        "There are two options for using MNIST with an SNN:\r\n",
        "\r\n",
        "1. Repeatedly pass the same training sample $\\mathbf{X}\\in\\mathbb{R}^{m\\times n}$ to the network at each time step. This is like converting MNIST into a static, unchanging video. Each element of $\\mathbf{X}$ can take a high precision value normalized between 0 and 1: $X_{ij}\\in [0, 1]$. \r\n",
        "\r\n",
        "<center>\r\n",
        "<img src='https://github.com/jeshraghian/snntorch/blob/master/docs/_static/img/examples/tutorial1/1_2_1_static.png?raw=true' width=\"700\">\r\n",
        "</center>\r\n",
        "\r\n",
        "2. Convert the input into a spike train of sequence length `num_steps`, where each feature/pixel takes on a discrete value $X_{i,j} \\in \\{0, 1\\}$.\r\n",
        "In this case, MNIST is converted into a time-varying sequence of spikes that features a relation to the original image.\r\n",
        "\r\n",
        "<center>\r\n",
        "<img src='https://github.com/jeshraghian/snntorch/blob/master/docs/_static/img/examples/tutorial1/1_2_2_spikeinput.png?raw=true' width=\"700\">\r\n",
        "</center>\r\n",
        "\r\n",
        "The first method is quite straightforward, and does not fully exploit the temporal dynamics of SNNs. So let’s consider data-to-spike conversion (encoding) from (2) in more detail.\r\n",
        "\r\n",
        "The module `snntorch.spikegen` (i.e., spike generation) contains a series of functions that simplify the conversion of data into spikes. There are currently three options available for spike encoding in `snntorch`:\r\n",
        "\r\n",
        "1. Rate coding: [`spikegen.rate`](https://snntorch.readthedocs.io/en/latest/snntorch.spikegen.html#snntorch.spikegen.rate)\r\n",
        "2. Latency coding: [`spikegen.latency`](https://snntorch.readthedocs.io/en/latest/snntorch.spikegen.html#snntorch.spikegen.latency)\r\n",
        "3. Delta modulation: [`spikegen.delta`](https://snntorch.readthedocs.io/en/latest/snntorch.spikegen.html#snntorch.spikegen.delta)\r\n",
        "\r\n",
        "How do these differ?\r\n",
        "\r\n",
        "\r\n",
        "1.   *Rate coding* uses input features to determine spiking **frequency**\r\n",
        "2.   *Latency coding* uses input features to determine spike **timing**\r\n",
        "3.   *Delta modulation* uses the temporal **change** of input features to generate spikes\r\n"
      ],
      "metadata": {
        "id": "mwSdczxKobY0",
        "pycharm": {
          "name": "#%% md\n"
        }
      }
    },
    {
      "cell_type": "markdown",
      "source": [
        "### 2.1 Rate coding of MNIST\r\n",
        "\r\n",
        "One example of converting input data into a rate code is as follows. \r\n",
        "Each normalised input feature $X_{ij}$ is used as the probability an event (spike) occurs at any given time step, returning a rate-coded value $R_{ij}$. This can be treated as a Bernoulli trial: $R_{ij}\\sim B(n,p)$, where the number of trials is $n=1$, and the probability of success (spiking) is $p=X_{ij}$. Explicitly, the probability a spike occurs is:\r\n",
        "\r\n",
        "$${\\rm P}(R_{ij}=1) = X_{ij} = 1 - {\\rm P}(R_{ij} = 0)$$\r\n",
        "\r\n",
        "Create a vector filled with the value '0.5' and encode it using the above technique:"
      ],
      "metadata": {
        "id": "3D5HSoY4bQDm"
      }
    },
    {
      "cell_type": "code",
      "execution_count": null,
      "source": [
        "# Temporal Dynamics\r\n",
        "num_steps = 10\r\n",
        "\r\n",
        "# create vector filled with 0.5\r\n",
        "raw_vector = torch.ones(num_steps)*0.5\r\n",
        "\r\n",
        "# pass each sample through a Bernoulli trial\r\n",
        "rate_coded_vector = torch.bernoulli(raw_vector)\r\n",
        "print(f\"Converted vector: {rate_coded_vector}\")\r\n",
        "\r\n",
        "print(f\"The output is spiking {rate_coded_vector.sum()*100/len(rate_coded_vector):.2f}% of the time.\")"
      ],
      "outputs": [],
      "metadata": {
        "id": "DxorUvomL1ei"
      }
    },
    {
      "cell_type": "markdown",
      "source": [
        "Now try again, but increasing the length of `raw_vector`:"
      ],
      "metadata": {
        "id": "l0E8Z8mSNflV"
      }
    },
    {
      "cell_type": "code",
      "execution_count": null,
      "source": [
        "num_steps = 100\r\n",
        "\r\n",
        "# create vector filled with 0.5\r\n",
        "raw_vector = torch.ones(num_steps)*0.5\r\n",
        "\r\n",
        "# pass each sample through a Bernoulli trial\r\n",
        "rate_coded_vector = torch.bernoulli(raw_vector)\r\n",
        "print(f\"The output is spiking {rate_coded_vector.sum()*100/len(rate_coded_vector):.2f}% of the time.\")"
      ],
      "outputs": [],
      "metadata": {
        "id": "Y6uUgpktNjBg"
      }
    },
    {
      "cell_type": "markdown",
      "source": [
        "As `num_steps`$\\rightarrow\\infty$, the proportion of spikes approaches the original raw value."
      ],
      "metadata": {
        "id": "zoLxfVoINzdH"
      }
    },
    {
      "cell_type": "markdown",
      "source": [
        "For an MNIST image, this probability of spiking corresponds to the pixel value. A white pixel corresponds to a 100% probability of spiking, and a black pixel will never generate a spike. Take a look at the 'Rate Coding' column below for further intuition.\r\n",
        "\r\n",
        "\r\n",
        "<center>\r\n",
        "<img src='https://github.com/jeshraghian/snntorch/blob/master/docs/_static/img/examples/tutorial1/1_2_3_spikeconv.png?raw=true' width=\"1000\">\r\n",
        "</center>"
      ],
      "metadata": {
        "id": "eYKsWmoGLz6S"
      }
    },
    {
      "cell_type": "markdown",
      "source": [
        "In a similar way, `spikegen.rate` can be used to generate a rate-coded sample of data. As each sample of MNIST is just an image, we can use `num_steps` to repeat it across time. "
      ],
      "metadata": {
        "id": "k8_Lzm6FOcm0"
      }
    },
    {
      "cell_type": "code",
      "execution_count": null,
      "source": [
        "from snntorch import spikegen\r\n",
        "\r\n",
        "# Iterate through minibatches\r\n",
        "data = iter(train_loader)\r\n",
        "data_it, targets_it = next(data)\r\n",
        "\r\n",
        "# Spiking Data\r\n",
        "spike_data = spikegen.rate(data_it, num_steps=num_steps)"
      ],
      "outputs": [],
      "metadata": {
        "id": "nz70JGXqobY1",
        "pycharm": {
          "name": "#%%\n"
        }
      }
    },
    {
      "cell_type": "markdown",
      "source": [
        "If the input falls outside of $[0,1]$, this no longer represents a probability. Such cases are automatically clipped to ensure the feature represents a probability.\n",
        "\n",
        "The structure of the input data is ``[num_steps x batch_size x input dimensions]``:"
      ],
      "metadata": {
        "id": "q0hATEwKobY1",
        "pycharm": {
          "name": "#%% md\n"
        }
      }
    },
    {
      "cell_type": "code",
      "execution_count": null,
      "source": [
        "print(spike_data.size())"
      ],
      "outputs": [],
      "metadata": {
        "id": "ebdP5kFKobY2",
        "pycharm": {
          "name": "#%%\n"
        }
      }
    },
    {
      "cell_type": "markdown",
      "source": [
        "### 2.2 Visualization"
      ],
      "metadata": {
        "id": "Cnas5Q89l_10"
      }
    },
    {
      "cell_type": "markdown",
      "source": [
        "#### 2.2.1 Animation\r\n",
        "snnTorch contains a module [`snntorch.spikeplot`](https://snntorch.readthedocs.io/en/latest/snntorch.spikeplot.html) that simplifies the process of visualizing, plotting, and animating spiking neurons.\r\n"
      ],
      "metadata": {
        "id": "oVFuIXxMobY2",
        "pycharm": {
          "name": "#%% md\n"
        }
      }
    },
    {
      "cell_type": "code",
      "execution_count": null,
      "source": [
        "import matplotlib.pyplot as plt\r\n",
        "import snntorch.spikeplot as splt\r\n",
        "from IPython.display import HTML"
      ],
      "outputs": [],
      "metadata": {
        "id": "4TYFlc4_ZK-u"
      }
    },
    {
      "cell_type": "markdown",
      "source": [
        "To plot one sample of data, index into a single sample from the batch (B) dimension of `spike_data`, ``[T x B x 1 x 28 x 28]``:"
      ],
      "metadata": {
        "id": "fwWROIkdobY3",
        "pycharm": {
          "name": "#%% md\n"
        }
      }
    },
    {
      "cell_type": "code",
      "execution_count": null,
      "source": [
        "spike_data_sample = spike_data[:, 0, 0]\r\n",
        "print(spike_data_sample.size())"
      ],
      "outputs": [],
      "metadata": {
        "id": "ZZxTqqOlobY3",
        "pycharm": {
          "name": "#%%\n"
        }
      }
    },
    {
      "cell_type": "markdown",
      "source": [
        "`spikeplot.animator` makes it super simple to animate 2-D data.<br>\n",
        "Note: if you are running the notebook locally on your desktop, please uncomment the line below and modify the path to your ffmpeg.exe"
      ],
      "metadata": {
        "id": "lJJyPUiuQ61x"
      }
    },
    {
      "cell_type": "code",
      "execution_count": null,
      "source": [
        "fig, ax = plt.subplots()\r\n",
        "anim = splt.animator(spike_data_sample, fig, ax)\r\n",
        "# plt.rcParams['animation.ffmpeg_path'] = 'C:\\\\path\\\\to\\\\your\\\\ffmpeg.exe'\r\n",
        "\r\n",
        "HTML(anim.to_html5_video())"
      ],
      "outputs": [],
      "metadata": {
        "id": "4QVyvj9PobY3",
        "pycharm": {
          "name": "#%%\n"
        }
      }
    },
    {
      "cell_type": "code",
      "execution_count": null,
      "source": [
        "# If you're feeling sentimental, you can save the animation: .gif, .mp4 etc.\r\n",
        "anim.save(\"spike_mnist_test.mp4\")"
      ],
      "outputs": [],
      "metadata": {
        "id": "ko8KJBCNobY4",
        "pycharm": {
          "name": "#%%\n"
        }
      }
    },
    {
      "cell_type": "markdown",
      "source": [
        "The associated target label can be indexed as follows:"
      ],
      "metadata": {
        "id": "gu1_f0XZobY4",
        "pycharm": {
          "name": "#%% md\n"
        }
      }
    },
    {
      "cell_type": "code",
      "execution_count": null,
      "source": [
        "print(f\"The corresponding target is: {targets_it[0]}\")"
      ],
      "outputs": [],
      "metadata": {
        "id": "7Yb76uofobY4",
        "pycharm": {
          "name": "#%%\n"
        }
      }
    },
    {
      "cell_type": "markdown",
      "source": [
        "MNIST features a greyscale image, and the white text guarantees a 100% of spiking at every time step. So let's do that again but reduce the spiking frequency. This can be achieved by setting the argument `gain`. Here, we will reduce spiking frequency to 25%."
      ],
      "metadata": {
        "id": "YTRqW-wtobY5",
        "pycharm": {
          "name": "#%% md\n"
        }
      }
    },
    {
      "cell_type": "code",
      "execution_count": null,
      "source": [
        "spike_data = spikegen.rate(data_it, num_steps=num_steps, gain=0.25)\r\n",
        "\r\n",
        "spike_data_sample2 = spike_data[:, 0, 0]\r\n",
        "fig, ax = plt.subplots()\r\n",
        "anim = splt.animator(spike_data_sample2, fig, ax)\r\n",
        "HTML(anim.to_html5_video())"
      ],
      "outputs": [],
      "metadata": {
        "id": "ymxnM4CaobY5",
        "pycharm": {
          "name": "#%%\n"
        }
      }
    },
    {
      "cell_type": "code",
      "execution_count": null,
      "source": [
        "# Uncomment for optional save\r\n",
        "# anim.save(\"spike_mnist_test2.mp4\")"
      ],
      "outputs": [],
      "metadata": {
        "id": "dicJdyG2obY5",
        "pycharm": {
          "name": "#%%\n"
        }
      }
    },
    {
      "cell_type": "markdown",
      "source": [
        "Now average the spikes out over time and reconstruct the input images."
      ],
      "metadata": {
        "id": "JgPZBNIaobY5"
      }
    },
    {
      "cell_type": "code",
      "execution_count": null,
      "source": [
        "plt.figure(facecolor=\"w\")\r\n",
        "plt.subplot(1,2,1)\r\n",
        "plt.imshow(spike_data_sample.mean(axis=0).reshape((28,-1)).cpu(), cmap='binary')\r\n",
        "plt.axis('off')\r\n",
        "plt.title('Gain = 1')\r\n",
        "\r\n",
        "plt.subplot(1,2,2)\r\n",
        "plt.imshow(spike_data_sample2.mean(axis=0).reshape((28,-1)).cpu(), cmap='binary')\r\n",
        "plt.axis('off')\r\n",
        "plt.title('Gain = 0.25')\r\n",
        "\r\n",
        "plt.show()"
      ],
      "outputs": [],
      "metadata": {
        "id": "e4ikMCQLobY6",
        "pycharm": {
          "name": "#%%\n"
        }
      }
    },
    {
      "cell_type": "markdown",
      "source": [
        "The case where `gain=0.25` is lighter than where `gain=1`, as spiking probability has been reduced by a factor of $\\times 4$."
      ],
      "metadata": {
        "id": "6bbbI1o2obY7",
        "pycharm": {
          "name": "#%% md\n"
        }
      }
    },
    {
      "cell_type": "markdown",
      "source": [
        "#### 2.2.2 Raster Plots\r\n",
        "Alternatively, we can generate a raster plot of an input sample. This requires reshaping the sample into a 2-D tensor, where 'time' is the first dimension. Pass this sample into the function `spikeplot.raster`. "
      ],
      "metadata": {
        "id": "WpfpKe3zobY8",
        "pycharm": {
          "name": "#%% md\n"
        }
      }
    },
    {
      "cell_type": "code",
      "execution_count": null,
      "source": [
        "# Reshape\r\n",
        "spike_data_sample2 = spike_data_sample2.reshape((num_steps, -1))\r\n",
        "\r\n",
        "# raster plot\r\n",
        "fig = plt.figure(facecolor=\"w\", figsize=(10, 5))\r\n",
        "ax = fig.add_subplot(111)\r\n",
        "splt.raster(spike_data_sample2, ax, s=1.5, c=\"black\")\r\n",
        "\r\n",
        "plt.title(\"Input Layer\")\r\n",
        "plt.xlabel(\"Time step\")\r\n",
        "plt.ylabel(\"Neuron Number\")\r\n",
        "plt.show()"
      ],
      "outputs": [],
      "metadata": {
        "id": "KCpsLPySobY8",
        "pycharm": {
          "name": "#%%\n"
        }
      }
    },
    {
      "cell_type": "markdown",
      "source": [
        "The following code snippet shows how to index into one single neuron. \r\n",
        "Depending on the input data, you may need to try\r\n",
        "a few different neurons between 0 & 784 before finding one that\r\n",
        "spikes."
      ],
      "metadata": {
        "id": "WvhIdrAZobY9",
        "pycharm": {
          "name": "#%% md\n"
        }
      }
    },
    {
      "cell_type": "code",
      "execution_count": null,
      "source": [
        "idx = 210  # index into 210th neuron\r\n",
        "\r\n",
        "fig = plt.figure(facecolor=\"w\", figsize=(8, 1))\r\n",
        "ax = fig.add_subplot(111)\r\n",
        "\r\n",
        "splt.raster(spike_data_sample.reshape(num_steps, -1)[:, idx].unsqueeze(1), ax, s=100, c=\"black\", marker=\"|\")\r\n",
        "\r\n",
        "plt.title(\"Input Neuron\")\r\n",
        "plt.xlabel(\"Time step\")\r\n",
        "plt.yticks([])\r\n",
        "plt.show()"
      ],
      "outputs": [],
      "metadata": {
        "id": "R3kY3uoOobY9",
        "pycharm": {
          "name": "#%%\n"
        }
      }
    },
    {
      "cell_type": "markdown",
      "source": [
        "#### 2.2.3 Summary of Rate Coding\r\n",
        "The idea of rate coding is actually quite controversial. Although we are fairly confident rate coding takes place at our sensory periphery, we are not convinced that the cortex globally encodes information as spike rates. A couple of compelling reasons why include:\r\n",
        "\r\n",
        "*   **Power Consumption:** Nature optimised for efficiency. Multiple spikes are needed to achieve any sort of task, and each spike consumes power. In fact, [Olshausen and Field's work in \"What is the other 85% of V1 doing?\"](http://www.rctn.org/bruno/papers/V1-chapter.pdf) demonstrates that rate-coding can only explain, at most, the activity of 15% of neurons in the primary visual cortex (V1). It is unlikely to be the only mechanism within the brain, which is both resource-constrained and highly efficient.\r\n",
        "\r\n",
        "\r\n",
        "*   **Reaction Response Times:** We know that the reaction time of a human is roughly around 250ms. If the average firing rate of a neuron in the human brain is on the order of 10Hz, then we can only process about 2 spikes within our reaction timescale.\r\n",
        "\r\n",
        "So why, then, might we use rate codes if they are not optimal for power efficiency or latency? Even if our brain doesn't process data as a rate, we are fairly sure that our biological sensors do. The power/latency disadvantages are partially offset by showing huge noise robustness: it's fine if some of the spikes fail to generate, because there will be plenty more where they came from.\r\n",
        "\r\n",
        "Additionally, you may have heard of the [Hebbian mantra of \"neurons that fire together, wire together\"](https://doi.org/10.2307/1418888). If there is plenty of spiking, this may suggest there is plenty of learning. In some cases where training SNNs proves to be challenging, encouraging more firing via a rate code is one possible solution.\r\n",
        "\r\n",
        "Rate coding is almost certainly working in conjunction with other encoding schemes in the brain. We will consider these other encoding mechanisms in the following sections. \r\n",
        "This covers the `spikegen.rate` function. Further information [can be found in the documentation here](https://snntorch.readthedocs.io/en/latest/snntorch.spikegen.html).\r\n",
        "\r\n"
      ],
      "metadata": {
        "id": "1lxp91nlobY-",
        "pycharm": {
          "name": "#%% md\n"
        }
      }
    },
    {
      "cell_type": "markdown",
      "source": [
        "### 2.3 Latency Coding of MNIST\n",
        "Temporal codes capture information about the precise firing time of neurons; a single spike carries much more meaning than in rate codes which rely on firing frequency. While this opens up more susceptibility to noise, it can also decrease the power consumed by the hardware running SNN algorithms by orders of magnitude. \n",
        "\n",
        "`spikegen.latency` is a function that allows each input to fire at most **once** during the full time sweep.\n",
        "Features closer to `1` will fire earlier and features closer to `0` will fire later. I.e., in our MNIST case, bright pixels will fire earlier and dark pixels will fire later. \n",
        "\n",
        "The following block derives how this works. If you've forgotten circuit theory and/or the math means nothing to you, then don't worry! All that matters is: **big** input means **fast** spike; **small** input means **late** spike.\n"
      ],
      "metadata": {
        "id": "enzqRvuNobY-",
        "pycharm": {
          "name": "#%% md\n"
        }
      }
    },
    {
      "cell_type": "markdown",
      "source": [
        "---\n",
        "**Optional: Derivation of Latency Code Mechanism**\n",
        "\n",
        "By default, spike timing is calculated by treating the input feature as the current injection $I_{in}$ into an RC circuit. This current moves charge onto the capacitor, which increases $V(t)$. We assume that there is a trigger voltage, $V_{thr}$, which once reached, generates a spike. The question then becomes: *for a given input current (and equivalently, input feature), how long does it take for a spike to be generated?*\n",
        "\n",
        "Starting with Kirchhoff's current law, $I_{in} = I_R + I_C$, the rest of the derivation leads us to a logarithmic relationship between time and the input. \n",
        "\n",
        "<center>\n",
        "<img src='https://github.com/jeshraghian/snntorch/blob/master/docs/_static/img/examples/tutorial1/1_2_4_latencyrc.png?raw=true' width=\"600\">\n",
        "</center>\n",
        "\n",
        "---"
      ],
      "metadata": {
        "id": "d5yZdcX4So-W"
      }
    },
    {
      "cell_type": "markdown",
      "source": [
        "The following function uses the above result to convert a feature of intensity $X_{ij}\\in [0,1]$ into a latency coded response $L_{ij}$. "
      ],
      "metadata": {
        "id": "DqJlK7AhjGHw"
      }
    },
    {
      "cell_type": "code",
      "execution_count": null,
      "source": [
        "def convert_to_time(data, tau=5, threshold=0.01):\r\n",
        "  spike_time = tau * torch.log(data / (data - threshold))\r\n",
        "  return spike_time "
      ],
      "outputs": [],
      "metadata": {
        "id": "J06UgGHKTkea"
      }
    },
    {
      "cell_type": "markdown",
      "source": [
        "Now, use the above function to visualize the relationship between input feature intensity and its corresponding spike time.\r\n"
      ],
      "metadata": {
        "id": "voBg5kujkGFQ"
      }
    },
    {
      "cell_type": "code",
      "execution_count": null,
      "source": [
        "raw_input = torch.arange(0, 5, 0.05) # tensor from 0 to 5\r\n",
        "spike_times = convert_to_time(raw_input)\r\n",
        "\r\n",
        "plt.plot(raw_input, spike_times)\r\n",
        "plt.xlabel('Input Value')\r\n",
        "plt.ylabel('Spike Time (s)')\r\n",
        "plt.show()"
      ],
      "outputs": [],
      "metadata": {
        "id": "52PwqfpKkK-I"
      }
    },
    {
      "cell_type": "markdown",
      "source": [
        "The smaller the value, the later the spike occurs with exponential dependence.\r\n",
        "\r\n",
        "The vector `spike_times` contains the time at which spikes are triggered, rather than a sparse tensor that contains the spikes themselves (1's and 0's). \r\n",
        "When running an SNN simulation, we need the 1/0 representation to obtain all of the advantages of using spikes.\r\n",
        "This whole process can be automated using `spikegen.latency`, where we pass a minibatch from the MNIST dataset in `data_it`:"
      ],
      "metadata": {
        "id": "P972FBhmluv3"
      }
    },
    {
      "cell_type": "code",
      "execution_count": null,
      "source": [
        "spike_data = spikegen.latency(data_it, num_steps=100, tau=5, threshold=0.01)"
      ],
      "outputs": [],
      "metadata": {
        "id": "m835u23QobY-",
        "pycharm": {
          "name": "#%%\n"
        }
      }
    },
    {
      "cell_type": "markdown",
      "source": [
        "Some of the arguments include:\r\n",
        "\r\n",
        "* `tau`:  the RC time constant of the circuit. By default, the input features are treated as a constant current injected into an RC circuit. A higher ``tau`` will induce slower firing.\r\n",
        "* `threshold`: the membrane potential firing threshold. Input values below this threshold do not have a closed-form solution, as the input current is insufficient to drive the membrane up to the threshold. All values below the threshold are clipped and assigned to the final time step."
      ],
      "metadata": {
        "id": "AKDPjTvKobY_",
        "pycharm": {
          "name": "#%% md\n"
        }
      }
    },
    {
      "cell_type": "markdown",
      "source": [
        "#### 2.3.1 Raster plot"
      ],
      "metadata": {
        "id": "VGH7b49SobY_",
        "pycharm": {
          "name": "#%% md\n"
        }
      }
    },
    {
      "cell_type": "code",
      "execution_count": null,
      "source": [
        "fig = plt.figure(facecolor=\"w\", figsize=(10, 5))\r\n",
        "ax = fig.add_subplot(111)\r\n",
        "splt.raster(spike_data[:, 0].view(num_steps, -1), ax, s=25, c=\"black\")\r\n",
        "\r\n",
        "plt.title(\"Input Layer\")\r\n",
        "plt.xlabel(\"Time step\")\r\n",
        "plt.ylabel(\"Neuron Number\")\r\n",
        "plt.show()\r\n",
        "\r\n",
        "# optional save\r\n",
        "# fig.savefig('destination_path.png', format='png', dpi=300)"
      ],
      "outputs": [],
      "metadata": {
        "id": "kypMtfF7obY_",
        "pycharm": {
          "name": "#%%\n"
        }
      }
    },
    {
      "cell_type": "markdown",
      "source": [
        "To make sense of the raster plot, note that high intensity features fire first, whereas low intensity features fire last:\r\n",
        "\r\n",
        "<center>\r\n",
        "<img src='https://github.com/jeshraghian/snntorch/blob/master/docs/_static/img/examples/tutorial1/1_2_5_latencyraster.png?raw=true' width=\"800\">\r\n",
        "</center>\r\n",
        "\r\n",
        "The logarithmic code coupled with the lack of diverse input values (i.e., the lack of midtone/grayscale features) causes significant clustering in two areas of the plot.\r\n",
        "The bright pixels induce firing at the start of the run, and the dark pixels at the end.\r\n",
        "We can increase `tau` to slow down the spike times, or linearize the spike times by setting the optional argument `linear=True`."
      ],
      "metadata": {
        "id": "Hm1--DHYobZA",
        "pycharm": {
          "name": "#%% md\n"
        }
      }
    },
    {
      "cell_type": "code",
      "execution_count": null,
      "source": [
        "spike_data = spikegen.latency(data_it, num_steps=100, tau=5, threshold=0.01, linear=True)\r\n",
        "\r\n",
        "fig = plt.figure(facecolor=\"w\", figsize=(10, 5))\r\n",
        "ax = fig.add_subplot(111)\r\n",
        "splt.raster(spike_data[:, 0].view(num_steps, -1), ax, s=25, c=\"black\")\r\n",
        "plt.title(\"Input Layer\")\r\n",
        "plt.xlabel(\"Time step\")\r\n",
        "plt.ylabel(\"Neuron Number\")\r\n",
        "plt.show()"
      ],
      "outputs": [],
      "metadata": {
        "id": "ZX8azDNWobZA",
        "pycharm": {
          "name": "#%%\n"
        }
      }
    },
    {
      "cell_type": "markdown",
      "source": [
        "The spread of firing times is much more evenly distributed now. This is achieved by linearizing the logarithmic equation according to the rules shown below. Unlike the RC model, there is no physical basis for the model. It's just simpler.\r\n",
        "\r\n",
        "<center>\r\n",
        "<img src='https://github.com/jeshraghian/snntorch/blob/master/docs/_static/img/examples/tutorial1/1_2_6_latencylinear.png?raw=true' width=\"600\">\r\n",
        "</center>\r\n",
        "\r\n",
        "\r\n",
        "But note how all firing occurs within the first ~5 time steps, whereas the simulation range is 100 time steps. \r\n",
        "This indicates that we have a lot of redundant time steps doing nothing. This can be solved by either increasing `tau` to slow down the time constant, or setting the optional argument `normalize=True` to span the full range of `num_steps`."
      ],
      "metadata": {
        "id": "pZuk6g3NobZB",
        "pycharm": {
          "name": "#%% md\n"
        }
      }
    },
    {
      "cell_type": "code",
      "execution_count": null,
      "source": [
        "spike_data = spikegen.latency(data_it, num_steps=100, tau=5, threshold=0.01,\r\n",
        "                              normalize=True, linear=True)\r\n",
        "\r\n",
        "fig = plt.figure(facecolor=\"w\", figsize=(10, 5))\r\n",
        "ax = fig.add_subplot(111)\r\n",
        "splt.raster(spike_data[:, 0].view(num_steps, -1), ax, s=25, c=\"black\")\r\n",
        "\r\n",
        "plt.title(\"Input Layer\")\r\n",
        "plt.xlabel(\"Time step\")\r\n",
        "plt.ylabel(\"Neuron Number\")\r\n",
        "plt.show()"
      ],
      "outputs": [],
      "metadata": {
        "id": "RLgntdwSobZB",
        "pycharm": {
          "name": "#%%\n"
        }
      }
    },
    {
      "cell_type": "markdown",
      "source": [
        "One major advantage of latency coding over rate coding is sparsity. If neurons are constrained to firing a maximum of once over the time course of interest, then this promotes low-power operation.\r\n",
        "\r\n",
        "In the scenario shown above, a majority of the spikes occur at the final time step, where the input features fall below the threshold. In a sense, the dark background of the MNIST sample holds no useful information. \r\n",
        "\r\n",
        "We can remove these redundant features by setting `clip=True`."
      ],
      "metadata": {
        "id": "1EFIqaylobZC",
        "pycharm": {
          "name": "#%% md\n"
        }
      }
    },
    {
      "cell_type": "code",
      "execution_count": null,
      "source": [
        "spike_data = spikegen.latency(data_it, num_steps=100, tau=5, threshold=0.01, \r\n",
        "                              clip=True, normalize=True, linear=True)\r\n",
        "\r\n",
        "fig = plt.figure(facecolor=\"w\", figsize=(10, 5))\r\n",
        "ax = fig.add_subplot(111)\r\n",
        "splt.raster(spike_data[:, 0].view(num_steps, -1), ax, s=25, c=\"black\")\r\n",
        "\r\n",
        "plt.title(\"Input Layer\")\r\n",
        "plt.xlabel(\"Time step\")\r\n",
        "plt.ylabel(\"Neuron Number\")\r\n",
        "plt.show()"
      ],
      "outputs": [],
      "metadata": {
        "id": "uowgb4FPobZC",
        "pycharm": {
          "name": "#%%\n"
        }
      }
    },
    {
      "cell_type": "markdown",
      "source": [
        "That looks much better!"
      ],
      "metadata": {
        "id": "W7gN02QOobZC",
        "pycharm": {
          "name": "#%% md\n"
        }
      }
    },
    {
      "cell_type": "markdown",
      "source": [
        "#### 2.3.2 Animation\n",
        "We will run the exact same code block as before to create an animation."
      ],
      "metadata": {
        "id": "XG9erdfxobZD",
        "pycharm": {
          "name": "#%% md\n"
        }
      }
    },
    {
      "cell_type": "code",
      "execution_count": null,
      "source": [
        "spike_data_sample = spike_data[:, 0, 0]\r\n",
        "print(spike_data_sample.size())"
      ],
      "outputs": [],
      "metadata": {
        "id": "BjLC1Pl_obZD",
        "pycharm": {
          "name": "#%%\n"
        }
      }
    },
    {
      "cell_type": "code",
      "execution_count": null,
      "source": [
        "fig, ax = plt.subplots()\r\n",
        "anim = splt.animator(spike_data_sample, fig, ax)\r\n",
        "\r\n",
        "HTML(anim.to_html5_video())"
      ],
      "outputs": [],
      "metadata": {
        "id": "uwVwMVpzobZD",
        "pycharm": {
          "name": "#%%\n"
        }
      }
    },
    {
      "cell_type": "markdown",
      "source": [
        "This animation is obviously much tougher to make out in video form, but a keen eye will be able to catch a glimpse of the initial frame where most of the spikes occur.\r\n",
        "Index into the corresponding target value to check its value."
      ],
      "metadata": {
        "id": "FONW5DIkobZE",
        "pycharm": {
          "name": "#%% md\n"
        }
      }
    },
    {
      "cell_type": "code",
      "execution_count": null,
      "source": [
        "# Save output: .gif, .mp4 etc.\r\n",
        "# anim.save(\"mnist_latency.gif\")"
      ],
      "outputs": [],
      "metadata": {
        "id": "VgNLaB90obZD",
        "pycharm": {
          "name": "#%%\n"
        }
      }
    },
    {
      "cell_type": "code",
      "execution_count": null,
      "source": [
        "print(targets_it[0])"
      ],
      "outputs": [],
      "metadata": {
        "id": "wrqfPu43obZE",
        "pycharm": {
          "name": "#%%\n"
        }
      }
    },
    {
      "cell_type": "markdown",
      "source": [
        "That's it for the `spikegen.latency` function. Further information [can be found in the documentation here](https://snntorch.readthedocs.io/en/latest/snntorch.spikegen.html)."
      ],
      "metadata": {
        "id": "sl93G7LwnG67"
      }
    },
    {
      "cell_type": "markdown",
      "source": [
        "### 2.4 Delta Modulation\r\n",
        "There are theories that the retina is adaptive: it will only process information when there is something new to process. If there is no change in your field of view, then your photoreceptor cells are  less prone to firing. \r\n",
        "\r\n",
        "That is to say: **biology is event-driven**. Neurons thrive on change.\r\n",
        "\r\n",
        "As a nifty example, a few researchers have dedicated their lives to designing retina-inspired image sensors, for example, the [Dynamic Vision Sensor](https://ieeexplore.ieee.org/abstract/document/7128412/). Although [the attached link is from over a decade ago, the work in this video](https://www.youtube.com/watch?v=6eOM15U_t1M&ab_channel=TobiDelbruck) was ahead of its time.\r\n",
        "\r\n",
        "Delta modulation is based on event-driven spiking. The `snntorch.delta` function accepts a time-series tensor as input. It takes the difference between each subsequent feature across all time steps. By default, if the difference is both *positive* and *greater than the threshold $V_{thr}$*, a spike is generated:\r\n",
        "\r\n",
        "<center>\r\n",
        "<img src='https://github.com/jeshraghian/snntorch/blob/master/docs/_static/img/examples/tutorial1/1_2_7_delta.png?raw=true' width=\"600\">\r\n",
        "</center>\r\n",
        "\r\n",
        "To illustrate, let's first come up with a contrived example where we create our own input tensor."
      ],
      "metadata": {
        "id": "Uxe0msNpmpcN"
      }
    },
    {
      "cell_type": "code",
      "execution_count": null,
      "source": [
        "# Create a tensor with some fake time-series data\r\n",
        "data = torch.Tensor([0, 1, 0, 2, 8, -20, 20, -5, 0, 1, 0])\r\n",
        "\r\n",
        "# Plot the tensor\r\n",
        "plt.plot(data)\r\n",
        "\r\n",
        "plt.title(\"Some fake time-series data\")\r\n",
        "plt.xlabel(\"Time step\")\r\n",
        "plt.ylabel(\"Voltage (mV)\")\r\n",
        "plt.show()"
      ],
      "outputs": [],
      "metadata": {
        "id": "0AOr1kN-r4n-"
      }
    },
    {
      "cell_type": "markdown",
      "source": [
        "Pass the above tensor into the `spikegen.delta` function, with an arbitrarily selected `threshold=4`:"
      ],
      "metadata": {
        "id": "Ih_UJ526tJPo"
      }
    },
    {
      "cell_type": "code",
      "execution_count": null,
      "source": [
        "# Convert data\r\n",
        "spike_data = spikegen.delta(data, threshold=4)\r\n",
        "\r\n",
        "# Create fig, ax\r\n",
        "fig = plt.figure(facecolor=\"w\", figsize=(8, 1))\r\n",
        "ax = fig.add_subplot(111)\r\n",
        "\r\n",
        "# Raster plot of delta converted data\r\n",
        "splt.raster(spike_data, ax, c=\"black\")\r\n",
        "\r\n",
        "plt.title(\"Input Neuron\")\r\n",
        "plt.xlabel(\"Time step\")\r\n",
        "plt.yticks([])\r\n",
        "plt.xlim(0, len(data))\r\n",
        "plt.show()"
      ],
      "outputs": [],
      "metadata": {
        "id": "WSNI1zGdtHac"
      }
    },
    {
      "cell_type": "markdown",
      "source": [
        "There are three time steps where the difference between $data[T]$ and $data[T+1]$ is greater than or equal to $V_{thr}=4$. This means there are three *on-spikes*. \r\n",
        "\r\n",
        "The large dip to $-20$ has not been captured above. If negative swings have importance in your data, you can enable the optional argument `off_spike=True`."
      ],
      "metadata": {
        "id": "dlmCwN40uPLq"
      }
    },
    {
      "cell_type": "code",
      "execution_count": null,
      "source": [
        "# Convert data\r\n",
        "spike_data = spikegen.delta(data, threshold=4, off_spike=True)\r\n",
        "\r\n",
        "# Create fig, ax\r\n",
        "fig = plt.figure(facecolor=\"w\", figsize=(8, 1))\r\n",
        "ax = fig.add_subplot(111)\r\n",
        "\r\n",
        "# Raster plot of delta converted data\r\n",
        "splt.raster(spike_data, ax, c=\"black\")\r\n",
        "\r\n",
        "plt.title(\"Input Neuron\")\r\n",
        "plt.xlabel(\"Time step\")\r\n",
        "plt.yticks([])\r\n",
        "plt.xlim(0, len(data))\r\n",
        "plt.show()"
      ],
      "outputs": [],
      "metadata": {
        "id": "WMrUGhRnuN8e"
      }
    },
    {
      "cell_type": "markdown",
      "source": [
        "We've generated additional spikes, but this isn't actually the full picture! \r\n",
        "\r\n",
        "Printing out the tensor will show that the presence of \"off-spikes\". These spikes take on a value of `-1`."
      ],
      "metadata": {
        "id": "S_5FajsDvnEw"
      }
    },
    {
      "cell_type": "code",
      "execution_count": null,
      "source": [
        "print(spike_data)"
      ],
      "outputs": [],
      "metadata": {
        "id": "9deHKE2zxGA5"
      }
    },
    {
      "cell_type": "markdown",
      "source": [
        "While `spikegen.delta` has only been demonstrated on a fake sample of data, its true use is to compress time-series data by only generating spikes for sufficiently large changes/events. \r\n",
        "\r\n",
        "That wraps up the three main spike conversion functions! There are still additional features to each of the three conversion techniques that have not been detailed in this tutorial. In particular, we have only looked at encoding input data; we have not considered how we might encode targets, and when that is necessary. We recommend [referring to the documentation for a deeper dive](https://snntorch.readthedocs.io/en/latest/snntorch.spikegen.html)."
      ],
      "metadata": {
        "id": "-Nz32V0fxm2d"
      }
    },
    {
      "cell_type": "markdown",
      "source": [
        "## 3. Spike Generation (Optional)\n",
        "Now what if we don't actually have any data to start with? \n",
        "Say we just want a randomly generated spike train from scratch. Inside of\n",
        "`spikegen.rate` is a nested function, `rate_conv`, which actually performs the  spike conversion step.\n",
        "\n",
        "All we have to do is initialize a randomly generated `torchTensor` to pass in."
      ],
      "metadata": {
        "id": "mxrGoLIjobZE",
        "pycharm": {
          "name": "#%% md\n"
        }
      }
    },
    {
      "cell_type": "code",
      "execution_count": null,
      "source": [
        "# Create a random spike train\r\n",
        "spike_prob = torch.rand((num_steps, 28, 28), dtype=dtype) * 0.5\r\n",
        "spike_rand = spikegen.rate_conv(spike_prob)"
      ],
      "outputs": [],
      "metadata": {
        "id": "-Q_7uj0vobZE",
        "pycharm": {
          "name": "#%%\n"
        }
      }
    },
    {
      "cell_type": "markdown",
      "source": [
        "### 3.1 Animation"
      ],
      "metadata": {
        "id": "KOy-NZ5YobZF",
        "pycharm": {
          "name": "#%% md\n"
        }
      }
    },
    {
      "cell_type": "code",
      "execution_count": null,
      "source": [
        "fig, ax = plt.subplots()\r\n",
        "anim = splt.animator(spike_rand, fig, ax)\r\n",
        "\r\n",
        "HTML(anim.to_html5_video())"
      ],
      "outputs": [],
      "metadata": {
        "id": "yCIwKN0WobZF",
        "pycharm": {
          "name": "#%%\n"
        }
      }
    },
    {
      "cell_type": "code",
      "execution_count": null,
      "source": [
        "# Save output: .gif, .mp4 etc.\r\n",
        "# anim.save(\"random_spikes.gif\")"
      ],
      "outputs": [],
      "metadata": {
        "id": "kx-VKWxFobZF",
        "pycharm": {
          "name": "#%%\n"
        }
      }
    },
    {
      "cell_type": "markdown",
      "source": [
        "### 3.2 Raster"
      ],
      "metadata": {
        "id": "C_IH912xobZF",
        "pycharm": {
          "name": "#%% md\n"
        }
      }
    },
    {
      "cell_type": "code",
      "execution_count": null,
      "source": [
        "fig = plt.figure(facecolor=\"w\", figsize=(10, 5))\r\n",
        "ax = fig.add_subplot(111)\r\n",
        "splt.raster(spike_rand[:, 0].view(num_steps, -1), ax, s=25, c=\"black\")\r\n",
        "\r\n",
        "plt.title(\"Input Layer\")\r\n",
        "plt.xlabel(\"Time step\")\r\n",
        "plt.ylabel(\"Neuron Number\")\r\n",
        "plt.show()"
      ],
      "outputs": [],
      "metadata": {
        "id": "F6QgcKCrobZF",
        "pycharm": {
          "name": "#%%\n"
        }
      }
    },
    {
      "cell_type": "markdown",
      "source": [
        "# Conclusion"
      ],
      "metadata": {
        "id": "QwEXpWkRy8_N"
      }
    },
    {
      "cell_type": "markdown",
      "source": [
        "That's it for spike conversion and generation. \r\n",
        "This approach generalizes beyond images, to single-dimensional and multi-dimensional tensors.\r\n",
        "\r\n",
        "For reference, the documentation for [`spikegen` can be found here](https://snntorch.readthedocs.io/en/latest/snntorch.spikegen.html) and for [`spikeplot`, here](https://snntorch.readthedocs.io/en/latest/snntorch.spikeplot.html)\r\n",
        "\r\n",
        "[In the next tutorial](https://snntorch.readthedocs.io/en/latest/tutorials/index.html), you will learn the basics of spiking neurons and how to use them."
      ],
      "metadata": {
        "id": "N-SsITWKobZF",
        "pycharm": {
          "name": "#%% md\n"
        }
      }
    },
    {
      "cell_type": "markdown",
      "source": [
        "# Additional Resources\r\n",
        "\r\n",
        "* [Check out the snnTorch GitHub project here.](https://github.com/jeshraghian/snntorch)"
      ],
      "metadata": {}
    }
  ]
}