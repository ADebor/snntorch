{
  "nbformat": 4,
  "nbformat_minor": 2,
  "metadata": {
    "kernelspec": {
      "name": "python3",
      "language": "python",
      "display_name": "Python 3"
    },
    "language_info": {
      "codemirror_mode": {
        "name": "ipython",
        "version": 2
      },
      "file_extension": ".py",
      "mimetype": "text/x-python",
      "name": "python",
      "nbconvert_exporter": "python",
      "pygments_lexer": "ipython2",
      "version": "2.7.6"
    },
    "colab": {
      "name": "tutorial_2_FCN_truncatedfromscratch.ipynb",
      "provenance": []
    },
    "accelerator": "GPU"
  },
  "cells": [
    {
      "cell_type": "markdown",
      "source": [
        "<img src='https://github.com/jeshraghian/snntorch/blob/master/docs/_static/img/snntorch_alpha_w.png?raw=true' width=\"400\">\n",
        "\n",
        "# snnTorch - Deep Learning with ``snntorch``\n",
        "## Tutorial 3\n",
        "### By Jason K. Eshraghian (www.jasoneshraghian.com)\n",
        "\n",
        "<a href=\"https://colab.research.google.com/github/jeshraghian/snntorch/blob/tutorials/examples/tutorial_3_FCN.ipynb\">\n",
        "  <img src=\"https://colab.research.google.com/assets/colab-badge.svg\" alt=\"Open In Colab\"/>\n",
        "</a>"
      ],
      "metadata": {
        "collapsed": false,
        "pycharm": {
          "name": "#%% md\n"
        },
        "id": "uSGZ6cdmpknm"
      }
    },
    {
      "cell_type": "markdown",
      "source": [
        "# Introduction\r\n",
        "In this tutorial, you will:\r\n",
        "* Learn how spiking neurons are implemented in a recurrent network\r\n",
        "* Understand backpropagation through time, and the associated challenges in SNNs such as target labeling, and the non-differentiability of spikes\r\n",
        "* Train a fully-connected network on the static MNIST dataset\r\n",
        "\r\n",
        "<!-- * Implement various backprop strategies:\r\n",
        "  * Backpropagation Through Time\r\n",
        "  * Truncated-Backpropagation Through Time\r\n",
        "  * Real-Time Recurrent Learning -->\r\n",
        "\r\n",
        ">Part of this tutorial was inspired by Friedemann Zenke's extensive work on SNNs. Check out his repo on surrogate gradients [here](https://github.com/fzenke/spytorch), and a favourite paper of mine: E. O. Neftci, H. Mostafa, F. Zenke, [Surrogate Gradient Learning in Spiking Neural Networks: Bringing the Power of Gradient-based optimization to spiking neural networks.](https://ieeexplore.ieee.org/document/8891809) IEEE Signal Processing Magazine 36, 51–63.\r\n",
        "\r\n",
        "As a quick recap, [Tutorial 1](https://colab.research.google.com/github/jeshraghian/snntorch/blob/tutorials/examples/tutorial_1_spikegen.ipynb) explained how to convert datasets into spikes using three encoding mechanisms:\r\n",
        "* Rate coding\r\n",
        "* Latency coding\r\n",
        "* Delta modulation\r\n",
        "\r\n",
        "[Tutorial 2](https://colab.research.google.com/github/jeshraghian/snntorch/blob/tutorials/examples/tutorial_2_neuronal_dynamics.ipynb) showed how to build neural networks using three different leaky integrate-and-fire (LIF) neuron models:\r\n",
        "* Lapicque's RC model\r\n",
        "* Synaptic Conductance-based model\r\n",
        "* Alpha neuron model\r\n",
        "\r\n",
        "At the end of the tutorial, a basic supervised learning algorithm will be implemented. We will use the original static MNIST dataset and train a multi-layer fully-connected spiking neural network using gradient descent to perform image classification. \r\n",
        "\r\n",
        "If running in Google Colab:\r\n",
        "* You may connect to GPU by checking `Runtime` > `Change runtime type` > `Hardware accelerator: GPU`\r\n",
        "* Next, install the latest PyPi distribution of snnTorch by clicking into the following cell and pressing `Shift+Enter`."
      ],
      "metadata": {
        "id": "Ymi3sqJg28OQ"
      }
    },
    {
      "cell_type": "code",
      "execution_count": null,
      "source": [
        "!pip install snntorch"
      ],
      "outputs": [],
      "metadata": {
        "pycharm": {
          "name": "#%%\n"
        },
        "id": "5tn_wUlopkon"
      }
    },
    {
      "cell_type": "markdown",
      "source": [
        "# 1. A Recurrent Representation of SNNs"
      ],
      "metadata": {
        "id": "gt2xMbLY9dVE"
      }
    },
    {
      "cell_type": "markdown",
      "source": [
        "The following is a summary of the continuous time-domain representation LIF neurons, and applies the result to develop a recurrent representation that is more suitable for use in recurrent neural networks (RNNs). \n",
        "\n",
        "We derived the dynamics of the passive membrane using an RC circuit in the time-domain: \n",
        "\n",
        "$$ \\tau_{\\rm mem} \\frac{dU_{\\rm mem}(t)}{dt} = -U_{\\rm mem}(t) + RI_{\\rm syn}(t),$$\n",
        "\n",
        "where the general solution of this equation is:\n",
        "\n",
        "$$U_{\\rm mem}=I_{\\rm syn}(t)R + [U_0 - I_{\\rm syn}(t)R]e^{-t/\\tau_{\\rm mem}}$$\n",
        "\n",
        "In Lapicque's model, $I_{\\rm syn}(t)$ is also the input current, $I_{\\rm in}(t)$. \n",
        "\n",
        "In the Synaptic conductance-based model (which we will loosely refer to as the synaptic model), a more biologically plausible approach is taken that ensures $I_{\\rm syn}(t)$ follows an exponential decay as a function of the input:\n",
        "\n",
        "\n",
        "$$I_{\\rm syn}(t) = \\sum_k W_{i,j} S_{in; i,j}(t) e^{-(t-t_k)/\\tau_{syn}}\\Theta(t-t_k)$$\n",
        "\n",
        "<center>\n",
        "<img src='https://github.com/jeshraghian/snntorch/blob/master/docs/_static/img/examples/tutorial3/3_1_stein_decomp.png?raw=true' width=\"600\">\n",
        "</center>\n",
        "\n",
        "The synaptic model has two exponentially decaying terms: $I_{\\rm syn}(t)$ and $U_{\\rm mem}(t)$. The ratio between subsequent terms (i.e., decay rate) of $I_{\\rm syn}(t)$ is set to $\\alpha$, and that of $U_{\\rm mem}(t)$ is set to $\\beta$:\n",
        "\n",
        "$$ \\alpha = e^{-1/\\tau_{\\rm syn}}$$\n",
        "\n",
        "$$ \\beta = e^{-1/\\tau_{\\rm mem}}$$\n",
        "\n",
        "\n",
        "RNNs will process data sequentially, and so time must be discretised, and the neuron models must be converted into a recursive form. $\\alpha$ and $\\beta$ can be used to give a recursive representation of the Synaptic neuron model:\n",
        "\n",
        "$$I_{\\rm syn}[t+1]=\\underbrace{\\alpha I_{\\rm syn}[t]}_\\text{decay} + \\underbrace{WS_{\\rm in}[t+1]}_\\text{input}$$\n",
        "\n",
        "$$U[t+1] = \\underbrace{\\beta U[t]}_\\text{decay} + \\underbrace{I_{\\rm syn}[t+1]}_\\text{input} - \\underbrace{R[t+1]}_\\text{reset}$$\n",
        "\n",
        "**Spiking**\n",
        "\n",
        "If $U[t] > U_{\\rm thr}$, then an output spike is triggered: $S_{\\rm out}[t] = 1$. Otherwise, $S_{\\rm out}[t] = 0$. \n",
        "\n",
        "> Note: A variation of this is to set the output spike at the *next* time step to be triggered; i.e., $U[t] > U_{\\rm thr} \\implies S_{\\rm out}[t+1] = 1$. This is the approach taken in snnTorch, and will be explained in following sections.\n",
        "\n",
        "An alternative way to represent the relationship between $S_{\\rm out}$ and $U_{\\rm mem}$, which is also used to calculate the gradient in the backward pass, is:\n",
        "\n",
        "$$S_{\\rm out}[t] = \\Theta(U_{\\rm mem}[t] - U_{\\rm thr})$$ \n",
        "\n",
        "\n",
        "<center>\n",
        "<img src='https://github.com/jeshraghian/snntorch/blob/master/docs/_static/img/examples/tutorial3/3_2_spike_descrip.png?raw=true' width=\"600\">\n",
        "</center>\n",
        "\n",
        "**Reset**\n",
        "\n",
        "The reset term is activated only when the neuron triggers a spike. That is to say, if $S_{\\rm out}[t+1]=1$:\n",
        "\n",
        "  * For `reset_mechanism=\"subtract\"`: $R[t+1]=U_{\\rm thr}$ \n",
        "  * For `reset_mechanism=\"zero\"`: $R[t+1]=U[t+1]$\n",
        "\n",
        "> Note: In snnTorch, the reset will also take a one time step delay such that $R[t+1]$ is activated only when $S_{\\rm out}[t+1]=1$\n",
        "\n",
        "The other neurons follow a similar form, which is [detailed in the documentation](https://snntorch.readthedocs.io/en/latest/snntorch.html). The recursive neuron equations can be mapped into computation graphs, where the recurrent connections take place with a delay of a single time step, from the state at time $t$ to the state at time $t+1$. "
      ],
      "metadata": {
        "id": "v7haBG7nA_TC"
      }
    },
    {
      "cell_type": "markdown",
      "source": [
        "An alternative way to represent recurrent models is to unfold the computational graph, in which each component is represented by a sequence of different variables, with one variable per time step. The unfolded form of the Synaptic model is shown below:\n",
        "\n",
        "<center>\n",
        "<img src='https://github.com/jeshraghian/snntorch/blob/master/docs/_static/img/examples/tutorial3/3_2_unrolled.png?raw=true' width=\"800\">\n",
        "</center>\n",
        "\n",
        "\n",
        "Up until now, the notation used for all variables have had an association with their electrical meanings. As we move from neuronal dynamics to deep learning, we will slightly modify the notation throughout the rest of the tutorial:\n",
        "\n",
        "* **Input spike:** $S_{\\rm in} \\rightarrow X$\n",
        "* **Input current (weighted spike):** $I_{\\rm in} \\rightarrow Y$\n",
        "* **Synaptic current:** $I_{\\rm syn} \\rightarrow I$\n",
        "* **Membrane potential:** $U_{\\rm mem} \\rightarrow U$\n",
        "* **Output spike:** $S_{\\rm out} \\rightarrow S$\n",
        "\n",
        "The benefit of an unrolled graph is that we now have an explicit description of how computations are performed. The process of unfolding illustrates the flow of information forward in time (from left to right) to compute outputs and losses, and backward in time to compute gradients. The more time steps that are simulated, the deeper the graph becomes. \n",
        "\n",
        "Conventional RNNs treat $\\alpha$ and $\\beta$ as learnable parameters. This is also possible for SNNs, but in snnTorch, they are treated as hyperparameters by default. This replaces the vanishing and exploding gradient problems with a parameter search."
      ],
      "metadata": {
        "id": "t256yMrzTU6M"
      }
    },
    {
      "cell_type": "markdown",
      "source": [
        "# 2. Setting up the Static MNIST Dataset"
      ],
      "metadata": {
        "id": "zqJdfllYbc16"
      }
    },
    {
      "cell_type": "markdown",
      "source": [
        "Much of the following code has already been explained in the first two tutorials. So we'll dive straight in. "
      ],
      "metadata": {
        "id": "SuOWJNEMe8l_"
      }
    },
    {
      "cell_type": "markdown",
      "source": [
        "## 2.1 Import packages and setup the environment"
      ],
      "metadata": {
        "id": "nbunSP5TbikZ"
      }
    },
    {
      "cell_type": "code",
      "execution_count": null,
      "source": [
        "import snntorch as snn\r\n",
        "import torch\r\n",
        "import torch.nn as nn\r\n",
        "from torch.utils.data import DataLoader\r\n",
        "from torchvision import datasets, transforms\r\n",
        "import numpy as np\r\n",
        "import itertools\r\n",
        "import matplotlib.pyplot as plt"
      ],
      "outputs": [],
      "metadata": {
        "pycharm": {
          "name": "#%%\n"
        },
        "id": "bEFWu3nNpkoq"
      }
    },
    {
      "cell_type": "code",
      "execution_count": null,
      "source": [
        "# Network Architecture\r\n",
        "num_inputs = 28*28\r\n",
        "num_hidden = 1000\r\n",
        "num_outputs = 10\r\n",
        "\r\n",
        "# Training Parameters\r\n",
        "batch_size=128\r\n",
        "data_path='/data/mnist'\r\n",
        "\r\n",
        "# Temporal Dynamics\r\n",
        "num_steps = 25\r\n",
        "alpha = 0.7\r\n",
        "beta = 0.8\r\n",
        "\r\n",
        "dtype = torch.float\r\n",
        "device = torch.device(\"cuda\") if torch.cuda.is_available() else torch.device(\"cpu\")"
      ],
      "outputs": [],
      "metadata": {
        "pycharm": {
          "name": "#%%\n"
        },
        "id": "lI0GbgLgpkos"
      }
    },
    {
      "cell_type": "markdown",
      "source": [
        "## 2.2 Download MNIST Dataset"
      ],
      "metadata": {
        "collapsed": false,
        "pycharm": {
          "name": "#%% md\n"
        },
        "id": "nUS6YFXbpkos"
      }
    },
    {
      "cell_type": "code",
      "execution_count": null,
      "source": [
        "# Define a transform\r\n",
        "transform = transforms.Compose([\r\n",
        "            transforms.Resize((28, 28)),\r\n",
        "            transforms.Grayscale(),\r\n",
        "            transforms.ToTensor(),\r\n",
        "            transforms.Normalize((0,), (1,))])\r\n",
        "\r\n",
        "mnist_train = datasets.MNIST(data_path, train=True, download=True, transform=transform)\r\n",
        "mnist_test = datasets.MNIST(data_path, train=False, download=True, transform=transform)"
      ],
      "outputs": [],
      "metadata": {
        "pycharm": {
          "name": "#%%\n"
        },
        "id": "2fhRixcspkot"
      }
    },
    {
      "cell_type": "markdown",
      "source": [
        "If the above code blocks throws an error, e.g. the MNIST servers are down, then uncomment the following code instead."
      ],
      "metadata": {
        "id": "RAM_dP887uTq"
      }
    },
    {
      "cell_type": "code",
      "execution_count": null,
      "source": [
        "# # temporary dataloader if MNIST service is unavailable\r\n",
        "# !wget www.di.ens.fr/~lelarge/MNIST.tar.gz\r\n",
        "# !tar -zxvf MNIST.tar.gz\r\n",
        "\r\n",
        "# mnist_train = datasets.MNIST(root = './', train=True, download=True, transform=transform)\r\n",
        "# mnist_test = datasets.MNIST(root = './', train=False, download=True, transform=transform)"
      ],
      "outputs": [],
      "metadata": {
        "id": "4jyJVqUNdXDo"
      }
    },
    {
      "cell_type": "code",
      "execution_count": null,
      "source": [
        "# Create DataLoaders\r\n",
        "train_loader = DataLoader(mnist_train, batch_size=batch_size, shuffle=True, drop_last=True)\r\n",
        "test_loader = DataLoader(mnist_test, batch_size=batch_size, shuffle=True, drop_last=True)"
      ],
      "outputs": [],
      "metadata": {
        "pycharm": {
          "name": "#%%\n"
        },
        "id": "aEtCbO6upkou"
      }
    },
    {
      "cell_type": "markdown",
      "source": [
        "# 3. Define the Network"
      ],
      "metadata": {
        "id": "GhFyzySNeT_e"
      }
    },
    {
      "cell_type": "markdown",
      "source": [
        "The spiking neurons available in snnTorch are designed to be treated as activation units. The only difference is that these spiking neuron activations depend not only on their inputs, but also on their previous state (e.g., $I[t-1]$ and $U[t-1]$ for the Synaptic neuron). This can be implemented in a for-loop with ease.\n",
        "\n",
        "If you have a basic understanding of PyTorch, the following code block should look familiar. `nn.Linear` initializes the linear transformation layer, and instead of applying a sigmoid, ReLU or some other nonlinear activation, a spiking neuron is applied instead by calling `snn.Synaptic`:"
      ],
      "metadata": {
        "collapsed": false,
        "pycharm": {
          "name": "#%% md\n"
        },
        "id": "RJkoAg-3pkow"
      }
    },
    {
      "cell_type": "code",
      "execution_count": null,
      "source": [
        "# Define Network\r\n",
        "class Net(nn.Module):\r\n",
        "    def __init__(self):\r\n",
        "        super().__init__()\r\n",
        "\r\n",
        "        # Initialize layers\r\n",
        "        self.fc1 = nn.Linear(num_inputs, num_hidden)\r\n",
        "        self.lif1 = snn.Synaptic(alpha=alpha, beta=beta)\r\n",
        "        self.fc2 = nn.Linear(num_hidden, num_outputs)\r\n",
        "        self.lif2 = snn.Synaptic(alpha=alpha, beta=beta)\r\n",
        "\r\n",
        "    def forward(self, x):\r\n",
        "\r\n",
        "        # Initialize hidden states and outputs at t=0\r\n",
        "        syn1, mem1 = self.lif1.init_synaptic(num_hidden, device=device)\r\n",
        "        syn2, mem2 = self.lif2.init_synaptic(num_outputs, device=device)\r\n",
        "        \r\n",
        "        # Record the final layer\r\n",
        "        spk2_rec = []\r\n",
        "        mem2_rec = []\r\n",
        "\r\n",
        "        for step in range(num_steps):\r\n",
        "            cur1 = self.fc1(x)\r\n",
        "            spk1, syn1, mem1 = self.lif1(cur1, syn1, mem1)\r\n",
        "            cur2 = self.fc2(spk1)\r\n",
        "            spk2, syn2, mem2 = self.lif2(cur2, syn2, mem2)\r\n",
        "\r\n",
        "            spk2_rec.append(spk2)\r\n",
        "            mem2_rec.append(mem2)\r\n",
        "\r\n",
        "        return torch.stack(spk2_rec, dim=0), torch.stack(mem2_rec, dim=0)"
      ],
      "outputs": [],
      "metadata": {
        "pycharm": {
          "name": "#%%\n"
        },
        "id": "-uquHLLmpkox"
      }
    },
    {
      "cell_type": "markdown",
      "source": [
        "The code in the `forward()` function will only be called once the input argument `x` is explicitly passed in:\n",
        "\n",
        "* `fc1` applies a linear transformation to the input: $W_{i, j}^{[1]}X_{i}^{[1]}[t] \\rightarrow Y_{j}^{[1]}[t]$, i.e., `cur1`\n",
        "* `lif1` integrates $Y^{[1]}_{j}[t]$ over time (with a decay), to generate $I_{j}^{[1]}[t]$ and $U_{j}^{[1]}[t]$. An output spike is triggered if $U_{j}^{[1]}[t] > U_{\\rm thr}$. Equivalently, `spk1=1` if `mem1` > `threshold=1.0`\n",
        "* `fc2` applies a linear transformation to `spk1`: $W_{j, k}^{[2]}S_{j}^{[1]}[t] \\rightarrow Y_{k}^{[2]}[t]$, i.e., `cur2`\n",
        "* `lif2` is another spiking neuron layer, and generates output spikes $S_{k}^{[2]}[t]$ which are returned in the variable `spk2`\n",
        "\n",
        "Here, $i$ denotes one of 784 input neurons, $j$ indexes one of the 1,000 neurons in the hidden layer, and $k$ points to one of 10 output neurons.\n"
      ],
      "metadata": {
        "id": "Y0fHcAKfrav6"
      }
    },
    {
      "cell_type": "markdown",
      "source": [
        "The layers in `def __init__(self)` are automatically created upon instantiating `Net()`, as is done below:\n"
      ],
      "metadata": {
        "id": "3-yJXOSQqANb"
      }
    },
    {
      "cell_type": "code",
      "execution_count": null,
      "source": [
        "# Load the network onto CUDA if available\r\n",
        "net = Net().to(device)"
      ],
      "outputs": [],
      "metadata": {
        "id": "EkTWSXj5fj2V"
      }
    },
    {
      "cell_type": "markdown",
      "source": [
        "# 4. Backpropagation for SNNs"
      ],
      "metadata": {
        "id": "6a7MdORCtIx4"
      }
    },
    {
      "cell_type": "markdown",
      "source": [
        "A few questions arise when setting up a backprop-driven learning algorithm:\n",
        "\n",
        "1.   **Targets**: What should the target of the output layer be?\n",
        "2.   **Backprop through time**: How might the gradient flow back in time?\n",
        "3.   **Spike non-differentiability**: If spikes are discrete, instantaneous bursts of information, doesn't that make them non-differentiable? If the output spike has no gradient with respect to the network parameters, wouldn't backprop be impossible?\n",
        "\n",
        "Let's tackle these one by one. "
      ],
      "metadata": {
        "collapsed": false,
        "pycharm": {
          "name": "#%% md\n"
        },
        "id": "ZlrNIMNnpkoy"
      }
    },
    {
      "cell_type": "markdown",
      "source": [
        "## 4.1 Target Labels"
      ],
      "metadata": {
        "id": "NpJhgA6n8LPt"
      }
    },
    {
      "cell_type": "markdown",
      "source": [
        "In [tutorial 1](https://colab.research.google.com/github/jeshraghian/snntorch/blob/tutorials/examples/tutorial_1_spikegen.ipynb), we learnt about rate and latency coding. Rate coding stores information in the frequency of spikes, and latency coding stores information in the timing of each spike. Previously, we used these encoding strategies to convert datasets into time-varying spikes. Here, they are used as encoding strategies for the output layer of our SNN. I.e., these codes will be used to teach the final layer of the network how to respond to certain inputs. \n",
        "\n",
        "The goal of the SNN is to predict a discrete variable with $n$ possible values, as is the case with MNIST where $n=10$. "
      ],
      "metadata": {
        "id": "k0At_jfe8OLY"
      }
    },
    {
      "cell_type": "markdown",
      "source": [
        "### 4.1.1 Rate code"
      ],
      "metadata": {
        "id": "OnSx21wvAoee"
      }
    },
    {
      "cell_type": "markdown",
      "source": [
        "For rate encoding, the most naive implementation is to encourage the correct class to fire at every time step, and the incorrect classes to not fire at all. There are two ways to implement this, one of which is a lot more effective than the other:\n",
        "\n",
        "* Set the target of the output spike of the correct class $y_{\\rm spk} = 1$ for all $t$, or\n",
        "* Set the target of the membrane potential of the correct class $y_{\\rm mem} = U_{\\rm thr}$ for all $t$ \n",
        "\n",
        "Which is the better approach? \n",
        "\n",
        "**Spiking Targets**\n",
        "\n",
        "Consider the first option. The output spikes are discrete events, and rely on large perturbations of the membrane potential around the threshold to have any infleunce. If the output spiking behavior goes unchanged, the gradient of the output of the network with respect to its parameters would be $0$. This is problematic, because the training process would no longer have a guide for how to improve the weights. It would be an ineffective approach for gradient descent. \n",
        "\n",
        "**Membrane Potential Targets**\n",
        "\n",
        "Instead, it is better to promote spiking by applying the target to the membrane potential. As the membrane potential is a much stronger function of the parameters, (i.e., a small perturbation of the weights would directly perturb the membrane potential), this would ensure there is a strong gradient whenever the network obtains a wrong result. So we set $y_{\\rm mem} = U_{\\rm thr}$. By default, `threshold=1`. The outputs can then be applied to a softmax unit, which are then used to find the cross-entropy loss:\n",
        "\n",
        "$$CE = - \\sum^n_{i=1}y_{i,\\rm mem} {\\rm log}(p_i),$$\n",
        "\n",
        "where $y_{i, \\rm mem}$ is the target label at a given time step, $n$ is the number of classes, and $p_i$ is the softmax probability for the $i^{th}$ class. \n",
        "\n",
        "The accuracy of the network would then be measured by counting up how many times each neuron fired across all time steps. We could then use `torch.max()` to choose the neuron with the most spikes, or somewhat equivalently, the highest average firing rate. \n",
        "\n",
        "It is possible to increase the target of membrane potential beyond the threshold to excite the neuron further. While this may be desirable in some instances, it will likely trigger high-conductance pathways for the wrong class when training other samples."
      ],
      "metadata": {
        "id": "4kR56xe3Ari3"
      }
    },
    {
      "cell_type": "markdown",
      "source": [
        "*Our classifier will implement the simplest form of rate coding. It will encourage the correct class to fire 100% of time steps, and the incorrect class to fire 0% of the time. Although this is clearly not the most efficient method, it is the simplest.*"
      ],
      "metadata": {
        "id": "b-xv_G0_304H"
      }
    },
    {
      "cell_type": "markdown",
      "source": [
        "### 4.1.2 Latency code\n"
      ],
      "metadata": {
        "id": "iknCYQEeCaHG"
      }
    },
    {
      "cell_type": "markdown",
      "source": [
        "In latency encoding, the neuron that fires first is the predicted class. The target may be set to 1 for one of the first few time steps. Depending on the neuron model being used, it will take several time steps before the input can propagate to the output of the network. Therefore, it is inadvisable to set the target to `1` only for the first time step. \r\n",
        "\r\n",
        "Consider the case of a neuron receiving an input spike. Depending on the neuron model in use, the post-synaptic potential may experience a time delay $t_{\\rm psp}$ to reach the peak of its membrane potential, and subsequently emit an output spike. If this neuron is connected in a deep neural network, the minimum time before the final layer could generate output spikes *as a result of the input (and not biases)* would thus be $t_{\\rm min} = Lt_{\\rm psp}$, where $L$ is the number of layers in the network. \r\n",
        "\r\n",
        "For the Synaptic and Lapicque models, the membrane potential will immediately jump as a result of the input. But there is a time delay of one step before the output spike can be triggered as a result. Therefore, we set $t_{\\rm psp}=1$ time step. For the Alpha neuron model, it will take a longer time to reach the peak, and is a function of the decay rates, $\\alpha$ and $\\beta$. \r\n",
        "\r\n",
        "<center>\r\n",
        "<img src='https://github.com/jeshraghian/snntorch/blob/master/docs/_static/img/examples/tutorial3/3_3_delay.png?raw=true' width=\"450\">\r\n",
        "</center>\r\n",
        "\r\n",
        "In absence of this post-synaptic potential delay, it becomes challenging to control the output layer in terms of spike timing. An input spike of a multi-layer SNN could effectively be transmitted straight to the output instantaneously, without considering the input data at any later time steps. A slight modification is made to the unrolled computational graph, which adds a delay of one time step between $U$ and $S$.\r\n",
        "\r\n",
        "<center>\r\n",
        "<img src='https://github.com/jeshraghian/snntorch/blob/master/docs/_static/img/examples/tutorial3/3_4_graphdelay.png?raw=true' width=\"700\">\r\n",
        "</center>"
      ],
      "metadata": {
        "id": "92hSKSBogC0I"
      }
    },
    {
      "cell_type": "markdown",
      "source": [
        "\n",
        "As for the incorrect classes, it is acceptable to set their targets to 0. However, this could result in low conductance pathways that completely inhibit firing. It may be preferable to set their membrane potential target to something slightly higher, e.g., $U_{\\rm thr}/5$. The optimal point is a topic of further investigation. Note that all of the above can have a cross-entropy loss applied, just as with rate coding.\n",
        "\n",
        "A simple example across 4 time steps is provided in the image below, though the values and spiking periodicity should not be taken literally.\n",
        "\n",
        "<center>\n",
        "<img src='https://github.com/jeshraghian/snntorch/blob/master/docs/_static/img/examples/tutorial3/3_5_targets.png?raw=true' width=\"700\">\n",
        "</center>\n",
        "\n",
        "An alternative approach is to treat the number of time steps as a continuous variable and use a mean square error loss to dictate when firing should occur:\n",
        "\n",
        "$$MSE = \\sum^n_{t=1}(t_{\\rm spk} - \\hat{t_{\\rm spk}}^2),$$\n",
        "\n",
        "where $t$ is the time step, and $n$ is the total number of steps. In such a case, a larger number of time steps are expected to improve performance as it will allow the flow of time to look more 'continuous'.\n",
        "\n",
        "Is there a preference between latency and rate codes? We briefly touched on this question in the context of data encoding, and the same arguments apply here. Latency codes are desirable because they only rely on a single spike to convey all necessary information. Rate coding spreads out information across many time steps, and there is much less information transfer within each spike. Therefore, latency codes are much more power efficient when running on neuromorphic hardware. On the other hand, the redundant spikes in rate codes makes them much more noise tolerant. "
      ],
      "metadata": {
        "id": "UYDvqr1oMHQp"
      }
    },
    {
      "cell_type": "markdown",
      "source": [
        "## 4.2 Backpropragation Through Time"
      ],
      "metadata": {
        "id": "9SBjiLAX-ZhX"
      }
    },
    {
      "cell_type": "markdown",
      "source": [
        "Computing the gradient through an SNN is mostly the same as that of an RNN. The generalized backpropagation algorithm is applied to the unrolled computational graph. Working backward from the end of the sequence, the gradient flows from the loss to all descendents. Shown below are the various pathways of the gradient $\\nabla_W \\mathcal{L}$ from the parent ($\\mathcal{L}$: cross-entropy loss) to its leaf nodes ($W$). \n",
        "\n",
        "\n",
        "<center>\n",
        "<img src='https://github.com/jeshraghian/snntorch/blob/master/docs/_static/img/examples/tutorial3/3_6_bptt.png?raw=true' width=\"800\">\n",
        "</center>\n",
        "\n",
        "The learnable parameter $W$ is shared across each time step. This means that multiple backprop paths exist between the loss and the same network parameter. To resolve this, all gradients $\\nabla_W \\mathcal{L}$ are simply summed together before applying a weight update.\n",
        "\n",
        "To find $\\nabla_W \\mathcal{L}$, the chain rule is applied to each pathway. \n",
        "\n",
        "**Shortest Pathway** \n",
        "\n",
        "Considering only the shortest pathway at $t=3$, where the superscript $^{<1>}$ indicates this is just one of many paths to be summed:\n",
        "\n",
        "$$\\nabla_W \\mathcal{L}^{<1>} = \\frac{\\partial{\\mathcal{L}}}{\\partial{p_i}} \\frac{\\partial{p_i}}{\\partial{U[3]}} \\frac{\\partial{U[3]}}{\\partial{Y[3]}} \\frac{\\partial{Y[3]}}{\\partial{W}}$$\n",
        "\n",
        "The first two terms can be analytically solved by taking the derivative of the cross-entropy loss and the softmax function. The third term must be decomposed into the following terms:\n",
        "\n",
        "$$ \\frac{\\partial{U[3]}}{\\partial{Y[3]}} = \\frac{\\partial{U[3]}}{\\partial{I[3]}} \\frac{\\partial{I[3]}}{\\partial{Y[3]}}$$\n",
        "\n",
        "Recall the recursive form of the Synaptic neuron model:\n",
        "\n",
        "\n",
        "$$I[t+1]=\\alpha I[t] + WX[t+1]$$\n",
        "\n",
        "$$U[t+1] = \\beta U[t] + I[t+1] - R[t+1]$$\n",
        "\n",
        "$WX=Y$ is directly added to $I$, which is directly added to $U$. Therefore, both partial derivative terms evaluate to 1:\n",
        "\n",
        "$$\\frac{\\partial{U[3]}}{\\partial{Y[3]}} = 1$$\n",
        "\n",
        "The final term $ \\frac{\\partial{Y[3]}}{\\partial{W}}$ evaluates to the input at that time step $X[3]$. \n",
        "\n",
        "**2nd Shortest Pathways**\n",
        "\n",
        "Consider the pathway that flows backwards one time step from $t=3$ to $t=2$ through $\\beta$:\n",
        "\n",
        "$$\\nabla_W \\mathcal{L}^{<2>} = \\frac{\\partial{\\mathcal{L}}}{\\partial{p_i}} \\frac{\\partial{p_i}}{\\partial{U[3]}} \\frac{\\partial{U[3]}}{\\partial{U[2]}} \n",
        "\\frac{\\partial{U[2]}}{\\partial{Y[2]}} \\frac{\\partial{Y[2]}}{\\partial{W}} $$\n",
        "\n",
        "Almost all terms are the same as the shortest pathway calculation, or at least evaluate to the same values. The only major difference is the third term, which signals the backwards flow through time: $U[3] \\rightarrow U[2]$. The derivative is simply $\\beta$. \n",
        "\n",
        "The parallel pathway flowing through $I[3] \\rightarrow I[2]$ follows the same method, but instead, $\\frac{\\partial{I[3]}}{\\partial{I[2]}} = \\alpha$. \n",
        "\n",
        "An interesting result arises: for each additional time step the graph flows through, the smaller that component of the gradient becomes. This is because each backwards path is recursively multiplied by either $\\alpha$ or $\\beta$, which gradually diminish the contribution of earlier states of the network to gradient.\n",
        "\n",
        "Luckily for you, all of this is automatically taken care of by PyTorch's autodifferentiation framework. Variations of backprop through time are also available within snnTorch, which will be demonstrated in future tutorials.\n"
      ],
      "metadata": {
        "id": "8UYEmLk4-e4G"
      }
    },
    {
      "cell_type": "markdown",
      "source": [
        "## 4.3 Non-differentiability of Spikes"
      ],
      "metadata": {
        "id": "c7nYrxNFLybB"
      }
    },
    {
      "cell_type": "markdown",
      "source": [
        "The above analysis only solved for parameter updates for the final layer. This was not an issue as we used membrane potential $U$ to calculate the loss, which is a continuous function. If we backpropagate to earlier layers, we need to take the derivative of spikes, i.e., a non-differentiable, non-continuous function.\n",
        "\n",
        "Let's open up the computational graph of the Synaptic neuron model to identify exactly where this problem occurs.\n",
        "\n",
        "<center>\n",
        "<img src='https://github.com/jeshraghian/snntorch/blob/master/docs/_static/img/examples/tutorial3/3_7_stein_bptt.png?raw=true' width=\"800\">\n",
        "</center>\n",
        "\n",
        "Backpropagating through the shortest path gives:\n",
        "$$\\frac{\\partial{S[3]}}{\\partial{Y[2]}} = \\frac{\\partial{S[3]}}{\\partial{U[2]}} \\frac{\\partial{U[2]}}{\\partial{I[2]}}\\frac{\\partial{I[2]}}{\\partial{Y[2]}}$$\n",
        "\n",
        "The final two terms evaluate to 1 for the same reasons described above. But the first term is non-differentiable. Recall how $S=1$ only for $U>U_{\\rm thr}$, i.e., a shifted form of the Heaviside step function. The analytical derivative evaluates to 0 everywhere, except at $U_{\\rm thr}: \\frac{\\partial{S[t]}}{\\partial{U[t-1]}} \\rightarrow \\infty$. This is the result generated by PyTorch's default autodifferentiation framework, and will zero out the gradient thus immobilizing the network's ability to learn:\n",
        "\n",
        "$$W := W - \\eta \\nabla_W \\mathcal{L} $$\n",
        "\n",
        "where $\\nabla_W \\mathcal{L} \\rightarrow 0$. "
      ],
      "metadata": {
        "id": "yXWeOeqZ5S_r"
      }
    },
    {
      "cell_type": "markdown",
      "source": [
        "How do we overcome this issue? Several approaches have been taken and yielded great results. Smooth approximations of the Heaviside function have been used, taking gradients of the continuous function instead. Friedemann Zenke's extensive work on surrogate gradients is among the most rigorous on this topic, and is [very well documented here](https://github.com/fzenke/spytorch). The option to use surrogate gradients is available in snnTorch as well, and can be called from the `snntorch.surrogate` library. More details are available [here](https://snntorch.readthedocs.io/en/latest/snntorch.surrogate.html).\n",
        "\n",
        "snnTorch takes a wholly different approach that is simple, yet effective. "
      ],
      "metadata": {
        "id": "ktpVgJisQU03"
      }
    },
    {
      "cell_type": "markdown",
      "source": [
        "## 4.3.1 A Time-Evolution Approach to the Spiking Derivative"
      ],
      "metadata": {
        "id": "iBHz22CdgE0k"
      }
    },
    {
      "cell_type": "markdown",
      "source": [
        "What follows is a simple, intuitive description behind the approach taken. A rigorous mathematical treatment will be made available separately. \n",
        "\n",
        "The analytical derivative of $S$ with respect to $U$ neglects two features of spiking neurons:\n",
        "\n",
        "* the discrete time representation of SNNs \n",
        "* spike-induced reset and refractory periods of neurons\n",
        "\n",
        "**Discrete Time Representation**\n",
        "\n",
        "Given that SNNs (and more generally, RNNs) operate in discrete time, we can approximate the derivative to be the relative change across 1 time step:\n",
        "\n",
        "$$\\frac{\\partial S}{\\partial U} \\rightarrow \\frac{\\Delta S}{\\Delta U}$$\n",
        "\n",
        "Intuitively, the time derivative cannot be calculated by letting $\\Delta t \\rightarrow 0$, but rather, it must approach the smallest possible value $\\Delta t \\rightarrow 1$. It therefore follows that the derivative of a time-varying pair of functions must be treated similarly.\n",
        "\n",
        "**Spike-induced Reset**\n",
        "\n",
        "Next, the occurrence of a spike necessarily incurs a membrane potential reset. So when the spike mechanism switches off: $S: 1 \\rightarrow 0$, the membrane potential resets by subtraction of the threshold, which is set to one by default: $\\Delta U = U_{\\rm thr} \\rightarrow -1$:\n",
        "\n",
        "$$\\frac{\\Delta S}{\\Delta U} = \\frac{-1}{-1} = 1$$\n",
        "\n",
        "This situation is illustrated below:\n",
        "\n",
        "<center>\n",
        "<img src='https://github.com/jeshraghian/snntorch/blob/master/docs/_static/img/examples/tutorial3/3_8_timevarying.png?raw=true' width=\"550\">\n",
        "</center>\n",
        "\n",
        "If instead there is no spike, then $\\Delta S = 0$ for a finite change in $U$. Formally:\n",
        "\n",
        "\\begin{equation}\n",
        "    \\frac{\\partial S}{\\partial U} \\approx \\Theta(U - U_{\\rm thr}) =     \n",
        "    \\begin{cases}\n",
        "      1  & \\text{if $S$ = $1$}\\\\\n",
        "      0 & \\text{if $S$ = $0$}\n",
        "    \\end{cases}  \n",
        "\\end{equation}\n",
        "\n",
        "This is simply the Heaviside step function shifted about the membrane threshold, $U_{\\rm thr} = \\theta$.\n",
        "\n",
        "<center>\n",
        "<img src='https://github.com/jeshraghian/snntorch/blob/master/docs/_static/img/examples/tutorial3/3_9_spike_grad.png?raw=true' width=\"550\">\n",
        "</center>\n",
        "\n",
        "What this suggests is that learning only takes place when neurons fire. This is generally not a concern, as a large enough network will have sufficient spiking to enable a gradient to flow through the computational graph. Armed with the knowledge that weight updates only take place when neurons fire, this approach echoes a rudimentary form of Hebbian learning.\n",
        "\n",
        "Importantly, the situation is more nuanced than what has been described above. But this should be sufficient to give you the big picture intuition. As a matter of interest, the Heaviside gradient takes a similar approach to how the gradient flows through a max-pooling unit, and also evaluates to the same derivative as a shifted ReLU activation. "
      ],
      "metadata": {
        "id": "r8W_hVKkf4HM"
      }
    },
    {
      "cell_type": "markdown",
      "source": [
        "# 5. Training on Static MNIST"
      ],
      "metadata": {
        "id": "uDFwKmN9en4i"
      }
    },
    {
      "cell_type": "markdown",
      "source": [
        "\n",
        "Time for training! Let's first define a couple of functions to print out test/train accuracy."
      ],
      "metadata": {
        "id": "6D-fhT3Q7nXM"
      }
    },
    {
      "cell_type": "code",
      "execution_count": null,
      "source": [
        "def print_batch_accuracy(data, targets, train=False):\r\n",
        "    output, _ = net(data.view(batch_size, -1))\r\n",
        "    _, idx = output.sum(dim=0).max(1)\r\n",
        "    acc = np.mean((targets == idx).detach().cpu().numpy())\r\n",
        "\r\n",
        "    if train:\r\n",
        "        print(f\"Train Set Accuracy: {acc}\")\r\n",
        "    else:\r\n",
        "        print(f\"Test Set Accuracy: {acc}\")\r\n",
        "\r\n",
        "def train_printer():\r\n",
        "    print(f\"Epoch {epoch}, Minibatch {minibatch_counter}\")\r\n",
        "    print(f\"Train Set Loss: {loss_hist[counter]}\")\r\n",
        "    print(f\"Test Set Loss: {test_loss_hist[counter]}\")\r\n",
        "    print_batch_accuracy(data_it, targets_it, train=True)\r\n",
        "    print_batch_accuracy(testdata_it, testtargets_it, train=False)\r\n",
        "    print(\"\\n\")"
      ],
      "outputs": [],
      "metadata": {
        "pycharm": {
          "name": "#%%\n"
        },
        "id": "-IxcnBAxpkoy"
      }
    },
    {
      "cell_type": "markdown",
      "source": [
        "## 5.1 Optimizer"
      ],
      "metadata": {
        "collapsed": false,
        "pycharm": {
          "name": "#%% md\n"
        },
        "id": "OxfhunW6pkoz"
      }
    },
    {
      "cell_type": "markdown",
      "source": [
        "We will apply a softmax to the output of our network, and calculate the loss using the negative log-likelihood."
      ],
      "metadata": {
        "id": "T7ULsfh9bHr1"
      }
    },
    {
      "cell_type": "code",
      "execution_count": null,
      "source": [
        "optimizer = torch.optim.Adam(net.parameters(), lr=2e-4, betas=(0.9, 0.999))\r\n",
        "log_softmax_fn = nn.LogSoftmax(dim=-1)\r\n",
        "loss_fn = nn.NLLLoss()"
      ],
      "outputs": [],
      "metadata": {
        "id": "iqdVyjCNtdlp"
      }
    },
    {
      "cell_type": "markdown",
      "source": [
        "## 5.2 Training Loop"
      ],
      "metadata": {
        "id": "GiqAVKzVbfPn"
      }
    },
    {
      "cell_type": "markdown",
      "source": [
        "We assume some working knowledge of PyTorch. The training loop is fairly standard, with the only exceptions being the following.\n",
        "\n",
        "**Inputs**\n",
        "\n",
        "The for-loop that iterates through each time step during the forward pass has already been nested within `net`. This means that the following line of code:\n",
        "\n",
        "`spk_rec, mem_rec = net(data_it.view(batch_size, -1))`\n",
        "\n",
        "passes the same sample at each step. That is why we refer to it as static MNIST.\n",
        "\n",
        "\n",
        "**Targets**\n",
        "\n",
        "The losses generated at each time steps are summed together in the for-loop that contains:\n",
        "\n",
        "`loss_val += loss_fn(log_p_y[step], targets_it)`\n",
        "\n",
        "Also note how `targets_it` is not indexed, because the same value is used as the target for each step. '1' is applied as the target for the correct class for all of time, and '0' is applied as the target for all other classes.\n",
        "\n",
        "Let's train this across 3 epochs to keep things quick."
      ],
      "metadata": {
        "id": "yGDs_dF2e1Sx"
      }
    },
    {
      "cell_type": "code",
      "execution_count": null,
      "source": [
        "loss_hist = []\r\n",
        "test_loss_hist = []\r\n",
        "counter = 0\r\n",
        "\r\n",
        "# Outer training loop\r\n",
        "for epoch in range(3):\r\n",
        "    minibatch_counter = 0\r\n",
        "    train_batch = iter(train_loader)\r\n",
        "\r\n",
        "    # Minibatch training loop\r\n",
        "    for data_it, targets_it in train_batch:\r\n",
        "        data_it = data_it.to(device)\r\n",
        "        targets_it = targets_it.to(device)\r\n",
        "\r\n",
        "        spk_rec, mem_rec = net(data_it.view(batch_size, -1))\r\n",
        "        log_p_y = log_softmax_fn(mem_rec)\r\n",
        "        loss_val = torch.zeros((1), dtype=dtype, device=device)\r\n",
        "\r\n",
        "        # Sum loss over time steps: BPTT\r\n",
        "        for step in range(num_steps):\r\n",
        "          loss_val += loss_fn(log_p_y[step], targets_it)\r\n",
        "\r\n",
        "        # Gradient calculation\r\n",
        "        optimizer.zero_grad()\r\n",
        "        loss_val.backward()\r\n",
        "\r\n",
        "        # Weight Update\r\n",
        "        optimizer.step()\r\n",
        "\r\n",
        "        # Store loss history for future plotting\r\n",
        "        loss_hist.append(loss_val.item())\r\n",
        "\r\n",
        "        # Test set\r\n",
        "        test_data = itertools.cycle(test_loader)\r\n",
        "        testdata_it, testtargets_it = next(test_data)\r\n",
        "        testdata_it = testdata_it.to(device)\r\n",
        "        testtargets_it = testtargets_it.to(device)\r\n",
        "\r\n",
        "        # Test set forward pass\r\n",
        "        test_spk, test_mem = net(testdata_it.view(batch_size, -1))\r\n",
        "\r\n",
        "        # Test set loss\r\n",
        "        log_p_ytest = log_softmax_fn(test_mem)\r\n",
        "        log_p_ytest = log_p_ytest.sum(dim=0)\r\n",
        "        loss_val_test = loss_fn(log_p_ytest, testtargets_it)\r\n",
        "        test_loss_hist.append(loss_val_test.item())\r\n",
        "\r\n",
        "        # Print test/train loss/accuracy\r\n",
        "        if counter % 50 == 0:\r\n",
        "            train_printer()\r\n",
        "        minibatch_counter += 1\r\n",
        "        counter += 1\r\n",
        "\r\n",
        "loss_hist_true_grad = loss_hist\r\n",
        "test_loss_hist_true_grad = test_loss_hist"
      ],
      "outputs": [],
      "metadata": {
        "id": "LMZMxEV8dcTC"
      }
    },
    {
      "cell_type": "markdown",
      "source": [
        "If this was your first time training an SNN, then congratulations!"
      ],
      "metadata": {
        "id": "Taf6WZLojHTz"
      }
    },
    {
      "cell_type": "markdown",
      "source": [
        "# 6. Results\n",
        "## 6.1 Plot Training/Test Loss"
      ],
      "metadata": {
        "collapsed": false,
        "pycharm": {
          "name": "#%% md\n"
        },
        "id": "HxU7P7xFpko3"
      }
    },
    {
      "cell_type": "code",
      "execution_count": null,
      "source": [
        "# Plot Loss\r\n",
        "fig = plt.figure(facecolor=\"w\", figsize=(10, 5))\r\n",
        "plt.plot(loss_hist)\r\n",
        "plt.plot(test_loss_hist)\r\n",
        "plt.legend([\"Train Loss\", \"Test Loss\"])\r\n",
        "plt.xlabel(\"Iteration\")\r\n",
        "plt.ylabel(\"Loss\")\r\n",
        "plt.show()"
      ],
      "outputs": [],
      "metadata": {
        "pycharm": {
          "name": "#%%\n"
        },
        "id": "_Pk_EScnpkpj"
      }
    },
    {
      "cell_type": "markdown",
      "source": [
        "Taking a look at the training / test loss, the process is somewhat noisy. This could be a result of a variety of things: minibatch gradient descent is the obvious one, but the use of improper targets likely also contributes. By encouraging the correct class to fire at every time step, the loss function conflicts with the reset mechanism that tries to prevent this."
      ],
      "metadata": {
        "id": "g-Gd84OAl1rB"
      }
    },
    {
      "cell_type": "markdown",
      "source": [
        "## 6.2 Test Set Accuracy\n",
        "This function iterates over all minibatches to obtain a measure of accuracy over the full 10,000 samples in the test set."
      ],
      "metadata": {
        "collapsed": false,
        "pycharm": {
          "name": "#%% md\n"
        },
        "id": "Z3f0vBnBpkpk"
      }
    },
    {
      "cell_type": "code",
      "execution_count": null,
      "source": [
        "total = 0\r\n",
        "correct = 0\r\n",
        "\r\n",
        "# drop_last switched to False to keep all samples\r\n",
        "test_loader = DataLoader(mnist_test, batch_size=batch_size, shuffle=True, drop_last=False)\r\n",
        "\r\n",
        "with torch.no_grad():\r\n",
        "  net.eval()\r\n",
        "  for data in test_loader:\r\n",
        "    images, labels = data\r\n",
        "    images = images.to(device)\r\n",
        "    labels = labels.to(device)\r\n",
        "\r\n",
        "    batch_size = images.size(0)  # the final batch has a different size so must be updated\r\n",
        "    outputs, _ = net(images.view(batch_size, -1))\r\n",
        "\r\n",
        "    _, predicted = outputs.sum(dim=0).max(1)\r\n",
        "    total += labels.size(0)\r\n",
        "    correct += (predicted == labels).sum().item()\r\n",
        "\r\n",
        "print(f\"Total correctly classified test set images: {correct}/{total}\")\r\n",
        "print(f\"Test Set Accuracy: {100 * correct / total}%\")"
      ],
      "outputs": [],
      "metadata": {
        "id": "F5Rb4xHGndQh"
      }
    },
    {
      "cell_type": "markdown",
      "source": [
        "Voila! That's it for static MNIST. Feel free to tweak the network parameters, hyperparameters, decay rate, using a learning rate scheduler etc. to see if you can improve the network performance. "
      ],
      "metadata": {
        "collapsed": false,
        "pycharm": {
          "name": "#%% md\n"
        },
        "id": "TBIXau4Zpkpl"
      }
    },
    {
      "cell_type": "markdown",
      "source": [
        "# Conclusion\n",
        "Now you know how to construct and train a fully-connected network on a static dataset. The spiking neurons can actually be adapted to other layer types, including convolutions and skip connections. Armed with this knowledge, you should now be able to build many different types of SNNs.\n",
        "\n",
        "In the next tutorial, you will learn how to train a spiking convolutional network using a time-varying spiking dataset."
      ],
      "metadata": {
        "id": "s0dAgWUt2o6E"
      }
    }
  ]
}