{
  "nbformat": 4,
  "nbformat_minor": 0,
  "metadata": {
    "colab": {
      "name": "Untitled17.ipynb",
      "provenance": [],
      "collapsed_sections": [],
      "toc_visible": true,
      "authorship_tag": "ABX9TyNfGHaMWFzoATjsY+mTwPE1",
      "include_colab_link": true
    },
    "kernelspec": {
      "name": "python3",
      "display_name": "Python 3"
    }
  },
  "cells": [
    {
      "cell_type": "markdown",
      "metadata": {
        "id": "view-in-github",
        "colab_type": "text"
      },
      "source": [
        "<a href=\"https://colab.research.google.com/github/jeshraghian/snntorch/blob/tutorials/examples/tutorial_2_neurons_update.ipynb\" target=\"_parent\"><img src=\"https://colab.research.google.com/assets/colab-badge.svg\" alt=\"Open In Colab\"/></a>"
      ]
    },
    {
      "cell_type": "markdown",
      "metadata": {
        "id": "HzIQBw28NL8h"
      },
      "source": [
        "<img src='https://github.com/jeshraghian/snntorch/blob/master/docs/_static/img/snntorch_alpha_w.png?raw=true' width=\"400\">\r\n",
        "\r\n",
        "# snnTorch - Neuronal Dynamics with ``snntorch``\r\n",
        "## Tutorial 2\r\n",
        "### By Jason K. Eshraghian (www.jasoneshraghian.com)\r\n",
        "\r\n",
        "<a href=\"https://colab.research.google.com/github/jeshraghian/snntorch/blob/tutorials/examples/tutorial_2_neurons.ipynb\">\r\n",
        "  <img src=\"https://colab.research.google.com/assets/colab-badge.svg\" alt=\"Open In Colab\"/>\r\n",
        "</a>"
      ]
    },
    {
      "cell_type": "markdown",
      "metadata": {
        "id": "Ep_Qv7kzNOz6"
      },
      "source": [
        "# Introduction\r\n",
        "In this tutorial, you will:\r\n",
        "* Learn the basics of a leaky integrate-and-fire (LIF)\r\n",
        "* Use snnTorch to implement variations of the LIF model: \r\n",
        "  * Lapicque's LIF neuron model\r\n",
        "  * Stein's neuron model\r\n",
        "  * 0$^{th}$ Order Spike Response Model\r\n",
        "<!-- * Plot the output behavior of the neurons -->\r\n",
        "<!-- * Interpret the computational graph of a spiking neuron -->\r\n",
        "<!-- * Automatically initialize the hidden states of the neurons [keep in tute, but delete explanation]? -->\r\n",
        "* Implement a feedforward spiking neural network\r\n",
        "\r\n",
        ">Part of this tutorial was inspired by the book [*Neuronal Dynamics:\r\n",
        "From single neurons to networks and models of cognition*](https://neuronaldynamics.epfl.ch/index.html) by\r\n",
        "Wulfram Gerstner, Werner M. Kistler, Richard Naud and Liam Paninski.\r\n",
        "\r\n",
        "If running in Google Colab:\r\n",
        "* You may connect to GPU by checking `Runtime` > `Change runtime type` > `Hardware accelerator: GPU`\r\n",
        "* Next, install the latest PyPi distribution of snnTorch by clicking into the following cell and pressing `Shift+Enter`."
      ]
    },
    {
      "cell_type": "code",
      "metadata": {
        "colab": {
          "base_uri": "https://localhost:8080/"
        },
        "id": "SPQITvDuNNJg",
        "outputId": "df1e519b-76b2-48b4-9996-b716df7a33e8"
      },
      "source": [
        "# !pip install snntorch \r\n",
        "\r\n",
        "# !git clone https://github.com/jeshraghian/snnTorch \r\n",
        "%cd /content/snnTorch/ \r\n",
        "!python setup.py install "
      ],
      "execution_count": 17,
      "outputs": [
        {
          "output_type": "stream",
          "text": [
            "/content/snnTorch\n",
            "running install\n",
            "running bdist_egg\n",
            "running egg_info\n",
            "creating snntorch.egg-info\n",
            "writing snntorch.egg-info/PKG-INFO\n",
            "writing dependency_links to snntorch.egg-info/dependency_links.txt\n",
            "writing requirements to snntorch.egg-info/requires.txt\n",
            "writing top-level names to snntorch.egg-info/top_level.txt\n",
            "writing manifest file 'snntorch.egg-info/SOURCES.txt'\n",
            "reading manifest template 'MANIFEST.in'\n",
            "warning: no previously-included files matching '__pycache__' found under directory '*'\n",
            "warning: no previously-included files matching '*.py[co]' found under directory '*'\n",
            "warning: no files found matching '*.jpg' under directory 'docs'\n",
            "warning: no files found matching '*.gif' under directory 'docs'\n",
            "writing manifest file 'snntorch.egg-info/SOURCES.txt'\n",
            "installing library code to build/bdist.linux-x86_64/egg\n",
            "running install_lib\n",
            "running build_py\n",
            "creating build\n",
            "creating build/lib\n",
            "creating build/lib/snntorch\n",
            "copying snntorch/utils.py -> build/lib/snntorch\n",
            "copying snntorch/surrogate.py -> build/lib/snntorch\n",
            "copying snntorch/spikegen.py -> build/lib/snntorch\n",
            "copying snntorch/__init__.py -> build/lib/snntorch\n",
            "copying snntorch/backprop.py -> build/lib/snntorch\n",
            "copying snntorch/spikeplot.py -> build/lib/snntorch\n",
            "creating build/bdist.linux-x86_64\n",
            "creating build/bdist.linux-x86_64/egg\n",
            "creating build/bdist.linux-x86_64/egg/snntorch\n",
            "copying build/lib/snntorch/utils.py -> build/bdist.linux-x86_64/egg/snntorch\n",
            "copying build/lib/snntorch/surrogate.py -> build/bdist.linux-x86_64/egg/snntorch\n",
            "copying build/lib/snntorch/spikegen.py -> build/bdist.linux-x86_64/egg/snntorch\n",
            "copying build/lib/snntorch/__init__.py -> build/bdist.linux-x86_64/egg/snntorch\n",
            "copying build/lib/snntorch/backprop.py -> build/bdist.linux-x86_64/egg/snntorch\n",
            "copying build/lib/snntorch/spikeplot.py -> build/bdist.linux-x86_64/egg/snntorch\n",
            "byte-compiling build/bdist.linux-x86_64/egg/snntorch/utils.py to utils.cpython-37.pyc\n",
            "byte-compiling build/bdist.linux-x86_64/egg/snntorch/surrogate.py to surrogate.cpython-37.pyc\n",
            "byte-compiling build/bdist.linux-x86_64/egg/snntorch/spikegen.py to spikegen.cpython-37.pyc\n",
            "byte-compiling build/bdist.linux-x86_64/egg/snntorch/__init__.py to __init__.cpython-37.pyc\n",
            "byte-compiling build/bdist.linux-x86_64/egg/snntorch/backprop.py to backprop.cpython-37.pyc\n",
            "byte-compiling build/bdist.linux-x86_64/egg/snntorch/spikeplot.py to spikeplot.cpython-37.pyc\n",
            "creating build/bdist.linux-x86_64/egg/EGG-INFO\n",
            "copying snntorch.egg-info/PKG-INFO -> build/bdist.linux-x86_64/egg/EGG-INFO\n",
            "copying snntorch.egg-info/SOURCES.txt -> build/bdist.linux-x86_64/egg/EGG-INFO\n",
            "copying snntorch.egg-info/dependency_links.txt -> build/bdist.linux-x86_64/egg/EGG-INFO\n",
            "copying snntorch.egg-info/not-zip-safe -> build/bdist.linux-x86_64/egg/EGG-INFO\n",
            "copying snntorch.egg-info/requires.txt -> build/bdist.linux-x86_64/egg/EGG-INFO\n",
            "copying snntorch.egg-info/top_level.txt -> build/bdist.linux-x86_64/egg/EGG-INFO\n",
            "creating dist\n",
            "creating 'dist/snntorch-0.2.6-py3.7.egg' and adding 'build/bdist.linux-x86_64/egg' to it\n",
            "removing 'build/bdist.linux-x86_64/egg' (and everything under it)\n",
            "Processing snntorch-0.2.6-py3.7.egg\n",
            "creating /usr/local/lib/python3.7/dist-packages/snntorch-0.2.6-py3.7.egg\n",
            "Extracting snntorch-0.2.6-py3.7.egg to /usr/local/lib/python3.7/dist-packages\n",
            "Adding snntorch 0.2.6 to easy-install.pth file\n",
            "\n",
            "Installed /usr/local/lib/python3.7/dist-packages/snntorch-0.2.6-py3.7.egg\n",
            "Processing dependencies for snntorch==0.2.6\n",
            "Searching for celluloid\n",
            "Reading https://pypi.org/simple/celluloid/\n",
            "Downloading https://files.pythonhosted.org/packages/60/a7/7fbe80721c6f1b7370c4e50c77abe31b4d5cfeb58873d4d32f48ae5a0bae/celluloid-0.2.0-py3-none-any.whl#sha256=5cebd41276d9658f7667a2f1f565f566763a6110273b4af35c958b1407a9f277\n",
            "Best match: celluloid 0.2.0\n",
            "Processing celluloid-0.2.0-py3-none-any.whl\n",
            "Installing celluloid-0.2.0-py3-none-any.whl to /usr/local/lib/python3.7/dist-packages\n",
            "Adding celluloid 0.2.0 to easy-install.pth file\n",
            "\n",
            "Installed /usr/local/lib/python3.7/dist-packages/celluloid-0.2.0-py3.7.egg\n",
            "Searching for numpy==1.19.5\n",
            "Best match: numpy 1.19.5\n",
            "Adding numpy 1.19.5 to easy-install.pth file\n",
            "Installing f2py script to /usr/local/bin\n",
            "Installing f2py3 script to /usr/local/bin\n",
            "Installing f2py3.7 script to /usr/local/bin\n",
            "\n",
            "Using /usr/local/lib/python3.7/dist-packages\n",
            "Searching for matplotlib==3.2.2\n",
            "Best match: matplotlib 3.2.2\n",
            "Adding matplotlib 3.2.2 to easy-install.pth file\n",
            "\n",
            "Using /usr/local/lib/python3.7/dist-packages\n",
            "Searching for pandas==1.1.5\n",
            "Best match: pandas 1.1.5\n",
            "Adding pandas 1.1.5 to easy-install.pth file\n",
            "\n",
            "Using /usr/local/lib/python3.7/dist-packages\n",
            "Searching for torch==1.8.0+cu101\n",
            "Best match: torch 1.8.0+cu101\n",
            "Adding torch 1.8.0+cu101 to easy-install.pth file\n",
            "Installing convert-caffe2-to-onnx script to /usr/local/bin\n",
            "Installing convert-onnx-to-caffe2 script to /usr/local/bin\n",
            "\n",
            "Using /usr/local/lib/python3.7/dist-packages\n",
            "Searching for python-dateutil==2.8.1\n",
            "Best match: python-dateutil 2.8.1\n",
            "Adding python-dateutil 2.8.1 to easy-install.pth file\n",
            "\n",
            "Using /usr/local/lib/python3.7/dist-packages\n",
            "Searching for kiwisolver==1.3.1\n",
            "Best match: kiwisolver 1.3.1\n",
            "Adding kiwisolver 1.3.1 to easy-install.pth file\n",
            "\n",
            "Using /usr/local/lib/python3.7/dist-packages\n",
            "Searching for cycler==0.10.0\n",
            "Best match: cycler 0.10.0\n",
            "Adding cycler 0.10.0 to easy-install.pth file\n",
            "\n",
            "Using /usr/local/lib/python3.7/dist-packages\n",
            "Searching for pyparsing==2.4.7\n",
            "Best match: pyparsing 2.4.7\n",
            "Adding pyparsing 2.4.7 to easy-install.pth file\n",
            "\n",
            "Using /usr/local/lib/python3.7/dist-packages\n",
            "Searching for pytz==2018.9\n",
            "Best match: pytz 2018.9\n",
            "Adding pytz 2018.9 to easy-install.pth file\n",
            "\n",
            "Using /usr/local/lib/python3.7/dist-packages\n",
            "Searching for typing-extensions==3.7.4.3\n",
            "Best match: typing-extensions 3.7.4.3\n",
            "Adding typing-extensions 3.7.4.3 to easy-install.pth file\n",
            "\n",
            "Using /usr/local/lib/python3.7/dist-packages\n",
            "Searching for six==1.15.0\n",
            "Best match: six 1.15.0\n",
            "Adding six 1.15.0 to easy-install.pth file\n",
            "\n",
            "Using /usr/local/lib/python3.7/dist-packages\n",
            "Finished processing dependencies for snntorch==0.2.6\n"
          ],
          "name": "stdout"
        }
      ]
    },
    {
      "cell_type": "markdown",
      "metadata": {
        "id": "xmTt5dvyXNNy"
      },
      "source": [
        "# 1. The Spectrum of Neuron Models\r\n",
        "A large variety of neuron models are out there, ranging from biophysically accurate models (i.e., the Hodgkin-Huxley models) to the extremely simple artificial neuron that pervades all facets of modern deep learning.\r\n",
        "\r\n",
        "**Hodgkin-Huxley Neuron Models**$-$While biophysical models can reproduce electrophysiological results with a high degree of accuracy, their complexity makes them difficult to use. We expect this to change as more rigorous theories of how neurons contribute to higher-order behaviors in the brain are uncovered.\r\n",
        "\r\n",
        "**Artificial Neuron Model**$-$On the other end of the spectrum is the artificial neuron. The inputs are multiplied by their corresponding weights and passed through an activation function. This simplification has enabled deep learning researchers to perform incredible feats in computer vision, natural language processing, and many other machine learning-domain tasks.\r\n",
        "\r\n",
        "**Leaky Integrate-and-Fire Neuron Models**$-$Somewhere in the middle of the divide lies the leaky integrate-and-fire (LIF) neuron model. It takes the sum of weighted inputs, much like the artificial neuron. But rather than passing it directly to an activation function, it will integrate the input over time with a leakage, much like an RC circuit. If the integrated value exceeds a threshold, then the LIF neuron will emit a voltage spike. The LIF neuron abstracts away the shape and profile of the output spike; it is simply treated as a discrete event. As a result, information is not stored within the spike, but rather the timing (or frequency) of spikes. Simple spiking neuron models have produced much insight into the neural code, memory, network dynamics, and more recently, deep learning. The LIF neuron sits in the sweet spot between biological plausibility and practicality. \r\n",
        "\r\n",
        "<center>\r\n",
        "<img src='https://github.com/jeshraghian/snntorch/blob/master/docs/_static/img/examples/tutorial2/2_1_neuronmodels.png?raw=true' width=\"1000\">\r\n",
        "</center>\r\n",
        "\r\n",
        "<!-- Researchers might spend their entire lives dedicated to developing neuron models. Some of these models are straightforward extensions of the HH and LIF models, while other models find completely different applications, such as in neuropharmocology. -->\r\n",
        "\r\n",
        "The different versions of the LIF model each have their own dynamics and use-cases. snnTorch currently supports three types of LIF neurons:\r\n",
        "* Lapicque's RC model: ``snntorch.Lapicque``\r\n",
        "* Stein's neuron model: ``snntorch.Stein``\r\n",
        "* 0$^{th}$ Order Spike Response Model: ``snntorch.SRM0``\r\n",
        "\r\n",
        "Before learning how to use them, let's understand how to construct a simple LIF neuron model.\r\n",
        "\r\n",
        "<!-- In general, the most obvious difference is that the SRM0 model incorporates a delay between the input and output. When an input spike arrives at an SRM0 neuron, the membrane potential will increase over a finite time. If an output spike were to be triggered, it would experience a delay with respect to the input. On the other hand, Stein's model allows for an instantaneous rise of membrane potential. We'll dig into where these might be useful shortly. -->\r\n"
      ]
    },
    {
      "cell_type": "markdown",
      "metadata": {
        "id": "Nea8oBorr_KZ"
      },
      "source": [
        "# 1. The Leaky Integrate-and-Fire Neuron Model"
      ]
    },
    {
      "cell_type": "markdown",
      "metadata": {
        "id": "YKsrN5feQ2Dz"
      },
      "source": [
        "## 1.1 Spiking Neurons: Intuition"
      ]
    },
    {
      "cell_type": "markdown",
      "metadata": {
        "id": "YGStnfjzsGKb"
      },
      "source": [
        "A neuron might be connected to 1,000 $-$ 10,000 other neurons. If one neuron spikes, all of these downhill neurons will feel it. But what determines whether a neuron spikes in the first place? The past century of experiments demonstrate that if a neuron experiences *sufficient* stimulus at its input, then we might expect it to become excited and fire its own spike. \r\n",
        "\r\n",
        "Where does this stimulus come from? It could be from\r\n",
        "* the sensory periphery, \r\n",
        "* an invasive electrode artificially stimulating the neuron, or in most cases,\r\n",
        "* from other pre-synaptic neurons. \r\n",
        "\r\n",
        "<center>\r\n",
        "<img src='https://github.com/jeshraghian/snntorch/blob/master/docs/_static/img/examples/tutorial2/2_2_intuition.png?raw=true' width=\"500\">\r\n",
        "</center>\r\n"
      ]
    },
    {
      "cell_type": "markdown",
      "metadata": {
        "id": "TaVTRojJ2Dl_"
      },
      "source": [
        "Given that these spikes are very short bursts of electrical activity, it is quite unlikely for all input spikes to arrive at the neuron body in precise unison. This indicates the presence of temporal dynamics that 'sustain' the input spikes, kind of like a delay.\r\n"
      ]
    },
    {
      "cell_type": "markdown",
      "metadata": {
        "id": "l44jI7A2ReB_"
      },
      "source": [
        "## 1.2 The Passive Membrane"
      ]
    },
    {
      "cell_type": "markdown",
      "metadata": {
        "id": "Od5tfXv6_wcq"
      },
      "source": [
        "Like all cells, a neuron is surrounded by a thin membrane. This membrane is a lipid bilayer that insulates the conductive saline solution within the neuron from the extracellular medium. Electrically, the two conductors separated by an insulator is a capacitor. \r\n",
        "\r\n",
        "Another function of this membrane is to control what goes in and out of this cell (e.g., ions such as Na$^+$). The membrane is usually impermeable to ions which blocks them from entering and exiting the neuron body. But there are specific channels in the membrane that are triggered to open by injecting current into the neuron. This charge movement is electrically modelled by a resistor.\r\n",
        "\r\n",
        "<center>\r\n",
        "<img src='https://github.com/jeshraghian/snntorch/blob/master/docs/_static/img/examples/tutorial2/2_3_passivemembrane.png?raw=true' width=\"450\">\r\n",
        "</center>\r\n"
      ]
    },
    {
      "cell_type": "markdown",
      "metadata": {
        "id": "wT_S4b4HL2ir"
      },
      "source": [
        "Now say some arbitrary time-varying current $I_{\\rm in}(t)$ is injected into the neuron, be it via electrical stimulation or from other neurons. The total current in the circuit is conserved, so:\r\n",
        "\r\n",
        "$$I_{\\rm in}(t) = I_{R} + I_{C}$$\r\n",
        "\r\n",
        "From Ohm's Law, the membrane potential measured between the inside and outside of the neuron $U_{\\rm mem}$ is proportional to the current through the resistor:\r\n",
        "\r\n",
        "$$I_{R}(t) = \\frac{U_{\\rm mem}(t)}{R}$$\r\n",
        "\r\n",
        "The capacitance is a proportionality constant between the charge stored on the capacitor $Q$ and $U_{\\rm mem}(t)$:\r\n",
        "\r\n",
        "\r\n",
        "$$Q = CU_{\\rm mem}(t)$$\r\n",
        "\r\n",
        "The rate of change of charge gives the capacitive current:\r\n",
        "\r\n",
        "$$\\frac{dQ}{dt}=I_C(t) = C\\frac{dU_{\\rm mem}(t)}{dt}$$\r\n",
        "\r\n",
        "Therefore:\r\n",
        "\r\n",
        "$$I_{\\rm in}(t) = \\frac{U_{\\rm mem}(t)}{R} + C\\frac{dU_{\\rm mem}(t)}{dt}$$\r\n",
        "$$\\implies RC \\frac{dU_{\\rm mem}(t)}{dt} = -U_{\\rm mem}(t) + RI_{\\rm in}(t)$$\r\n",
        "\r\n",
        "The right hand side of the equation is **\\[Voltage]**. On the left hand side of the equation, the term $\\frac{dU_{\\rm mem}(t)}{dt}$ is of units **\\[Voltage/Time]**. To equate it to a voltage, $RC$ must be of unit **\\[Time]**. We refer to $\\tau = RC$ as the time constant of the circuit:\r\n",
        "\r\n",
        "$$ \\tau \\frac{dU_{\\rm mem}(t)}{dt} = -U_{\\rm mem}(t) + RI_{\\rm in}(t)$$\r\n",
        "\r\n",
        "The passive membrane is therefore described by a linear differential equation.\r\n",
        "\r\n",
        "For a derivative of a function to be of the same form as the original function, i.e., $\\frac{dU_{\\rm mem}(t)}{dt} \\propto U_{\\rm mem}(t)$, this implies the solution is exponential with a time constant $\\tau$.\r\n",
        "\r\n",
        "Say the neuron starts at some value $U_{0}$ with no further input, i.e., $I_{\\rm in}(t)=0$. The solution of the linear differential equation is:\r\n",
        "\r\n",
        "$$U_{\\rm mem}(t) = U_0e^{-\\frac{t}{\\tau}}$$\r\n",
        "\r\n",
        "\r\n",
        "<center>\r\n",
        "<img src='https://github.com/jeshraghian/snntorch/blob/master/docs/_static/img/examples/tutorial2/2_4_RCmembrane.png?raw=true' width=\"500\">\r\n",
        "</center>"
      ]
    },
    {
      "cell_type": "markdown",
      "metadata": {
        "id": "rTXS_aSmRs-3"
      },
      "source": [
        "## 1.3 Lapicque's LIF Neuron Model"
      ]
    },
    {
      "cell_type": "markdown",
      "metadata": {
        "id": "Jt2q6tZiWkgT"
      },
      "source": [
        "This similarity between nerve membranes and RC circuits was observed by [Louis Lapicque in 1907](https://core.ac.uk/download/pdf/21172797.pdf). He stimulated the nerve fiber of a frog with a brief electrical pulse, and found that membranes could be approximated as a capacitor with a leakage. We pay homage to his findings by naming the basic LIF neuron model in snnTorch after him. \r\n",
        "\r\n",
        "Now let's simulate this neuron using snnTorch."
      ]
    },
    {
      "cell_type": "markdown",
      "metadata": {
        "id": "WtveAGG0zE0n"
      },
      "source": [
        "### 1.3.1 Lapicque: Without Stimulus"
      ]
    },
    {
      "cell_type": "markdown",
      "metadata": {
        "id": "um1s01gTzUC0"
      },
      "source": [
        "First, import the packages needed to run Lapicque's neuron model: snnTorch and PyTorch."
      ]
    },
    {
      "cell_type": "code",
      "metadata": {
        "id": "sUyODsBtWkAG"
      },
      "source": [
        "import snntorch as snn\r\n",
        "import torch"
      ],
      "execution_count": 18,
      "outputs": []
    },
    {
      "cell_type": "markdown",
      "metadata": {
        "id": "6zpgNEbizd8s"
      },
      "source": [
        "The membrane potential has a time constant $\\tau = RC$ associated with it. This can be equivalently represented by a decay rate $\\beta$ that specifies the ratio of potential between subsequent time steps:\r\n",
        "\r\n",
        "$$\\beta = \\frac{U_0e^{-\\frac{1}{\\tau}}}{U_0e^{-\\frac{0}{\\tau}}} = \\frac{U_0e^{-\\frac{2}{\\tau}}}{U_0e^{-\\frac{1}{\\tau}}} = \\frac{U_0e^{-\\frac{3}{\\tau}}}{U_0e^{-\\frac{2}{\\tau}}}=~~...$$\r\n",
        "$$\\implies \\beta = e^{-\\frac{1}{\\tau}}$$\r\n",
        "\r\n",
        "Setting $\\tau = 5\\times 10^{-3} \\implies \\beta \\approx 0.819$:"
      ]
    },
    {
      "cell_type": "code",
      "metadata": {
        "id": "ohshwOCU6Vbm",
        "colab": {
          "base_uri": "https://localhost:8080/"
        },
        "outputId": "6ff9c2d5-ccaf-4018-f568-2226429fb56f"
      },
      "source": [
        "# RC time constant\r\n",
        "tau_mem = 5e-3\r\n",
        "time_step = 1e-3 # one time step = 1ms\r\n",
        "\r\n",
        "# decay p/time step\r\n",
        "beta = float(torch.exp(torch.tensor(-time_step/tau_mem)))\r\n",
        "\r\n",
        "# Number of time steps to simulate\r\n",
        "num_steps = 200\r\n",
        "\r\n",
        "print(f\"Membrane decay rate ('beta'): {beta}\")"
      ],
      "execution_count": 73,
      "outputs": [
        {
          "output_type": "stream",
          "text": [
            "Membrane decay rate ('beta'): 0.8187307715415955\n"
          ],
          "name": "stdout"
        }
      ]
    },
    {
      "cell_type": "markdown",
      "metadata": {
        "id": "qi5EnND98cz3"
      },
      "source": [
        "Instantiating Lapicque's neuron only requires the following line of code:"
      ]
    },
    {
      "cell_type": "code",
      "metadata": {
        "id": "wI2Nahsg8d-t"
      },
      "source": [
        "# leaky integrate and fire neuron\r\n",
        "lif1 = snn.Lapicque(beta=beta)"
      ],
      "execution_count": 20,
      "outputs": []
    },
    {
      "cell_type": "markdown",
      "metadata": {
        "id": "AUv8_QPCIsDT"
      },
      "source": [
        "The same thing can also be accomplished by specifying the parallel RC values:"
      ]
    },
    {
      "cell_type": "code",
      "metadata": {
        "id": "Q0tk_CBoIv6d",
        "outputId": "32abd56e-40ec-43c5-e721-19b339c91988",
        "colab": {
          "base_uri": "https://localhost:8080/"
        }
      },
      "source": [
        "R = 5\r\n",
        "C = 1e-3\r\n",
        "\r\n",
        "lif1 = snn.Lapicque(R=R, C=C, time_step=time_step)\r\n",
        "\r\n",
        "print(f\"Membrane decay rate ('beta'): {lif1.beta[0]}\")"
      ],
      "execution_count": 49,
      "outputs": [
        {
          "output_type": "stream",
          "text": [
            "Membrane decay rate ('beta'): 0.8187307715415955\n"
          ],
          "name": "stdout"
        }
      ]
    },
    {
      "cell_type": "markdown",
      "metadata": {
        "id": "kuytxXet8lc9"
      },
      "source": [
        "To use this neuron: \r\n",
        "\r\n",
        "**Inputs**\r\n",
        "* `spk_in`: each element of $I_{\\rm in}$, which are all `0` for now, is sequentially passed as an input\r\n",
        "* `mem`: the membrane potential at the present time $t$ is also passed as input. Initialize it arbitrarily as $U_0 = 0.9~V$.\r\n",
        "\r\n",
        "**Outputs**\r\n",
        "* `spk_out`: output spike $S_{\\rm out}[t+1]$ at the next time step ('1' if there is a spike; '0' if there is no spike)\r\n",
        "* `mem`: membrane potential $U_{\\rm mem}[t+1]$ at the next time step\r\n",
        "\r\n",
        "These all need to be of type `torch.Tensor`.\r\n"
      ]
    },
    {
      "cell_type": "code",
      "metadata": {
        "id": "M_0O1Q3Y9KgM"
      },
      "source": [
        "# Initialize membrane, input, and output\r\n",
        "mem = torch.ones(1) * 0.9  # membrane potential of 0.9 at t=0\r\n",
        "cur_in = torch.zeros(num_steps)  # input is 0 for all t \r\n",
        "spk_out = torch.zeros(1)  # neuron needs somewhere to sequentially dump its output spikes"
      ],
      "execution_count": 50,
      "outputs": []
    },
    {
      "cell_type": "markdown",
      "metadata": {
        "id": "_CEuNHsN8-67"
      },
      "source": [
        "These values are only for the initial time step $t=0$. We'd like to watch the evolution of `mem` over time. The list `mem_rec` is initialized to record these values at every time step."
      ]
    },
    {
      "cell_type": "code",
      "metadata": {
        "id": "CUCxQBTQ9d_P"
      },
      "source": [
        "# Initialize somewhere to store recordings of membrane potential\r\n",
        "mem_rec = [mem]"
      ],
      "execution_count": 51,
      "outputs": []
    },
    {
      "cell_type": "markdown",
      "metadata": {
        "id": "i4TxVFaV9uf6"
      },
      "source": [
        "Now it's time to run a simulation! 200 time steps will be simulated, updating `mem` at each step and recording its value in `mem_rec`:"
      ]
    },
    {
      "cell_type": "code",
      "metadata": {
        "id": "j6GeMMiU8kc4"
      },
      "source": [
        "# pass updated value of mem and cur_in[step]=0 at every time step\r\n",
        "for step in range(num_steps):\r\n",
        "  spk_out, mem = lif1(cur_in[step], mem)\r\n",
        "\r\n",
        "  # Store recordings of membrane potential\r\n",
        "  mem_rec.append(mem)"
      ],
      "execution_count": 52,
      "outputs": []
    },
    {
      "cell_type": "markdown",
      "metadata": {
        "id": "4lngTsykIc7k"
      },
      "source": [
        "Let's take a look at how the membrane potential and synaptic current evolved."
      ]
    },
    {
      "cell_type": "code",
      "metadata": {
        "colab": {
          "base_uri": "https://localhost:8080/",
          "height": 294
        },
        "id": "SrfeQWT6I2JC",
        "outputId": "874dae05-c66e-4c1d-8252-e9131921bdc6"
      },
      "source": [
        "import matplotlib.pyplot as plt\r\n",
        "\r\n",
        "plt.title(\"Lapicque's Neuron Model Without Stimulus\")\r\n",
        "plt.plot(mem_rec, label=\"Membrane Potential\")\r\n",
        "plt.xlabel(\"Time step\")\r\n",
        "plt.ylabel(\"Membrane Potential\")\r\n",
        "plt.xlim([0, 50])\r\n",
        "plt.ylim([0, 1])\r\n",
        "plt.show()"
      ],
      "execution_count": 53,
      "outputs": [
        {
          "output_type": "display_data",
          "data": {
            "image/png": "[encoded data removed]",
            "text/plain": [
              "<Figure size 432x288 with 1 Axes>"
            ]
          },
          "metadata": {
            "tags": [],
            "needs_background": "light"
          }
        }
      ]
    },
    {
      "cell_type": "markdown",
      "metadata": {
        "id": "9k0PKng2JYcx"
      },
      "source": [
        "This matches the dynamics that were previously derived. We've proven to ourselves that the membrane potential will decay over time in the absence of any input stimuli. "
      ]
    },
    {
      "cell_type": "markdown",
      "metadata": {
        "id": "7Z01CioKJpkr"
      },
      "source": [
        "### 1.3.2 Lapicque: Step Input"
      ]
    },
    {
      "cell_type": "markdown",
      "metadata": {
        "id": "B6GZUEFgJ0l0"
      },
      "source": [
        "Now let's apply a step current $I_{\\rm in}$ that switches on at $t=t_0$. Based on the linear first-order differential equation:\r\n",
        "\r\n",
        "$$ \\tau \\frac{dU_{\\rm mem}}{dt} = -U_{\\rm mem} + RI_{\\rm in}(t)$$\r\n",
        "\r\n",
        "Then the general solution will be:\r\n",
        "\r\n",
        "$$U_{\\rm mem}=I_{\\rm in}(t)R + [U_0 - I_{\\rm in}(t)R]e^{-\\frac{t}{\\tau}}$$\r\n",
        "\r\n",
        "If the membrane potential is initialized to $U_{\\rm mem} = 0 V$, then:\r\n",
        "\r\n",
        "$$U_{\\rm mem}=I_{\\rm in}(t)R [1 - e^{-\\frac{t}{\\tau}}]$$\r\n",
        "\r\n",
        "Let's visualize what this looks like by triggering the current pulse at $t_0 = 10$."
      ]
    },
    {
      "cell_type": "code",
      "metadata": {
        "id": "kD7cLKSuLu9n"
      },
      "source": [
        "# Initialize input current pulse\r\n",
        "cur_in = torch.cat((torch.zeros(10), torch.ones(190)*0.1), 0)  # input current turns on at t=10\r\n",
        "\r\n",
        "# Initialize membrane and output\r\n",
        "mem = torch.zeros(1)  # membrane potential of 0 at t=0\r\n",
        "spk_out = torch.zeros(1)  # neuron needs somewhere to sequentially dump its output spikes\r\n",
        "\r\n",
        "# Initialize somewhere to store recordings of membrane potential\r\n",
        "mem_rec = [mem]"
      ],
      "execution_count": 62,
      "outputs": []
    },
    {
      "cell_type": "markdown",
      "metadata": {
        "id": "PW8ZDbKCNW8E"
      },
      "source": [
        "As before, 200 time steps will be simulated. But this time, the new values of `cur_in` will be passed:"
      ]
    },
    {
      "cell_type": "code",
      "metadata": {
        "id": "w9J2AsrZNXr8"
      },
      "source": [
        "# pass updated value of mem and cur_in[step] at every time step\r\n",
        "for step in range(num_steps):\r\n",
        "  spk_out, mem = lif1(cur_in[step], mem)\r\n",
        "\r\n",
        "  # Store recordings of membrane potential\r\n",
        "  mem_rec.append(mem)"
      ],
      "execution_count": 63,
      "outputs": []
    },
    {
      "cell_type": "code",
      "metadata": {
        "colab": {
          "base_uri": "https://localhost:8080/",
          "height": 404
        },
        "id": "_cC3zoy7OW_Y",
        "outputId": "6c6c7877-7158-4f85-8533-a5c0c0c42e22"
      },
      "source": [
        "fig, ax = plt.subplots(2, figsize=(8,6),sharex=True)\r\n",
        "\r\n",
        "# Plot input current\r\n",
        "ax[0].plot(cur_in, c=\"tab:orange\")\r\n",
        "ax[0].set_ylim([0, 0.2])\r\n",
        "ax[0].set_ylabel(\"Input Current ($I_{in}$)\")\r\n",
        "ax[0].set_title(\"Lapicque's Neuron Model With Step Input\")\r\n",
        "\r\n",
        "# Plot membrane potential\r\n",
        "ax[1].plot(mem_rec)\r\n",
        "ax[1].set_ylim([0, 0.6])\r\n",
        "ax[1].set_ylabel(\"Membrane Potential ($U_{mem}$)\")\r\n",
        "\r\n",
        "ax[1].axvline(x=10, ymin=0, ymax=2.2, alpha = 0.25, linestyle=\"dashed\", c=\"black\", linewidth=2, zorder=0, clip_on=False)\r\n",
        "plt.xlabel(\"Time step\")\r\n",
        "\r\n",
        "plt.show()"
      ],
      "execution_count": 64,
      "outputs": [
        {
          "output_type": "display_data",
          "data": {
            "image/png": "[encoded data removed]",
            "text/plain": [
              "<Figure size 576x432 with 2 Axes>"
            ]
          },
          "metadata": {
            "tags": [],
            "needs_background": "light"
          }
        }
      ]
    },
    {
      "cell_type": "markdown",
      "metadata": {
        "id": "uZi44ZEvNhkR"
      },
      "source": [
        "The membrane potential exponentially rises and then stabilizes at $U_{\\rm mem}=I_{\\rm in}R$:"
      ]
    },
    {
      "cell_type": "code",
      "metadata": {
        "id": "1l40Efnbk92o",
        "outputId": "0ebaffe1-4ca7-4a1b-cc1b-d9c5591f1d06",
        "colab": {
          "base_uri": "https://localhost:8080/"
        }
      },
      "source": [
        "print(f\"The calculated value of input pulse [A] x resistance [Ω] is: {cur_in[11]*lif1.R} V\")\r\n",
        "print(f\"The simulated value of steady-state membrane potential is: {mem_rec[200][0]} V\")"
      ],
      "execution_count": 70,
      "outputs": [
        {
          "output_type": "stream",
          "text": [
            "The calculated value of input pulse [A] x resistance [Ω] is: 0.5 V\n",
            "The simulated value of steady-state membrane potential is: 0.4999999403953552 V\n"
          ],
          "name": "stdout"
        }
      ]
    },
    {
      "cell_type": "markdown",
      "metadata": {
        "id": "H0ql9cAzpN5D"
      },
      "source": [
        "Close enough!"
      ]
    },
    {
      "cell_type": "markdown",
      "metadata": {
        "id": "ZqEtGdKAaIbK"
      },
      "source": [
        "### 1.3.3 Lapicque: Pulse Input"
      ]
    },
    {
      "cell_type": "markdown",
      "metadata": {
        "id": "HOgCeLPYaLKZ"
      },
      "source": [
        "Now what if the step input was clipped at $t=30ms$? \\\r\n",
        "We would expect it to rise just as it did above, but then decay with a time constant of $\\tau$ as in our first simulation. "
      ]
    },
    {
      "cell_type": "code",
      "metadata": {
        "id": "hjtupQNxaQ5D"
      },
      "source": [
        "# Initialize input current pulse. On at t=10, off at t=30.\r\n",
        "cur_in1 = torch.cat((torch.zeros(10), torch.ones(20)*(0.1), torch.zeros(170)), 0)  # input turns on at t=10, off at t=30\r\n",
        "\r\n",
        "# Initialize membrane and output\r\n",
        "mem = torch.zeros(1)  # membrane potential of 0 at t=0\r\n",
        "spk_out = torch.zeros(1)  # neuron needs somewhere to sequentially dump its output spikes\r\n",
        "\r\n",
        "# Initialize somewhere to store recordings of membrane potential\r\n",
        "mem_rec1 = [mem]"
      ],
      "execution_count": 178,
      "outputs": []
    },
    {
      "cell_type": "code",
      "metadata": {
        "id": "O8JFL9CGa0NW"
      },
      "source": [
        "# pass updated value of mem and cur_in[step] at every time step\r\n",
        "for step in range(num_steps):\r\n",
        "  spk_out, mem = lif1(cur_in1[step], mem)\r\n",
        "\r\n",
        "  # Store recordings of membrane potential\r\n",
        "  mem_rec1.append(mem)"
      ],
      "execution_count": 179,
      "outputs": []
    },
    {
      "cell_type": "code",
      "metadata": {
        "colab": {
          "base_uri": "https://localhost:8080/",
          "height": 404
        },
        "id": "UM8GGzWOa3GE",
        "outputId": "6477253f-0b94-4d10-96b7-d587f410f1bf"
      },
      "source": [
        "fig, ax = plt.subplots(2, figsize=(8,6),sharex=True)\r\n",
        "\r\n",
        "# Plot input current\r\n",
        "ax[0].plot(cur_in1, c=\"tab:orange\")\r\n",
        "ax[0].set_ylim([0, 0.2])\r\n",
        "ax[0].set_ylabel(\"Input Current ($I_{in}$)\")\r\n",
        "ax[0].set_title(\"Lapicque's Neuron Model With Input Pulse\")\r\n",
        "\r\n",
        "# Plot membrane potential\r\n",
        "ax[1].plot(mem_rec1)\r\n",
        "ax[1].set_ylim([0, 1])\r\n",
        "ax[1].set_ylabel(\"Membrane Potential ($U_{mem}$)\")\r\n",
        "\r\n",
        "ax[1].axvline(x=10, ymin=0, ymax=2.2, alpha = 0.25, linestyle=\"dashed\", c=\"black\", linewidth=2, zorder=0, clip_on=False)\r\n",
        "ax[1].axvline(x=30, ymin=0, ymax=2.2, alpha = 0.25, linestyle=\"dashed\", c=\"black\", linewidth=2, zorder=0, clip_on=False)\r\n",
        "plt.xlabel(\"Time step\")\r\n",
        "\r\n",
        "plt.show()"
      ],
      "execution_count": 180,
      "outputs": [
        {
          "output_type": "display_data",
          "data": {
            "image/png": "[encoded data removed]",
            "text/plain": [
              "<Figure size 576x432 with 2 Axes>"
            ]
          },
          "metadata": {
            "tags": [],
            "needs_background": "light"
          }
        }
      ]
    },
    {
      "cell_type": "markdown",
      "metadata": {
        "id": "orJvjev6a9tR"
      },
      "source": [
        "It appears as though our guess was correct. \r\n",
        "\r\n",
        "Let's deliver approximately the same amount of charge $Q = I \\times t$ to the circuit in half the time. This means our input current amplitude will need to be increased, and the time window will be decreased."
      ]
    },
    {
      "cell_type": "code",
      "metadata": {
        "id": "j_G_gWTzbo4J"
      },
      "source": [
        "# Double amplitude of current pulse; half the time. On at t=10, off at t=30.\r\n",
        "cur_in2 = torch.cat((torch.zeros(10), torch.ones(10)*0.111, torch.zeros(180)), 0)  # input turns on at t=10, off at t=30\r\n",
        "\r\n",
        "# Initialize membrane and output\r\n",
        "mem = torch.zeros(1)  # membrane potential of 0 at t=0\r\n",
        "spk_out = torch.zeros(1)  # neuron needs somewhere to sequentially dump its output spikes\r\n",
        "\r\n",
        "# Initialize somewhere to store recordings of membrane potential\r\n",
        "mem_rec2 = [mem]"
      ],
      "execution_count": 181,
      "outputs": []
    },
    {
      "cell_type": "code",
      "metadata": {
        "id": "4YYr91yzbq-G"
      },
      "source": [
        "# pass updated value of mem and cur_in[step] at every time step\r\n",
        "for step in range(num_steps):\r\n",
        "  spk_out, mem = lif1(cur_in2[step], mem)\r\n",
        "\r\n",
        "  # Store recordings of membrane potential\r\n",
        "  mem_rec2.append(mem)"
      ],
      "execution_count": 182,
      "outputs": []
    },
    {
      "cell_type": "code",
      "metadata": {
        "colab": {
          "base_uri": "https://localhost:8080/",
          "height": 404
        },
        "id": "krBTZm92btXH",
        "outputId": "d119d8f2-4d79-407d-afc8-7c73ceeef8dc"
      },
      "source": [
        "fig, ax = plt.subplots(2, figsize=(8,6),sharex=True)\r\n",
        "\r\n",
        "# Plot input current\r\n",
        "ax[0].plot(cur_in2, c=\"tab:orange\")\r\n",
        "ax[0].set_ylim([0, 0.2])\r\n",
        "ax[0].set_ylabel(\"Input Current ($I_{in}$)\")\r\n",
        "ax[0].set_title(\"Lapicque's Neuron Model With Input Pulse: x1/2 pulse width\")\r\n",
        "\r\n",
        "# Plot membrane potential\r\n",
        "ax[1].plot(mem_rec2)\r\n",
        "ax[1].set_ylim([0, 1])\r\n",
        "ax[1].set_ylabel(\"Membrane Potential ($U_{mem}$)\")\r\n",
        "\r\n",
        "ax[1].axvline(x=10, ymin=0, ymax=2.2, alpha = 0.25, linestyle=\"dashed\", c=\"black\", linewidth=2, zorder=0, clip_on=False)\r\n",
        "ax[1].axvline(x=20, ymin=0, ymax=2.2, alpha = 0.25, linestyle=\"dashed\", c=\"black\", linewidth=2, zorder=0, clip_on=False)\r\n",
        "\r\n",
        "plt.xlabel(\"Time step\")\r\n",
        "\r\n",
        "plt.show()"
      ],
      "execution_count": 183,
      "outputs": [
        {
          "output_type": "display_data",
          "data": {
            "image/png": "[encoded data removed]",
            "text/plain": [
              "<Figure size 576x432 with 2 Axes>"
            ]
          },
          "metadata": {
            "tags": [],
            "needs_background": "light"
          }
        }
      ]
    },
    {
      "cell_type": "markdown",
      "metadata": {
        "id": "34azxvjWbqge"
      },
      "source": [
        "Let's do that again, but with an even faster input pulse and higher amplitude:"
      ]
    },
    {
      "cell_type": "code",
      "metadata": {
        "colab": {
          "base_uri": "https://localhost:8080/",
          "height": 404
        },
        "id": "650G94v9dgr3",
        "outputId": "1322a250-c419-4dd2-d215-4370dfe85cd2"
      },
      "source": [
        "# Double amplitude of current pulse; half the time. On at t=10, off at t=30.\r\n",
        "cur_in3 = torch.cat((torch.zeros(10), torch.ones(5)*0.147, torch.zeros(185)), 0)  # input turns on at t=10, off at t=30\r\n",
        "\r\n",
        "# Initialize membrane and output\r\n",
        "mem = torch.zeros(1)  # membrane potential of 0 at t=0\r\n",
        "spk_out = torch.zeros(1)  # neuron needs somewhere to sequentially dump its output spikes\r\n",
        "\r\n",
        "# Initialize somewhere to store recordings of membrane potential\r\n",
        "mem_rec3 = [mem]\r\n",
        "\r\n",
        "# pass updated value of mem and cur_in[step] at every time step\r\n",
        "for step in range(num_steps):\r\n",
        "  spk_out, mem = lif1(cur_in3[step], mem)\r\n",
        "\r\n",
        "  # Store recordings of membrane potential\r\n",
        "  mem_rec3.append(mem)\r\n",
        "\r\n",
        "# Generate Plots\r\n",
        "fig, ax = plt.subplots(2, figsize=(8,6),sharex=True)\r\n",
        "\r\n",
        "# Plot input current\r\n",
        "ax[0].plot(cur_in3, c=\"tab:orange\")\r\n",
        "ax[0].set_ylim([0, 0.2])\r\n",
        "ax[0].set_ylabel(\"Input Current ($I_{in}$)\")\r\n",
        "ax[0].set_title(\"Lapicque's Neuron Model With Input Pulse: x1/4 pulse width\")\r\n",
        "\r\n",
        "# Plot membrane potential\r\n",
        "ax[1].plot(mem_rec3)\r\n",
        "ax[1].set_ylim([0, 1])\r\n",
        "ax[1].set_ylabel(\"Membrane Potential ($U_{mem}$)\")\r\n",
        "\r\n",
        "ax[1].axvline(x=10, ymin=0, ymax=2.2, alpha = 0.25, linestyle=\"dashed\", c=\"black\", linewidth=2, zorder=0, clip_on=False)\r\n",
        "ax[1].axvline(x=15, ymin=0, ymax=2.2, alpha = 0.25, linestyle=\"dashed\", c=\"black\", linewidth=2, zorder=0, clip_on=False)\r\n",
        "\r\n",
        "plt.xlabel(\"Time step\")\r\n",
        "\r\n",
        "plt.show()"
      ],
      "execution_count": 184,
      "outputs": [
        {
          "output_type": "display_data",
          "data": {
            "image/png": "[encoded data removed]",
            "text/plain": [
              "<Figure size 576x432 with 2 Axes>"
            ]
          },
          "metadata": {
            "tags": [],
            "needs_background": "light"
          }
        }
      ]
    },
    {
      "cell_type": "markdown",
      "metadata": {
        "id": "fuQtNgw4sYhk"
      },
      "source": [
        "Let's compare all three experiments:"
      ]
    },
    {
      "cell_type": "code",
      "metadata": {
        "id": "ZL7P3mEfsdAR",
        "outputId": "abb7784e-0007-4525-e64c-25d9b1ac5d56",
        "colab": {
          "base_uri": "https://localhost:8080/",
          "height": 404
        }
      },
      "source": [
        "\r\n",
        "# Generate Plots\r\n",
        "fig, ax = plt.subplots(2, figsize=(8,6),sharex=True)\r\n",
        "\r\n",
        "# Plot input current\r\n",
        "ax[0].plot(cur_in1)\r\n",
        "ax[0].plot(cur_in2)\r\n",
        "ax[0].plot(cur_in3)\r\n",
        "ax[0].set_ylim([0, 0.2])\r\n",
        "ax[0].set_ylabel(\"Input Current ($I_{in}$)\")\r\n",
        "ax[0].set_title(\"Lapicque's Neuron Model With Input Pulse: Varying inputs\")\r\n",
        "\r\n",
        "# Plot membrane potential\r\n",
        "ax[1].plot(mem_rec1)\r\n",
        "ax[1].plot(mem_rec2)\r\n",
        "ax[1].plot(mem_rec3)\r\n",
        "ax[1].set_ylim([0, 1])\r\n",
        "ax[1].set_ylabel(\"Membrane Potential ($U_{mem}$)\")\r\n",
        "\r\n",
        "ax[1].axvline(x=10, ymin=0, ymax=2.2, alpha = 0.25, linestyle=\"dashed\", c=\"black\", linewidth=2, zorder=0, clip_on=False)\r\n",
        "ax[1].axvline(x=15, ymin=0, ymax=2.2, alpha = 0.25, linestyle=\"dashed\", c=\"black\", linewidth=2, zorder=0, clip_on=False)\r\n",
        "ax[1].axvline(x=20, ymin=0, ymax=2.2, alpha = 0.25, linestyle=\"dashed\", c=\"black\", linewidth=2, zorder=0, clip_on=False)\r\n",
        "ax[1].axvline(x=30, ymin=0, ymax=2.2, alpha = 0.25, linestyle=\"dashed\", c=\"black\", linewidth=2, zorder=0, clip_on=False)\r\n",
        "\r\n",
        "plt.xlabel(\"Time step\")\r\n",
        "\r\n",
        "plt.show()"
      ],
      "execution_count": 191,
      "outputs": [
        {
          "output_type": "display_data",
          "data": {
            "image/png": "[encoded data removed]",
            "text/plain": [
              "<Figure size 576x432 with 2 Axes>"
            ]
          },
          "metadata": {
            "tags": [],
            "needs_background": "light"
          }
        }
      ]
    },
    {
      "cell_type": "markdown",
      "metadata": {
        "id": "6WpZx0NStNdd"
      },
      "source": [
        "As the input current pulse amplitude increases, the rise time of the membrane potential speeds up. In the limit of the input current pulse width becoming infinitesimally small, $T_W \\rightarrow 0s$, the membrane potential rise time will jump straight up. "
      ]
    },
    {
      "cell_type": "code",
      "metadata": {
        "id": "h0EG17NpuzuN",
        "outputId": "cf36bb6b-760a-4b8e-b894-7878cdbb6559",
        "colab": {
          "base_uri": "https://localhost:8080/",
          "height": 404
        }
      },
      "source": [
        "# Current spike input\r\n",
        "cur_in4 = torch.cat((torch.zeros(10), torch.ones(1)*0.5, torch.zeros(189)), 0)  # input turns on at t=10, off at t=30\r\n",
        "\r\n",
        "# Initialize membrane and output\r\n",
        "mem = torch.zeros(1)  # membrane potential of 0 at t=0\r\n",
        "spk_out = torch.zeros(1)  # neuron needs somewhere to sequentially dump its output spikes\r\n",
        "\r\n",
        "# Initialize somewhere to store recordings of membrane potential\r\n",
        "mem_rec4 = [mem]\r\n",
        "\r\n",
        "# pass updated value of mem and cur_in[step] at every time step\r\n",
        "for step in range(num_steps):\r\n",
        "  spk_out, mem = lif1(cur_in4[step], mem)\r\n",
        "\r\n",
        "  # Store recordings of membrane potential\r\n",
        "  mem_rec4.append(mem)\r\n",
        "\r\n",
        "# Generate Plots\r\n",
        "fig, ax = plt.subplots(2, figsize=(8,6),sharex=True)\r\n",
        "\r\n",
        "# Plot input current\r\n",
        "ax[0].plot(cur_in4, c=\"tab:orange\")\r\n",
        "ax[0].set_ylim([0, 0.6])\r\n",
        "ax[0].set_ylabel(\"Input Current ($I_{in}$)\")\r\n",
        "ax[0].set_title(\"Lapicque's Neuron Model With Input Spike\")\r\n",
        "\r\n",
        "# Plot membrane potential\r\n",
        "ax[1].plot(mem_rec4)\r\n",
        "ax[1].set_ylim([0, 1])\r\n",
        "ax[1].set_ylabel(\"Membrane Potential ($U_{mem}$)\")\r\n",
        "\r\n",
        "ax[1].axvline(x=10, ymin=0, ymax=2.2, alpha = 0.25, linestyle=\"dashed\", c=\"black\", linewidth=2, zorder=0, clip_on=False)\r\n",
        "\r\n",
        "plt.xlabel(\"Time step\")\r\n",
        "\r\n",
        "plt.show()"
      ],
      "execution_count": 195,
      "outputs": [
        {
          "output_type": "display_data",
          "data": {
            "image/png": "[encoded data removed]",
            "text/plain": [
              "<Figure size 576x432 with 2 Axes>"
            ]
          },
          "metadata": {
            "tags": [],
            "needs_background": "light"
          }
        }
      ]
    },
    {
      "cell_type": "markdown",
      "metadata": {
        "id": "DNY_EftJvREj"
      },
      "source": [
        "In the limit where the input current pulse becomes so short, it effectively looks like a spike:\r\n",
        "\r\n",
        "$$I_{\\rm in}(t) = Q \\delta (t-t_0)$$\r\n",
        "\r\n",
        "where $\\delta (t-t_0)$ is the Dirac-Delta function, a mathematical abstraction. Physically, it is impossible to deposit charge within infinitely short time. But integrating $I_{\\rm in}$ makes sense as we can obtain the charge delivered:\r\n",
        "\r\n",
        "$$1 = \\int^{t_0 + a}_{t_0 - a}\\delta(t-t_0)dt$$\r\n",
        "\r\n",
        "$$f(t_0) = \\int^{t_0 + a}_{t_0 - a}f(t)\\delta(t-t_0)dt$$\r\n"
      ]
    },
    {
      "cell_type": "markdown",
      "metadata": {
        "id": "Danwy1q9xfvr"
      },
      "source": [
        "### 1.3.4 Lapicque: Firing"
      ]
    },
    {
      "cell_type": "markdown",
      "metadata": {
        "id": "CUH8IYh9xlV-"
      },
      "source": [
        "So far, we have only seen how a neuron will react to spikes coming in at the input. For a neuron to generate and emit its own spikes, we need to combine the passive membrane model with a threshold.\r\n",
        "\r\n",
        "\r\n",
        "<center>\r\n",
        "<img src='https://github.com/jeshraghian/snntorch/blob/master/docs/_static/img/examples/tutorial2/2_4_spiking.png?raw=true' width=\"450\">\r\n",
        "</center>"
      ]
    },
    {
      "cell_type": "markdown",
      "metadata": {
        "id": "PYWhh7idiS9t"
      },
      "source": [
        "# Conclusion"
      ]
    },
    {
      "cell_type": "markdown",
      "metadata": {
        "id": "BGCY7g7R0Usy"
      },
      "source": [
        "Now you should understand how to build populations of LIF neuron models to perform feedforward processing of various inputs. \r\n",
        "\r\n",
        "For reference, the documentation [can be found here](https://snntorch.readthedocs.io/en/latest/snntorch.html).\r\n",
        "\r\n",
        "In the next tutorial, you will learn how to train these networks to classify spiking and static MNIST datasets. In fact, if you already have a basic grasp of PyTorch, the next tutorial will be quite trivial."
      ]
    },
    {
      "cell_type": "markdown",
      "metadata": {
        "id": "OTRCyd0Xa-QK"
      },
      "source": [
        "## Further Reading\r\n",
        "* [snnTorch documentation](https://snntorch.readthedocs.io/en/latest/snntorch.html) of the Lapicque, Stein and SRM0 models\r\n",
        "* [*Neuronal Dynamics:\r\n",
        "From single neurons to networks and models of cognition*](https://neuronaldynamics.epfl.ch/index.html) by\r\n",
        "Wulfram Gerstner, Werner M. Kistler, Richard Naud and Liam Paninski.\r\n",
        "* [*Theoretical Neuroscience: Computational and Mathematical Modeling of Neural Systems](https://mitpress.mit.edu/books/theoretical-neuroscience) by Laurence F. Abbott and Peter Dayan"
      ]
    }
  ]
}