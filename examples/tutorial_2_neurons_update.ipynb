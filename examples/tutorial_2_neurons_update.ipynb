{
  "nbformat": 4,
  "nbformat_minor": 0,
  "metadata": {
    "colab": {
      "name": "Untitled17.ipynb",
      "provenance": [],
      "collapsed_sections": [],
      "authorship_tag": "ABX9TyOdAw7S9oklfbSX1K/lmOeA",
      "include_colab_link": true
    },
    "kernelspec": {
      "name": "python3",
      "display_name": "Python 3"
    }
  },
  "cells": [
    {
      "cell_type": "markdown",
      "metadata": {
        "id": "view-in-github",
        "colab_type": "text"
      },
      "source": [
        "<a href=\"https://colab.research.google.com/github/jeshraghian/snntorch/blob/tutorials/examples/tutorial_2_neurons_update.ipynb\" target=\"_parent\"><img src=\"https://colab.research.google.com/assets/colab-badge.svg\" alt=\"Open In Colab\"/></a>"
      ]
    },
    {
      "cell_type": "markdown",
      "metadata": {
        "id": "HzIQBw28NL8h"
      },
      "source": [
        "<img src='https://github.com/jeshraghian/snntorch/blob/master/docs/_static/img/snntorch_alpha_w.png?raw=true' width=\"400\">\r\n",
        "\r\n",
        "# snnTorch - Neuronal Dynamics with ``snntorch``\r\n",
        "## Tutorial 2\r\n",
        "### By Jason K. Eshraghian (www.jasoneshraghian.com)\r\n",
        "\r\n",
        "<a href=\"https://colab.research.google.com/github/jeshraghian/snntorch/blob/tutorials/examples/tutorial_2_neurons.ipynb\">\r\n",
        "  <img src=\"https://colab.research.google.com/assets/colab-badge.svg\" alt=\"Open In Colab\"/>\r\n",
        "</a>"
      ]
    },
    {
      "cell_type": "markdown",
      "metadata": {
        "id": "Ep_Qv7kzNOz6"
      },
      "source": [
        "# Introduction\r\n",
        "In this tutorial, you will:\r\n",
        "* Learn the basics of a leaky integrate-and-fire (LIF)\r\n",
        "* Use snnTorch to implement variations of the LIF model: \r\n",
        "  * Lapicque's LIF neuron model\r\n",
        "  * Stein's neuron model\r\n",
        "  * 0$^{th}$ Order Spike Response Model\r\n",
        "<!-- * Plot the output behavior of the neurons -->\r\n",
        "<!-- * Interpret the computational graph of a spiking neuron -->\r\n",
        "<!-- * Automatically initialize the hidden states of the neurons [keep in tute, but delete explanation]? -->\r\n",
        "* Implement a feedforward spiking neural network\r\n",
        "\r\n",
        ">Part of this tutorial was inspired by the book [*Neuronal Dynamics:\r\n",
        "From single neurons to networks and models of cognition*](https://neuronaldynamics.epfl.ch/index.html) by\r\n",
        "Wulfram Gerstner, Werner M. Kistler, Richard Naud and Liam Paninski.\r\n",
        "\r\n",
        "If running in Google Colab:\r\n",
        "* You may connect to GPU by checking `Runtime` > `Change runtime type` > `Hardware accelerator: GPU`\r\n",
        "* Next, install the latest PyPi distribution of snnTorch by clicking into the following cell and pressing `Shift+Enter`."
      ]
    },
    {
      "cell_type": "code",
      "metadata": {
        "colab": {
          "base_uri": "https://localhost:8080/"
        },
        "id": "SPQITvDuNNJg",
        "outputId": "3cecf5ea-6db5-4dae-d135-2f4549f3022d"
      },
      "source": [
        "!pip install snntorch"
      ],
      "execution_count": 2,
      "outputs": [
        {
          "output_type": "stream",
          "text": [
            "Requirement already satisfied: snntorch in /usr/local/lib/python3.7/dist-packages (0.2.5)\n",
            "Requirement already satisfied: torch>=1.2.0 in /usr/local/lib/python3.7/dist-packages (from snntorch) (1.8.0+cu101)\n",
            "Requirement already satisfied: celluloid in /usr/local/lib/python3.7/dist-packages (from snntorch) (0.2.0)\n",
            "Requirement already satisfied: numpy>=1.17 in /usr/local/lib/python3.7/dist-packages (from snntorch) (1.19.5)\n",
            "Requirement already satisfied: matplotlib in /usr/local/lib/python3.7/dist-packages (from snntorch) (3.2.2)\n",
            "Requirement already satisfied: pandas in /usr/local/lib/python3.7/dist-packages (from snntorch) (1.1.5)\n",
            "Requirement already satisfied: typing-extensions in /usr/local/lib/python3.7/dist-packages (from torch>=1.2.0->snntorch) (3.7.4.3)\n",
            "Requirement already satisfied: cycler>=0.10 in /usr/local/lib/python3.7/dist-packages (from matplotlib->snntorch) (0.10.0)\n",
            "Requirement already satisfied: kiwisolver>=1.0.1 in /usr/local/lib/python3.7/dist-packages (from matplotlib->snntorch) (1.3.1)\n",
            "Requirement already satisfied: pyparsing!=2.0.4,!=2.1.2,!=2.1.6,>=2.0.1 in /usr/local/lib/python3.7/dist-packages (from matplotlib->snntorch) (2.4.7)\n",
            "Requirement already satisfied: python-dateutil>=2.1 in /usr/local/lib/python3.7/dist-packages (from matplotlib->snntorch) (2.8.1)\n",
            "Requirement already satisfied: pytz>=2017.2 in /usr/local/lib/python3.7/dist-packages (from pandas->snntorch) (2018.9)\n",
            "Requirement already satisfied: six in /usr/local/lib/python3.7/dist-packages (from cycler>=0.10->matplotlib->snntorch) (1.15.0)\n"
          ],
          "name": "stdout"
        }
      ]
    },
    {
      "cell_type": "markdown",
      "metadata": {
        "id": "xmTt5dvyXNNy"
      },
      "source": [
        "# 1. The Spectrum of Neuron Models\r\n",
        "A large variety of neuron models are out there, ranging from biophysically accurate models (i.e., the Hodgkin-Huxley models) to the extremely simple artificial neuron that pervades all facets of modern deep learning.\r\n",
        "\r\n",
        "**Hodgkin-Huxley Neuron Models**$-$While biophysical models can reproduce electrophysiological results with a high degree of accuracy, their complexity makes them difficult to use. We expect this to change as more rigorous theories of how neurons contribute to higher-order behaviors in the brain are uncovered.\r\n",
        "\r\n",
        "**Artificial Neuron Model**$-$On the other end of the spectrum is the artificial neuron. The inputs are multiplied by their corresponding weights and passed through an activation function. This simplification has enabled deep learning researchers to perform incredible feats in computer vision, natural language processing, and many other machine learning-domain tasks.\r\n",
        "\r\n",
        "**Leaky Integrate-and-Fire Neuron Models**$-$Somewhere in the middle of the divide lies the leaky integrate-and-fire (LIF) neuron model. It takes the sum of weighted inputs, much like the artificial neuron. But rather than passing it directly to an activation function, it will integrate the input over time with a leakage, much like an RC circuit. If the integrated value exceeds a threshold, then the LIF neuron will emit a voltage spike. The LIF neuron abstracts away the shape and profile of the output spike; it is simply treated as a discrete event. As a result, information is not stored within the spike, but rather the timing (or frequency) of spikes. Simple spiking neuron models have produced much insight into the neural code, memory, network dynamics, and more recently, deep learning. The LIF neuron sits in the sweet spot between biological plausibility and practicality. \r\n",
        "\r\n",
        "<center>\r\n",
        "<img src='https://github.com/jeshraghian/snntorch/blob/master/docs/_static/img/examples/tutorial2/2_1_neuronmodels.png?raw=true' width=\"1000\">\r\n",
        "</center>\r\n",
        "\r\n",
        "<!-- Researchers might spend their entire lives dedicated to developing neuron models. Some of these models are straightforward extensions of the HH and LIF models, while other models find completely different applications, such as in neuropharmocology. -->\r\n",
        "\r\n",
        "The different versions of the LIF model each have their own dynamics and use-cases. snnTorch currently supports three types of LIF neurons:\r\n",
        "* Lapicque's RC model: ``snntorch.Lapicque``\r\n",
        "* Stein's neuron model: ``snntorch.Stein``\r\n",
        "* 0$^{th}$ Order Spike Response Model: ``snntorch.SRM0``\r\n",
        "\r\n",
        "Before learning how to use them, let's understand how to construct a simple LIF neuron model.\r\n",
        "\r\n",
        "<!-- In general, the most obvious difference is that the SRM0 model incorporates a delay between the input and output. When an input spike arrives at an SRM0 neuron, the membrane potential will increase over a finite time. If an output spike were to be triggered, it would experience a delay with respect to the input. On the other hand, Stein's model allows for an instantaneous rise of membrane potential. We'll dig into where these might be useful shortly. -->\r\n"
      ]
    },
    {
      "cell_type": "markdown",
      "metadata": {
        "id": "Nea8oBorr_KZ"
      },
      "source": [
        "# 1. The Leaky Integrate-and-Fire Neuron Model"
      ]
    },
    {
      "cell_type": "markdown",
      "metadata": {
        "id": "YKsrN5feQ2Dz"
      },
      "source": [
        "## 1.1 Spiking Neurons: Intuition"
      ]
    },
    {
      "cell_type": "markdown",
      "metadata": {
        "id": "YGStnfjzsGKb"
      },
      "source": [
        "A neuron might be connected to 1,000 $-$ 10,000 other neurons. If one neuron spikes, all of these downhill neurons will feel it. But what determines whether a neuron spikes in the first place? The past century of experiments demonstrate that if a neuron experiences *sufficient* stimulus at its input, then we might expect it to become excited and fire its own spike. \r\n",
        "\r\n",
        "Where does this stimulus come from? It could be from\r\n",
        "* the sensory periphery, \r\n",
        "* an invasive electrode artificially stimulating the neuron, or in most cases,\r\n",
        "* from other pre-synaptic neurons. \r\n",
        "\r\n",
        "<center>\r\n",
        "<img src='https://github.com/jeshraghian/snntorch/blob/master/docs/_static/img/examples/tutorial2/2_2_intuition.png?raw=true' width=\"500\">\r\n",
        "</center>\r\n"
      ]
    },
    {
      "cell_type": "markdown",
      "metadata": {
        "id": "TaVTRojJ2Dl_"
      },
      "source": [
        "Given that these spikes are very short bursts of electrical activity, it is quite unlikely for all input spikes to arrive at the neuron body in precise unison. This indicates the presence of temporal dynamics that 'sustain' the input spikes, kind of like a delay.\r\n"
      ]
    },
    {
      "cell_type": "markdown",
      "metadata": {
        "id": "l44jI7A2ReB_"
      },
      "source": [
        "## 1.2 The Passive Membrane"
      ]
    },
    {
      "cell_type": "markdown",
      "metadata": {
        "id": "Od5tfXv6_wcq"
      },
      "source": [
        "Like all cells, a neuron is surrounded by a thin membrane. This membrane is a lipid bilayer that insulates the conductive saline solution within the neuron from the extracellular medium. Electrically, the two conductors separated by an insulator is a capacitor. \r\n",
        "\r\n",
        "Another function of this membrane is to control what goes in and out of this cell (e.g., ions such as Na$^+$). The membrane is usually impermeable to ions which blocks them from entering and exiting the neuron body. But there are specific channels in the membrane that are triggered to open by injecting current into the neuron. This charge movement is electrically modelled by a resistor.\r\n",
        "\r\n",
        "<center>\r\n",
        "<img src='https://github.com/jeshraghian/snntorch/blob/master/docs/_static/img/examples/tutorial2/2_3_passivemembrane.png?raw=true' width=\"450\">\r\n",
        "</center>\r\n"
      ]
    },
    {
      "cell_type": "markdown",
      "metadata": {
        "id": "wT_S4b4HL2ir"
      },
      "source": [
        "Now say some arbitrary time-varying current $I_{\\rm in}(t)$ is injected into the neuron, be it via electrical stimulation or from other neurons. The total current in the circuit is conserved, so:\r\n",
        "\r\n",
        "$$I_{\\rm in}(t) = I_{R} + I_{C}$$\r\n",
        "\r\n",
        "From Ohm's Law, the membrane potential measured between the inside and outside of the neuron $U_{\\rm mem}$ is proportional to the current through the resistor:\r\n",
        "\r\n",
        "$$I_{R} = \\frac{U_{\\rm mem}}{R}$$\r\n",
        "\r\n",
        "The capacitance is a proportionality constant between the charge stored on the capacitor $Q$ and $U_{\\rm mem}$:\r\n",
        "\r\n",
        "\r\n",
        "$$Q = CU_{\\rm mem}$$\r\n",
        "\r\n",
        "The rate of change of charge gives the capacitive current:\r\n",
        "\r\n",
        "$$\\frac{dQ}{dt}=I_C = C\\frac{dU_{\\rm mem}}{dt}$$\r\n",
        "\r\n",
        "Therefore:\r\n",
        "\r\n",
        "$$I_{\\rm in}(t) = \\frac{U_{\\rm mem}}{R} + C\\frac{dU_{\\rm mem}}{dt}$$\r\n",
        "$$\\implies RC \\frac{dU_{\\rm mem}}{dt} = -U_{\\rm mem} + RI_{\\rm in}(t)$$\r\n",
        "\r\n",
        "The right hand side of the equation is **\\[Voltage]**. On the left hand side of the equation, the term $\\frac{dU_{\\rm mem}}{dt}$ is of units **\\[Voltage/Time]**. To equate it to a voltage, $RC$ must be of unit **\\[Time]**. We refer to $\\tau = RC$ as the time constant of the circuit:\r\n",
        "\r\n",
        "$$ \\tau \\frac{dU_{\\rm mem}}{dt} = -U_{\\rm mem} + RI_{\\rm in}(t)$$\r\n",
        "\r\n",
        "The passive membrane is therefore described by a linear differential equation.\r\n",
        "\r\n",
        "For a derivative of a function to be of the same form as the original function, i.e., $\\frac{dU_{\\rm mem}}{dt} \\propto U_{\\rm mem}$, this implies the solution is exponential with a time constant $\\tau$.\r\n",
        "\r\n",
        "Say the neuron starts at some value $U_{0}$ with no further input, i.e., $I_{\\rm in}(t)=0$. The solution of the linear differential equation is:\r\n",
        "\r\n",
        "$$U_{\\rm mem} = U_0e^{-\\frac{t}{\\tau}}$$\r\n",
        "\r\n",
        "\r\n",
        "<center>\r\n",
        "<img src='https://github.com/jeshraghian/snntorch/blob/master/docs/_static/img/examples/tutorial2/2_4_RCmembrane.png?raw=true' width=\"500\">\r\n",
        "</center>"
      ]
    },
    {
      "cell_type": "markdown",
      "metadata": {
        "id": "rTXS_aSmRs-3"
      },
      "source": [
        "## 1.3 Lapicque's LIF Neuron Model"
      ]
    },
    {
      "cell_type": "markdown",
      "metadata": {
        "id": "Jt2q6tZiWkgT"
      },
      "source": [
        "This similarity between nerve membranes and RC circuits was observed by [Louis Lapicque in 1907](https://core.ac.uk/download/pdf/21172797.pdf). He stimulated the nerve fiber of a frog with a brief electrical pulse, and found that membranes could be approximated as a capacitor with a leakage. We pay homage to his findings by naming the basic LIF neuron model in snnTorch after him. \r\n",
        "\r\n",
        "Now it's time to generate this result."
      ]
    },
    {
      "cell_type": "markdown",
      "metadata": {
        "id": "WtveAGG0zE0n"
      },
      "source": [
        "### 1.3.1 Lapicque: Without Stimulus"
      ]
    },
    {
      "cell_type": "markdown",
      "metadata": {
        "id": "um1s01gTzUC0"
      },
      "source": [
        "First, import the packages needed to run Lapicque's neuron model: snnTorch and PyTorch."
      ]
    },
    {
      "cell_type": "code",
      "metadata": {
        "id": "sUyODsBtWkAG"
      },
      "source": [
        "import snntorch as snn\r\n",
        "import torch"
      ],
      "execution_count": 195,
      "outputs": []
    },
    {
      "cell_type": "markdown",
      "metadata": {
        "id": "6zpgNEbizd8s"
      },
      "source": [
        "The membrane potential has a time constant $\\tau = RC$ associated with it. This can be recast into a decay rate $\\beta$ that specifies the ratio of membrane between subsequent time steps:\r\n",
        "\r\n",
        "$$\\beta = \\frac{e^{-\\frac{1}{\\tau}}}{e^{-\\frac{0}{\\tau}}} = \\frac{e^{-\\frac{2}{\\tau}}}{e^{-\\frac{1}{\\tau}}} = \\frac{e^{-\\frac{3}{\\tau}}}{e^{-\\frac{2}{\\tau}}}=~~...$$\r\n",
        "$$\\implies \\beta = e^{-\\frac{1}{\\tau}}$$\r\n",
        "\r\n",
        "Setting $\\tau = 5 \\implies \\beta \\approx 0.82$:"
      ]
    },
    {
      "cell_type": "code",
      "metadata": {
        "id": "ohshwOCU6Vbm",
        "colab": {
          "base_uri": "https://localhost:8080/"
        },
        "outputId": "da9c63db-b4c4-47c8-a039-6ecd7c8a3e36"
      },
      "source": [
        "# RC time constant\r\n",
        "tau_mem = 5e-3\r\n",
        "time_step = 1e-3\r\n",
        "\r\n",
        "# decay p/time step\r\n",
        "beta = float(torch.exp(torch.tensor(-time_step/tau_mem)))\r\n",
        "\r\n",
        "print(f\"Membrane decay rate ('beta'): {beta}\")"
      ],
      "execution_count": 212,
      "outputs": [
        {
          "output_type": "stream",
          "text": [
            "Membrane decay rate ('beta'): 0.8187307715415955\n"
          ],
          "name": "stdout"
        }
      ]
    },
    {
      "cell_type": "code",
      "metadata": {
        "id": "R9RH1cYmXOvm"
      },
      "source": [
        "# Number of time steps to simulate\r\n",
        "num_steps = 200"
      ],
      "execution_count": 213,
      "outputs": []
    },
    {
      "cell_type": "markdown",
      "metadata": {
        "id": "qi5EnND98cz3"
      },
      "source": [
        "Instantiating Lapicque's neuron only requires the following line of code:"
      ]
    },
    {
      "cell_type": "code",
      "metadata": {
        "id": "wI2Nahsg8d-t"
      },
      "source": [
        "# leaky integrate and fire neuron\r\n",
        "lif1 = snn.Lapicque(beta=beta)"
      ],
      "execution_count": 214,
      "outputs": []
    },
    {
      "cell_type": "markdown",
      "metadata": {
        "id": "kuytxXet8lc9"
      },
      "source": [
        "To use this neuron: \r\n",
        "\r\n",
        "**Inputs**\r\n",
        "* `spk_in`: each element of $I_{\\rm in}$, which are all `0` for now, is sequentially passed as an input\r\n",
        "* `mem`: the membrane potential at the present time $t$ is also passed as input. Initialize it arbitrarily as $U_0 = 0.9$.\r\n",
        "\r\n",
        "**Outputs**\r\n",
        "* `spk_out`: output spike $S_{\\rm out}[t+1]$ at the next time step\r\n",
        "* `mem`: membrane potential $U_{\\rm mem}[t+1]$ at the next time step\r\n",
        "\r\n",
        "These all need to be of type `torch.Tensor`.\r\n"
      ]
    },
    {
      "cell_type": "code",
      "metadata": {
        "id": "M_0O1Q3Y9KgM"
      },
      "source": [
        "# Initialize membrane, input, and output\r\n",
        "mem = torch.ones(1) * 0.9  # membrane potential of 0.9 at t=0\r\n",
        "cur_in = torch.zeros(num_steps)  # input is 0 for all t \r\n",
        "spk_out = torch.zeros(1)  # neuron needs somewhere to sequentially dump its output spikes"
      ],
      "execution_count": 215,
      "outputs": []
    },
    {
      "cell_type": "markdown",
      "metadata": {
        "id": "_CEuNHsN8-67"
      },
      "source": [
        "These values are only for the initial time step $t=0$. We'd like to watch the evolution of `mem` over time. The list `mem_rec` is initialized to record these values at every time step."
      ]
    },
    {
      "cell_type": "code",
      "metadata": {
        "id": "CUCxQBTQ9d_P"
      },
      "source": [
        "# Initialize somewhere to store recordings of membrane potential\r\n",
        "mem_rec = [mem]"
      ],
      "execution_count": 216,
      "outputs": []
    },
    {
      "cell_type": "markdown",
      "metadata": {
        "id": "i4TxVFaV9uf6"
      },
      "source": [
        "Now it's time to run a simulation! 50 time steps will be simulated, updating `mem` at each step and recording its value in `mem_rec`:"
      ]
    },
    {
      "cell_type": "code",
      "metadata": {
        "id": "j6GeMMiU8kc4"
      },
      "source": [
        "# pass updated value of mem and spk_in[step]=0 at every time step\r\n",
        "for step in range(num_steps):\r\n",
        "  spk_out, mem = lif1(cur_in[step], mem)\r\n",
        "\r\n",
        "  # Store recordings of membrane potential\r\n",
        "  mem_rec.append(mem)"
      ],
      "execution_count": 217,
      "outputs": []
    },
    {
      "cell_type": "markdown",
      "metadata": {
        "id": "4lngTsykIc7k"
      },
      "source": [
        "Well that was simple. \r\n",
        "\r\n",
        "Let's take a look at how the membrane potential and synaptic current evolved."
      ]
    },
    {
      "cell_type": "code",
      "metadata": {
        "id": "SrfeQWT6I2JC",
        "outputId": "487ea2b9-4f70-430e-c275-2271be718c52",
        "colab": {
          "base_uri": "https://localhost:8080/",
          "height": 294
        }
      },
      "source": [
        "import matplotlib.pyplot as plt\r\n",
        "\r\n",
        "plt.title(\"Lapicque's Neuron Model Without Stimulus\")\r\n",
        "plt.plot(mem_rec, label=\"Membrane Potential\")\r\n",
        "plt.xlabel(\"Time step\")\r\n",
        "plt.ylabel(\"Membrane Potential\")\r\n",
        "plt.xlim([0, 50])\r\n",
        "plt.ylim([0, 1])\r\n",
        "plt.show()"
      ],
      "execution_count": 218,
      "outputs": [
        {
          "output_type": "display_data",
          "data": {
            "image/png": "[encoded data removed]",
            "text/plain": [
              "<Figure size 432x288 with 1 Axes>"
            ]
          },
          "metadata": {
            "tags": [],
            "needs_background": "light"
          }
        }
      ]
    },
    {
      "cell_type": "markdown",
      "metadata": {
        "id": "9k0PKng2JYcx"
      },
      "source": [
        "This matches the dynamics that were previously derived. We should have convinced ourselves that the membrane potential will decay over time in the absence of any input stimuli. "
      ]
    },
    {
      "cell_type": "markdown",
      "metadata": {
        "id": "7Z01CioKJpkr"
      },
      "source": [
        "### 1.3.2 Lapicque: Step Input"
      ]
    },
    {
      "cell_type": "markdown",
      "metadata": {
        "id": "B6GZUEFgJ0l0"
      },
      "source": [
        "Now let's apply a step current $I_{\\rm in}$ that switches on at $t=t_0$. Based on the linear first-order differential equation:\r\n",
        "\r\n",
        "$$ \\tau \\frac{dU_{\\rm mem}}{dt} = -U_{\\rm mem} + RI_{\\rm in}(t)$$\r\n",
        "\r\n",
        "Then the general solution will be:\r\n",
        "\r\n",
        "$$U_{\\rm mem}=I_{\\rm in}(t)R + [U_0 - I_{\\rm in}(t)R]e^{-\\frac{t}{\\tau}}$$\r\n",
        "\r\n",
        "If the membrane potential is initialized as $U_{\\rm mem} = 0 V$, then:\r\n",
        "\r\n",
        "$$U_{\\rm mem}=I_{\\rm in}(t)R [1 - e^{-\\frac{t}{\\tau}}]$$\r\n",
        "\r\n",
        "Let's visualize what this looks like by triggering the current pulse at $t_0 = 10$."
      ]
    },
    {
      "cell_type": "code",
      "metadata": {
        "id": "kD7cLKSuLu9n"
      },
      "source": [
        "# Initialize input current pulse\r\n",
        "cur_in = torch.cat((torch.zeros(10), torch.ones(190)*0.05), 0)  # input turns on at t=10\r\n",
        "\r\n",
        "# Initialize membrane and output\r\n",
        "mem = torch.zeros(1)  # membrane potential of 0 at t=0\r\n",
        "spk_out = torch.zeros(1)  # neuron needs somewhere to sequentially dump its output spikes\r\n",
        "\r\n",
        "# Initialize somewhere to store recordings of membrane potential\r\n",
        "mem_rec = [mem]"
      ],
      "execution_count": 219,
      "outputs": []
    },
    {
      "cell_type": "markdown",
      "metadata": {
        "id": "PW8ZDbKCNW8E"
      },
      "source": [
        "As before, 200 time steps will be simulated. But this time, the new values of `cur_in` will be passed:"
      ]
    },
    {
      "cell_type": "code",
      "metadata": {
        "id": "w9J2AsrZNXr8"
      },
      "source": [
        "# pass updated value of mem and spk_in[step]=0 at every time step\r\n",
        "for step in range(num_steps):\r\n",
        "  spk_out, mem = lif1(cur_in[step], mem)\r\n",
        "\r\n",
        "  # Store recordings of membrane potential\r\n",
        "  mem_rec.append(mem)"
      ],
      "execution_count": 220,
      "outputs": []
    },
    {
      "cell_type": "code",
      "metadata": {
        "id": "_cC3zoy7OW_Y",
        "outputId": "dd5d7511-d617-48b5-a5b2-7f58a4ad832d",
        "colab": {
          "base_uri": "https://localhost:8080/",
          "height": 404
        }
      },
      "source": [
        "fig, ax = plt.subplots(2, figsize=(8,6),sharex=True)\r\n",
        "\r\n",
        "# Plot input current\r\n",
        "ax[0].plot(cur_in, c=\"tab:orange\")\r\n",
        "ax[0].set_ylim([0, 0.25])\r\n",
        "ax[0].set_ylabel(\"Input Current ($I_{in}$)\")\r\n",
        "ax[0].set_title(\"Lapicque's Neuron Model With Step Input\")\r\n",
        "\r\n",
        "# Plot membrane potential\r\n",
        "ax[1].plot(mem_rec)\r\n",
        "ax[1].set_ylim([0, 1])\r\n",
        "ax[1].set_ylabel(\"Membrane Potential ($U_{mem}$)\")\r\n",
        "\r\n",
        "ax[1].axvline(x=10, ymin=0, ymax=2.2, alpha = 0.25, linestyle=\"dashed\", c=\"black\", linewidth=2, zorder=0, clip_on=False)\r\n",
        "plt.xlabel(\"Time step\")\r\n",
        "\r\n",
        "plt.show()"
      ],
      "execution_count": 221,
      "outputs": [
        {
          "output_type": "display_data",
          "data": {
            "image/png": "[encoded data removed]",
            "text/plain": [
              "<Figure size 576x432 with 2 Axes>"
            ]
          },
          "metadata": {
            "tags": [],
            "needs_background": "light"
          }
        }
      ]
    },
    {
      "cell_type": "markdown",
      "metadata": {
        "id": "uZi44ZEvNhkR"
      },
      "source": [
        "The membrane potential exponentially rises and then stabilizes."
      ]
    },
    {
      "cell_type": "markdown",
      "metadata": {
        "id": "ZqEtGdKAaIbK"
      },
      "source": [
        "### 1.3.3 Lapicque: Pulse Input"
      ]
    },
    {
      "cell_type": "markdown",
      "metadata": {
        "id": "HOgCeLPYaLKZ"
      },
      "source": [
        "Now what if the step input was clipped at $t=30$? We would expect it to rise just as it did above, but then decay with a time constant of $\\tau$ as in our first simulation. "
      ]
    },
    {
      "cell_type": "code",
      "metadata": {
        "id": "hjtupQNxaQ5D"
      },
      "source": [
        "# Initialize input current pulse. On at t=10, off at t=30.\r\n",
        "cur_in = torch.cat((torch.zeros(10), torch.ones(20)*0.05, torch.zeros(170)), 0)  # input turns on at t=10, off at t=30\r\n",
        "\r\n",
        "# Initialize membrane and output\r\n",
        "mem = torch.zeros(1)  # membrane potential of 0 at t=0\r\n",
        "spk_out = torch.zeros(1)  # neuron needs somewhere to sequentially dump its output spikes\r\n",
        "\r\n",
        "# Initialize somewhere to store recordings of membrane potential\r\n",
        "mem_rec = [mem]"
      ],
      "execution_count": 222,
      "outputs": []
    },
    {
      "cell_type": "code",
      "metadata": {
        "id": "O8JFL9CGa0NW"
      },
      "source": [
        "# pass updated value of mem and spk_in[step]=0 at every time step\r\n",
        "for step in range(num_steps):\r\n",
        "  spk_out, mem = lif1(cur_in[step], mem)\r\n",
        "\r\n",
        "  # Store recordings of membrane potential\r\n",
        "  mem_rec.append(mem)"
      ],
      "execution_count": 223,
      "outputs": []
    },
    {
      "cell_type": "code",
      "metadata": {
        "id": "UM8GGzWOa3GE",
        "outputId": "1834a0a9-2a41-4d53-f4e0-dc901d7d4395",
        "colab": {
          "base_uri": "https://localhost:8080/",
          "height": 404
        }
      },
      "source": [
        "fig, ax = plt.subplots(2, figsize=(8,6),sharex=True)\r\n",
        "\r\n",
        "# Plot input current\r\n",
        "ax[0].plot(cur_in, c=\"tab:orange\")\r\n",
        "ax[0].set_ylim([0, 0.25])\r\n",
        "ax[0].set_ylabel(\"Input Current ($I_{in}$)\")\r\n",
        "ax[0].set_title(\"Lapicque's Neuron Model With Input Pulse\")\r\n",
        "\r\n",
        "# Plot membrane potential\r\n",
        "ax[1].plot(mem_rec)\r\n",
        "ax[1].set_ylim([0, 1])\r\n",
        "ax[1].set_ylabel(\"Membrane Potential ($U_{mem}$)\")\r\n",
        "\r\n",
        "ax[1].axvline(x=10, ymin=0, ymax=2.2, alpha = 0.25, linestyle=\"dashed\", c=\"black\", linewidth=2, zorder=0, clip_on=False)\r\n",
        "ax[1].axvline(x=30, ymin=0, ymax=2.2, alpha = 0.25, linestyle=\"dashed\", c=\"black\", linewidth=2, zorder=0, clip_on=False)\r\n",
        "plt.xlabel(\"Time step\")\r\n",
        "\r\n",
        "plt.show()"
      ],
      "execution_count": 224,
      "outputs": [
        {
          "output_type": "display_data",
          "data": {
            "image/png": "[encoded data removed]",
            "text/plain": [
              "<Figure size 576x432 with 2 Axes>"
            ]
          },
          "metadata": {
            "tags": [],
            "needs_background": "light"
          }
        }
      ]
    },
    {
      "cell_type": "markdown",
      "metadata": {
        "id": "orJvjev6a9tR"
      },
      "source": [
        "It appears as though our guess was correct. What if the amplitude of the current input was doubled, and the pulse width was halved? That is to say, the area under the current curve remains the same:\r\n",
        "\r\n",
        "$$Q = I \\times t,$$\r\n",
        "\r\n",
        "and therefore, the amount of charge delivered to the capacitor is also the same."
      ]
    },
    {
      "cell_type": "code",
      "metadata": {
        "id": "j_G_gWTzbo4J"
      },
      "source": [
        "# Double amplitude of current pulse; half the time. On at t=10, off at t=30.\r\n",
        "cur_in = torch.cat((torch.zeros(10), torch.ones(5)*0.1, torch.zeros(185)), 0)  # input turns on at t=10, off at t=30\r\n",
        "\r\n",
        "# Initialize membrane and output\r\n",
        "mem = torch.zeros(1)  # membrane potential of 0 at t=0\r\n",
        "spk_out = torch.zeros(1)  # neuron needs somewhere to sequentially dump its output spikes\r\n",
        "\r\n",
        "# Initialize somewhere to store recordings of membrane potential\r\n",
        "mem_rec = [mem]"
      ],
      "execution_count": 231,
      "outputs": []
    },
    {
      "cell_type": "code",
      "metadata": {
        "id": "4YYr91yzbq-G"
      },
      "source": [
        "# pass updated value of mem and spk_in[step]=0 at every time step\r\n",
        "for step in range(num_steps):\r\n",
        "  spk_out, mem = lif1(cur_in[step], mem)\r\n",
        "\r\n",
        "  # Store recordings of membrane potential\r\n",
        "  mem_rec.append(mem)"
      ],
      "execution_count": 232,
      "outputs": []
    },
    {
      "cell_type": "code",
      "metadata": {
        "id": "krBTZm92btXH",
        "outputId": "3ce3a7f2-5209-486b-a5d8-36f34d569d1e",
        "colab": {
          "base_uri": "https://localhost:8080/",
          "height": 404
        }
      },
      "source": [
        "fig, ax = plt.subplots(2, figsize=(8,6),sharex=True)\r\n",
        "\r\n",
        "# Plot input current\r\n",
        "ax[0].plot(cur_in, c=\"tab:orange\")\r\n",
        "ax[0].set_ylim([0, 0.25])\r\n",
        "ax[0].set_ylabel(\"Input Current ($I_{in}$)\")\r\n",
        "ax[0].set_title(\"Lapicque's Neuron Model With Input Pulse: x2 amplitude, 1/2 duration\")\r\n",
        "\r\n",
        "# Plot membrane potential\r\n",
        "ax[1].plot(mem_rec)\r\n",
        "ax[1].set_ylim([0, 1])\r\n",
        "ax[1].set_ylabel(\"Membrane Potential ($U_{mem}$)\")\r\n",
        "\r\n",
        "ax[1].axvline(x=10, ymin=0, ymax=2.2, alpha = 0.25, linestyle=\"dashed\", c=\"black\", linewidth=2, zorder=0, clip_on=False)\r\n",
        "ax[1].axvline(x=20, ymin=0, ymax=2.2, alpha = 0.25, linestyle=\"dashed\", c=\"black\", linewidth=2, zorder=0, clip_on=False)\r\n",
        "\r\n",
        "plt.xlabel(\"Time step\")\r\n",
        "\r\n",
        "plt.show()"
      ],
      "execution_count": 233,
      "outputs": [
        {
          "output_type": "display_data",
          "data": {
            "image/png": "[encoded data removed]",
            "text/plain": [
              "<Figure size 576x432 with 2 Axes>"
            ]
          },
          "metadata": {
            "tags": [],
            "needs_background": "light"
          }
        }
      ]
    },
    {
      "cell_type": "markdown",
      "metadata": {
        "id": "34azxvjWbqge"
      },
      "source": [
        ""
      ]
    },
    {
      "cell_type": "code",
      "metadata": {
        "id": "650G94v9dgr3",
        "outputId": "0993d456-199a-42ce-a9f3-be323e0ffd10",
        "colab": {
          "base_uri": "https://localhost:8080/",
          "height": 404
        }
      },
      "source": [
        "# Double amplitude of current pulse; half the time. On at t=10, off at t=30.\r\n",
        "cur_in = torch.cat((torch.zeros(10), torch.ones(5)*0.2, torch.zeros(185)), 0)  # input turns on at t=10, off at t=30\r\n",
        "\r\n",
        "# Initialize membrane and output\r\n",
        "mem = torch.zeros(1)  # membrane potential of 0 at t=0\r\n",
        "spk_out = torch.zeros(1)  # neuron needs somewhere to sequentially dump its output spikes\r\n",
        "\r\n",
        "# Initialize somewhere to store recordings of membrane potential\r\n",
        "mem_rec = [mem]\r\n",
        "\r\n",
        "# pass updated value of mem and spk_in[step]=0 at every time step\r\n",
        "for step in range(num_steps):\r\n",
        "  spk_out, mem = lif1(cur_in[step], mem)\r\n",
        "\r\n",
        "  # Store recordings of membrane potential\r\n",
        "  mem_rec.append(mem)\r\n",
        "\r\n",
        "# Generate Plots\r\n",
        "fig, ax = plt.subplots(2, figsize=(8,6),sharex=True)\r\n",
        "\r\n",
        "# Plot input current\r\n",
        "ax[0].plot(cur_in, c=\"tab:orange\")\r\n",
        "ax[0].set_ylim([0, 0.25])\r\n",
        "ax[0].set_ylabel(\"Input Current ($I_{in}$)\")\r\n",
        "ax[0].set_title(\"Lapicque's Neuron Model With Input Pulse: x2 amplitude, 1/2 duration\")\r\n",
        "\r\n",
        "# Plot membrane potential\r\n",
        "ax[1].plot(mem_rec)\r\n",
        "ax[1].set_ylim([0, 1])\r\n",
        "ax[1].set_ylabel(\"Membrane Potential ($U_{mem}$)\")\r\n",
        "\r\n",
        "ax[1].axvline(x=10, ymin=0, ymax=2.2, alpha = 0.25, linestyle=\"dashed\", c=\"black\", linewidth=2, zorder=0, clip_on=False)\r\n",
        "ax[1].axvline(x=15, ymin=0, ymax=2.2, alpha = 0.25, linestyle=\"dashed\", c=\"black\", linewidth=2, zorder=0, clip_on=False)\r\n",
        "\r\n",
        "plt.xlabel(\"Time step\")\r\n",
        "\r\n",
        "plt.show()"
      ],
      "execution_count": 187,
      "outputs": [
        {
          "output_type": "display_data",
          "data": {
            "image/png": "[encoded data removed]",
            "text/plain": [
              "<Figure size 576x432 with 2 Axes>"
            ]
          },
          "metadata": {
            "tags": [],
            "needs_background": "light"
          }
        }
      ]
    },
    {
      "cell_type": "code",
      "metadata": {
        "id": "DjQtKdf-bngt"
      },
      "source": [
        ""
      ],
      "execution_count": null,
      "outputs": []
    },
    {
      "cell_type": "markdown",
      "metadata": {
        "id": "PYWhh7idiS9t"
      },
      "source": [
        "# Conclusion\r\n",
        "Now you should understand how to build populations of LIF neuron models to perform feedforward processing of various inputs. \r\n",
        "\r\n",
        "For reference, the documentation [can be found here](https://snntorch.readthedocs.io/en/latest/snntorch.html).\r\n",
        "\r\n",
        "In the next tutorial, you will learn how to train these networks to classify spiking and static MNIST datasets. In fact, if you already have a basic grasp of PyTorch, the next tutorial will be quite trivial."
      ]
    },
    {
      "cell_type": "code",
      "metadata": {
        "id": "9D8Ce5-QiYEA"
      },
      "source": [
        ""
      ],
      "execution_count": null,
      "outputs": []
    },
    {
      "cell_type": "markdown",
      "metadata": {
        "id": "OTRCyd0Xa-QK"
      },
      "source": [
        ""
      ]
    }
  ]
}