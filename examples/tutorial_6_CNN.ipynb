{
  "nbformat": 4,
  "nbformat_minor": 0,
  "metadata": {
    "kernelspec": {
      "name": "python3",
      "language": "python",
      "display_name": "Python 3"
    },
    "language_info": {
      "codemirror_mode": {
        "name": "ipython",
        "version": 2
      },
      "file_extension": ".py",
      "mimetype": "text/x-python",
      "name": "python",
      "nbconvert_exporter": "python",
      "pygments_lexer": "ipython2",
      "version": "2.7.6"
    },
    "colab": {
      "name": "tutorial_6_CNN.ipynb",
      "provenance": [],
      "collapsed_sections": [],
      "include_colab_link": true
    },
    "accelerator": "GPU"
  },
  "cells": [
    {
      "cell_type": "markdown",
      "metadata": {
        "id": "view-in-github",
        "colab_type": "text"
      },
      "source": [
        "<a href=\"https://colab.research.google.com/github/jeshraghian/snntorch/blob/master/examples/tutorial_6_CNN.ipynb\" target=\"_parent\"><img src=\"https://colab.research.google.com/assets/colab-badge.svg\" alt=\"Open In Colab\"/></a>"
      ]
    },
    {
      "cell_type": "markdown",
      "metadata": {
        "collapsed": false,
        "pycharm": {
          "name": "#%% md\n"
        },
        "id": "uSGZ6cdmpknm"
      },
      "source": [
        "<img src='https://github.com/jeshraghian/snntorch/blob/master/docs/_static/img/snntorch_alpha_w.png?raw=true' width=\"400\">\n",
        "\n",
        "# snnTorch - Surrogate Gradient Descent in a Convolutional Spiking Neural Network\n",
        "## Tutorial 6\n",
        "### By Jason K. Eshraghian (www.jasoneshraghian.com)\n",
        "\n",
        "<a href=\"https://colab.research.google.com/github/jeshraghian/snntorch/blob/master/examples/tutorial_6_CNN.ipynb\">\n",
        "  <img src=\"https://colab.research.google.com/assets/colab-badge.svg\" alt=\"Open In Colab\"/>\n",
        "</a>"
      ]
    },
    {
      "cell_type": "markdown",
      "metadata": {
        "id": "rugeYYiqsrlc"
      },
      "source": [
        "The snnTorch tutorial series is based on the following paper. If you find these resources or code useful in your work, please consider citing the following source:\n",
        "\n",
        "> <cite> Jason K. Eshraghian, Max Ward, Emre Neftci, Xinxin Wang, Gregor Lenz, Girish Dwivedi, Mohammed Bennamoun, Doo Seok Jeong, and Wei D. Lu. \"Training Spiking Neural Networks Using Lessons From Deep Learning\". arXiv, 2021. </cite>\n"
      ]
    },
    {
      "cell_type": "markdown",
      "metadata": {
        "id": "Ymi3sqJg28OQ"
      },
      "source": [
        "# Introduction\n",
        "In this tutorial, you will:\n",
        "* Learn how to use surrogate gradient descent to overcome the dead neuron problem\n",
        "* Construct and train a convolutional spiking neural network\n",
        "* Use a sequential container, `nn.Sequential` to simplify model construction\n",
        "* Use the `snn.backprop` module to reduce the time it takes to design a neural network\n",
        "\n",
        "At the end of the tutorial, we will train a convolutional spiking neural network (CSNN) using the MNIST dataset to perform image classification. The background theory follows on from [Tutorials 2, 4 and 5](https://snntorch.readthedocs.io/en/latest/tutorials/index.html), so feel free to go back if you need to brush up.\n",
        "\n",
        "If running in Google Colab:\n",
        "* You may connect to GPU by checking `Runtime` > `Change runtime type` > `Hardware accelerator: GPU`\n",
        "* Next, install the latest PyPi distribution of snnTorch by clicking into the following cell and pressing `Shift+Enter`."
      ]
    },
    {
      "cell_type": "code",
      "metadata": {
        "pycharm": {
          "name": "#%%\n"
        },
        "id": "5tn_wUlopkon",
        "colab": {
          "base_uri": "https://localhost:8080/"
        },
        "outputId": "9759c2a8-3087-42a6-dfa1-068cb44806ea"
      },
      "source": [
        "!pip install snntorch"
      ],
      "execution_count": 1,
      "outputs": [
        {
          "output_type": "stream",
          "name": "stdout",
          "text": [
            "Requirement already satisfied: snntorch in c:\\users\\jeshr\\dropbox\\repos\\snntorch\\snnenv\\lib\\site-packages (0.4.4)"
          ]
        },
        {
          "output_type": "stream",
          "name": "stderr",
          "text": [
            "WARNING: You are using pip version 21.1.1; however, version 21.2.4 is available.\n",
            "You should consider upgrading via the 'c:\\users\\jeshr\\dropbox\\repos\\snntorch\\snnenv\\scripts\\python.exe -m pip install --upgrade pip' command.\n"
          ]
        },
        {
          "output_type": "stream",
          "name": "stdout",
          "text": [
            "\n",
            "Requirement already satisfied: matplotlib in c:\\users\\jeshr\\dropbox\\repos\\snntorch\\snnenv\\lib\\site-packages (from snntorch) (3.4.2)\n",
            "Requirement already satisfied: celluloid in c:\\users\\jeshr\\dropbox\\repos\\snntorch\\snnenv\\lib\\site-packages (from snntorch) (0.2.0)\n",
            "Requirement already satisfied: tqdm in c:\\users\\jeshr\\dropbox\\repos\\snntorch\\snnenv\\lib\\site-packages (from snntorch) (4.60.0)\n",
            "Requirement already satisfied: h5py>=3.0.0 in c:\\users\\jeshr\\dropbox\\repos\\snntorch\\snnenv\\lib\\site-packages (from snntorch) (3.2.1)\n",
            "Requirement already satisfied: pandas in c:\\users\\jeshr\\dropbox\\repos\\snntorch\\snnenv\\lib\\site-packages (from snntorch) (1.2.4)\n",
            "Requirement already satisfied: torch>=1.2.0 in c:\\users\\jeshr\\dropbox\\repos\\snntorch\\snnenv\\lib\\site-packages (from snntorch) (1.8.1+cu102)\n",
            "Requirement already satisfied: numpy>=1.17 in c:\\users\\jeshr\\dropbox\\repos\\snntorch\\snnenv\\lib\\site-packages (from snntorch) (1.20.3)\n",
            "Requirement already satisfied: torchvision>=0.9.1 in c:\\users\\jeshr\\dropbox\\repos\\snntorch\\snnenv\\lib\\site-packages (from snntorch) (0.9.1+cu102)\n",
            "Requirement already satisfied: cached-property in c:\\users\\jeshr\\dropbox\\repos\\snntorch\\snnenv\\lib\\site-packages (from h5py>=3.0.0->snntorch) (1.5.2)\n",
            "Requirement already satisfied: typing-extensions in c:\\users\\jeshr\\dropbox\\repos\\snntorch\\snnenv\\lib\\site-packages (from torch>=1.2.0->snntorch) (3.7.4.3)\n",
            "Requirement already satisfied: pillow>=4.1.1 in c:\\users\\jeshr\\dropbox\\repos\\snntorch\\snnenv\\lib\\site-packages (from torchvision>=0.9.1->snntorch) (8.2.0)\n",
            "Requirement already satisfied: kiwisolver>=1.0.1 in c:\\users\\jeshr\\dropbox\\repos\\snntorch\\snnenv\\lib\\site-packages (from matplotlib->snntorch) (1.3.1)\n",
            "Requirement already satisfied: cycler>=0.10 in c:\\users\\jeshr\\dropbox\\repos\\snntorch\\snnenv\\lib\\site-packages (from matplotlib->snntorch) (0.10.0)\n",
            "Requirement already satisfied: python-dateutil>=2.7 in c:\\users\\jeshr\\dropbox\\repos\\snntorch\\snnenv\\lib\\site-packages (from matplotlib->snntorch) (2.8.1)\n",
            "Requirement already satisfied: pyparsing>=2.2.1 in c:\\users\\jeshr\\dropbox\\repos\\snntorch\\snnenv\\lib\\site-packages (from matplotlib->snntorch) (2.4.7)\n",
            "Requirement already satisfied: six in c:\\users\\jeshr\\dropbox\\repos\\snntorch\\snnenv\\lib\\site-packages (from cycler>=0.10->matplotlib->snntorch) (1.16.0)\n",
            "Requirement already satisfied: pytz>=2017.3 in c:\\users\\jeshr\\dropbox\\repos\\snntorch\\snnenv\\lib\\site-packages (from pandas->snntorch) (2021.1)\n"
          ]
        }
      ]
    },
    {
      "cell_type": "code",
      "metadata": {
        "id": "QXZ6Tuqc9Q-l"
      },
      "source": [
        "# imports\n",
        "import snntorch as snn\n",
        "from snntorch import surrogate\n",
        "from snntorch import backprop\n",
        "from snntorch import functional as SF\n",
        "from snntorch import utils\n",
        "from snntorch import spikeplot as splt\n",
        "\n",
        "import torch\n",
        "import torch.nn as nn\n",
        "from torch.utils.data import DataLoader\n",
        "from torchvision import datasets, transforms\n",
        "import torch.nn.functional as F\n",
        "\n",
        "import matplotlib.pyplot as plt\n",
        "import numpy as np\n",
        "import itertools"
      ],
      "execution_count": 1,
      "outputs": []
    },
    {
      "cell_type": "markdown",
      "metadata": {
        "id": "gt2xMbLY9dVE"
      },
      "source": [
        "# 1. Surrogate Gradient Descent"
      ]
    },
    {
      "cell_type": "markdown",
      "metadata": {
        "id": "zJddJWoa0GT6"
      },
      "source": [
        "In Tutorial 5, we learnt about the **dead neuron problem**. This arises because of the non-differentiability of spikes:\n",
        "\n",
        "\n",
        "$$S[t] = \\Theta(U[t] - U_{\\rm thr}) \\tag{1}$$ \n",
        "$$\\frac{\\partial S}{\\partial U} = \\delta(U - U_{\\rm thr}) \\in \\{0, \\infty\\} \\tag{2}$$ \n",
        "\n",
        "where $\\Theta(\\cdot)$ is the Heaviside step function, and $\\delta(\\cdot)$ is the Dirac-Delta function. We previously overcame this using the *Spike-Operator* approach, by assigning the spike to the derivative term: $\\partial \\tilde{S}/\\partial U \\leftarrow S \\in \\{0, 1\\}$. Another approach is to smooth the Heaviside function during the backward pass, which correspondingly smooths out the gradient of the Heaviside function. \n",
        "\n",
        "Common smoothing functions include the sigmoid function, or the fast sigmoid function. We must also shift the sigmoidal functions such that they are centered at the threshold $U_{\\rm thr}$. Defining  the overdrive of the membrane potential as $U_{OD} = U - U_{\\rm thr}$:\n",
        "\n",
        "$$\\tilde{S} = \\frac{U_{OD}}{1+k|U_{OD}|} \\tag{3}$$\n",
        "$$\\frac{\\partial \\tilde{S}}{\\partial U} = \\frac{1}{(k|U_{OD}|+1)^2}\\tag{4}$$\n",
        "\n",
        "where $k$ modulates how smooth the surrogate function is, and is treated as a hyperparameter. As $k$ increases, the approximation converges towards the original derivative in $(2)$:  \n",
        "\n",
        "$$\\frac{\\partial \\tilde{S}}{\\partial U} \\Bigg|_{k \\rightarrow \\infty} = \\delta(U-U_{\\rm thr})$$ \n",
        "\n",
        "\n",
        "<center>\n",
        "<img src='https://github.com/jeshraghian/snntorch/blob/master/docs/_static/img/examples/tutorial6/surrogate.png?raw=true' width=\"800\">\n",
        "</center>\n",
        "\n",
        "To summarize:\n",
        "\n",
        "* **Forward Pass**\n",
        "  - Determine $S$ using the shifted Heaviside function in $(1)$\n",
        "  - Store $U$ for later use during the backward pass\n",
        "* **Backward Pass**\n",
        "  - Pass $U$ into $(4)$ to calculate the derivative term\n",
        "\n",
        "As with the *Spike Operator* in Tutorial 5, we can override the Dirac-Delta gradient with a fast sigmoid in a Leaky Integrate-and-Fire (LIF) neuron model:"
      ]
    },
    {
      "cell_type": "code",
      "metadata": {
        "id": "5lqpuT--bZmJ"
      },
      "source": [
        "# Leaky neuron model, overriding the backward pass with a custom function\n",
        "class LeakySigmoidSurrogate(nn.Module):\n",
        "  def __init__(self, beta, threshold=1.0, k=25):\n",
        "      super(Leaky_Surrogate, self).__init__()\n",
        "\n",
        "      # initialize decay rate beta and threshold\n",
        "      self.beta = beta\n",
        "      self.threshold = threshold\n",
        "      self.surrogate_func = self.FastSigmoid.apply\n",
        "  \n",
        "  # the forward function is called each time we call Leaky\n",
        "  def forward(self, input_, mem):\n",
        "    spk = self.surrogate_func((mem-self.threshold))  # call the Heaviside function\n",
        "    reset = (spk - self.threshold).detach()\n",
        "    mem = self.beta * mem + input_ - reset\n",
        "    return spk, mem\n",
        "\n",
        "  # Forward pass: Heaviside function\n",
        "  # Backward pass: Override Dirac Delta with gradient of fast sigmoid\n",
        "  @staticmethod\n",
        "  class FastSigmoid(torch.autograd.Function):  \n",
        "    @staticmethod\n",
        "    def forward(ctx, mem, k=25):\n",
        "        ctx.save_for_backward(mem) # store the membrane potential for use in the backward pass\n",
        "        ctx.k = k\n",
        "        out = (mem > 0).float() # Heaviside on the forward pass: Eq(1)\n",
        "        return out\n",
        "\n",
        "    @staticmethod\n",
        "    def backward(ctx, grad_output): \n",
        "        (mem,) = ctx.saved_tensors  # retrieve membrane potential\n",
        "        grad_input = grad_output.clone()\n",
        "        grad = grad_input / (ctx.k * torch.abs(mem) + 1.0) ** 2  # gradient of fast sigmoid on backward pass: Eq(4)\n",
        "        return grad, None"
      ],
      "execution_count": 2,
      "outputs": []
    },
    {
      "cell_type": "markdown",
      "metadata": {
        "id": "4aQvFG7ajpzU"
      },
      "source": [
        "Better yet, all of that can be condensed by using the built-in module `snn.surrogate` from snnTorch, where we $k$ from $(4)$ is denoted `slope`. The surrogate gradient is passed into `spike_grad` as an argument:"
      ]
    },
    {
      "cell_type": "code",
      "metadata": {
        "id": "2dCWD_qajyLw"
      },
      "source": [
        "spike_grad = surrogate.fast_sigmoid(slope=25)\n",
        "beta = 0.5\n",
        "\n",
        "lif1 = snn.Leaky(beta=beta, spike_grad=spike_grad)"
      ],
      "execution_count": 3,
      "outputs": []
    },
    {
      "cell_type": "markdown",
      "metadata": {
        "id": "Ffn7D6omkj5r"
      },
      "source": [
        "To explore the other surrogate gradient functions available, [take a look at the documentation here.](https://snntorch.readthedocs.io/en/latest/snntorch.surrogate.html)"
      ]
    },
    {
      "cell_type": "markdown",
      "metadata": {
        "id": "Wgzf83HE2BeB"
      },
      "source": [
        "# 2. Setting up the CSNN\n",
        "## 2.1 DataLoaders\n",
        "Note that `utils.data_subset()` is called to reduce the datasets by a factor of 10 to speed up training."
      ]
    },
    {
      "cell_type": "code",
      "metadata": {
        "id": "pxO32dntlOB2"
      },
      "source": [
        "# dataloader arguments\n",
        "batch_size = 128\n",
        "data_path='/data/mnist'\n",
        "subset=10\n",
        "\n",
        "dtype = torch.float\n",
        "device = torch.device(\"cuda\") if torch.cuda.is_available() else torch.device(\"cpu\")"
      ],
      "execution_count": 4,
      "outputs": []
    },
    {
      "cell_type": "code",
      "metadata": {
        "id": "pE7eGTnulSBA"
      },
      "source": [
        "# Define a transform\n",
        "transform = transforms.Compose([\n",
        "            transforms.Resize((28, 28)),\n",
        "            transforms.Grayscale(),\n",
        "            transforms.ToTensor(),\n",
        "            transforms.Normalize((0,), (1,))])\n",
        "\n",
        "mnist_train = datasets.MNIST(data_path, train=True, download=True, transform=transform)\n",
        "mnist_test = datasets.MNIST(data_path, train=False, download=True, transform=transform)\n",
        "\n",
        "# reduce datasets by 10x to speed up training\n",
        "utils.data_subset(mnist_train, subset)\n",
        "utils.data_subset(mnist_test, subset)\n",
        "\n",
        "# Create DataLoaders\n",
        "train_loader = DataLoader(mnist_train, batch_size=batch_size, shuffle=True, drop_last=True)\n",
        "test_loader = DataLoader(mnist_test, batch_size=batch_size, shuffle=True, drop_last=True)"
      ],
      "execution_count": 5,
      "outputs": []
    },
    {
      "cell_type": "markdown",
      "metadata": {
        "id": "6v8fBXrVlY3f"
      },
      "source": [
        "## 2.2 Define the Network\n",
        "\n",
        "The convolutional network architecture will be defined as: 12C5-MP2-64C5-MP2-1024FC10\n",
        "\n",
        "- 12C5 is a 5$\\times$5 convolutional kernel with 12 filters\n",
        "- MP2 is a 2$\\times$2 max-pooling function\n",
        "- 1024FC10 is a fully-connected layer that maps 1,024 neurons to 10 outputs"
      ]
    },
    {
      "cell_type": "code",
      "metadata": {
        "id": "foos_NlopDrb"
      },
      "source": [
        "# neuron and simulation parameters\n",
        "spike_grad = surrogate.fast_sigmoid(slope=25)\n",
        "beta = 0.5\n",
        "num_steps = 50"
      ],
      "execution_count": 6,
      "outputs": []
    },
    {
      "cell_type": "code",
      "metadata": {
        "id": "X4sd8PDSlGZb"
      },
      "source": [
        "# Define Network\n",
        "class Net(nn.Module):\n",
        "    def __init__(self):\n",
        "        super().__init__()\n",
        "\n",
        "        # Initialize layers\n",
        "        self.conv1 = nn.Conv2d(1, 12, 5)\n",
        "        self.lif1 = snn.Leaky(beta=beta, spike_grad=spike_grad)\n",
        "        self.conv2 = nn.Conv2d(12, 64, 5)\n",
        "        self.lif2 = snn.Leaky(beta=beta, spike_grad=spike_grad)\n",
        "        self.fc1 = nn.Linear(64*4*4, 10)\n",
        "        self.lif3 = snn.Leaky(beta=beta, spike_grad=spike_grad)\n",
        "\n",
        "    def forward(self, x):\n",
        "\n",
        "        # Initialize hidden states and outputs at t=0\n",
        "        mem1 = self.lif1.init_leaky()\n",
        "        mem2 = self.lif2.init_leaky() \n",
        "        mem3 = self.lif3.init_leaky()\n",
        "\n",
        "        # Record the final layer\n",
        "        spk3_rec = []\n",
        "        mem3_rec = []\n",
        "\n",
        "        for step in range(num_steps):\n",
        "            cur1 = F.max_pool2d(self.conv1(x), 2)\n",
        "            spk1, mem1 = self.lif1(cur1, mem1)\n",
        "            cur2 = F.max_pool2d(self.conv2(spk1), 2)\n",
        "            spk2, mem2 = self.lif2(cur2, mem2)\n",
        "            cur3 = self.fc1(spk2.view(batch_size, -1))\n",
        "            spk3, mem3 = self.lif3(cur3, mem3)\n",
        "\n",
        "            spk3_rec.append(spk3)\n",
        "            mem3_rec.append(mem3)\n",
        "\n",
        "        return torch.stack(spk3_rec), torch.stack(mem3_rec)"
      ],
      "execution_count": 7,
      "outputs": []
    },
    {
      "cell_type": "markdown",
      "metadata": {
        "id": "HVn3aYAUnWqH"
      },
      "source": [
        "In the previous tutorial, we wrapped our network as a class, similar to what is shown above. As network complexity increases, this will add a lot of boilerplate code that we might want to avoid. We can achieve the same result as above by using the `nn.Sequential` method instead, with far less code. "
      ]
    },
    {
      "cell_type": "code",
      "metadata": {
        "id": "AoYBY89angvp"
      },
      "source": [
        "#  Initialize Network\n",
        "net = nn.Sequential(nn.Conv2d(1, 12, 5),\n",
        "                    nn.MaxPool2d(2),\n",
        "                    snn.Leaky(beta=beta, spike_grad=spike_grad, init_hidden=True),\n",
        "                    nn.Conv2d(12, 64, 5),\n",
        "                    nn.MaxPool2d(2),\n",
        "                    snn.Leaky(beta=beta, spike_grad=spike_grad, init_hidden=True),\n",
        "                    nn.Flatten(),\n",
        "                    nn.Linear(64*4*4, 10),\n",
        "                    snn.Leaky(beta=beta, spike_grad=spike_grad, init_hidden=True, output=True)\n",
        "                    ).to(device)"
      ],
      "execution_count": 8,
      "outputs": []
    },
    {
      "cell_type": "markdown",
      "metadata": {
        "id": "7Qgw1dRmpOlo"
      },
      "source": [
        "\n",
        "The `init_hidden` argument in `snn.Leaky` initializes the hidden states of the neuron (here, membrane potential). This takes place in the background and is created as an instance variable. If `init_hidden` is activated, then the membrane potential will not be explicitly returned to the user, ensuring that only the output spikes are sequentially passed along the layers wrapped in `nn.Sequential`. \n",
        "\n",
        "To train a model using the final layer's membrane potential, set the argument  `output=True` which enables the final layer to return both the spike and membrane potential response of the neuron."
      ]
    },
    {
      "cell_type": "markdown",
      "metadata": {
        "id": "A-bCSQmBstvd"
      },
      "source": [
        "## 2.3 Forward-Pass\n",
        "A forward pass across a simulation duration of `num_steps` looks like this:"
      ]
    },
    {
      "cell_type": "code",
      "metadata": {
        "id": "IxPPMND-pMxE"
      },
      "source": [
        "data, targets = next(iter(train_loader))\n",
        "data = data.to(device)\n",
        "targets = targets.to(device)\n",
        "\n",
        "for step in range(num_steps):\n",
        "    spk_out, mem_out = net(data)"
      ],
      "execution_count": 9,
      "outputs": []
    },
    {
      "cell_type": "markdown",
      "metadata": {
        "id": "C3PxtCobuH_e"
      },
      "source": [
        "Let's wrap that in a function and record the membrane potential and spike response over time:"
      ]
    },
    {
      "cell_type": "code",
      "metadata": {
        "id": "ykdnD3tRuHcs"
      },
      "source": [
        "def forward_pass(net, num_steps, data):\n",
        "  mem_rec = []\n",
        "  spk_rec = []\n",
        "  utils.reset(net)  # resets hidden states for all LIF neurons in net\n",
        "\n",
        "  for step in range(num_steps):\n",
        "      spk_out, mem_out = net(data)\n",
        "      spk_rec.append(spk_out)\n",
        "      mem_rec.append(mem_out)\n",
        "  \n",
        "  return torch.stack(spk_rec), torch.stack(mem_rec)"
      ],
      "execution_count": 10,
      "outputs": []
    },
    {
      "cell_type": "code",
      "metadata": {
        "id": "unJrx3pXcXii"
      },
      "source": [
        "spk_rec, mem_rec = forward_pass(net, num_steps, data)"
      ],
      "execution_count": 11,
      "outputs": []
    },
    {
      "cell_type": "markdown",
      "metadata": {
        "id": "zqJdfllYbc16"
      },
      "source": [
        "# 3. Training Loop"
      ]
    },
    {
      "cell_type": "markdown",
      "metadata": {
        "id": "x-kquOWLY1Jo"
      },
      "source": [
        "## 3.1 Loss Using snn.Functional"
      ]
    },
    {
      "cell_type": "markdown",
      "metadata": {
        "id": "MlA56BgOYq1D"
      },
      "source": [
        "In the previous tutorial, we used the Cross Entropy Loss between the membrane potential of the output neurons and the target to train our network. This time, we will sum up the total number of spikes from each neuron and use that in our measure of Cross Entropy instead.\n",
        "\n",
        "A variety of loss functions tailored specifically to rate and latency codes as applied to membrane potentials and spikes are included in the `snn.functional` module, which is analogous to `torch.nn.functional` in PyTorch. To find the cross entropy loss of the spike rate, the following function can be instantiated:"
      ]
    },
    {
      "cell_type": "code",
      "metadata": {
        "id": "UZ2BM6d6a11l"
      },
      "source": [
        "# already imported snntorch.functional as SF \n",
        "loss_fn = SF.ce_rate_loss()"
      ],
      "execution_count": 12,
      "outputs": []
    },
    {
      "cell_type": "markdown",
      "metadata": {
        "id": "q39HCIeOa4fC"
      },
      "source": [
        "We can then pass in the recordings of the spike as the first argument to `loss_fn`, and the target neuron index as the second argument, to generate a loss. [The documentation provides further information and exmaples.](https://snntorch.readthedocs.io/en/latest/snntorch.functional.html#snntorch.functional.ce_rate_loss)"
      ]
    },
    {
      "cell_type": "code",
      "metadata": {
        "colab": {
          "base_uri": "https://localhost:8080/"
        },
        "id": "xEVzMvujcjsE",
        "outputId": "409e33ca-8f69-4bb4-f9ab-76dee4c3ad1f"
      },
      "source": [
        "loss_val = loss_fn(spk_rec, targets)\n",
        "\n",
        "print(f\"The loss from an untrained network is {loss_val.item():.3f}\")"
      ],
      "execution_count": 13,
      "outputs": [
        {
          "output_type": "stream",
          "name": "stdout",
          "text": [
            "The loss from an untrained network is 2.303\n"
          ]
        }
      ]
    },
    {
      "cell_type": "markdown",
      "metadata": {
        "id": "HS_zeb5mbqjw"
      },
      "source": [
        "## 3.2 Accuracy Using snn.Functional\n",
        "The `SF.accuracy_rate()` function works similarly, in that the predicted output spikes and actual targets are supplied as arguments. `accuracy_rate` assumes a rate code is used to interpret the output, and check if the index of the neuron with the highest spike count matches the target index."
      ]
    },
    {
      "cell_type": "code",
      "metadata": {
        "colab": {
          "base_uri": "https://localhost:8080/"
        },
        "id": "yq7_rly0c9b4",
        "outputId": "b0e90c8e-386b-4271-85e8-0ebb67569a26"
      },
      "source": [
        "acc = SF.accuracy_rate(spk_rec, targets)\n",
        "\n",
        "print(f\"The accuracy of a single batch using an untrained network is {acc*100:.3f}%\")"
      ],
      "execution_count": 14,
      "outputs": [
        {
          "output_type": "stream",
          "name": "stdout",
          "text": [
            "The accuracy of a single batch using an untrained network is 7.031%\n"
          ]
        }
      ]
    },
    {
      "cell_type": "markdown",
      "metadata": {
        "id": "r4Z6bnqCdL50"
      },
      "source": [
        "As the above function only returns the accuracy of a single batch of data, let's write a function that returns the accuracy on the entire dataset:"
      ]
    },
    {
      "cell_type": "code",
      "metadata": {
        "id": "IqxDKFvrdXuF"
      },
      "source": [
        "def batch_accuracy(train_loader, net, num_steps):\n",
        "  with torch.no_grad():\n",
        "    total = 0\n",
        "    acc = 0\n",
        "    net.eval()\n",
        "    \n",
        "    train_loader = iter(train_loader)\n",
        "    for data, targets in train_loader:\n",
        "      data = data.to(device)\n",
        "      targets = targets.to(device)\n",
        "      spk_rec, _ = forward_pass(net, num_steps, data)\n",
        "\n",
        "      acc += SF.accuracy_rate(spk_rec, targets) * spk_rec.size(1)\n",
        "      total += spk_rec.size(1)\n",
        "\n",
        "  return acc/total"
      ],
      "execution_count": 15,
      "outputs": []
    },
    {
      "cell_type": "code",
      "metadata": {
        "colab": {
          "base_uri": "https://localhost:8080/"
        },
        "id": "_u43hKAvefWM",
        "outputId": "a25dff02-8dfc-4b51-c27b-9b0480d09e0b"
      },
      "source": [
        "test_acc = batch_accuracy(test_loader, net, num_steps)\n",
        "\n",
        "print(f\"The total accuracy on the test set is: {test_acc * 100:.2f}%\")"
      ],
      "execution_count": 16,
      "outputs": [
        {
          "output_type": "stream",
          "name": "stdout",
          "text": [
            "The total accuracy on the test set is: 8.26%\n"
          ]
        }
      ]
    },
    {
      "cell_type": "markdown",
      "metadata": {
        "id": "F1pzWXlsYoIu"
      },
      "source": [
        "## 3.3 Training Automation Using snn.backprop"
      ]
    },
    {
      "cell_type": "markdown",
      "metadata": {
        "id": "KAUDYl3gf0G-"
      },
      "source": [
        "Training SNNs can become arduous even with simple networks, so the `snn.backprop` module is here to ease some of this pain. \n",
        "\n",
        "The `backprop.BPTT` function automatically performs a single epoch of training, where you need only provide your training parameters, dataloader, and several other arguments. It will then return the average loss across iterations. The argument `time_var` indicates whether the input data is time-varying. As we are using the MNIST dataset, we explicitly specify `time_var=False`. \n",
        "\n",
        "The following code block may take a while to run. If you are not connected to GPU, then consider reducing `num_epochs`."
      ]
    },
    {
      "cell_type": "code",
      "metadata": {
        "id": "dnS4wYyh0bdb",
        "colab": {
          "base_uri": "https://localhost:8080/"
        },
        "outputId": "1b0c9dd9-4ce4-4411-f444-b458b67fb308"
      },
      "source": [
        "optimizer = torch.optim.Adam(net.parameters(), lr=1e-2, betas=(0.9, 0.999))\n",
        "num_epochs = 10\n",
        "test_acc_hist = []\n",
        "\n",
        "# training loop\n",
        "for epoch in range(num_epochs):\n",
        "\n",
        "    avg_loss = backprop.BPTT(net, train_loader, num_steps=num_steps,\n",
        "                          optimizer=optimizer, criterion=loss_fn, time_var=False, device=device)\n",
        "    \n",
        "    print(f\"Epoch {epoch}, Train Loss: {avg_loss.item():.2f}\")\n",
        "\n",
        "    # Test set accuracy\n",
        "    test_acc = batch_accuracy(train_loader, net, num_steps)\n",
        "    test_acc_hist.append(test_acc)\n",
        "\n",
        "    print(f\"Epoch {epoch}, Test Acc: {test_acc * 100:.2f}%\\n\")"
      ],
      "execution_count": 17,
      "outputs": [
        {
          "output_type": "stream",
          "name": "stdout",
          "text": [
            "Epoch 0, Train Loss: 1.78\n",
            "Epoch 0, Test Acc: 84.71%\n",
            "\n",
            "Epoch 1, Train Loss: 1.56\n",
            "Epoch 1, Test Acc: 95.35%\n",
            "\n",
            "Epoch 2, Train Loss: 1.51\n",
            "Epoch 2, Test Acc: 95.91%\n",
            "\n",
            "Epoch 3, Train Loss: 1.50\n",
            "Epoch 3, Test Acc: 97.47%\n",
            "\n",
            "Epoch 4, Train Loss: 1.49\n",
            "Epoch 4, Test Acc: 98.17%\n",
            "\n",
            "Epoch 5, Train Loss: 1.49\n",
            "Epoch 5, Test Acc: 98.05%\n",
            "\n",
            "Epoch 6, Train Loss: 1.48\n",
            "Epoch 6, Test Acc: 98.30%\n",
            "\n",
            "Epoch 7, Train Loss: 1.48\n",
            "Epoch 7, Test Acc: 98.10%\n",
            "\n",
            "Epoch 8, Train Loss: 1.48\n",
            "Epoch 8, Test Acc: 98.10%\n",
            "\n",
            "Epoch 9, Train Loss: 1.48\n",
            "Epoch 9, Test Acc: 98.51%\n",
            "\n"
          ]
        }
      ]
    },
    {
      "cell_type": "markdown",
      "metadata": {
        "id": "TjRPDFWxj2eS"
      },
      "source": [
        "Despite having selected some fairly generic values and architectures, the test set accuracy should be fairly competitive given the brief training run!"
      ]
    },
    {
      "cell_type": "markdown",
      "metadata": {
        "collapsed": false,
        "pycharm": {
          "name": "#%% md\n"
        },
        "id": "HxU7P7xFpko3"
      },
      "source": [
        "# 4. Results\n",
        "## 4.1 Plot Test Accuracy"
      ]
    },
    {
      "cell_type": "code",
      "metadata": {
        "pycharm": {
          "name": "#%%\n"
        },
        "id": "_Pk_EScnpkpj",
        "colab": {
          "base_uri": "https://localhost:8080/",
          "height": 295
        },
        "outputId": "d827171f-18b9-41eb-a5ad-713c77d4111d"
      },
      "source": [
        "# Plot Loss\n",
        "fig = plt.figure(facecolor=\"w\")\n",
        "plt.plot(test_acc_hist)\n",
        "plt.title(\"Test Set Accuracy\")\n",
        "plt.xlabel(\"Epoch\")\n",
        "plt.ylabel(\"Accuracy\")\n",
        "plt.show()"
      ],
      "execution_count": 18,
      "outputs": [
        {
          "output_type": "display_data",
          "data": {
            "text/plain": [
              "<Figure size 432x288 with 1 Axes>"
            ],
            "image/png": "[encoded data removed]"
          },
          "metadata": {}
        }
      ]
    },
    {
      "cell_type": "markdown",
      "metadata": {
        "id": "nYFamUJLkVY3"
      },
      "source": [
        "## 4.2 Spike Counter"
      ]
    },
    {
      "cell_type": "markdown",
      "metadata": {
        "id": "MDE3ms9ulo-t"
      },
      "source": [
        "Run a forward pass on a batch of data to obtain spike and membrane readings."
      ]
    },
    {
      "cell_type": "code",
      "metadata": {
        "id": "dqIjaw1kk4-6"
      },
      "source": [
        "spk_rec, mem_rec = forward_pass(net, num_steps, data)"
      ],
      "execution_count": 24,
      "outputs": []
    },
    {
      "cell_type": "markdown",
      "metadata": {
        "id": "n4QiJx2HlkMH"
      },
      "source": [
        "If you change `idx`, you can index into various samples from the simulated minibatch. Use `splt.spike_count` to explore the spiking behaviour of a few different samples!\n",
        "\n",
        "> Note: if you are running the notebook locally on your desktop, please uncomment the line below and modify the path to your ffmpeg.exe\n",
        "\n"
      ]
    },
    {
      "cell_type": "code",
      "metadata": {
        "colab": {
          "base_uri": "https://localhost:8080/",
          "height": 991
        },
        "id": "4HcwxfC6kfy0",
        "outputId": "6a238573-bc98-4611-9895-ae95056b4943"
      },
      "source": [
        "from IPython.display import HTML\n",
        "\n",
        "idx = 0\n",
        "\n",
        "fig, ax = plt.subplots(facecolor='w', figsize=(12, 7))\n",
        "labels=['0', '1', '2', '3', '4', '5', '6', '7', '8','9']\n",
        "print(f\"The target label is: {targets[idx]}\")\n",
        "\n",
        "# plt.rcParams['animation.ffmpeg_path'] = 'C:\\\\path\\\\to\\\\your\\\\ffmpeg.exe'\n",
        "\n",
        "#  Plot spike count histogram\n",
        "anim = splt.spike_count(spk_rec[:, idx].detach().cpu(), fig, ax, labels=labels, \n",
        "                        animate=True, interpolate=4)\n",
        "\n",
        "HTML(anim.to_html5_video())\n",
        "# anim.save(\"spike_bar.mp4\")"
      ],
      "execution_count": 23,
      "outputs": [
        {
          "output_type": "stream",
          "name": "stdout",
          "text": [
            "The target label is: 3\n"
          ]
        },
        {
          "output_type": "execute_result",
          "data": {
            "text/plain": [
              "<IPython.core.display.HTML object>"
            ],
            "text/html": [
              "<video width=\"864\" height=\"504\" controls autoplay loop>\n",
              "  <source type=\"video/mp4\" src=\"data:video/mp4;base64,AAAAIGZ0eXBNNFYgAAACAE00ViBpc29taXNvMmF2YzEAAAAIZnJlZQAAcKNtZGF0AAACrwYF//+r\n",
              "3EXpvebZSLeWLNgg2SPu73gyNjQgLSBjb3JlIDE2MyByMzA1OSBiNjg0ZWJlIC0gSC4yNjQvTVBF\n",
              "Ry00IEFWQyBjb2RlYyAtIENvcHlsZWZ0IDIwMDMtMjAyMSAtIGh0dHA6Ly93d3cudmlkZW9sYW4u\n",
              "b3JnL3gyNjQuaHRtbCAtIG9wdGlvbnM6IGNhYmFjPTEgcmVmPTMgZGVibG9jaz0xOjA6MCBhbmFs\n",
              "eXNlPTB4MzoweDExMyBtZT1oZXggc3VibWU9NyBwc3k9MSBwc3lfcmQ9MS4wMDowLjAwIG1peGVk\n",
              "X3JlZj0xIG1lX3JhbmdlPTE2IGNocm9tYV9tZT0xIHRyZWxsaXM9MSA4eDhkY3Q9MSBjcW09MCBk\n",
              "ZWFkem9uZT0yMSwxMSBmYXN0X3Bza2lwPTEgY2hyb21hX3FwX29mZnNldD0tMiB0aHJlYWRzPTE2\n",
              "IGxvb2thaGVhZF90aHJlYWRzPTIgc2xpY2VkX3RocmVhZHM9MCBucj0wIGRlY2ltYXRlPTEgaW50\n",
              "ZXJsYWNlZD0wIGJsdXJheV9jb21wYXQ9MCBjb25zdHJhaW5lZF9pbnRyYT0wIGJmcmFtZXM9MyBi\n",
              "X3B5cmFtaWQ9MiBiX2FkYXB0PTEgYl9iaWFzPTAgZGlyZWN0PTEgd2VpZ2h0Yj0xIG9wZW5fZ29w\n",
              "PTAgd2VpZ2h0cD0yIGtleWludD0yNTAga2V5aW50X21pbj0yNSBzY2VuZWN1dD00MCBpbnRyYV9y\n",
              "ZWZyZXNoPTAgcmNfbG9va2FoZWFkPTQwIHJjPWNyZiBtYnRyZWU9MSBjcmY9MjMuMCBxY29tcD0w\n",
              "LjYwIHFwbWluPTAgcXBtYXg9NjkgcXBzdGVwPTQgaXBfcmF0aW89MS40MCBhcT0xOjEuMDAAgAAA\n",
              "DGFliIQAM//+9uy+BTX9n9CXESzF2kpwPiqkgIB3NMAAAAMAAAMAAAMAAKEioHtoIKTI9AAAAwAB\n",
              "Pw0nAY8OvgdYwAUBXEeXuzVF7USESz9Jd3jfVsNIxearHNKf7T0JlfLkSuAvsmRDSY+P104wM1kK\n",
              "kGxFZxpOciCSoATQMqWH0qgvj0ex6uhNyZuTaQKXXFeDD8SaEJsbTUGlHYvwSjT1lr86wy5fJgMq\n",
              "YubfZhaHHKLrI4yUql4aWVaW6AwIkCfPkkd0PvhpmrjPq95LdmSlzHL8cW5v9rFiqn9HbV9OmmaG\n",
              "3jbC39xZgWPWReD0aoCWk4a+sySHW5PRFz8nEIz3T67cc+4z1coIDe5+5blQLdeHlcz0FkiVpUHo\n",
              "yJP39hs+WDnjWaFvwcrt/iwA3RLSZr3uXLGw7twA95NVFGt648KmwNEgxwD/Elg7gT4ti18f4tq6\n",
              "LePW4AsY5L2YW37uJ4+gOpYjpe2i2znAF+zLwIz+x9tNaXUxzNd5MHEJfxXn+2FVs92U1+iTd9Pm\n",
              "V4R6GtQOtWNv8fxHXfmg/gM3rjQsAq27/doej/2yXe+5pm/H29u7w4Js+r4jz4AQ6A2bbtnCytxX\n",
              "GLvkokPPDKEEbSDSy3KxAmCsnhpXpUAgzMpi+lmZq89NcyCJGHqe7BvOPDnTF4wp2D3MtMbFEvIt\n",
              "ymYw5xZ7xup9hEOH/tvzHYY13OOs0znObV98cJ+bR/ESgFY86UPxLHlcKNFRqrxVHTTmLkZ+9YOz\n",
              "LxWoCnH9a0pJbHs1TNGaRd6+diFDyT7RcMiAWyxar9PKoxirCDSG/RiypF14jVi6hJ12PbpahQJO\n",
              "FlSozagKBANDwEjQ2pqlghTXnWrqBw9OYnU2HBqt9k36XyT6k/4Oo4W7wrPkGQwLwT76s1UbcGyM\n",
              "w7REEr+vdFe/L60BbCF/qOTdgqZnFydVlLblxK4HpIas9HnpGgSBG0lnjjkfhX085FZk6JltwoGu\n",
              "kREvwQHXUzfwahJi1LtemFcBcCnjPRjxN1GG3jPCFr6ZFGEGd/QRVtbicS7zakY8dUOj8kVJzKmY\n",
              "lPkCK8egQVvrgk40OSTtd89ZRdQn4l3OtU+MIA3kOKiJjkqeZ4J5N4gt23kscqlcg4J25kCz34ny\n",
              "fvWBuzdtSGIiJOJFSj4sRAFHh+vzmnFtno7YBR4HX4mV/CEQu3pdj+VleLdej5yCn8v5q/zEVWBd\n",
              "nQ4hUD07cmdw7QPyMZC0ASNRY4PADKAaIdi9TndEzYek0pdEfYsdmltO+9XTAPaAmCGrZuZMQEg8\n",
              "IOwgsE5POEaD3U2hDS3hwKL8dLqHNNV4lGrCKtAMFC0XU6sO0maY3fQaGBPZ34Qm9rcd+M9V40LG\n",
              "PCFBJNYidZxr4hrhpMQRGOykYIt0u/hSEWmap3wsti/TjPKTwMB3NANNgGx7y3E2ZiG9y5bOn9Ld\n",
              "OVzPi2/8prejPh7vUXvZs837+u8dTcJ1qknErSG9ToUaRaMkieg1hIUzvOChsHNbBBFBFj5n6wC4\n",
              "qPbaTgAOAJpHcFpIpUxdgPCJ7qqDa0GnM3ZjExtCEi8/8ZSh7v7PMCj1/BaVTHUEcpMc5fNpqNmt\n",
              "HhoxvGM185rAXJY7HvjOEpqcJ1F0L5a99E2Orzyq+y0y7JBxAuZrkb2qJcbq5Tfa3Xfa269roYyo\n",
              "ASAvwNZjolrDu1dWYggKes9/WLhlV1/XblbvZIKXq7MJQgfgp8EoUguRzC4pb4lByP8QRA3dT/9W\n",
              "2pbc1731sOFmzTtKyWWEy58uqDz3lAbFitUTifmxAvbNFxA8sZezfEMS07Bk84I0CXY5vx7OOKxz\n",
              "LBRpRcDCHl2v2dUJrenLxnWfUVQUQYTCo/3gQ/NUhZl/WlL09rM+jMVIkNmTQa/29IaMYXTZnEyj\n",
              "/aCpDyO/6M5DwhahJJLZ3Ad3jeFthLb2OOx+Ue09kxneg8uZXTHvVKAJe6X3+wTwE+fng9dPDzP3\n",
              "jLsDR52a5WBLlibXksDlTxIWckq6oMPlpLy4A9m5HvQe3QIQ/DXyrdsjx5i8Qtkpux9WJV6LyKPW\n",
              "8rZ2AbclpdpUKkfXKXDD4c6nCRuPDxTNI5akD8kiUwWRmQBkJz8VOwC0HQSv7rexdMrOUXqeDIre\n",
              "0hiADIiUxmyZflCumfi435fe9LorZPeTOziXO+Lg7onEG294jD31NqHecWSoIm06rd6X4ib56GUL\n",
              "ObgKtCaeKcKP5vgDUozy92xvLF2m0K8Pp+fNQoba8u90WM7mkAKGsoOHjxFfGZ/2Gs8w1NQkVV/q\n",
              "DFJEdpSPzVEBY/HclUjxBFJ/sseCaB8TO9KF84tkZN+DoYSCmBF18HstmVpwW4eCLwbmivgWCexy\n",
              "m3d/uoyk/umbLhxDhB/3xFiNM1kzYBY1Geq7uxT0fg2RB9Q9nwSivPdylLtZDBAcDoL5z3Aplv0b\n",
              "MZUaiTmXlk052eo8I7dyrkjLp/ckA9TiJFwUiVNwCj8QPkWn2UdqK2cz2r7HVKAuPiCsGWUyPWqX\n",
              "rqmEcCRxLb9SptorA3wafH96XK4Bq4UtrElPjuPrjvde8lq3pr+oCPn4RT8ZPt3LzENvfk501KeH\n",
              "d7uoPWcCq547cJVeqeVPJtzdkxSbLO2vI55kYt1iPnxLLyHk+4zmru0sCLxTwDDEnrG2o4Ypn0I/\n",
              "AgnIVwJxVDlokr1ALw5L5BmTESj5HwhefcejYWUtR+AgHuOCt2JATXbnguiaN6antAYi9wSNyw6s\n",
              "FYbK8rv8H85lXySQD5/hiTN/wh3dccXNCXBnuFoVYgfUDJ68JlKLdtaPafzrpUUTovqIJVKlkx+o\n",
              "tNrHAABrpXM+HMgemX9QeNAj73pvz/OE6RlB94yYu5bzwfo6dVysIpmPswesOG6Nv6izXP8YGvOJ\n",
              "+STlFHpsALEb4TJa1sghvu2PL9aAVIuyzEffrTLwyQhKAIubI7Dk77c5nUd+PCOukQw2yxypIlM+\n",
              "KTgImTJWyBT7elhs9ndreBhfkAk/nEoyhFPhPdL2HmXCXu83kQQSkvbof46I3/d6tFxD+Ip0QUZw\n",
              "o/j5nFayilgYSg+jwSztYqs0DOg5tGB1nHC0XjxbwUXJ/ASHwz7nYiO6Y19Cl/S6gElsZxAyzb7f\n",
              "N6KpM7dvEfkrD3abBZ5UjIrKt/dtYRspHBZP4cmmZPH8mYshffIe6AWrmrcFnqrSfw7cIers8Q8i\n",
              "yEcH0XsDHHV94lOc0LhVRt2hM6jr2AIUQJQkDE+zSHE+x3AhA05KKnahXyDyOzWbqf4WQzkn8MKW\n",
              "hPlUmEW2ZKsyKTb7wcD3o+7TgIY9t/5/4jJbPLw27W6StCMPpOdcGmwBM+QkgMVe/lnvBtvjtl32\n",
              "uV2yhTPkJyYgJqi7axaZixo/LTXymvJieIqIHY3W+Dp+jo2j5f3T13Ocd+RfMuesfXvdnIPgHCI+\n",
              "DgsMq+wONw61/Ax1+j9Ju3sib0XO05i1B7yCyv8gc/w8QMaAYe6U9iXhI39DPTKGc0EWRVYjuJxz\n",
              "fqL4aSxNZIteOAQSFAhgfWhMddfcOnZbAtYh/gWA3Smy5YiJaRSRcAueV2lLRbbA77pbWZq3Z6jQ\n",
              "MMGfl+Y+qQtnxtWXKGGt+Gu22XSVP9v9Zqzj2FqAAE2ElFV8jGsIe3+a3an9GR5P/og2smS4YPlf\n",
              "ci7ZqNJBRD9jZbagYNaPeab0I0aPjn2Who8hA3Rwk0fmY3SVtX6KqLMgTMlWGpKM1pLBDPsC+10p\n",
              "Tzm2ztBX/hXZGdcljMxgXirICr55XSaf/B81KuxU5zBkFdwuuB/FWjfyzrU06y1Rl21vPucP0OZv\n",
              "71jrwvOvdDbRowb3w71Ed/6E+eANbeyZaP7ogd1D+AlPOw0TUqUdrp6UBLo4ICKmU/76OKMsg3HY\n",
              "u3YcBuxyg8sxDdHgwt7Ekaddf1Qmq8nA0noI8r1/gCDjAw7tIjbHJtKI2z37ntx16ijmpZ/zMqmD\n",
              "iFVd7xFtyelzZrM6WkabcdWwqdMpOy21FBK7IM2D343fr1WHL8JIbnW+k42iAceeSPvhRRiPNBA6\n",
              "jFRPh9Kqpfx+Mk/i2vdKckS0+PmPI/AIE+YbkMjgkg8kyj8+Qjb6SzDrG9urbh8OmkmnpDzANFSD\n",
              "uG1U2p9NoNYDfVrRPGvIy0Y41dTt1He12UXmi+xaHceVrIk668hOHqlMr+oy+Q0u87Mg1IEkxOqH\n",
              "71NP1L6DLrR/BqdojvZ4QXmTyd2CgKSxYgpoAAAtE/nkEI2BAAADVEGaJGxC//6MsABltafA0/QK\n",
              "jiqv/9/wIWEH4+9GHxCBiTqzKtsg+YQy5rK+kF0x/pPJBrFruvF3xcWPagftXjQZFE1CgSz7UWRk\n",
              "D/z7/eDIBq/x3494dxE3G7njirwWcxlKYaZPWSKuBxgsUe6VDr+fb9g46JoKLrybQiKe8FeUbtGu\n",
              "/kzrTVbOW/xoOPdp6FocpE+cX0c5tdVYPQr5D9Hpdi1Hywu1TTOv0SoDzlPa2DNwMhSORo5CQzfV\n",
              "r+EBGTtojK0uUXCVefcccjkZar0kLybjfsqVF6oezpqvLOCrsCSLEk+haA8uiG3ONXhY6AVgJpUw\n",
              "9m+v7UlM5+4lgfiJfxgn2+GiWRURIU3TsljPoq+p4IJHB5r17/g4bB09aWKx3GAlbREOLLXQAvBw\n",
              "1D5x7tMPzeweUU/1KI5+gPwdTsO8xAePFRz/tp/zhqo2RKHsmpbz7fm5wdTbxetJxTcer0MAxiNX\n",
              "a+ETPKc/+u+721ljbbGFQtkGT+3765w1yD7XHNaToh6SDsRW/3ipmZ/fsbqvlgiWI4k/oJiWQhlu\n",
              "2a97edQ/fjbWaaMxS/IiHEM1JEjNn09HCiLUgnSRa8VFojU5C/CSCZeh+89ygEPhkrx1DqpheMhj\n",
              "juPqSirYOg6JQr5v/CXGPTwXTqvVFbEJHIMRoaGPBZJkSgJeRiD51IKCJzJHpnS2owvCtiLM3wEK\n",
              "V4bycNUyJhDqKNQB25R1Qfmb2zlxhvoan8yLBeqTAKAGNT+eNXs+MuK0zxczKpTRuVGDjCOMY/5T\n",
              "f9if32la2nf/RGATZ++Y0jqwQNQWkuHUqr4RN18WBPKVD55Api022WXsw6vR+1Rrg1wwKNXKX6Wa\n",
              "CKphTHbHdafLLP9zGlJ9wJeLqHSO5zql6OFKlG8N5wjJcVPdY6EJR7EYst2ev0moRKCHOlC2lTyx\n",
              "3S+ZwjOdT+I7bwtx7RuwvWmTMKU5LbGNnyzq5U5WWxeGojA+ZjftV79PRkSp4aRtq75swSXd2KbW\n",
              "QYFsEJ0kTJDRrIvUOyvuBr7/pn7YPKPDI/wnMg7IPWZYHeZZs4BaTvSpgX3ltiCpsvhX41PoXva1\n",
              "U21J62L/+frMYan4FZ3u0WpfWlsmjBaNyqg3UZBzfU5OxMfL4AAAAOVBnkJ4hP8AGwHh8AVvZvV6\n",
              "vuiAjx/dI45K1S7g4eqvzZPSexl+4/bBI2K3ZPhDkmgyTir/Ud4rWt6LhHgyvfRVbhhh0U9dt3pP\n",
              "c82Z1gWWPAoFAF+8Hu2YkyGQJ1c6ce2EkUFItl3InVwdoSdW89pSHZpDM0qwUThE2ZpjdTS2kMoS\n",
              "b3UmwOz+fo1Cx9XMUK3TO5Jh+AmIXXr9+gni+UY+0BTxj8MSGFeS9WiaIp91eEGgqsLa/vyg5SuA\n",
              "tAZU/uLse7x49o44Fmph3DmFA2UsE53EwUSvLmSinupYQfdGH+5A8AqZAAABwwGeYXRCPwAftv69\n",
              "ZoAN1rGuwtqCLEU8ivsuQ1CqhwWbNuTRhHWGAjtjhIkoaPjAShHqgEuu7ykGw9gBASM0Yta3UNby\n",
              "O0NzFosxu5YV5sIyRpO/1T+l9Whdca+sPMy1EE9BfaF5kfWc1ZSnIsq65fiDnq+7dCOxGIck2gi3\n",
              "fSrp5mgb6vgULhLde+FUfE6w9h9PAqkJsJu66D67bWEEYbqeo8Z/6ElsjZ6SqAvelr/c32J3ZRNe\n",
              "Ld2QISoRf077Xr9IJ2crX64beYm8Hs6EqiP1w5juLdLnIBjyL7DCvT8Xj7lRP3zt+V+Vf18NCXhv\n",
              "4vSc1XV44Ec515Q9v98UHXmH81k50ukLuoK+5tq73G15AMJ3OwcXPcsT8INMgtRPaEVz5IvrChHT\n",
              "R94aDmVAvqZx9DTidmIJKRKvtgxSWVqGjzRJV9UgQkQVG8M67a+ubrQpasrh17pBGQHei7dB4ayy\n",
              "oq3MjlxHhLw5YTpyofZly+D4twLz5dqqfaTM2lgsPVY98bYSNN9fWIBl/PsFmILn0l+JHyDAaJJp\n",
              "yU+pz9VSHAnVV+z/Hybayi4lpwAAriPHcncbYzN1RJzcAZkD+9+pFIwAAADdAZ5jakI/AB/Icdaj\n",
              "T8f+4gBbdveiMQCc2Nwvhas1Cmjx8+50FtTrCLu28QUSnfmcOedoYjzmTf0iODSKsCp7a9q1vQ3X\n",
              "aLJMGWfF6U5SGES1odANfgGc9QkM41uX8cn806CpEXmg0no2sBrcMr+sSrLoRQ4wntlf0eWUeCq0\n",
              "jFFqvPVLgFlymjGEi3voHPZ/YfQeme6V6UJwzG7Bcy1E6dKAggvNgSX6/8v8hEQscrpzImq7+zk7\n",
              "/5QV4sMCo9zL3pyiCTGErXYh36fxURxVN8ydsUkE70hxzjhp/SEAAADpQZplSahBaJlMCF///oyw\n",
              "AGUqvDduaFZSAWPmoYMdzEubqgZGwhTmWJLrUWUWX0oPhmNuWiv41OTz985ZoqWv10Lkxsn+Bgb6\n",
              "NDisGIXndgOAQaoE+us/PkNMixAFZv3yKq19CsneFKYkvJYo3p94t9/9FFEPBy39JfeZGSvKpEAI\n",
              "wlVmRpuVtuKqE/q0W5v2W8p4sBC5r3w6gUCaB+sTY/1w/KeTaFJMxhfNUf4tAM1t05dj4rLOqVEi\n",
              "I8SsiYLkwzBMdkyQJ0OAH1k6fmRN5lVq7zrybCFpLfGgeMHWvqigVEVxgcnur0EAAAFmQZqHSeEK\n",
              "UmUwURLDP/6eEABifZPTvu1gGLp/+8KOUU7THdIRHE50rOBE2dTA0bUA8ttnEUxWCcXglAVfOPDk\n",
              "RXG5Q+VS2V+6I5C2j50ixkGdYHslni+HTw/rfZ3Vd96heF1WTrZPr1VPwazSNJYriaV8wRTyMJhF\n",
              "IfJFFNAPSwPbahLtG9GGSV9VKb2lpfpA4MU2/0EYtUR5Ije54xZFbM3Ozn1VsFZ+whDRNzUNT/Vj\n",
              "iaqMcQgWJ+vGWtxRUMnSlM6JVySW5tfJUUj2caoGYuIMu6iUQk+9x0/bSkGf+ssNKQ6Lj9AGQ0OV\n",
              "Li24jOtl0dBYjaE2oh/rAL/Q9gqU5Tw1+a1Vx4VivqLx5VGOgpJAz1gfOvnvU+v/mN8iFoPWTCmA\n",
              "PqVarr+2fQXQbfCugd8aGi0GKnpiyVPPse0fRJmnvG8w2oxW2UqptuvuIZqfSDYcg7W2Dromtg2F\n",
              "ZhCo/UCNa5AV8QAAAIoBnqZqQj8AHww+vdrhABAn1wGrfbaky/QNAjomsdQ+zQI8wsX2hy1XpqJO\n",
              "Lrm5Y8KWOfmZhRRZFUC3Qj4POk/pn5oFyb0h+NlYwnJgPzOeNzl6mmAA2ZBpJ2plLDJEvmoHl/d1\n",
              "fMw6sv45NRjA5PdY1r0jHVp3nxpAEHXwjL8NLi0stVOc/Vi+F3EAAAEGQZqpSeEOiZTBRMM//p4Q\n",
              "AF9Xob4gBJEvr7L9g0ruiCPJmXDvnFS9+HxV4Hd8cBnz7ywu9zcPS+8CRW3nmOnmXjfA0Jy/yupY\n",
              "uLkAnjkkjce+Bs5DUvFCvwiTqQb8gqG7aHUa6rMpM0jLB4aY3/69H8ECbac2/2gqkiPeFL1X/D3k\n",
              "O1t64/BZ5WrbqzwvWvwYtXDC41K/SCP938IvAFmsDjeG+rzyVlOA29YcfYy6H/S815fItJTlipv0\n",
              "fEtLb1bY8SejKWnwL3rd5rAseFCK9X55cprx8McPfjpIFwDafkw3usZta2HUoAZnswvUGrsbEGWx\n",
              "xiwE77j8iqrgsnf+Y7lhmC4u4AAAAGgBnshqQj8AHmb6uCwU2nwAlv4a6LzvhiJ4k3fqes+ONsT6\n",
              "svdofLexW8tIyYh/ZatG+BCTA/IR5FEJaniPD1hEST0f6jT7Qx9uj/F2Oq74Ufp9222Jl6vN1pZJ\n",
              "CI/enTd15vIoo3BdwAAAAK5Bms1J4Q8mUwIX//6MsABguEygQw2QYALZvgOgt/zC2bv0dx/9EROS\n",
              "ZRulVeTDU5FDSOPbpNereDTuF1DCBBYwThTRD70l8XWMnjle/IgAsKHQBmOYfvmXRaWjrCq8nLja\n",
              "D4zBToTf+prfU9DiIOX6W4m+QDA/Wc2klwrv85Dx5pBR6ZbEy5Pdb62VgEiMSrjr0TF8lZ/aYXQ/\n",
              "0aRbp07NpgyC0gNiu0IT+TZbDbkAAAByQZ7rRRE8J/8AGcEvJSyAAiT2adE65jqNdLOFK9hgVTJl\n",
              "tuyoWqzeLr+CNd4sHeFl5Fouyo3yCmCn3KZ4kXs6xgw4X/WkIxlq3TkYnI7C+oPZoGk9u7IDZO92\n",
              "ne0fVqdOynD2fmO7IbuHroiGv4U1lBOAAAAAbgGfCnRCPwAeWsdjGEDdgF7hXc4i4khGOUnGbzSe\n",
              "W0exiRHJbQDBTLt56Y6ntN53K7kgwqvCuMvDlrnRtkRKJMAJlyZa0dDpmlW5tJexTTDUU63C+5Ak\n",
              "wC0bV/FB+LrfxHKIQ6tw+F+ronmT7riAAAAAYAGfDGpCPwAdrHbaYDpoISH7zPJ6qUUYCYN1JzzZ\n",
              "z4LvF40GifBsNyKtSPe3oUSb02+dM30AJXTKxuAUZ7m03jPkjg39DYgi63wqoqn2FoFeaTgzqys4\n",
              "PaVdPqf9qfgGfQAAAF5Bmw9JqEFomUwU8L/+jLAAXao1V5LAG5JNzec6ilhn29pnqDua+paa7qUf\n",
              "kb4orUl4AGIuzUxeARzPY/6ND0mRUFt2dQzfJUsYxu0PMsKsLeX226mGhaGah2bJ9CbhAAAAbAGf\n",
              "LmpCPwAdrD+QABATyzN62rCHgDFwE2EqiOocKbfIq6RvyT3cmHe8TNjzrxNkr/BuZllcXa7NVk5v\n",
              "RuJtQhEVAiqdhhDz1hxGbVuWE4zIsUvToAdKz7QU9m7baDCJOgXen+8o1jn/az0LAwAAAIZBmzBJ\n",
              "4QpSZTAhf/6MsABeOZceaO3uvw4Vf6hXEcG5hPwipKbsgru/sXM1rtCTkY6wcCaSw2BrOXvGyo3R\n",
              "HJN7BJnFsJj82n1N+HRl8haEhizw/k1My3rHqaNcw5owcYxwtqbgHoe5fzOlqC/rQfGYy36D6PaT\n",
              "sRQ1rr4kCYMXV24+c+WhwQAAAFZBm1FJ4Q6JlMCGf/6eEABaqxT4gBnrqyqcdphBRHuy7KnepBTK\n",
              "IlwD9KO0zSnTbDqtCbOUbEJSvQ37FXzB2HJ1dKwiaV6Z3L3Hc3xbAgpMiYxflqcqXgAAADpBm3NJ\n",
              "4Q8mUwURPDP//p4QAFq70Ozl7V/ZL8Yos6PSqf9/4baB4/+5E/IPV34rXeAfL2xuTlSJL9bBAAAA\n",
              "UQGfkmpCPwAc/HbfQ1O3+7Zg9hKbH/jkdLA2c4kowVSPIXHuS79VHitpu7hZ8QAml9M5Bom0jtqU\n",
              "epZeDlv5lm8ysNzihWYylGSz6zO+db2cEAAAAGBBm5dJ4Q8mUwIZ//6eEABbPd7o8EWx346GnsFm\n",
              "6KeqOdO3ro1awhx6rQs8WERxT2mbluBmCybhRRM6el7AAO141eH84UmeuxhHfHQA+KfRtM8Aswgy\n",
              "/LJajsf6YswScdUAAABxQZ+1RRE8J/8AGIE4QKvVIVE3t1tQwlAw3es899zRLTdu45YxYdBZko6P\n",
              "8x7yD9nkExK0GP0gaZ1DJPpAB5zRRNXex20THCqEmFB3F6LIYF0RAKFUBfiMmQv2y6jsijEgCmjl\n",
              "hlixalIytQTlG8X7B2kAAACPAZ/UdEI/AB0ITwjADPnqeEDp2Ojok+IyXs+AHBwbIa+BoCgbkh6q\n",
              "6zIa7HknW+8SEeAkQZ/JjK5PVSVefIBrKpLPGlv+w34bkzzxRMWo4he/Le/wmzT8fReHRHc8TTxr\n",
              "4+rPh64GR+ZJvIS2CrV4XDZ+Jt89ze3Y6eA49dpLAxoLOv1uuz5ioJBWKlqvhNwAAABOAZ/WakI/\n",
              "ABxW+rV7LKBQxITTPSiQIMp0CAYkEzfBRVPyW1+p2eelghXtwYWqPAB5ICGtkCcglkbpqh2Qhdvc\n",
              "ZzaOdG3EQeFKwQpFANxhAAAAa0Gb20moQWiZTAhn//6eEABY/d6e9LACWpgHuw+omERxOjJDTIZa\n",
              "59/fy26GnI2UTM2uet6n+P/DUAHb0kQMmDTPYfTI+KSqBQpSMNmtf1vj9KaoL5cgRj3eCwkIQBgV\n",
              "+Evs1u/4QqTbGo8JAAAASkGf+UURLCf/ABffOC1ONgAKmes/Kgzc3l86Duey9hIFM33jD8dAIzlR\n",
              "wPH4cGMRCbAwJTfyrsP6+I76I0ChbEVxN7jxFje9MZm9AAAAlQGeGHRCPwAcSsdjE7uwBazcwCC3\n",
              "DdRrStQSp64yFuZQR8wPfm6CY5g5Cll9FXiNALxZUUFnAAm7cEfQn8jwrb4wFu5XXtl57VnUGTYx\n",
              "j9N02mwurzlKHbyqGjCdmV/Qq8kFv41Ey4d9XlF7MnqKIzzMR2v56lxknzNsXzS1LazrFNOlwM62\n",
              "KxLoVri1wYYL+1WdXRLrAAAAVgGeGmpCPwAcT+Lj8AAgT7FF1m+C7FQphvd86NYg0NTb/7XiP5k6\n",
              "tMtz6SneQFWan5aPdpnIb2zDJmLbzlClD+vuGHAVR2F7NkLptCuUW+lH4tNVRL7AAAAAkkGaHkmo\n",
              "QWyZTAhf//6MsABXA3C4AIyFvOhzOl8EcQsKydI/wNIgX4LCCqT38gWgLgTEEJtQOyBWzOygcrqS\n",
              "UE9UHFurrMlbtlLaxXFYu4HIU6DOphQi2cqg9pdjAIce6Rfc6CbHxq1M7yBvv0wDDLpmAkdI/LRn\n",
              "YEOveBBSoIbjJ3XZMgBc6zQhxrmN8NMH/bLBAAAAeEGePEUVLCf/ABdKlWsnWZ3heqwSV4WKoVpV\n",
              "7a2t2buf2ctgPAQnS13ngAE7GuCBJzbOTkmBMzFvXjmRKUtzlmoH2+UIkPCh/LdhPJrksDgeqm2q\n",
              "X1lyOBkkGF387sTmT8Vie97ebt3T7X9nbS3h6UX0HiPjuABqQQAAAIkBnl1qQj8AG589v+Q1N5AC\n",
              "teeaZKCt3PlrRcYjOj5g05UK+a0muq4T/4XFeXXb9ipKh7NGGbvCKVa37uvjZPH2OojF3Af86VRx\n",
              "2XvNPj1/I0Wo6yfR8rDOOYHN+uswp/ZJny5u2RQjfEqiFx+danXdiBGtl5n5aBIgeikX1YMyY2L8\n",
              "qkTAFlM9OAAAAFpBml9JqEFsmUwIZ//+nhAAVrmXPsIUKb+5iyrEQZwunAt9LW2Ikw1jrlOglqIu\n",
              "xp4ogquhlhgTfKVpWL0ofPsD0BkxHjyZI0FvmYsHvWQgBWkuRukc+YfGPA4AAAB1QZpjSeEKUmUw\n",
              "IX/+jLAAVTmXH2aqADi7APWGBNubdvoE9dvzQOeVhgA7zVC7s7YzE1MY85bsEkffNB/+QbeUQFXg\n",
              "M8gJXIqTS0o12s50+b7yX8jxdec9Rek/bNCTIepwwf2mUfeLzby5jT7er9gJNgbi25spAAAAfUGe\n",
              "gUU0TCf/ABa6nZrJ1nNeFzCvaRl1eBVsf4udSjZ4xUuVx6r6tFw6R3gEqRuW2hClPvMEh12FQnrW\n",
              "mvACZ2r+zFMTbn0m/VNj0gvc+KUfhYrRwjUc+URvGL9CqaDboc+iEyRL9lRB2dg83F/jtsR1QNfn\n",
              "c8mHkb2I69CwAAAAYwGeoHRCPwAbCVMqwA0Sy4wIV5QdcO276+Hg4BYZw2fYUYCtj4oZwqtMH1AX\n",
              "+poFiPLYC4rvtgTbwU21qjV6PByMWLVRL9X7gCCWfgTRjcz5hCH0gZ913Ct+5V167M+Am0MgTwAA\n",
              "AGkBnqJqQj8AGwh2lY5TQHal0DLhPDW206K6k3WEauGzRZwRIBbVufEEskWpJjsI/gzQiRPAA9lS\n",
              "YhNil2YlfloG5Wok6ZGI+FUtrlu6+lmWsLr+iFYkpSkGyW1FVmWt4AszhTFH7U/FL4AAAAB0QZqm\n",
              "SahBaJlMCF///oywAFJqYr7YAW3pLpDBsktiALn+0czreo8cQAIrtjs6/mONTDPfdScMIn60mK3g\n",
              "PTRntVuBpcZPKjEJInfXi1tu0CRZTsxdHricH0kB+rX7Ym04djK+pNM9NND67zvbiBnJplLyj5EA\n",
              "AAB5QZ7ERREsJ/8AFiqVcpFqObOsoEaW2660oZlMUqLQn46NV4/j1JzwsqYX6nN3n1CRgFt4AQh8\n",
              "n5fN/LoYv5C/4jgRHPXimA5k1+qowmSaIlH506BOObkYtySnPTfPJqA6mfP0mJouBbWF3K/vS5FC\n",
              "0xjW2rZCdNAakQAAAGMBnuVqQj8AGmhllWAGfPXX457XaRyDDMYc6YC4KRZq+XbQIXQB42PK+IrB\n",
              "hgNI+eRhXiqgqO3wV9ZiVpzOxpcGA+IQBFlAUHYDAvsobFWWQINmmNK1LK0fKRCFHeayOEtaF90A\n",
              "AACcQZroSahBbJlMFEwr//44QAE/5Pqu1kbABz8mMlfvCpN2p10ydQPtYNtrOs0o+11ChXdfHSUs\n",
              "H22NJUtKC4WPIC+TEWxY4G1ll0No057oItb44qa+JFP6jAvU3ivRUnBxsrfLLFscOjW3WUtWbjv5\n",
              "sY+rMQpl4yj+k4TSjyUJCH3XPFJ6oVC+vTxw1udHCYLRM+e53MyTvd19vqNJAAAAkwGfB2pCPwAa\n",
              "Xz56QA+zxzCBxdSKiELVT5+DeL0l4XJb79+S24dZ6id5tObDo0OkA0Q746gU+02liDTTJW2YWc7m\n",
              "B6gcMpviOhJrr+kVQFqB2Er67fT+kj78O69LNM/c6OpX5Mx5tyZylsWigTSSTAHzD3ljXsvbc2Bm\n",
              "5LiBlzbmqf5lSSzhexWzP3++vAlkuNQ/OAAAAG5BmwlJ4QpSZTAhf/6MsABQU14K2wBWk12Ke7to\n",
              "KY3a/KQw7z39hYBPU7a8YepNA50pOSYgPe5U6zSp+TDYhu0bj5Ugd8kNiKFc6rz62F4q9uYXcHmQ\n",
              "ZmPQRtM8zkPUw6nh93KS7y2PGdnb3QlstgAAAG1BmypJ4Q6JlMCF//6MsABQKf/WcAOfpKiFiH0W\n",
              "qx7BHee/sLAJ6nbXjD1JoHOlJyTEB73KnW4g//Y24lbea2OaOlm1ZXZTi4ZEPXc7w3hS/nILsV5C\n",
              "O6B1WbHrTSCfvlx4rsJYb4pN7MdWzu+tAAAAc0GbS0nhDyZTAhf//oywAFL5lyNU3vgCKTWE07iE\n",
              "PuEE/KX73h8VHHu95bye6HO6/ki3E5g8T+SNeFqUw+ZOMxFQIJyg4m7jiR6M4c+4tzXTaUcMDY7+\n",
              "BVob8BlzlHNteKI8DPy1Kq63IXro/GoDzYRBwMAAAACbQZtsSeEPJlMCF//+jLAAUvmXJEwHc5LR\n",
              "1YC1XfvVKUE0u1KYateqbh19t9r8hMEemjfr/rXRZbJo9kgLR/yd7MukAM7wQhRn44EHfxP/YTyF\n",
              "r4Rs/jfIgzv80vI+bPWK7Ciq5DFiZ8ERU8q4SOit22Ojj1LoFIPXSbXrzG2bixlYz7trME6eMThR\n",
              "8aemnMoSowO3TpOJqiMwTdwAAACkQZuNSeEPJlMCGf/+nhAAT5kevcE1qisWq84VHz1a5jR6ff4S\n",
              "dlCiwYOYjhMt4Jf1EPn8wYTeVMGPk4SBejjey65Rsu/dvFj64B6LnfMIcXODAXJcyiKX9pp/9ybX\n",
              "5Iq+U+w3hP1Q9HKLSRs51rOlLlNRrXBWJZxVcTJOu+Fd6clGA+fuHzA+1pq9oOAtBRK2ipRD0yXi\n",
              "Y9dpIuiqBaLlXPKjKZUAAABpQZuwSeEPJlMCGf/+nhAATVU2HABEG/ONCK71lMLd5xM3M2j0esYV\n",
              "OZdKEjXm+u/feD4w10WvA368/ntJe7RojDtXhVtSBZSky7ocqvAxnct/yEfaf/EHYf786xhoQbYF\n",
              "R+X8CQLa/OsrAAAAa0GfzkURPCf/ABUKh3O3xAWsVugAuHnQflJOz1jGRBA8eA67HhPpJdWKRao+\n",
              "SKw5IH3GphfHypswOLUgnQX/+6Ib2RZWoRmSLQyqly0vfU0496Z7fUnxUHtA9jnv216m8U/ffCaf\n",
              "kHYoCKfzAAAAXQGf72pCPwAZKGWVYAVMxcWZ2WJuI2BDhL9fVlpXMfEFlT5Fs3hZCZDk4a0NvAom\n",
              "mxGt12VxpTPfBDSdCg0nn+xNzk7IVsZpFpMijd0jW4bvTFqcCcozGs660AtkkAAAAIJBm/RJqEFo\n",
              "mUwIZ//+nhAAT3GL0EH1MAeyczXG/3+Gbz1lMLd6L1mcOjs09+IqTg2uUC5f29mduTghVN0+0M16\n",
              "U54j0nqo6KYj0g1GjDpTT6oZeKCHjtdiQGtEHNa6a5Zj8P07SM2hnruG0mWWhhzwc0m3Du15WWLb\n",
              "pSYhwklAQr1gAAAAfUGeEkURLCf/ABTJmmIUMcATu2civ9EDUxQAt3u7C5NMVTA9TOD4ZHigFWu5\n",
              "7ie7ahlpAxNig8uJ25HGs5SNH6HP4RTxFiCV96pAEnqT2gzjsxNVV49oqre9qUGHrslfyp6dn7st\n",
              "OrQxRFcjBvyuw7kmVunSPGPFsut0wImBAAAAegGeMXRCPwAY0uOzfikQA/H1v/tTJoluiKQsrZKe\n",
              "xSErs7h+Rf1gxl74d5QFDWqvHlwxCDi1CIuULTXdy/95geD47nu85naI4Zy/MFbNGWU0599smS6p\n",
              "Zapa7mBupu7VR55GMoNoZdEAcVz62NRurfIeixc74Xiw6DFgAAAAVAGeM2pCPwAYiHaiYuS5j3x3\n",
              "J0Z96lR6AxxTCwc9ofgJraCvUqknhB6rQgYdyx/whOggALlhYWKP3OGjWUkNDhMJEP9IN0Ue4Usa\n",
              "ETWhmtP7dB25wAAAAH9BmjhJqEFsmUwIZ//+nhAAS7572h9Y7pgEAD+blfBBFrOiesexwCgRnWI4\n",
              "u7J44H5a8Y9ok6IT+XSV0Z7i0Xed0xxC32C7YkrsZMGoZfQOdJxNyZSWTFGMIFdIRFjOOJoXifH3\n",
              "BR6puyl2mL4MoQoXegxil7aw2BK9MWS82o2VAAAAbEGeVkUVLCf/ABR2CXgq53FD3gRRdO9K6Gh8\n",
              "0D+cvgSLoaGw5ka4qMjAWIo1IFhHSbHDg0eGx2h1wJ+AC0EutieRG6iV3tNAUcOKX1TpgycXxnsu\n",
              "GR6TxUCuuBObgiaYdMRhUdRm2MJiPNwZUAAAAGABnnV0Qj8AGH3LYxChVIVav/s/OFZcpCD/3ooV\n",
              "Srf7zZ37di5O3Dri+4Q5Co5QqVMXdpbO7OAD4oCexQFcz8HfYr/8KpbJGPrBr6TJwt5Xp0HvPCN0\n",
              "aR3LQ94QXppdTHkAAABbAZ53akI/ABfoZZVgBU72wLoIYVyBdsqLjAxpxyFW8M/c+rJVIoE32jKp\n",
              "RXWh3inSqWhuGOHS53EyV8PzQbL0sfpDC6zBSuGaMrRdhlJWchjI17sGW/u+mXLoyQAAAHNBmnxJ\n",
              "qEFsmUwIZ//+nhAASb57Ffh4AW8MHbgBfiycToygShkHZ3I9lG1Cnx+8ul3hHp1dAa8cYMeQsohp\n",
              "U9eoktHn9qBWw6NtjtGi3M15GQW+ttEaT6TugzQUlHEx5C5RyL74nWQ/XmvlHdCKc0o4IG2gAAAA\n",
              "f0GemkUVLCf/ABOftuf5AEOdGyaP8SeF/lB08qCsCMQIPzlozwJzcHtiAsdjYrpueUfewTJpIiKc\n",
              "gPKhiL7ZeiTboyCeH2UYU4xJ5tVrEjiKpn2UGx1HzGOatHgeYuzsOs/97v2Vj+m/sQredWWPYVnP\n",
              "vstFTC6RoLhRg4tbZU0AAABtAZ65dEI/ABfdr8gABoiWPN63Jgb5dd1HzJQ0hHLV7X452pw9O7hv\n",
              "FaF38jH7K2Wyv5FSbreNNLhpDyH7ao6WgVVnTXKeEUgZ4dJyJwbaPPRXGQISW/fRspNlz8SuATpY\n",
              "830eoRxm9SIHGSpRsAAAAF8BnrtqQj8AF+J27Xe8XIIMiUAK0iOHbpeDl/P0pSjAce3eQSXinpNk\n",
              "+25kMnLf1LXJ38rXEJek/7IQ112PZ0X09GKyfIKdeKHK32xw/TA0Kk5shXmUa4wnpUL+HOszQQAA\n",
              "AIZBmqBJqEFsmUwIZ//+nhAAR6ktSBbAAJ1WHV6rCRXTFIFAiJmhekX3YtHL1VkPRs7JF2oOQ6Kf\n",
              "9wfeh2sGPnq6fyiZKIHNzmqIPGRNDWZzIVkt4T/h2CL6YoEiUBi8wN0QW8dojaCd5UtK7tsG6You\n",
              "4kGPsya6Bj5eeah6vLsk+PvVZ6p5BQAAAE9Bnt5FFSwn/wATVqAzTA+zMjzl/ADU8S6ZfXcAWhdW\n",
              "3lrros745L+UYJVd6g/wFOCg2LAB/EYoDcgJarG6ypaO8jdC6mUjryHZMZCusHKgAAAAXAGe/XRC\n",
              "PwAXTBMqwAqT5Mg+5f+tMpWK8skq7BlMn6HE1wTJQGs5C1xbblNfyqFft5kJ4V4FTrK8A1+5XWQx\n",
              "KHimJZvqLt08EUzbGBersus3+vvEzWolGJvHkrEbAAAAkwGe/2pCPwAXUD8+n1mY9xTb40ADTyn2\n",
              "X1Ou0Tc+TnweBlcM7jJsoX34kAz33KyImMdT1TkwoXADCVVlyMC1ixOkBhqMEMRuxvUl0jKnjwZP\n",
              "HOhTz5eoMjL2Ex+wAfioh6pc+r9ihJ3YnKfgmwFr72hjiZQNwurxTeZJpoJ1U1nnaxuWkl5Fas/g\n",
              "cyYQxywZcpCDNQAAAHFBmuNJqEFsmUwIZ//+nhAARbjz6w+INAAnVYdYwVk7/o2QlMJR2X2SIbM1\n",
              "66RQ8aQsXlGDjN5nSoHomAD2KGkNxgDolrb8dQlimdn9/MC2+dS0KJxKJno5stK7eLL0f62qBEDp\n",
              "69PCz7rNzGTl7RZj4AAAAFdBnwFFFSwn/wAS3NV0B2P85LGhKj6VfOQaqGhu8tWBmEvZN1Ivyk0w\n",
              "vGfS/3zqP7zR7AAmdP5MZ1H2mH9j7m7RVW5qDfWse8OlUDvFw9ctTJwtMmxr41kAAABXAZ8iakI/\n",
              "ABa7JWApjwAgBZ5VE78/7o8PQYUsQ0F67pQPDcCUjA8kuZZymP3+oWp5cGNvBLck4GkYzwmVgVio\n",
              "jTHuXiaIA2CnB6ElBGOJZNenkxyx1KqwAAAAbkGbJ0moQWyZTAhn//6eEABFvnsUySAFz7zqD3EW\n",
              "yWXUiZPnBjV3/HagXPPYhbPN972GFoZ25N1A+kvOm4EpzJFy7mWcEkxmNi9yKeK0uIwxSW9KI3O0\n",
              "XRyFCQn7ZbenSvDIMep8DcAcOKUh5/85AAAAhkGfRUUVLCf/ABLYiSUdgAQKCNm2mdKqgcpK43+n\n",
              "MrPqZuMdKJX2t0taxkcot0rldMa1nh+MqVjPh71PimuastfnIBfOqKGml6UTf3ZLkvsEc9yZIa4b\n",
              "f/tPKF55FBYw2SPYAABVF9HAAKTKlAAX9VIAJsIZAYHEMFqtaL/lfaLRWWm6/kfBAAAAkAGfZHRC\n",
              "PwAWsG8TFxQA+QMVrx0McHb1ZmFj/aVFiyNRBStfyrQ0d6A1GBuBeWDrBap2XdDNQKckMuNdlB+p\n",
              "0auJgVwt+2zK+c/8qLjEiu03ijrhTu/RmGrgLcNRpNblq8a/yd3fG9HV12wf3NjsXP5SnDGLwdOR\n",
              "z7+60Os96jELCu1rgM/XgsrQ0M5BiykJKQAAAFsBn2ZqQj8AFiIvRjuNHPRQ3wj6lRDfbFXFqOOy\n",
              "93nWfszB9tQwU+0QaaNUtzukUiwAr4ccOISAVUVRWnmUXqztbO+Y5zTsLr4Iqs0E06SJiNgxbNMe\n",
              "/H2SQGdRAAAAg0Gba0moQWyZTAhf//6MsABEFMLGzgBbwlfaGGUWGNuxADPD4BaP/QHGxYuxcpo4\n",
              "5+aE8sGChR7jnqy8OkXFBr67bwSQvF06Nn1Q4jE++2UPbIsar03YX8pwOLlTBDVEXqXFEmgENG2v\n",
              "22jra+TRqiwk0b2R+qNVbchR1/UN6jjLOk7AAAAAXEGfiUUVLCf/ABJc3Zjc4sPqBQNFN+L99g3k\n",
              "0GSUaT50ihaX+TJZjdM9iGhvcQAlPrOD/PmvJoeg/aqJViq0Oazf1LYSnPSPVY1ZdjsjlWZ/0SlC\n",
              "4+0jG8NevO6AAAAAkgGfqHRCPwAWLBKwOW1k0AKsZ5pkoLs3JFAUibnrhtTy43zHgVUkFgjGhZrr\n",
              "SRvfaG/muwkHqf21F85Xop7uWPyH8jeUiaFcCshvH95L/a8dGu/Kl9v3f8a45TOqPIWHNRJ8VJvc\n",
              "IXyYPR8oeAiDFOI9AqVirkoAf1oV29Y2+A5qaeIRbD/QaDekLnBVxEwpqFbhAAAAUgGfqmpCPwAW\n",
              "JTbtcpyoU8csgk0u6pvz5v48eIG8ltdyvipXUG6+eGULM5HodGyvD1A0fhcALUWTENKVU1aBjy00\n",
              "yxGuWAlrFr2ee36F/8KqTPgAAACIQZuuSahBbJlMCFf//jhAAP2pIytiAIjyY5mFgtaLC1aNZiv4\n",
              "xrPz3Pyf8x059u7/TXpNuBEFxkrkFD0RYKrJiLXmT8Wv5PmqONN47qZivbF3HaT9fZ5tw3oqeVJe\n",
              "yTvsN8uap2F7fIrkU6mmGUdL2/0fk9Jw+7ow2npNhaTcK/KQm8cXFpgXcAAAAGlBn8xFFSwn/wAR\n",
              "4SfO84PkHDxzh+9tHiq9tc1RS9I76sE5Y3KcAfAQPPk8wYJPmjRb3dQCUurrLBogA8AcpdXgF/uA\n",
              "ynTPaF/WziRP4l/8ZGHheAc87ANNBCjp4WQT1Z7PKfIqHldcy7kAAABmAZ/takI/ABWR/b/kNTeQ\n",
              "A2tHWzjFDGqKZ4sa8n54DdJDqu4Q6kgCVvY1mtXSxI20AaNT0wwbQ+oWddP1vjwkOlatBxH6v59J\n",
              "OFhqr+M8lOCOrvg1nu5ZJ35+rCQznssLxogLgoXVAAAASkGb70moQWyZTAhf//6MsABAJD3U8AKx\n",
              "O2vO9H9Liu+pZqSLoTANpOsjn1iHUvM+CRdZRqjEhHwz+WTWC3vaKQJV+/Esa/+e0lAxAAAAVUGa\n",
              "EEnhClJlMCF//oywAEABSGDABdB9qx6AkMO89/YWAT1O2vGHqTQOdKTkmID3uVOvtzSdilrAfDPQ\n",
              "Fc9BXDtKbxiEyczLEF9dbLnSNliOZdyv/dAAAABuQZoxSeEOiZTAhf/+jLAAQAD4l8AEsZyghxt6\n",
              "c7b2Z8GxZd4h+wmAbSdZHPrEOpeZ8Ei6yjVGJCQwOu7Jd2v0oWgrxZPBkWD1xUNhfEt2GamB5GGF\n",
              "j7m3BueJkvcdQ+UHeaj8NQeW0BMHn0XoMqoAAAByQZpSSeEPJlMCGf/+nhAAP15xiwACH8fpChfO\n",
              "D97C77QAf9c6DTTYHgmyYpdGPqDZDqQndjufI78fLX51QQrSJY0snTgm4H61g3Ag7lIl6W81q7nv\n",
              "nr+w1ohdOjNHsDRH2LNJdI0REk+oPSUf/+9NXnmVAAAAd0GadEnhDyZTBRE8M//+nhAAP3aqiEEG\n",
              "BLThCbBWJxsrZq6BsrtSShnDNALvLhnG/5CTw2MITt1zyK7YRDk2IsEhYF5gGmv/+LqWhOPtxgFe\n",
              "J56eq7FPjn20EmEQWJBN+mScQ+mrVJ4ikz9IcsmNUS+JTq508c+AAAAAcQGek2pCPwAVBSTittKo\n",
              "m6jyAEd+8UrY6UgGhA/8d4+TVq5czyPS0Ih4dpP0LAp5fujWa+3V/q+3H/8cb+Wbcex7RJfN2VzR\n",
              "JipmoPD077/5IoQfP2MxeUoKKX8tBHAqe6QMGgAS6f6eEHImXTZZAnjgAAAAWEGalknhDyZTBTwz\n",
              "//6eEAA9/paQ8AJHqzswJqRRqIuXa7KbgkTPh2vRgCXVdQAZ/48hQhzENHC4Kz53r9RJ/2MLHowI\n",
              "rXp7Sg2FXmvgSdQH73mM7uO+JoMAAABKAZ61akI/ABRoBskfu67ITQJhqOChPJv0mSwvrUI86z9U\n",
              "eF4rEDkhg0EzL+Vx1+2AExwUuTzFvK5Axsz8MOIHD55fSFvvhrrKYEAAAAByQZq6SeEPJlMCGf/+\n",
              "nhAAPl7GpEh4AW3vO9SCPabJZdSJfi3lfSMO8gu/8fwO1JmFuXreqUj/wvAB3EaEDeA1T2GcyOok\n",
              "sAUQUjzZ3X9b4yF4yy7mgDfQmjNUp4eFIKtoAk1Z77QJnOgowumZNDYi5nm1AAAATkGe2EURPCf/\n",
              "ABDYiRiaJC7nDgruaOYb/3PUDWPTZOsVU0owGKLmxprk1xbCDBGcxeFfaCroBe/EOHjSp6TmiefQ\n",
              "R4ZUTthaUqZFEPCtgQAAAFsBnvd0Qj8AFHCLUkeH64cDtrRkUmKQdyhW8b/ECC57Rzge4PHfMgzX\n",
              "xQATNK4dZnDDIz1ybGNEdDNKZxccQS4sKP5uy2UH5KOJ0gPETlT/6p46MqJikoaM+mOAAAAAVgGe\n",
              "+WpCPwAT4f3ZX2ACAEo+WjkMGB9NbAghx1ex62hcgKxX3AxNs1hfAFbYfsQi8PTHCcsnFUA5sqIl\n",
              "52HrAMFd4Be8KGyxV8k+eTqPgklGqX63ORzxAAAAWEGa+0moQWiZTAhn//6eEAA8nnDl0VgrQ3LO\n",
              "TzLcMKnduIi2D47MUmjRKgut5pRKSkZSDEOtrolicAA5/6JY31qCcinjOQAjySWg/AXftQX3N5a7\n",
              "iFdNgewAAACBQZsfSeEKUmUwIZ/+nhAAPP6zf/kgBOqw6ykihUc/9TZei9ZnDo7NPfZMfPJ5b21+\n",
              "39/F3JE9ZZGY7Ybt2V/EV5OIF32J7+7b29qxSGcvEy3sgpN2Pl15rS47ghmVLfb5dk6B/b51M9pX\n",
              "341R7FZvy0seCiI6aN4dFzYDZVEtvQ7pAAAAeUGfPUU0TCf/ABBYiSUdgAUG2civ9EIaHbG6Y6dw\n",
              "mqcx89HnIjpzGGVjcq5ZDIR58qBITrQWXKTb14c/G7rdYePXzKne2ikAN7aIOo63kGzeco8Z34ql\n",
              "0YcH3bwIKJcRf8nLWClk1WROVlkIMnm8tDtV86gEQFhbTUkAAACaAZ9cdEI/ABPsEpar7QAQJ9b/\n",
              "7U4Q0SJw6B2NBTNIIf+kwVNfF9qwbSjlWli/mudxuSIEJINixhS4voF3epbJq0ewMrKN3ivgJzq6\n",
              "GknQPcR2h/WfS7sFZU4su3Iu8H04aVeixboZPQ1dxZEv9D93xVuXjIhJeQpj+RofgDZqS7mYBxsw\n",
              "pphHjzWXKTirKQeNsbYl/W3AzeBUwAAAAGEBn15qQj8AE102o38wrAh+5ydGfepUegMcUwsHPaH4\n",
              "Ca4o8ciwr4QeqsDPqGDd6/iQAlmvqRpo2QBnNj4gUtgibiq51/rTdDQx4/efAUxlkdzBRLmxxiPW\n",
              "x3A54J+F+j/AAAAAfEGbQ0moQWiZTAhn//6eEAA7nCc7UaYAJ23K+Fo/ChZ6ZF47kAoByoQAnFfP\n",
              "d0FvGS5atwg9f6hRk3nuLX/5YVJo2OgDflxn0atYY6lsuR7moJaG8rup3/3PwUk1UlnlNnmt+bzg\n",
              "FfpBy7fslKJ+ZN72C3ZvdUoc4/N9PUkAAABlQZ9hRREsJ/8AD+AyhEVDcDmHBcE4cw3/ueoGsemy\n",
              "dYqppRgMUXOxP77UMnBYBxisfgAmK4o7JXgbEs+DkDckrX6FoUoT+nRA258jPR21YZGnUa6KeOOK\n",
              "P8QnVgHXkiXhxZo8JOAAAAB6AZ+AdEI/ABNUsg6Tu7AFrNzAILcN1GtK1BKnrjIW5lBHzA9+bjfd\n",
              "JbzWaBBhMsVKmCgAnGxwmQfbW3TdPqpA4WTjRlt/wffRt1gq+jAYLaPmMriiE3ybhxwENTI4yW2h\n",
              "If9VMDpKzpeuo/Cg3189XSB9MvZEEFUrWWcAAABWAZ+CakI/ABLdJZVgBoQXAXQQuIyXJRmMOdMB\n",
              "cFIs1fLtoELoGwJ7sYeYQWNDbMkxLyzh/pd/kvnMpDw4TNX22jn5Ry6S7Md+pQp0101Ae6QWFGzs\n",
              "EeAAAABxQZuHSahBbJlMCGf//p4QADo8Ja1cNcALeGDvcFO2BZOJ0ZQJQyDs7keyjahT6d8ZB4TA\n",
              "vCPQ2q5ODGgbw0FAlycG127rb4UDaeZzNJUqjJx71GvKUqzSIjC+Y20iLKAtzaMIgppuJsg8z0xX\n",
              "fz/f5cUAAACFQZ+lRRUsJ/8AD4tCg3oAb2hrRuFTPNK6BBsvllIn5y551ew5nFa5o69lpsg88Dpp\n",
              "V9X/3QGVZtsuSkvlFD7GGrgOqgloAxz6d6R/fq0VS2Pr1g8G99lOT/6ROgA/woUXMlT5uwN4i3Bm\n",
              "wEnmuQek0MSWStvL+QNxBZlTVbS4v7XZ2n8yoQAAAGgBn8R0Qj8AEt41R0z1bSBAynodEUEnn9Qy\n",
              "IozCfaOdFEaSzMALAC+c3s9OxXBPMvsEj1JJ8lUc0UIgWA6/O9xBnRBDrJRIcOoCb3n1HNpnwUDZ\n",
              "RYNeESD6HjiwKEp21Ckb3lyE2Y06YQAAAE4Bn8ZqQj8AEtfxElTXSjtxBNhFMHcZfJ0U6pl8Ib1O\n",
              "FwHEqboFOX/WFPDJPi7dQhvTw897SPGBP4gnns8sKMlBvAALgQJMXM2Qv1ESXsEAAACHQZvLSahB\n",
              "bJlMCGf//p4QADjeojr8PAC2953P37rTXBsKC4ken12BcjtQLnvMf3B7YikqyA9EMa/MK4RPwfsH\n",
              "DAEy+ujGjiww1RJZ49T0y0GmWOv84Jl3LXi5QI1tGWbX8se3oZiAAtF3ouvz7hx4L56MYxpKcozQ\n",
              "lBd3B4DqKD9v7GOFIXFlAAAAd0Gf6UUVLCf/AA8zQoFAAQR8crK9r44FvZzHB1Q2i6qup5WZhmj4\n",
              "qVKKzELOibhLP7+Q9upVf8LErsAuHSBV+VBz62FC1q0RvLZzeBcRYcmSOMXWhWWG1dPrARmr+dR5\n",
              "aoq2m+jRoYCmuE7eMVBSPHw6zWGasJ3QAAAAYQGeCHRCPwASVLIhU/QndurDK5skSOP28zNUVlvQ\n",
              "q4h5BYOIGQVMe+Qo+Pk/YoK8svMx9yBgATdjbvp40WjdH+3qRhDuPDj5wcRI2cvcKEpDwRdxu1pR\n",
              "9oX7nB1/sViF3r0AAACZAZ4KakI/ABJVvtrADPnqeEDkkaUvtbMGJhaqfPweV+TCHJMmS/80ThKE\n",
              "ujngWCCgvq5lYzFMvmkYgkHSUKSoE7TcrxCzN6D5B89zaMKh7it3WWi+Z6MjKICgdd6A4PQ9RIB8\n",
              "1wDxR34yjLbgbLIpetLZaNwzCqosnwP12rZMocrZgpthFHFT1SHt6iTuBAXX5DDPAmuiEC3AAAAA\n",
              "f0GaDkmoQWyZTAhn//6eEAA3NwQOACdVh1mjVIaUGFCc/9S2dlNkQ2Zs52Dz6MWQj0icx4EqcbhQ\n",
              "Db62d02NeFMsgWmnU0mhS13LAY+viUs8G2YlFYnLnEOi0O1HwzLVIIGP4wBOjy7gmlyXxhOfn3T9\n",
              "vuJwoDM4BeXC4+Za1ngAAABwQZ4sRRUsJ/8ADts7TShZCsz/XUilS4ZaLBfA04R7AUM7nUCmYTq2\n",
              "AG1T/f6ut2OPYwK/EiVcjk5qvIBnABqrFBfIYFIF6f3UMGcknFJvDH+MfY5q5/b1S7mD1s2Z47po\n",
              "iY9huGa7E2AnEb10qtYAPwAAAGMBnk1qQj8AEd0lpYACL9FOP91nlCUS109rAd42fYHj88haDxlk\n",
              "TOspLakuENVR/kxoSswZVx649t0BkUCQ/g4jFVuo/mIRrfM/iggcOodRZReORGwb2zu1NvB763bU\n",
              "5NKHzIsAAAB+QZpSSahBbJlMCFf//jhAANjv/OM+MQBHWvTYkJQ3Nbg1JA8vOZYfC66KTzBLot3x\n",
              "HadsCgPtJxG0AhqYYocMouDp6OLtV3nlycjEPfO/FgVgo/GuBSqzVZOulqCpdPoeSh97E9xCFRhX\n",
              "C1fya+lhXnUp0caXEIwH4dIE+vT5AAAAbkGecEUVLCf/AA7YMo0C8APyCNJQ26WflaGWAmhhCbPc\n",
              "30uMdCogvLpagxgUi3SuVryEA8PJFFkIhg7Wy5EDZYPxrawD2Zvkd84sQHz1gUNuMJ4I+wpd+/9J\n",
              "luG6XEOObShDpnpKKv5GplsfgQFxAAAAkgGej3RCPwAR1JxwvJlAD8fB7+J1gMy9I+0X1bJT2MeW\n",
              "26FQwFQVS+AwKTIRpTHqA8g58gpUkbEBAFRm01ytuhNzbCzrzSZf+abPcqgfAh3pX6R5UVyH3iDl\n",
              "iinOIjNNbHfivp3qHz0b1MOHvxreMu+vOL53IqnM9A55TG1VOxrpyQ5aT9K3VaThC21rhyu6Tjug\n",
              "AAAAXAGekWpCPwARVeD4HmxSHsySVfF2I+FsVcWo47L3edZ+0hV2uAUy7RBplfU6BP5VN0+AB+JJ\n",
              "FEdA3p0dfOSkj+6KU3qNHYS53YyXspku2Jfd52gV8uD0NO//zQjNAAAAYkGak0moQWyZTAhf//6M\n",
              "sAA2Ss8NwA/At33vq76jwvcboVuvuJwwifrSYreA9NGe1W4Glxk8qMQkggCRZ/oHeT8J/KNGJtng\n",
              "aAkSRXy29dfJR1qex1uGsBOGN4bQSaA3uQyKAAAAXkGatEnhClJlMCF//oywADZXYYbUh6iFQk0p\n",
              "76rT12to2PVYZOPrHTCOEwTeGyj3pjlcY7yf6xV671+leewAJPTu56N23G4FI1ThsBM4DTMUg1wn\n",
              "wnuGiF6kIeRDXo4AAAB/QZrVSeEOiZTAhf/+jLAANp9/vIFocHgPkAwGJqPgq7ycM1hRgIQbXAoA\n",
              "xO09ySaRuwKZmySEk8qk7WvfyZGrgDU97fGV0q7OWmw3jHN9TzuAR+7GM0hY5PSSJveKCUvmr750\n",
              "iVql4C8+AgA1NsJ8+0uSNMtVDXDu4CZj2i8rLwAAAHZBmvZJ4Q8mUwIZ//6eEAA0q4rccARMJ/dm\n",
              "QW3zmBhNRqvu2GyeqpsSQeAIIxEDUDpkpO5zyFCHMQ0a7pPzaP36if/R9aYVxAO/AaF5FfNxccKz\n",
              "X/r/40ic3hL3dgjCn8kmSRLrV/9dujou9Q1exwswKfhHiQzAAAAAd0GbF0nhDyZTAhn//p4QADSz\n",
              "4FTIAOYJ/gxuWaDxD5SgmacvggwEG2YaKK5fBqVNGFElNYANKyY2depnh58nVTddupSxheJ7/49/\n",
              "sALHjPRP13NyJZIKMWf/8tbmZqjo/sLbC2fGU7pMcuRXd43S1DOL3UgOO7HBAAAAsUGbO0nhDyZT\n",
              "Ahn//p4QADSkoNC/7AyligA5wYLZiIhJMbyAGfhuDpvJrHD9AU5pX4RYyt69nNZPjFrNQbFb1Tk6\n",
              "4KMsTZ5TbgafhsocJxIhKPTiWiFAiQBeR5TY63CIH8KMur6i0PtzVhec8hjidZwWHLqyfKWDRIP7\n",
              "rTgs2AN0dAhvlTwYbi7FHPBneljjJ9zQ++PcU/MHqfkwSmAmltSPFARdZQSZtjFkDLh9ez0LgQAA\n",
              "AGRBn1lFETwn/wAOKDKM5aMP6KEIYgBavlk11EpZR2UdnFVimmCfouI3Gx9d0lIxdCstVeK9zt1k\n",
              "7yAd0MAcnsmiTEUf4TyVpwXFaZN9E0WxzvgSReElqLiybSSIPtPZvJpzNkbaAAAAbwGfeHRCPwAQ\n",
              "3jUwOXQ/GprQ7FWccDFPdl7qfnVujLsQbUlNF4AYfF2qZtYxRbzme7YCdolCAAJVQf9ImOhP5TBY\n",
              "+xZWG2cvVxdBAYEMulGu3etBYMIu6aM8E8bPvMSA8KWjVJGwruhHT0OZrYwUSQAAAEkBn3pqQj8A\n",
              "EFXg8Ov3xxILuUu3jesvmC+sDsSQhcJVfw3Uc66/afoLOtzlMvChACwra0gNPNh+xbtEuUmmq/0F\n",
              "4y4O9ieuLWzKAAAAj0Gbf0moQWiZTAhn//6eEAAzvwaV+HgBNW/O1PPctxr7Ck4dtrZbMOwZp8fS\n",
              "3vQn/NjuKRgouGp7CtUPxynE8qT5EmXh+h9gw/rS96GMOBnbzJQoX10fikIIHh90lQa37wZlYJMj\n",
              "P8/20ph75b26ID3ABPEDUaePTIjHlSYsR/gMadSc8KHVMJ71ZuuZUSj5AAAAXEGfnUURLCf/AA3P\n",
              "nBamrinOLcSUidAuEfMp8ObO3iNKRdPfErRNibDDJGS933l0c+QAklSuYnb2xrXXVuk+wPzcd8Uk\n",
              "H1EVdE4HBs0mFivFslGhFtproVxxedmBAAAAYQGfvHRCPwAQVLIOk7uwBazcwCC3DdRrStQSp64y\n",
              "FuZQR8wPfm4DkTLnIkFzzxWr6gXyBYF0AJGuo6H+wdjpHIVt94Tkdipmtw2pD+8v7OuOvvzQtQ3c\n",
              "5EDEmrE9adkTiVAAAABUAZ++akI/ABBX8M1FdgpCABqxeKVsYTRvzBUbOO1ZfiPAWQx9saMK7GDO\n",
              "TCbjcPta1xEg1yr2aOnB+kjGr/GBbz7odm5y6U1BFtuU4BndEEw46g5QAAAAjkGbo0moQWyZTAhn\n",
              "//6eEAAyfwaV+HgBbelfCJUAWeP8Lg2E+95wImzqYGjagkxtEBgr/MC7kSkto/k84LlPsUkzZ+vM\n",
              "UjeyHBGiBzTnlt9q0kPLaFUhTBv66eoxgCtjZxFX66OwouH63ki0Kp6Db1yhTgirOAi7sqrJZoEu\n",
              "z50VWDuhPipmQIaSl4wt14EAAAB2QZ/BRRUsJ/8ADX+geIABnz4xACzhwsC7DVM7qab1N+VXnOZx\n",
              "QuaObZabYPO7DJ4bF3d6AvjGetyVLayGs8O7uBinoJ2TFEQoMgALZn+058XWotQPD+FFYSOhQwsr\n",
              "UJaIWaSfJ8zrNFn8xxXJfbff/ahHyTL1cAAAAGgBn+B0Qj8AD91VuyMm9iqhtADazmYhPu6n+6E4\n",
              "be1kssvTK2hsjSPDJQ1+lHa+YDxC3cIsJPYuttiOZ3g7LZc9t66y/LdiLJ5Rowt08iQMLhjFw+cm\n",
              "ZP25DlzxGAyxbgnNZRurmeEG4QAAAGUBn+JqQj8AD947SQk4ACHn9lx6qdGfUvCC3Rh7NaHE09uo\n",
              "gzFU+u0+AjGweDEyxh3YoODEwluoWP+o88QaXs2J5f7YNPsQax26O348mz9DaUJEwL5FUfwMkGFJ\n",
              "lIx4ji9biJVB1wAAAJhBm+ZJqEFsmUwIZ//+nhAAMPcEDgAiDfnGhFd6ymFu84mbmbR6PWMJfMue\n",
              "fAbs0VtyWe7mznSutc9qGPaVBkbi2zq+u3qTbEfnpowihsMWTeASio94+g/l4LKJ+ugMGuKt+2K9\n",
              "8lWrdpgGstazj4VLOr1JvFU5xHE4TLxxXUEK7kK/r3TKYgiMGDy4LuCy6bGIT171v+82gwAAAI9B\n",
              "ngRFFSwn/wANMzLN6AFssn2OhbQnW1xoYExDJUzdPe3lBUdMyxojz5E49RbidujZb6rZEI3OWE0o\n",
              "MYwSjJr2L2PUFzjDYRjBnd1na+7TBVBm3fn49/51VxA50J9ESQwy0dVwX4xd1XDYiynsSoXjfSTl\n",
              "0OiX1oHO7D6HCNFM75sDeuycSTXtacE8EYaggQAAAEIBniVqQj8AD4txNoABxbt100eGnS/ND+Wb\n",
              "YzMunrgl36acqKzqK7X77xPKTgue4t/tSUY+Ege8wrB63sik0SBwDS8AAAB3QZoqSahBbJlMCGf/\n",
              "/p4QADE/BpTJIAQ+sLQr76PP9TZei9ZnDo7NPfZMePQoeuX9v7+Efzb1Si0jl2sO4d4YM2TU6MeF\n",
              "Q7qSsvtkqOV+tqQfzUnNeQbRkRBBAoiTaDkAJc8aCGt33QxadOlS7HRuR/Jv0FZGqkkAAACPQZ5I\n",
              "RRUsJ/8ADTCXko7AAoNs5Ff6IcinHYGUqI1O6b0+XOtQ1eOi3+gqpAXLlXtz1kRCCHrn2nlUtbCO\n",
              "K5uWC8vMIwpMaDydE6cYIUIk+z1ex9CIN4l5FlhIWkOd+3AV2TQJyYz3AIhz8uI0MKxCAZb6ps/U\n",
              "tx4YErfE3+zWh2k1fs7gtr42eoNVSBVm9IAAAACgAZ5ndEI/AA+FVakDnEANCCn/7VAejYeTFX0T\n",
              "JFpx/q8lnPTdVmGLL8HJMuQNN/6BKhOiVJiTAEn/upPAiJbjeA6qkT0NG9g4UwKJZ7L7Gd1PKOcv\n",
              "Gbgd2ncdzay/RvVCkmlyfBeVXPzJtwnR6cDaN5FsrvTInNVZr6DldFRdwgGb1e+gQpl7rOzoxKCs\n",
              "OY2ocExWC7++tAo+RUx+9dDTgAAAAGwBnmlqQj8ADzN9Xiczb1oM+AFty/1stUE3okgMs9U8xuJQ\n",
              "VcS7Kwk5m3BtdmvVJ18+ULtXXTyB79r/PZoOUIftmlcWwR+lOtD8PMuut94DrobtiPLLAqyYirFw\n",
              "myIw7JOFehWZ1uoCKU4Uc6EAAAB/QZpuSahBbJlMCGf//p4QAC//BpWg4ATVuV8EJ+hZ56wQAz8n\n",
              "P6BOyNXh7ugt4yXLP9cGYKAbpkBOXzcbBAq6TuICuHxHH/d4A2qJobhM4L+xg3eyFQjuPLT+QjqM\n",
              "A3ie8IwCo2gY8IOv15dPdGgWGz34GUBFqXtD7UUwdpMgOAAAAFlBnoxFFSwn/wAM4JeMTc9vxisW\n",
              "YgBavF8UEuSmwOQyyI3QtVhUlMldBqydPC9ofg0IBw9mLaN+l31Dq8P8mS8GPxtaA2sbLRIh9y88\n",
              "HU1ScmyIi6mJ1dWcDAAAAGQBnqt0Qj8ADy1jsYhQqkKtX/2fnCsuUhB/70UKpVv95s79uxcnbh18\n",
              "DliIuN5rok1ySgHvVKUCT0ifwAmi/8ToXBAzNNkdoUIgBq+Tl6Yl+A9eRCZ4U0eOcj0lTYmGbOMx\n",
              "kIr5AAAAYAGerWpCPwAO23EpkAM6gHhdBDCuQLtloCH59RFkJfXHW1JWSN1BHTiq2Ret1PSCHo32\n",
              "+7kvdI435F4zSAxNF3PohTF9d9eHKCyeNV+k6sPvuXQ1Qw6cIWr6yW/WyONVgQAAAHhBmrJJqEFs\n",
              "mUwIZ//+nhAALr8BgN8kALqGDtwAvxZOJ0ZQJQyDs7keyjahT4/xfeGv8aEqZxvDSa0EFY7PMp5C\n",
              "DzH349877Bb/Wkb21X6DOnmQhPvrYkeXz2miHGi4j9DYPml1FmsZy/iOFHOJJkTuSnm688P8qgkA\n",
              "AACJQZ7QRRUsJ/8ADJNCg3oAWbrLRwKDLjKAJ+1vllIn5zC/jQoRbIAM/FbUPcLRDz3pNS9YnHMA\n",
              "kkqUrh7sbE1WRw1ZzCeWeB68iDhket8GSjnQWsu1SVK8jjYItvnSpEu5JDWPBkc0g4UNpAN4+HYP\n",
              "MC+k5VH03CF95n0eK6KJ8CJAJveN1wQMBlQAAABtAZ7vdEI/AA7VVeQAA0RLHm9djqXEF/p8lowQ\n",
              "Z94tiyjmr/XviqfuXOpAsq/jTrPy6lHmVQrTuDyOOSkshjhXrwzJHGtTYU+f/A1WHQ5/RUKU3YGT\n",
              "xDhqVH8BmHUs64UvysYVwwxIgEXJnMVe2gAAAFIBnvFqQj8ADtfxnIE5xXzcZEALQCAOerDeUpAD\n",
              "2GKDUTxcGzbQtrCypB7r5DsWRGUfauK55+joJK4ZSDS/4vgvGu+CK0EhyjzXh3M6ek5IshFxAAAA\n",
              "f0Ga9kmoQWyZTAhn//6eEAAtnwGA3yQAnVYdXqsJFdMUgUCImaF6Rfdi0+PqgNF4gGoG2BAqFhyu\n",
              "zedr0aMlG7zaVYqSvQF1mNnz3ke1RReBE93d/Lizo2vMa+IXR//M46EqD4lBP9sSASEOPiGRPrgP\n",
              "CLdCi8/vGe/JHfcvBcAAAABmQZ8URRUsJ/8ADENCgUAAz58ZF8ODttwns802sniD4i36m3Zsif7s\n",
              "snEnCEsiAuavrM+6FZKmfQAZrYcGrQ6WrsyiY4IlwIhocq7xBdg+cBCkmFqUZOKTKMrNL/FtKLJZ\n",
              "Og/BAwGVAAAAXgGfM3RCPwAOfWO7sqcHb42P0bDUJmodsQTOOdNVtAAR588YvPLK2qaiPmEHufUy\n",
              "uNHX3pACxy2tdDRSpD2k+nemdWkfVLEvUEebck9Vz6cHR8JZqgqD+uFXyQXsTTkAAACaAZ81akI/\n",
              "AA6DcSmQA+JcMbwPDtIPNG5mY9qE90qd6JeXecOHes4n521nC10pKl5V/3ciQGeg6VGBfyw/OG3H\n",
              "3PGoix8wMGadhGC4AeIH0W6BL/NuxBGikg0joUiZ1fMXkGgIYGoyYDXnEebWE29gGGXKzWFnCYiO\n",
              "+XiVxSmt8c3RQOdZZq9CeecVQRjuDIR6BNOXbvyg4WPezwAAAHlBmzlJqEFsmUwIZ//+nhAALEEE\n",
              "DgAufedRsOrgoIkT3y6jWl0yuVnuIfNMre8r2Rf6ZHIJZJykpyVK7FDQaI93YSDQTj1RGu6ctSR8\n",
              "KJg5DRbI3vS1fX9dUjY5IqeWL7U2cFo8FaZxYJ/DmEZYA5KDiDYxdi7cJM3BAAAAVEGfV0UVLCf/\n",
              "AAvzO02q7hKb4Fy2f0VX4xjgmCTWQNWS7Gp1oMaMnK9Hqafe0XJixydhCCWbXEoqXp7MAE5pz++V\n",
              "uy4ifHqdULSnLVNGHwdxXFzLjwAAAHoBn3hqQj8ADiYf4gADi1BqxExG7P39GMvEU6wD8Ip0BMBn\n",
              "vUXYr0HivOKLEs/fctn0CsqcDxsJBOw+RIRaMyBpAKhc9xD3jHTCyXjT7O6QMpepJk9rj+dOPOEn\n",
              "TLfHgNUKZxC128H8B23SUwRpBUUVTHef4fiwfSMWVAAAAHJBm31JqEFsmUwIX//+jLAALN+tlBIy\n",
              "svVz7gKD3EAzAWYiGtY8Lrv2SHu+ZzWnU4PIpRYBi7YrB+2gNMYJxV3bC3yRh3RTDtJnV2aRV2UR\n",
              "yioOA9auswKACeddSfK9P/CZ0SaL3bDZdpjKhjROJjOdhW0AAAByQZ+bRRUsJ/8AC/CcIoW8APyC\n",
              "NfFAqtj3V8Otq/9xcxwDjDyeukD6hkYXsfH7c8KWdLU0Xq/W8TBMw2fEXvhOXrH4DiGcy3YLzWZr\n",
              "EZ95AR5bnw7Qogf0/0sNvmtgjAr6lQqvm9W3LbWX2xgKdvu3VbtmAAAAewGfunRCPwAOJVWJh3tX\n",
              "KU0FQArGp1L6LXfDpmEu9l+AB7jkXbDgQcXRNOCy0N20MQDKssIGcNJRnnFRyOxFmsuyC8GT2+bX\n",
              "88i9dLUUFbYVL+zBhEtnszTIF/QeCar2OCCjyjFWDCcJynh2djnc0lMWpT0L94sgB2KLvwAAAFoB\n",
              "n7xqQj8ADc+3p25rJnynnSXxdiPhbFXFqOOy93nWfthBsRaNquwcjBn2NzaxClBwAWujwrFrDEoP\n",
              "/8/E4EkE2+RLWcCviY5qJ3dMvwb5ZeL8a7gKsDeDRlUAAACEQZu/SahBbJlMFEwr//44QACnxkAL\n",
              "4bABHWS76SO5I65XVmPHsW/NJ5or98seKITGiEGtYkN4qtyPDyGYl7xxvkG0SFJ+diqHvR2pZwin\n",
              "47uF03sWxWeqgxWEnoWXv0riiMrxqw0Q5RNc8poqmtsmqB7tJv3KQwboPoh1TiCmWZLWC134AAAA\n",
              "egGf3mpCPwANz57f+fRXEkQgAaeA6crlyyDuA+1ONU2VZk7qmFNwgeXK9JmxTNailiJtn80bFEEE\n",
              "RpJpqsfyhpK/Yr61lV4hBQHd0lb7IFrqAzX19nW6dV93lrWdruyxtEmRoxlyMdEbla76hqPM3Tir\n",
              "D0mIK3rIMi/wAAAAhkGbwEnhClJlMCF//oywACu/HLZJVzABxtyGCVnoeWYZGs/I9wHAR7nzPsPV\n",
              "p3udWGq86HmIsyRuRNRXctHT2HwyQRKzN1wXDnROl53EKSUkhPYquFD1V2ZE35hztQHjFO3wQhVf\n",
              "jWN3oBOsivMeocPmnvThSGf9dE/uWBuPGUj+HPbwrBV3AAAAeUGb4UnhDomUwIX//oywACpUz/Ns\n",
              "ALeQWAOOI4bO38YcRmEVpi9KPmbmQPv8LRTKkWSYj/+2w+pyxWymA5Q6GWmg3mM2sysxC2ps6J3J\n",
              "hXnhr3xxX/WZkSn4EUETmeJ50A9AaW/zwXPm/41Wd1whuKqvnp2xmUSrhJgAAAB9QZoCSeEPJlMC\n",
              "F//+jLAAKl51CywAXUn/aj5eOPwCOOL42j+V1GQCdWkpwrBZRiU/9bG6rLLbaYznDqftuAwJkMYw\n",
              "OUfeo34pFl3R+eqk1U9QpEg89mCbXN+HKqLAy3U4AL1BA6QcotAWXPgurDWN1IV560OsV9Ff5qrQ\n",
              "0kEAAABmQZojSeEPJlMCGf/+nhAAKgx4LFlz+MjA2gUr9IK0IERCEIsXcq97P/sHnTBMXjqQZqlZ\n",
              "44iBXnryNOoKHrgdLSrQ/0CuPWnlXj9Sb7vuUZhG8sQFZRQ7udkV0b8O0jHVb+fCnVurAAAAqEGa\n",
              "RknhDyZTAhf//oywACqb4+uIwJix1IABbN8B0Fv+YWzd+juP/oiJyTKN0qryYanIoaRxuZoOtjyg\n",
              "jKVXrTdI3l5ui8qcqLTJ/Eo18KnJMyAS4E9CTaJijcqdZ9Pq7L6nvWTDc0dWrpN0ryuCcDmVaVJK\n",
              "usAdz/5FPzB12aUBu9/67zZRq1Qv2olzGnwWnRoOruYsT+Ivb6dg4dzQa1pws3fDrnm+PQAAAH5B\n",
              "nmRFETwn/wALWykSumCgLMhEIgBMedrLHERsDLmI1KwnC4jkI4dgxEsW+JUkT1v8WSp1gUw5n5ZC\n",
              "8iIW3dpJ6fS/POV7KH6e9pAzorsLehBj463Fif/1+SvfX7qbxKaElq6uUw7lWTOlm99reivFbn74\n",
              "ZkGRJWvEULCYCbkAAABkAZ6FakI/AA00MsqwA0ILgLoIYCh/gih48AYGcdoC1GwrK+Omdmr7CeIC\n",
              "Fn7SWeF8Fvt+YhS8QUhvxlywL9Nxb4hzr+OkJuyqXuEcOxE+xRq8W761Ol383gKHqx68BCAHPlBA\n",
              "gQAAAItBmodJqEFomUwIZ//+nhAAKNWKfEAJHq1zHgBv7Y/ngvNeKJ2pUUQXhbZZoVxneSG75ZJ+\n",
              "lTiJZ1K2zC0W727WWUsVvZo/4E5hWyWY1OQnVDLYDdBUPuZPtD8mlN8r74GIOG9hDJhvclnT7ef3\n",
              "7swAIxO+prjMbkufxcZazYMrHS0VtE/dZIWB3eE3AAAAZUGaqknhClJlMCGf/p4QACkcy57hh2q7\n",
              "+8BNve/grxajSE/sFQqNXECa2oF4CHBPtKqVFdBMWj+KkT0nWOtEoDoVABUgBu2yVuWf+Zx8vxFq\n",
              "KQdEHhISCS8XecDGj3SLTKDkpUNwAAAA5EGeyEU0TCf/AAsVQ7WUdgdDesRnJ0aV774GDodz+Zz7\n",
              "6C0hxUbFCMtkir8eY3HcanZ+kcwoKUCnL75oVvLZ9KHUAIMrjP/ICmvBB2K4phFmcAZ2tb59xE9D\n",
              "Z/kCKrpqAbfc6CjPudb4nayTx1MKkvZTSTG/SeF8OnOhprp2VomRlY9iVL9fC/v90FyNJBFUQP2B\n",
              "rEeXYkdeBTp9mNLRv+2lnCZPjMo6bQ+rlG4vBKNpnC7BGRzatBYurE4ZC+Ec9XmFIs2gp3vCT4sP\n",
              "HlS9lWl5u7U7/lawwzU+m0C1Tj+D3LzywAAAAGABnulqQj8ADTE7drlOgpeDYtro0MwvMjqEwEjg\n",
              "KjISCLfdxzAfgVzE6KT5c2E7t4pAAsm3mKg6Skze3IcLttrQlp6eMwvQ3HCoJP/bbsXFjsoFvBpL\n",
              "H1HYqRk1YO5gvzEAAABQQZrsSahBaJlMFPDP/p4QACe10N8QAketxz0eDEfeiyqrcjjFegSJcA/S\n",
              "jtM0p02w6rQmz1BzF5LVIkQhKjemJn9Qi6xspMHAkTr1+tC8mLAAAABzAZ8LakI/AAzkO1L71ivs\n",
              "clWs8lnlcs/ZM8x3hAWoZocXwS+duknzoYG0+LvTK4Wo4El4SNKdvQCKxx7fTSAEsxha6GilR61N\n",
              "UO0UM6lfSu+E4dIROlbgwLam5qpj0X0kwpwk4crNNtpadLgxkdMQV1AekAAAAH9BmxBJ4QpSZTAh\n",
              "n/6eEAAn/u9XAItVc4DWriPNZr+JZ9XQrKu2wfQxxGFNiElwmChS1Evz4jEfqYZe4fkC6npJS2b7\n",
              "BkliFO3bh4ADteNYZWxoT/G0NkvYRfaakjTtT7atZEaPjyPEi+L5GjXI1rJZPYAfG0QUQSTUmMjO\n",
              "3EwHAAAAaUGfLkU0TCf/AArLJIxO7f3fFNEkhd78d84FVDsB6Fo9nFSDXSvy0vIJ008YU/gZUzc6\n",
              "Jo2B7O/gtm8ZLEtuoASEFOHKMlvTls9s78HRWBF8kQjqtv9yc2jUmInudiT9VvxvuAHQpMXOwQAA\n",
              "AE8Bn010Qj8ADN7liYcFkk3FYMUL2uKB5o7Kc3hOsnuA6cn4SgAnGqfQCW8afbNm42TRlDgVj7c/\n",
              "NfRkKGJ1XAUod2Nn9rfBj0218Pff4N6BAAAAYQGfT2pCPwAMan7xPVckCtEdPAbE2BRuM6PfMVsu\n",
              "Yfqyiu4EijudckNcqRMyMGUdf719jpFSrtsoAC5Rk/DRAYjdHPLvVvoVx2PiYHEo4MQACQTNN7Dk\n",
              "vB4es1KUrAh428AAAABjQZtTSahBaJlMCGf//p4QACbdN53z5ctvxdFpN5HtwW+JGodSJatq2xrA\n",
              "LY+8XAg8uIzdwsBwOn1dkqvH8wAALM9Qaqi8EqvCygzI0ir1ooROfNxHw7owwsPwK2XwlHCwIS2A\n",
              "AAAAdEGfcUURLCf/AAqFSrWUhgb+BOJneY57nU2Xe/+HJbv6ZTBp2GLMv+cJDTd08cNWMPuwnxI6\n",
              "m+naHK/MfjFJxGa8AJwMqurselct11bN/oMoX+mpTwi+hhYu9sfKaSnt1IfjMpRfZYHA9vvvDKY3\n",
              "3PNuKw2BAAAAggGfkmpCPwAMj57IiGgAQJ9b/7Un37JFzPpT2LoMD4VDAWvrMyZg49UTvhBEiNGX\n",
              "QKVJJRROUI0L+5s7ALcQi/0NmfkiPWMPksR3SDaPgjXdBpqtRpEvbjgd29e3e4hABNfI5Fupg4OB\n",
              "tZgoawB3fDXv2r+ZytViu+VVJNZ+Mxn/AT8AAABiQZuVSahBbJlMFEwz//6eEAAlogS2+piQQAZW\n",
              "tiOC3IRKQpPNUwQxBUmUMYwy45EeVwU4hK/WjR+ouDK0/Q5+o4moliyAYsoubz5ev3HcrefPcP3Y\n",
              "Dl7hfP5JouVOEijO20AAAABfAZ+0akI/AAxEO1MtRMBhym7Jpb8vpKN/d5D/MJ9ofgJrAt1/7uI3\n",
              "U3rmVU+1nSABMzkIrUgNfncWA9b7rGxE9Wx3R+n3J6Qnn87jrDbtUVZWftILP/ZQO6T4jbB9mekA\n",
              "AAB2QZu5SeEKUmUwIZ/+nhAAJd03nfP2ow/5i0Mci3IRkrLGxOckQRMz6QF0liUR4Ui9SaN16UDM\n",
              "GQntEqeGHpEmVTiK80dqTsFhyxISh5H3IALg0zJqoJXFmk4ZwwfvnJlYxvFC9SwMzDn0I7NXegoE\n",
              "gsTIUpa4IAAAAE1Bn9dFNEwn/wAKOySMT0GxRUZ8kv7B65DZ7IATxXxXJlxZrSCwT3ZJ9PmBWJgm\n",
              "RfClWvgsGwHRKxs4fvvkPXKBOwrNkTJrlqZHzf4hnwAAAHABn/Z0Qj8ADD7lsYhQql8hBif0eD8r\n",
              "G9gXcIdNnOyGX0UZO3iJFH3N2Pv2/ix5Qrvt70oiKdhRNtXF5XCqdJaXIGovQAe+lKHYtQNAngME\n",
              "CtbrJyNRnt29grtgWzNQwnEXdqLJ/8XXAwp1wB+cJAO7AAAAaQGf+GpCPwAL7589IAfj7YF0GBGz\n",
              "2jEfNBLUzkAe1oV/4rkp8uiL3QTuhC3LA2lS2v7bTZs232ppcOrLnHhnxn2lCC2pGc+vK4Q1H9CV\n",
              "dsD3lM8XOLE5CAnmXV1ZeY4u4vxP4qOTSUViygAAAGRBm/1JqEFomUwIX//+jLAAJT8TBbM3GgFV\n",
              "dqwIMRl4U6kK+x0dyuC4T+hn+HrEMbKn55nP7u93uSed5KEqSkAFxOgDikmzYYX/aOL6v/I87JVN\n",
              "XIQjAB6ihBz4KJ7iJlWQp6qVAAAAakGeG0URLCf/AAnyNGmmqlADusoACOH+EfY76Sm0eLeNoqB8\n",
              "sUFgbCQ43O9CO+VFzLub/WLYM34fYM0oAD67N/HKWef4+kuoXIiiThG/84lwY1iPOSORQ89pfLkz\n",
              "F/Hv1PgrrJtG8aLvtakAAABdAZ46dEI/AAvu1+QABATyzN6xhdk4yTc9uF8LMLdJn4XbQIXQB5oF\n",
              "8/LS7Ge9z+k4kYB9DCHnrDiNKjEyE4zIsU5upHkwAPuLoEw8CZcXXFwZ4AXQID+QSXTykil5AAAA\n",
              "WQGePGpCPwAL8TKcc5txPOQfihkccTEY5xgQIdJLBuaThvRrCwOYdCmHQrRWlbx+vIAH4dQYMHR9\n",
              "ogDpf/hfV7b/EsGbIHit83WoVeN2zlR2ldqEKcV+Bi53AAAAZ0GaPkmoQWyZTAhn//6eEAAjocvk\n",
              "gAZ480lcCqCiPdl2VO9SCmURLgH6UdpmlOm2HVaE2cov8CaIs+wB3Eg6xgvSBj5SQEi1j+SY7a2Q\n",
              "DYERRYyp0E09xrJUsXWcFlcVzVq9h17Bq6oAAAB2QZpCSeEKUmUwIX/+jLAAJD03n0cKgAtm+A5+\n",
              "/dYFkQnP+UeNWjgELsJfZsXkPyl+7AfFaZNkA9lzN5W2wHUUInKvieyRtQsimZzK0/w7YwWbWb2m\n",
              "YEADTirR3ImlUR2HUxxMkNSnIsU048fZAJM/zab61UlKwAAAAKhBnmBFNEwn/wAJrnCTlACAnZnN\n",
              "iQEcHZ7gaKqDw8rZdvVSKWVQuiC5RbtbMd+uDwAtd/y5XXz+BFyXvIsZde8sCB/1SHBlzWARynCr\n",
              "GsDiW56PVY8DGa0lcgthQrxazpthNGoNzPsdx29I9JHpbrkeY6M9kh7nCd2bimOBVzQKVvkSHnWg\n",
              "1Ian8feo+XjWDkpx4+5DhaJHwm5B5sgWiqXklHIUZl1gJOEAAABjAZ6fdEI/AAugRbGRXEqZiEfj\n",
              "r9t+U7+uZFxqW9qNjTc+ynS+1tCrwnX5z+io/hAUTTTpJ8fYxZuGNKFv+oAO++nRkjQDOPeJpCJ0\n",
              "9CCZxRpd5QcB3WGXi7qvJSXw89zhZecfAAAAUwGegWpCPwALopKch4lEjjtVdFbJdtbJrxLmlmCh\n",
              "RU4XAcSpuiwNPgB4CveL8KDwWhAuE7coAC1yC/FJyyPnPQSopPI0DZH5CNWShjl1lMLKlithAAAA\n",
              "YUGag0moQWiZTAhf//6MsAAjAHvnwAzmx06pHz46FsB4Xqwv9Ks9a8iM4LqA6YrW5iPcvX+X9pc5\n",
              "DnD0qkzzTyGP7La2PcZHbj0i+/3XDsfeQfVis+gJyVJ8xYXsg+/7gZoAAAByQZqnSeEKUmUwIR/9\n",
              "4QACDfoykFKMQBGQXRH+3ay//1b/y7rexPuc6+X5AKefStdJwy8LviYDIUHd99dkK9KvNZAhvplt\n",
              "Wekzz6qoa6Iwc44KBte1VTISlB/FRDE98Lnt4/ra3Vyt560G7VaC4B9uV6ZhAAAAdUGexUU0TCf/\n",
              "AAlucIzTfqjCH0A3TvH8yMEBDuji/6I5LnVYr+Rk1L1tUE99ZNv/rB6CWpCdcf9iH6IpbAOkuQqA\n",
              "FowRRMqXbwnejboxJ5tV1CkbbvQsHn5WAfBDXdGU38aFFvHPAT2s96AhfAtHzRWZYVYaPwAAAGwB\n",
              "nuR0Qj8AC1hFsYnd2CtDW4B35KSNYppSV7FkKpthzXUxG0g/SbQOP4uXmiKhI8Li695/lUAJv6a6\n",
              "8SqeqhO2HgX2uvbLzRIHRG6u+R+BoNq9/iEEsOnoylu6LS5Qd5aAMPqOtnXtGl/3JIEAAABdAZ7m\n",
              "akI/AAtaknH4AA/wOajGyJOfqEF+0yx8BoRBQk8L7uKUvuaMlqflR5NgP7Vb+zY4TyaaH+7vPBqV\n",
              "yMayX5SomNFKH9fcMOBoMN3TWUELOBwwc3bY/J132Q6XAAALwm1vb3YAAABsbXZoZAAAAAAAAAAA\n",
              "AAAAAAAAA+gAABOIAAEAAAEAAAAAAAAAAAAAAAABAAAAAAAAAAAAAAAAAAAAAQAAAAAAAAAAAAAA\n",
              "AAAAQAAAAAAAAAAAAAAAAAAAAAAAAAAAAAAAAAAAAAAAAAIAAArtdHJhawAAAFx0a2hkAAAAAwAA\n",
              "AAAAAAAAAAAAAQAAAAAAABOIAAAAAAAAAAAAAAAAAAAAAAABAAAAAAAAAAAAAAAAAAAAAQAAAAAA\n",
              "AAAAAAAAAAAAQAAAAANgAAAB+AAAAAAAJGVkdHMAAAAcZWxzdAAAAAAAAAABAAATiAAAAgAAAQAA\n",
              "AAAKZW1kaWEAAAAgbWRoZAAAAAAAAAAAAAAAAAAAKAAAAMgAVcQAAAAAAC1oZGxyAAAAAAAAAAB2\n",
              "aWRlAAAAAAAAAAAAAAAAVmlkZW9IYW5kbGVyAAAAChBtaW5mAAAAFHZtaGQAAAABAAAAAAAAAAAA\n",
              "AAAkZGluZgAAABxkcmVmAAAAAAAAAAEAAAAMdXJsIAAAAAEAAAnQc3RibAAAALhzdHNkAAAAAAAA\n",
              "AAEAAACoYXZjMQAAAAAAAAABAAAAAAAAAAAAAAAAAAAAAANgAfgASAAAAEgAAAAAAAAAAQAAAAAA\n",
              "AAAAAAAAAAAAAAAAAAAAAAAAAAAAAAAAAAAAABj//wAAADZhdmNDAWQAH//hABlnZAAfrNlA2BB+\n",
              "WEAAAAMAQAAAFAPGDGWAAQAGaOvjyyLA/fj4AAAAABx1dWlka2hA8l8kT8W6OaUbzwMj8wAAAAAA\n",
              "AAAYc3R0cwAAAAAAAAABAAAAyAAAAQAAAAAUc3RzcwAAAAAAAAABAAAAAQAABYBjdHRzAAAAAAAA\n",
              "AK4AAAABAAACAAAAAAEAAAUAAAAAAQAAAgAAAAABAAAAAAAAAAEAAAEAAAAAAQAAAgAAAAABAAAD\n",
              "AAAAAAEAAAEAAAAAAQAAAwAAAAABAAABAAAAAAEAAAUAAAAAAQAAAgAAAAABAAAAAAAAAAEAAAEA\n",
              "AAAAAQAAAwAAAAABAAABAAAAAAIAAAIAAAAAAQAAAwAAAAABAAABAAAAAAEAAAUAAAAAAQAAAgAA\n",
              "AAABAAAAAAAAAAEAAAEAAAAAAQAABQAAAAABAAACAAAAAAEAAAAAAAAAAQAAAQAAAAABAAAEAAAA\n",
              "AAIAAAEAAAAAAQAAAgAAAAABAAAFAAAAAAEAAAIAAAAAAQAAAAAAAAABAAABAAAAAAEAAAQAAAAA\n",
              "AgAAAQAAAAABAAADAAAAAAEAAAEAAAAABQAAAgAAAAABAAAEAAAAAAIAAAEAAAAAAQAABQAAAAAB\n",
              "AAACAAAAAAEAAAAAAAAAAQAAAQAAAAABAAAFAAAAAAEAAAIAAAAAAQAAAAAAAAABAAABAAAAAAEA\n",
              "AAUAAAAAAQAAAgAAAAABAAAAAAAAAAEAAAEAAAAAAQAABQAAAAABAAACAAAAAAEAAAAAAAAAAQAA\n",
              "AQAAAAABAAAEAAAAAAIAAAEAAAAAAQAABQAAAAABAAACAAAAAAEAAAAAAAAAAQAAAQAAAAABAAAF\n",
              "AAAAAAEAAAIAAAAAAQAAAAAAAAABAAABAAAAAAEAAAQAAAAAAgAAAQAAAAAEAAACAAAAAAEAAAMA\n",
              "AAAAAQAAAQAAAAABAAADAAAAAAEAAAEAAAAAAQAABQAAAAABAAACAAAAAAEAAAAAAAAAAQAAAQAA\n",
              "AAABAAACAAAAAAEAAAUAAAAAAQAAAgAAAAABAAAAAAAAAAEAAAEAAAAAAQAABQAAAAABAAACAAAA\n",
              "AAEAAAAAAAAAAQAAAQAAAAABAAAFAAAAAAEAAAIAAAAAAQAAAAAAAAABAAABAAAAAAEAAAUAAAAA\n",
              "AQAAAgAAAAABAAAAAAAAAAEAAAEAAAAAAQAABAAAAAACAAABAAAAAAEAAAUAAAAAAQAAAgAAAAAB\n",
              "AAAAAAAAAAEAAAEAAAAABQAAAgAAAAABAAAFAAAAAAEAAAIAAAAAAQAAAAAAAAABAAABAAAAAAEA\n",
              "AAUAAAAAAQAAAgAAAAABAAAAAAAAAAEAAAEAAAAAAQAABQAAAAABAAACAAAAAAEAAAAAAAAAAQAA\n",
              "AQAAAAABAAAEAAAAAAIAAAEAAAAAAQAABQAAAAABAAACAAAAAAEAAAAAAAAAAQAAAQAAAAABAAAF\n",
              "AAAAAAEAAAIAAAAAAQAAAAAAAAABAAABAAAAAAEAAAUAAAAAAQAAAgAAAAABAAAAAAAAAAEAAAEA\n",
              "AAAAAQAABQAAAAABAAACAAAAAAEAAAAAAAAAAQAAAQAAAAABAAAEAAAAAAIAAAEAAAAAAQAABQAA\n",
              "AAABAAACAAAAAAEAAAAAAAAAAQAAAQAAAAABAAADAAAAAAEAAAEAAAAABAAAAgAAAAABAAAEAAAA\n",
              "AAIAAAEAAAAAAQAAAgAAAAABAAAEAAAAAAIAAAEAAAAAAQAAAwAAAAABAAABAAAAAAEAAAUAAAAA\n",
              "AQAAAgAAAAABAAAAAAAAAAEAAAEAAAAAAQAABAAAAAACAAABAAAAAAEAAAMAAAAAAQAAAQAAAAAB\n",
              "AAAFAAAAAAEAAAIAAAAAAQAAAAAAAAABAAABAAAAAAEAAAUAAAAAAQAAAgAAAAABAAAAAAAAAAEA\n",
              "AAEAAAAAAQAAAgAAAAABAAAFAAAAAAEAAAIAAAAAAQAAAAAAAAABAAABAAAAAAEAAAIAAAAAAQAA\n",
              "BQAAAAABAAACAAAAAAEAAAAAAAAAAQAAAQAAAAAcc3RzYwAAAAAAAAABAAAAAQAAAMgAAAABAAAD\n",
              "NHN0c3oAAAAAAAAAAAAAAMgAAA8YAAADWAAAAOkAAAHHAAAA4QAAAO0AAAFqAAAAjgAAAQoAAABs\n",
              "AAAAsgAAAHYAAAByAAAAZAAAAGIAAABwAAAAigAAAFoAAAA+AAAAVQAAAGQAAAB1AAAAkwAAAFIA\n",
              "AABvAAAATgAAAJkAAABaAAAAlgAAAHwAAACNAAAAXgAAAHkAAACBAAAAZwAAAG0AAAB4AAAAfQAA\n",
              "AGcAAACgAAAAlwAAAHIAAABxAAAAdwAAAJ8AAACoAAAAbQAAAG8AAABhAAAAhgAAAIEAAAB+AAAA\n",
              "WAAAAIMAAABwAAAAZAAAAF8AAAB3AAAAgwAAAHEAAABjAAAAigAAAFMAAABgAAAAlwAAAHUAAABb\n",
              "AAAAWwAAAHIAAACKAAAAlAAAAF8AAACHAAAAYAAAAJYAAABWAAAAjAAAAG0AAABqAAAATgAAAFkA\n",
              "AAByAAAAdgAAAHsAAAB1AAAAXAAAAE4AAAB2AAAAUgAAAF8AAABaAAAAXAAAAIUAAAB9AAAAngAA\n",
              "AGUAAACAAAAAaQAAAH4AAABaAAAAdQAAAIkAAABsAAAAUgAAAIsAAAB7AAAAZQAAAJ0AAACDAAAA\n",
              "dAAAAGcAAACCAAAAcgAAAJYAAABgAAAAZgAAAGIAAACDAAAAegAAAHsAAAC1AAAAaAAAAHMAAABN\n",
              "AAAAkwAAAGAAAABlAAAAWAAAAJIAAAB6AAAAbAAAAGkAAACcAAAAkwAAAEYAAAB7AAAAkwAAAKQA\n",
              "AABwAAAAgwAAAF0AAABoAAAAZAAAAHwAAACNAAAAcQAAAFYAAACDAAAAagAAAGIAAACeAAAAfQAA\n",
              "AFgAAAB+AAAAdgAAAHYAAAB/AAAAXgAAAIgAAAB+AAAAigAAAH0AAACBAAAAagAAAKwAAACCAAAA\n",
              "aAAAAI8AAABpAAAA6AAAAGQAAABUAAAAdwAAAIMAAABtAAAAUwAAAGUAAABnAAAAeAAAAIYAAABm\n",
              "AAAAYwAAAHoAAABRAAAAdAAAAG0AAABoAAAAbgAAAGEAAABdAAAAawAAAHoAAACsAAAAZwAAAFcA\n",
              "AABlAAAAdgAAAHkAAABwAAAAYQAAABRzdGNvAAAAAAAAAAEAAAAwAAAAYXVkdGEAAABZbWV0YQAA\n",
              "AAAAAAAhaGRscgAAAAAAAAAAbWRpcmFwcGwAAAAAAAAAAAAAAAAsaWxzdAAAACSpdG9vAAAAHGRh\n",
              "dGEAAAABAAAAAExhdmY1OS4zLjEwMA==\n",
              "\">\n",
              "  Your browser does not support the video tag.\n",
              "</video>"
            ]
          },
          "metadata": {},
          "execution_count": 23
        },
        {
          "output_type": "display_data",
          "data": {
            "text/plain": [
              "<Figure size 864x504 with 1 Axes>"
            ],
            "image/png": "[encoded data removed]"
          },
          "metadata": {}
        }
      ]
    },
    {
      "cell_type": "markdown",
      "metadata": {
        "id": "s0dAgWUt2o6E"
      },
      "source": [
        "# Conclusion\n",
        "You should now have a grasp of the basic features of snnTorch and should be able to start running your own tests and experiments. [In the next tutorial](https://snntorch.readthedocs.io/en/latest/tutorials/index.html), we will attempt to train a network using a neuromorphic dataset.\n"
      ]
    }
  ]
}