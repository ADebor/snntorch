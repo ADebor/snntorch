{
 "cells": [
  {
   "cell_type": "markdown",
   "id": "47d5313e-c29d-4581-a9c7-a45122337069",
   "metadata": {},
   "source": [
    "# snnTorch - Tutorial 3\n",
    "### By Jason K. Eshraghian and Gregor Lenz"
   ]
  },
  {
   "cell_type": "markdown",
   "id": "e93694d9-0f0a-46a0-b17f-c04ac9b73a63",
   "metadata": {},
   "source": [
    "# Neuromorphic datasets and introduction to Tonic\n",
    "Now we're going to look at how we can use datasets that were recorded with a neuromorphic camera. For that we make use of [Tonic](https://github.com/neuromorphs/tonic), which works much like PyTorch vision. We can simply install the package from pypi."
   ]
  },
  {
   "cell_type": "code",
   "execution_count": 1,
   "id": "86102f99-5955-43d6-ba80-db6ed1561733",
   "metadata": {},
   "outputs": [],
   "source": [
    "!pip install tonic==1.0.4 --quiet"
   ]
  },
  {
   "cell_type": "markdown",
   "id": "404c438f-82b2-4041-a7ea-88ecdd17f4cc",
   "metadata": {},
   "source": [
    "Let's start by loading the neuromorphic version of the MNIST dataset which is called [N-MNIST](https://tonic.readthedocs.io/en/latest/datasets.html#n-mnist). We can have a look at some raw events to get a feeling what we're working with. The raw output is an NxD array of events. Every row is one event and the columns are for x and y coordinates, timestamp and polarity."
   ]
  },
  {
   "cell_type": "code",
   "execution_count": 2,
   "id": "7d286ef9-5fe6-4578-a686-91559a1f81d2",
   "metadata": {},
   "outputs": [
    {
     "name": "stdout",
     "output_type": "stream",
     "text": [
      "[( 5, 23,    489, 0) (21, 13,   1790, 0) ( 1, 33,   5131, 1) ...\n",
      " (13, 14, 307497, 0) (18, 30, 308261, 1) ( 7, 15, 308966, 1)]\n"
     ]
    }
   ],
   "source": [
    "import tonic\n",
    "\n",
    "dataset = tonic.datasets.NMNIST(save_to='./data', train=True)\n",
    "events, target = dataset[0]\n",
    "print(events)"
   ]
  },
  {
   "cell_type": "markdown",
   "id": "71dfd2fb-7ea7-483f-bef0-ff3d444df44a",
   "metadata": {},
   "source": [
    "If we were to accumulate those events over time and plot the bins as images, it looks like this:"
   ]
  },
  {
   "cell_type": "code",
   "execution_count": 3,
   "id": "e6d6a0b0-2a73-4dbe-9576-d06c251f0fa4",
   "metadata": {},
   "outputs": [
    {
     "data": {
      "image/png": "[encoded data removed]",
      "text/plain": [
       "<Figure size 432x288 with 3 Axes>"
      ]
     },
     "metadata": {
      "needs_background": "light"
     },
     "output_type": "display_data"
    }
   ],
   "source": [
    "tonic.utils.plot_event_grid(events)"
   ]
  },
  {
   "cell_type": "markdown",
   "id": "f6bcc031-d11a-4471-b3aa-335eec76d7ad",
   "metadata": {},
   "source": [
    "Our neural network doesn't just take as an input an array of raw events. We want to convert the raw data to a representation that is suitable, such as a tensor. We can choose a set of transforms to apply to our data before feeding it to our network. The neuromorphic camera sensor has a temporal resolution of microseconds, which when converted into a dense representation ends up in a very large tensor. That is why we bin events into a smaller number of frames using the [ToFrame transformation](https://tonic.readthedocs.io/en/latest/reference/transformations.html#frames), which reduces temporal precision but also allows us to work with it in a dense format."
   ]
  },
  {
   "cell_type": "code",
   "execution_count": 4,
   "id": "30f249be-8a65-4c1c-a21c-d561e904b4bf",
   "metadata": {},
   "outputs": [],
   "source": [
    "import tonic.transforms as transforms\n",
    "\n",
    "sensor_size = tonic.datasets.NMNIST.sensor_size\n",
    "frame_transform = transforms.Compose([transforms.Denoise(filter_time=10000), \n",
    "                                      transforms.ToFrame(sensor_size=sensor_size, \n",
    "                                                         time_window=1000)\n",
    "                                     ])\n",
    "\n",
    "trainset = tonic.datasets.NMNIST(save_to='./data', transform=frame_transform, train=True)\n",
    "testset = tonic.datasets.NMNIST(save_to='./data', transform=frame_transform, train=False)"
   ]
  },
  {
   "cell_type": "markdown",
   "id": "70be0b77-9405-44f6-af49-dfc4d49566c6",
   "metadata": {},
   "source": [
    "The original data is stored in a format that is slow to read. To speed up dataloading, we can make use of disk caching. That means that once files are loaded from the original file, they are written to disk in an efficient format in our cache directory. Let's compare some file reading speeds to read 100 examples."
   ]
  },
  {
   "cell_type": "code",
   "execution_count": 5,
   "id": "3a6bf2a2-ff9f-4cdc-8cb3-02a1a9d71a11",
   "metadata": {},
   "outputs": [],
   "source": [
    "def load_sample_simple():\n",
    "    for i in range(100):\n",
    "        events, target = trainset[i]"
   ]
  },
  {
   "cell_type": "code",
   "execution_count": 6,
   "id": "1a9d3b28-b303-4a17-be78-b9918911a7cd",
   "metadata": {},
   "outputs": [
    {
     "name": "stdout",
     "output_type": "stream",
     "text": [
      "1.65 s ± 13.1 ms per loop (mean ± std. dev. of 7 runs, 1 loop each)\n"
     ]
    },
    {
     "data": {
      "text/plain": [
       "<TimeitResult : 1.65 s ± 13.1 ms per loop (mean ± std. dev. of 7 runs, 1 loop each)>"
      ]
     },
     "execution_count": 6,
     "metadata": {},
     "output_type": "execute_result"
    }
   ],
   "source": [
    "%timeit -o load_sample_simple()"
   ]
  },
  {
   "cell_type": "markdown",
   "id": "b957b32f-d76b-42c0-8c1c-b6b63e84e2ef",
   "metadata": {},
   "source": [
    "Let's try to decrease the time to read 100 samples by using a PyTorch DataLoader as well as disk caching."
   ]
  },
  {
   "cell_type": "code",
   "execution_count": 7,
   "id": "f47e0798-5259-491a-9d3a-59b13b1b0983",
   "metadata": {},
   "outputs": [],
   "source": [
    "from torch.utils.data import DataLoader\n",
    "from tonic import CachedDataset\n",
    "\n",
    "cached_trainset = CachedDataset(trainset, cache_path='./cache/nmnist/train')\n",
    "cached_dataloader = DataLoader(cached_trainset, num_workers=4)\n",
    "\n",
    "def load_sample_cached():\n",
    "    for i, (events, target) in enumerate(iter(cached_dataloader)):\n",
    "        if i > 99: break"
   ]
  },
  {
   "cell_type": "code",
   "execution_count": 8,
   "id": "17a0219b-4d15-4f0b-b5be-8c728b5e24a9",
   "metadata": {},
   "outputs": [
    {
     "name": "stdout",
     "output_type": "stream",
     "text": [
      "543 ms ± 9.09 ms per loop (mean ± std. dev. of 20 runs, 1 loop each)\n"
     ]
    },
    {
     "data": {
      "text/plain": [
       "<TimeitResult : 543 ms ± 9.09 ms per loop (mean ± std. dev. of 20 runs, 1 loop each)>"
      ]
     },
     "execution_count": 8,
     "metadata": {},
     "output_type": "execute_result"
    }
   ],
   "source": [
    "%timeit -o -r 20 load_sample_cached()"
   ]
  },
  {
   "cell_type": "markdown",
   "id": "3831428d-0511-4fde-84d9-11d08fa45df7",
   "metadata": {},
   "source": [
    "Now that we've reduced our loading time to a third, we also want to use batching to make efficient use of the GPU. Because event recordings have different lengths, we are going to provide a specific collation function that takes care of how we make sure that all samples in a batch have the same dimensions. "
   ]
  },
  {
   "cell_type": "code",
   "execution_count": 9,
   "id": "5b35c7cd-d292-47cd-9203-7f31aa7f7207",
   "metadata": {},
   "outputs": [],
   "source": [
    "batch_size = 100\n",
    "trainloader = DataLoader(cached_trainset, num_workers=4, batch_size=batch_size, collate_fn=tonic.collation.PadTensors())"
   ]
  },
  {
   "cell_type": "code",
   "execution_count": 10,
   "id": "14b9af4f-141e-4301-8451-445957ec8707",
   "metadata": {},
   "outputs": [],
   "source": [
    "def load_sample_batched():\n",
    "    events, target = next(iter(cached_dataloader))"
   ]
  },
  {
   "cell_type": "code",
   "execution_count": 11,
   "id": "3dc4b27a-63ac-4edc-94e9-589d548c4769",
   "metadata": {},
   "outputs": [
    {
     "name": "stdout",
     "output_type": "stream",
     "text": [
      "102 ms ± 1.41 ms per loop (mean ± std. dev. of 10 runs, 10 loops each)\n"
     ]
    },
    {
     "data": {
      "text/plain": [
       "<TimeitResult : 102 ms ± 1.41 ms per loop (mean ± std. dev. of 10 runs, 10 loops each)>"
      ]
     },
     "execution_count": 11,
     "metadata": {},
     "output_type": "execute_result"
    }
   ],
   "source": [
    "%timeit -o -r 10 load_sample_batched()"
   ]
  },
  {
   "cell_type": "markdown",
   "id": "a82a7afd-c011-4cd6-ba04-1e7cd438bc1f",
   "metadata": {},
   "source": [
    "Using disk caching and a PyTorch dataloader with multithreading and batching support we have reduced loading times to less than a tenth per sample in comparison to naively iterating over the dataset!"
   ]
  },
  {
   "cell_type": "markdown",
   "id": "2ded1bd9-e2f1-479e-899c-c6c2652e6fc9",
   "metadata": {},
   "source": [
    "# Training our network using frames created from events"
   ]
  },
  {
   "cell_type": "markdown",
   "id": "9be82d75-69ef-4c1b-ad85-4eca84c73ccf",
   "metadata": {},
   "source": [
    "Now let's actually train a network on the N-MNIST classification task. We start by defining our caching wrappers and dataloaders. While doing that, we're also going to apply some augmentations to the training data. The samples we receive from the cached dataset are frames, so we can make use of PyTorch Vision to apply whatever random transform we would like."
   ]
  },
  {
   "cell_type": "code",
   "execution_count": null,
   "id": "ace6cd0b-7b56-4422-b3bd-23bac65db9bd",
   "metadata": {},
   "outputs": [],
   "source": [
    "import torch\n",
    "import torchvision\n",
    "\n",
    "transform = tonic.transforms.Compose([torch.from_numpy,\n",
    "                                      torchvision.transforms.RandomRotation([-10,10])])\n",
    "\n",
    "cached_trainset = CachedDataset(trainset, transform=transform, cache_path='./cache/nmnist/train')\n",
    "\n",
    "# no augmentations for the testset\n",
    "cached_testset = CachedDataset(testset, cache_path='./cache/nmnist/test')\n",
    "\n",
    "batch_size = 128\n",
    "trainloader = DataLoader(cached_trainset, num_workers=4, batch_size=batch_size, collate_fn=tonic.collation.PadTensors(), shuffle=True)\n",
    "testloader = DataLoader(cached_testset, num_workers=4, batch_size=batch_size, collate_fn=tonic.collation.PadTensors())"
   ]
  },
  {
   "cell_type": "markdown",
   "id": "528fe384-a365-4b53-bbfc-ed4dd261d222",
   "metadata": {},
   "source": [
    "A mini-batch now has the dimensions (time steps, batch size, channels, height, width). The number of time steps will be the one of the longest recording in the mini-batch, as all other samples have been padded with zeros."
   ]
  },
  {
   "cell_type": "code",
   "execution_count": null,
   "id": "c9e37337-ad4a-43d5-b429-81a18de5148e",
   "metadata": {},
   "outputs": [],
   "source": [
    "event_tensor, target = next(iter(trainloader))\n",
    "print(event_tensor.shape)"
   ]
  },
  {
   "cell_type": "markdown",
   "id": "61ae5d4b-2bb3-4191-9f96-04b3c6ba4c41",
   "metadata": {},
   "source": [
    "## Defining our network"
   ]
  },
  {
   "cell_type": "code",
   "execution_count": null,
   "id": "107cb645-0227-4290-9e1b-25d6ae7eac87",
   "metadata": {},
   "outputs": [],
   "source": []
  },
  {
   "cell_type": "markdown",
   "id": "23569dfc-e4a7-490f-8a68-c9ade5e03028",
   "metadata": {},
   "source": [
    "## Training"
   ]
  },
  {
   "cell_type": "code",
   "execution_count": 14,
   "id": "a69416ee-bc8e-4f17-b6eb-a2ba396a08f0",
   "metadata": {},
   "outputs": [],
   "source": [
    "for i, (event_tensors, targets) in enumerate(iter(trainloader)):\n",
    "    # train here\n",
    "    break"
   ]
  }
 ],
 "metadata": {
  "kernelspec": {
   "display_name": "Python 3 (ipykernel)",
   "language": "python",
   "name": "python3"
  },
  "language_info": {
   "codemirror_mode": {
    "name": "ipython",
    "version": 3
   },
   "file_extension": ".py",
   "mimetype": "text/x-python",
   "name": "python",
   "nbconvert_exporter": "python",
   "pygments_lexer": "ipython3",
   "version": "3.8.11"
  }
 },
 "nbformat": 4,
 "nbformat_minor": 5
}
