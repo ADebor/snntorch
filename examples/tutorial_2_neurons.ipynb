{
  "nbformat": 4,
  "nbformat_minor": 0,
  "metadata": {
    "kernelspec": {
      "name": "python3",
      "language": "python",
      "display_name": "Python 3"
    },
    "language_info": {
      "codemirror_mode": {
        "name": "ipython",
        "version": 2
      },
      "file_extension": ".py",
      "mimetype": "text/x-python",
      "name": "python",
      "nbconvert_exporter": "python",
      "pygments_lexer": "ipython2",
      "version": "2.7.6"
    },
    "colab": {
      "name": "tutorial_2_FCN.ipynb",
      "provenance": [],
      "toc_visible": true
    }
  },
  "cells": [
    {
      "cell_type": "markdown",
      "metadata": {
        "collapsed": false,
        "pycharm": {
          "name": "#%% md\n"
        },
        "id": "rtrNT4NPRp7r"
      },
      "source": [
        "<img src='https://github.com/jeshraghian/snntorch/blob/master/docs/_static/img/snntorch_alpha_w.png?raw=true' width=\"400\">\n",
        "\n",
        "# snnTorch - Neuronal Dynamics with ``snntorch``\n",
        "## Tutorial 2\n",
        "### By Jason K. Eshraghian\n",
        "\n",
        "<a href=\"https://colab.research.google.com/github/jeshraghian/snntorch/blob/tutorials/examples/tutorial_2_neurons.ipynb\">\n",
        "  <img src=\"https://colab.research.google.com/assets/colab-badge.svg\" alt=\"Open In Colab\"/>\n",
        "</a>"
      ]
    },
    {
      "cell_type": "markdown",
      "metadata": {
        "collapsed": false,
        "id": "TKy-qDQdRp73"
      },
      "source": [
        "# Introduction\n",
        "In this tutorial, you will learn how to:\n",
        "* Use snnTorch to implement leaky integrate-and-fire neuron models: \n",
        "  * Stein's neuron model\n",
        "  * A recursive version of the 0$^{th}$ Order Spike Response Model\n",
        "* Plot the output behavior of the neurons\n",
        "* Interpret the computational graph of a spiking neuron\n",
        "* Automatically initialize the hidden states of the neurons [keep in tute, but delete explanation]?\n",
        "* Implement a feedforward spiking neural network\n",
        "\n",
        "If running in Google Colab:\n",
        "* You may connect to GPU by checking `Runtime` > `Change runtime type` > `Hardware accelerator: GPU`\n",
        "* Next, install the latest PyPi distribution of snnTorch by clicking into the following cell and pressing `Shift+Enter`."
      ]
    },
    {
      "cell_type": "code",
      "metadata": {
        "pycharm": {
          "name": "#%%\n"
        },
        "id": "BgBRVUtpRp74",
        "colab": {
          "base_uri": "https://localhost:8080/"
        },
        "outputId": "fac800c2-9bda-4691-f3f9-88edb6f012a8"
      },
      "source": [
        "!pip install snntorch"
      ],
      "execution_count": 1,
      "outputs": [
        {
          "output_type": "stream",
          "text": [
            "Collecting snntorch\n",
            "  Downloading https://files.pythonhosted.org/packages/96/62/af42377ae9c7266bc1bdf63b3b58b9663a60a8e3510fb96d22b76e7ffb80/snntorch-0.2.1-py2.py3-none-any.whl\n",
            "Requirement already satisfied: numpy>=1.17 in /usr/local/lib/python3.7/dist-packages (from snntorch) (1.19.5)\n",
            "Requirement already satisfied: torch>=1.2.0 in /usr/local/lib/python3.7/dist-packages (from snntorch) (1.7.1+cu101)\n",
            "Collecting celluloid\n",
            "  Downloading https://files.pythonhosted.org/packages/60/a7/7fbe80721c6f1b7370c4e50c77abe31b4d5cfeb58873d4d32f48ae5a0bae/celluloid-0.2.0-py3-none-any.whl\n",
            "Requirement already satisfied: matplotlib in /usr/local/lib/python3.7/dist-packages (from snntorch) (3.2.2)\n",
            "Requirement already satisfied: pandas in /usr/local/lib/python3.7/dist-packages (from snntorch) (1.1.5)\n",
            "Requirement already satisfied: typing-extensions in /usr/local/lib/python3.7/dist-packages (from torch>=1.2.0->snntorch) (3.7.4.3)\n",
            "Requirement already satisfied: python-dateutil>=2.1 in /usr/local/lib/python3.7/dist-packages (from matplotlib->snntorch) (2.8.1)\n",
            "Requirement already satisfied: pyparsing!=2.0.4,!=2.1.2,!=2.1.6,>=2.0.1 in /usr/local/lib/python3.7/dist-packages (from matplotlib->snntorch) (2.4.7)\n",
            "Requirement already satisfied: cycler>=0.10 in /usr/local/lib/python3.7/dist-packages (from matplotlib->snntorch) (0.10.0)\n",
            "Requirement already satisfied: kiwisolver>=1.0.1 in /usr/local/lib/python3.7/dist-packages (from matplotlib->snntorch) (1.3.1)\n",
            "Requirement already satisfied: pytz>=2017.2 in /usr/local/lib/python3.7/dist-packages (from pandas->snntorch) (2018.9)\n",
            "Requirement already satisfied: six>=1.5 in /usr/local/lib/python3.7/dist-packages (from python-dateutil>=2.1->matplotlib->snntorch) (1.15.0)\n",
            "Installing collected packages: celluloid, snntorch\n",
            "Successfully installed celluloid-0.2.0 snntorch-0.2.1\n"
          ],
          "name": "stdout"
        }
      ]
    },
    {
      "cell_type": "markdown",
      "metadata": {
        "collapsed": false,
        "pycharm": {
          "name": "#%% md\n"
        },
        "id": "Zm-D2lthRp75"
      },
      "source": [
        "# 1. The Spectrum of Neuron Models\n",
        "A large variety of neuron models are out there, ranging from biophysically accurate models (i.e., the Hodgkin-Huxley models) to the grossly simplified artificial neuron that you may already be familiar with in your studies of deep learning. \n",
        "\n",
        "While biophysical models use experimental evidence to prove they are tightly linked to real neurons, their mathematical complexity makes them difficult to use. In fact, it is quite challenging to do anything useful beyond forecasting how a real neuron may respond to a stimulus. We expect this to change as neuroscientists continue to develop more rigorous theories of how neurons contribute to higher-order behaviors in the brain.\n",
        "\n",
        "On the other end of the spectrum is the artificial neuron. The inputs are multiplied by their corresponding weights, and passed through an activation function. If the artificial neuron wasn't so useful, it would be an insult to the complexity of a biophysical neuron. This simplification has enabled deep learning researchers to perform incredible feats in computer vision, natural language processing, and many other domains commonly associated with machine learning.\n",
        "\n",
        "Somewhere in the middle of the divide lies the leaky integrate-and-fire (LIF) neuron model. It takes the sum of weighted inputs, much like the artificial neuron. But rather than passing it directly to an activation function, it will integrate the input over time with a temporal decay, or 'leakage'. If the integrated value exceeds a threshold, then the LIF neuron will emit a voltage spike, loosely similar to the Hodgkin-Huxley (HH) models. Thus, the LIF neuron sits in the sweet spot between biological plausibility and practicality. \n",
        "\n",
        "<center>\n",
        "<img src='https://github.com/jeshraghian/snntorch/blob/master/docs/_static/img/examples/tutorial2/2_1_neuronmodels.png?raw=true' width=\"1000\">\n",
        "</center>\n",
        "\n",
        "Researchers might spend their entire lives dedicated to developing neuron models. Some of these models are straightforward extensions of the HH and LIF models, while other models find completely different applications, such as in neuropharmocology.\n",
        "\n",
        "The different versions of the LIF model each have their own temporal dynamics and different use-cases. snnTorch currently supports two types of LIF neurons:\n",
        "* Stein's neuron model: ``snntorch.Stein``\n",
        "* A recursive version of the 0$^{th}$ Order Spike Response Model: ``snntorch.SRM0``\n",
        "\n",
        "<!-- In general, the most obvious difference is that the SRM0 model incorporates a delay between the input and output. When an input spike arrives at an SRM0 neuron, the membrane potential will increase over a finite time. If an output spike were to be triggered, it would experience a delay with respect to the input. On the other hand, Stein's model allows for an instantaneous rise of membrane potential. We'll dig into where these might be useful shortly. -->\n",
        "\n",
        "Let's learn how they work by actually using them.\n"
      ]
    },
    {
      "cell_type": "markdown",
      "metadata": {
        "id": "o1Blltj3vmaV"
      },
      "source": [
        "# 2. Stein's LIF Neuron Model"
      ]
    },
    {
      "cell_type": "markdown",
      "metadata": {
        "id": "IPWDbYW3WazF"
      },
      "source": [
        "## 2.1 A Hands-on Approach\r\n",
        "First, import the libraries needed to run Stein's neuron model before we get into describing what's going on under the hood. "
      ]
    },
    {
      "cell_type": "code",
      "metadata": {
        "pycharm": {
          "name": "#%%\n"
        },
        "id": "sEygpdc8Rp76"
      },
      "source": [
        "import snntorch as snn\n",
        "import torch\n",
        "import torch.nn as nn"
      ],
      "execution_count": 2,
      "outputs": []
    },
    {
      "cell_type": "markdown",
      "metadata": {
        "id": "tzvWCDVSVFW9"
      },
      "source": [
        "Stein's neuron model takes one input and contains two internal states:\r\n",
        "* *Input:* current stimulus\r\n",
        "* *Hidden:* Membrane potential\r\n",
        "* *Hidden:* Synaptic current flow\r\n",
        "\r\n",
        "In absence of any input current stimulus, the membrane potential and synaptic current will simply decay to nothing over time. \r\n",
        "\r\n",
        "The decay rate of synaptic current flow is $\\alpha$. \r\n",
        "The decay rate of membrane potential is $\\beta$.\r\n",
        "\r\n",
        "At the very minimum, we need need to define $\\alpha =$ `alpha` and $\\beta=$ `beta` to create an instantiation of Stein's neuron model. As long as they are between 0 and 1, the membrane and synaptic current are guaranteed to decay.\r\n"
      ]
    },
    {
      "cell_type": "code",
      "metadata": {
        "id": "bOSU9C9CIVnF"
      },
      "source": [
        "# Arbitrarily choose alpha and beta; must be between 0 and 1\r\n",
        "alpha = 0.6\r\n",
        "beta = 0.8\r\n",
        "\r\n",
        "# Number of time steps to simulate\r\n",
        "num_steps = 50"
      ],
      "execution_count": 6,
      "outputs": []
    },
    {
      "cell_type": "markdown",
      "metadata": {
        "id": "uxC1vVQsJdKr"
      },
      "source": [
        "Instantiating a Stein neuron only requires the following line of code:"
      ]
    },
    {
      "cell_type": "code",
      "metadata": {
        "id": "20enqmICHbhF"
      },
      "source": [
        "# leaky integrate and fire neuron\r\n",
        "lif1 = snn.Stein(alpha=alpha, beta=beta)"
      ],
      "execution_count": 7,
      "outputs": []
    },
    {
      "cell_type": "markdown",
      "metadata": {
        "id": "DV7r9BcyJ5ZZ"
      },
      "source": [
        "To use this neuron, the input and the two hidden states must be initialized.\r\n",
        "\r\n",
        "Additionally, the neuron needs a place to pass its output spikes. So let's initialize the following for the first time step:\r\n",
        "\r\n",
        "* $I_{\\rm syn}[t=0] = 0.15;$ *synaptic current:* `syn`\r\n",
        "* $U[t=0] = 0.6;$ *membrane potential:* `mem`\r\n",
        "* $S_{\\rm in}[t]=0;$  *input spikes:* `spk_in`\r\n",
        "> We want to find out what happens to $I_{\\rm syn}$ and $U$ when there is no input. So a 1-D tensor of length `num_steps` with an entry of `0` at each time step is applied as input.\r\n",
        "\r\n",
        "* $S_{\\rm out}[t=0] = 0;$ *output spike:* `spk_out`\r\n",
        "\r\n",
        "These all need to be of type `torch.Tensor`."
      ]
    },
    {
      "cell_type": "code",
      "metadata": {
        "id": "uq-Zj1QyKC02"
      },
      "source": [
        "# Initialize hidden states, input, and output\r\n",
        "syn = torch.ones(1) * 0.15  # synaptic current of 0.15 at t=0\r\n",
        "mem = torch.ones(1) * 0.6  # membrane potential of 0.6 at t=0\r\n",
        "spk_in = torch.zeros(num_steps)  # input is 0 for all t \r\n",
        "spk_out = torch.zeros(1)  # neuron needs somewhere to sequentially dump its output spikes"
      ],
      "execution_count": 8,
      "outputs": []
    },
    {
      "cell_type": "markdown",
      "metadata": {
        "id": "p2HyRVSeMYFT"
      },
      "source": [
        "We'd like to understand how the hidden states, `mem` and `syn` evolve over time. The lists `mem_rec` and `syn_rec` are initialized to record these values at every time step. We can do the same for `spk_out` too."
      ]
    },
    {
      "cell_type": "code",
      "metadata": {
        "id": "WlQCyIxdMhVV"
      },
      "source": [
        "# Initialize a place to store recordings of current, potential, and spikes\r\n",
        "syn_rec = [syn]\r\n",
        "mem_rec = [mem]\r\n",
        "spk_rec = [spk_out]"
      ],
      "execution_count": 9,
      "outputs": []
    },
    {
      "cell_type": "markdown",
      "metadata": {
        "id": "PhNOpONCLKN2"
      },
      "source": [
        "Now it's time to run a simulation! Here's what's going to happen:\r\n",
        "* Each element of `spk_in` is sequentially passed into Stein's neuron model, `lif1`. Recall these are all `0`. This is done using a for-loop.\r\n",
        "* The present time value of both hidden states `syn` and `mem` must also be passed into the neuron.\r\n",
        "* `lif1` will return three things:\r\n",
        "  * $S_{\\rm out}[t+1];$ *output spike at t+1:* `spk_out`\r\n",
        "  * $I_{\\rm syn}[t+1];$ *synaptic current at t+1:* `syn`\r\n",
        "  * $U[t+1];$ *membrane potential at t+1:* `mem`\r\n",
        "\r\n",
        "We'll use the `append` command to store `spk`, `syn`, and `mem` into the recording lists. "
      ]
    },
    {
      "cell_type": "code",
      "metadata": {
        "id": "wB2y1ki7LU8d"
      },
      "source": [
        "for step in range(num_steps):\r\n",
        "  spk_out, syn, mem = lif1(spk_in[step], syn, mem)\r\n",
        "\r\n",
        "  # Store recordings of output and hidden states\r\n",
        "  spk_rec.append(spk_out)\r\n",
        "  syn_rec.append(syn)\r\n",
        "  mem_rec.append(mem)"
      ],
      "execution_count": 10,
      "outputs": []
    },
    {
      "cell_type": "markdown",
      "metadata": {
        "id": "nPrtFfHqQKpl"
      },
      "source": [
        "Well that was simple. \r\n",
        "\r\n",
        "Let's take a look at how the membrane potential and synaptic current evolved."
      ]
    },
    {
      "cell_type": "code",
      "metadata": {
        "colab": {
          "base_uri": "https://localhost:8080/",
          "height": 294
        },
        "id": "WLxpByDPQQJn",
        "outputId": "0b47e83c-c2c1-4621-b338-6ee8f4974c3a"
      },
      "source": [
        "import matplotlib.pyplot as plt\r\n",
        "\r\n",
        "plt.title(\"Stein's Neuron Model\")\r\n",
        "plt.plot(mem_rec, label=\"Membrane Potential\")\r\n",
        "plt.plot(syn_rec, label=\"Synaptic Current\")\r\n",
        "plt.xlabel(\"Time step\")\r\n",
        "plt.ylabel(\"Hidden States\")\r\n",
        "plt.legend()\r\n",
        "plt.show()"
      ],
      "execution_count": 11,
      "outputs": [
        {
          "output_type": "display_data",
          "data": {
            "image/png": "[encoded data removed]",
            "text/plain": [
              "<Figure size 432x288 with 1 Axes>"
            ]
          },
          "metadata": {
            "tags": [],
            "needs_background": "light"
          }
        }
      ]
    },
    {
      "cell_type": "markdown",
      "metadata": {
        "id": "ronr3xxzHc9v"
      },
      "source": [
        "So we've convinced ourselves that the membrane and synapse will decay over time. \r\n",
        "\r\n",
        "Let's take a look at what the output spike recording looks like:"
      ]
    },
    {
      "cell_type": "code",
      "metadata": {
        "colab": {
          "base_uri": "https://localhost:8080/"
        },
        "id": "gCcrRGoLSUSY",
        "outputId": "49d751b4-dc0c-423e-c1e2-b475b8601e51"
      },
      "source": [
        "print(spk_rec)"
      ],
      "execution_count": 14,
      "outputs": [
        {
          "output_type": "stream",
          "text": [
            "[tensor([0.]), tensor([0.]), tensor([0.]), tensor([0.]), tensor([0.]), tensor([0.]), tensor([0.]), tensor([0.]), tensor([0.]), tensor([0.]), tensor([0.]), tensor([0.]), tensor([0.]), tensor([0.]), tensor([0.]), tensor([0.]), tensor([0.]), tensor([0.]), tensor([0.]), tensor([0.]), tensor([0.]), tensor([0.]), tensor([0.]), tensor([0.]), tensor([0.]), tensor([0.]), tensor([0.]), tensor([0.]), tensor([0.]), tensor([0.]), tensor([0.]), tensor([0.]), tensor([0.]), tensor([0.]), tensor([0.]), tensor([0.]), tensor([0.]), tensor([0.]), tensor([0.]), tensor([0.]), tensor([0.]), tensor([0.]), tensor([0.]), tensor([0.]), tensor([0.]), tensor([0.]), tensor([0.]), tensor([0.]), tensor([0.]), tensor([0.]), tensor([0.])]\n"
          ],
          "name": "stdout"
        }
      ]
    },
    {
      "cell_type": "markdown",
      "metadata": {
        "id": "eh38sXt2SZEf"
      },
      "source": [
        "Just a bunch of zeros, huh? Not that exciting. \r\n",
        "\r\n",
        "The thing is, the membrane potential $U$ must increase to a high enough value, i.e. its threshold $U_{\\rm thr}$, before the neuron can generate its own spikes. \r\n",
        "\r\n",
        "We need the input $S_{\\rm in}$ to be something other than 0 in order to excite the neuron."
      ]
    },
    {
      "cell_type": "markdown",
      "metadata": {
        "id": "FsYboW39jFxB"
      },
      "source": [
        "### 2.1.1 Generating Input Spikes\r\n",
        "Let's use some of the skills we learnt in [Tutorial 1](https://colab.research.google.com/github/jeshraghian/snntorch/blob/tutorials/examples/tutorial_1_spikegen.ipynb), and use the `snntorch.spikegen` module to create some randomly generated input spikes for Stein's neuron model."
      ]
    },
    {
      "cell_type": "code",
      "metadata": {
        "id": "GNbAoU-nS_Ry"
      },
      "source": [
        "from snntorch import spikegen \r\n",
        "\r\n",
        "# Create a 1-D random spike train. Each element has a probability of 10% of firing.\r\n",
        "spk_in = spikegen.rate_conv(torch.ones((num_steps)) * 0.10)"
      ],
      "execution_count": 15,
      "outputs": []
    },
    {
      "cell_type": "markdown",
      "metadata": {
        "id": "8jNLtwZCTWkh"
      },
      "source": [
        "It's pretty easy to see how many spikes have been generated by doing a quick count, and also a raster plot using the `snntorch.spikeplot`."
      ]
    },
    {
      "cell_type": "code",
      "metadata": {
        "colab": {
          "base_uri": "https://localhost:8080/",
          "height": 150
        },
        "id": "87rWsqlVTQP_",
        "outputId": "b4cd9a21-246f-49c2-961e-2fcde9eb9d2c"
      },
      "source": [
        "# Tell me the number of spikes\r\n",
        "print(f\"There are {sum(spk_in)} total spikes in spike_rand out of {len(spk_in)} time steps.\")\r\n",
        "\r\n",
        "# Now show me the spikes\r\n",
        "from snntorch import spikeplot as splt\r\n",
        "\r\n",
        "fig = plt.figure(facecolor=\"w\", figsize=(8, 1))\r\n",
        "ax = fig.add_subplot(111)\r\n",
        "\r\n",
        "splt.raster(spk_in.reshape(num_steps, -1), ax, s=100, c=\"black\", marker=\"|\")\r\n",
        "\r\n",
        "plt.title(\"Input Neuron\")\r\n",
        "plt.xlabel(\"Time step\")\r\n",
        "plt.yticks([])\r\n",
        "plt.show()"
      ],
      "execution_count": 16,
      "outputs": [
        {
          "output_type": "stream",
          "text": [
            "There are 5.0 total spikes in spike_rand out of 50 time steps.\n"
          ],
          "name": "stdout"
        },
        {
          "output_type": "display_data",
          "data": {
            "image/png": "[encoded data removed]",
            "text/plain": [
              "<Figure size 576x72 with 1 Axes>"
            ]
          },
          "metadata": {
            "tags": []
          }
        }
      ]
    },
    {
      "cell_type": "markdown",
      "metadata": {
        "id": "HhT2fQcgWsde"
      },
      "source": [
        "### 2.1.2 Passing input spikes to the neuron\r\n",
        "These inputs spikes are now fed into the neuron. Each spike from `spk_in` has a value of `1`, while an absence of a spike is `0`. In an actual neural network, the input spikes would usually be weighted between -1 and 1 by the synapses that connect neurons together. So let's first reduce the strength of each spike arbitrarily to 40% (i.e., 1 $\\rightarrow$ 0.4).\r\n",
        "\r\n",
        "Don't forget to re-initialize the hidden and output variables as this is a new simulation run."
      ]
    },
    {
      "cell_type": "code",
      "metadata": {
        "id": "86Phoku1VLEN"
      },
      "source": [
        "# Reduce input spike strength\r\n",
        "spk_in = spk_in * 0.4\r\n",
        "\r\n",
        "# Refresh all our hidden and output variables\r\n",
        "syn = torch.ones(1) * 0.15  # synaptic current of 0.15 at t=0\r\n",
        "mem = torch.ones(1) * 0.6  # membrane potential of 0.6 at t=0\r\n",
        "spk_out = torch.zeros(1)  # neuron needs somewhere to dump its output spikes\r\n",
        "\r\n",
        "# Create a trace of the variables of interest\r\n",
        "syn_rec = [syn]\r\n",
        "mem_rec = [mem]\r\n",
        "spk_rec = [spk_out]\r\n",
        "\r\n",
        "# Run the simulation\r\n",
        "for step in range(num_steps):\r\n",
        "  spk_out, syn, mem = lif1(spk_in[step], syn, mem)\r\n",
        "\r\n",
        "  # Store recordings of output and hidden states\r\n",
        "  spk_rec.append(spk_out)\r\n",
        "  syn_rec.append(syn)\r\n",
        "  mem_rec.append(mem)"
      ],
      "execution_count": 17,
      "outputs": []
    },
    {
      "cell_type": "markdown",
      "metadata": {
        "id": "F-ZYAGvBdyWP"
      },
      "source": [
        "Now to plot the results of our simulation."
      ]
    },
    {
      "cell_type": "code",
      "metadata": {
        "id": "HsJtYaeqzpZS",
        "outputId": "e9bd9723-a645-40ff-8d44-d989f40d23cf",
        "colab": {
          "base_uri": "https://localhost:8080/",
          "height": 395
        }
      },
      "source": [
        "from matplotlib import gridspec\r\n",
        "\r\n",
        "fig = plt.figure(facecolor=\"w\", figsize=(6, 6))\r\n",
        "spec = gridspec.GridSpec(ncols=1, nrows=3,\r\n",
        "                         height_ratios=[0.4, 1.8, 0.4])\r\n",
        "\r\n",
        "# Plot input spikes\r\n",
        "ax0 = fig.add_subplot(spec[0])\r\n",
        "splt.raster(spk_in.reshape(num_steps, -1), ax0, s=100, c=\"black\", marker=\"|\")\r\n",
        "plt.ylabel(\"Input spikes\")\r\n",
        "plt.yticks([]) \r\n",
        "\r\n",
        "# Plot hidden spikes\r\n",
        "ax1 = fig.add_subplot(spec[1], sharex = ax0)\r\n",
        "plt.plot(mem_rec, label=\"Membrane Potential\")\r\n",
        "plt.plot(syn_rec, label=\"Synaptic Current\")\r\n",
        "plt.hlines(lif1.threshold, 0, num_steps, colors='black', linestyles='dashed', label='Threshold')  # Plots a threshold bar\r\n",
        "plt.ylabel(\"Hidden States\")\r\n",
        "# plt.xticks([]) \r\n",
        "plt.legend()\r\n",
        "\r\n",
        "# Plot output spikes generated by neuron\r\n",
        "ax2 = fig.add_subplot(spec[2], sharex = ax1)\r\n",
        "splt.raster(torch.tensor(spk_rec[0:50]).reshape(num_steps, -1), ax2, s=100, c=\"black\", marker=\"|\")\r\n",
        "plt.yticks([]) \r\n",
        "plt.xlabel(\"Time step\")\r\n",
        "plt.ylabel(\"Output spikes\")\r\n",
        "plt.xticks()\r\n",
        "\r\n",
        "plt.show()"
      ],
      "execution_count": 18,
      "outputs": [
        {
          "output_type": "display_data",
          "data": {
            "image/png": "[encoded data removed]",
            "text/plain": [
              "<Figure size 432x432 with 3 Axes>"
            ]
          },
          "metadata": {
            "tags": []
          }
        }
      ]
    },
    {
      "cell_type": "markdown",
      "metadata": {
        "id": "Fur1IG-ReBt8"
      },
      "source": [
        "> Note: if no output spikes were generated, this is most likely because the input had insufficient spiking to enable the membrane to reach the threshold. You might want to rerun everything from the following code block:\r\n",
        "\r\n",
        "> `spk_in = spikegen.rate_conv(torch.ones((num_steps)) * 0.10)`\r\n",
        "\r\n",
        "> Increasing the value from `0.10` should increase your input firing frequency.\r\n",
        "\r\n",
        "Here are a few observations that will give you intuition behind how this leaky integrate-and-fire neuron behaves:\r\n",
        "\r\n",
        "1.   **Leaky**: When there is no input spike, the membrane and synaptic current both decay. That's what is meant by the **leaky** in **leaky integrate-and-fire**. \r\n",
        "2.   **Integrate**: Every time an input spike occurs, note how the neuron's synaptic current increases by the same amount (if there are larger jumps, this is likely due to multiple input spikes occurring very closely to each other). Here, our spikes have been scaled by a factor of 0.4, so the increase of current is also 0.4. The synaptic current is added to the membrane potential at every time step, which causes larger jumps in membrane potential. That is to say, the current **integrates** the input spikes, and the membrane **integrates** the curent.\r\n",
        "3.   **Fire**: When the membrane potential reaches the threshold (set to 1.0 by default), an output spike is emitted. That's what is meant by **fire**. \r\n"
      ]
    },
    {
      "cell_type": "markdown",
      "metadata": {
        "id": "W2HUZozqjUgb"
      },
      "source": [
        "### 2.1.3 The Firing Threshold\r\n",
        "What might we expect if the threshold was decreased? \r\n",
        "\r\n",
        "This would make it easier for the membrane to reach the lower threshold. Therefore, more output spikes should be induced. Let's verify our theory by initializing another Stein neuron model, but this time explicitly passing `threshold=0.5` as an argument to override the default threshold:"
      ]
    },
    {
      "cell_type": "code",
      "metadata": {
        "id": "GZuximGegQqn"
      },
      "source": [
        "# leaky integrate and fire neuron\r\n",
        "lif2 = snn.Stein(alpha=alpha, beta=beta, threshold=0.5)"
      ],
      "execution_count": 39,
      "outputs": []
    },
    {
      "cell_type": "markdown",
      "metadata": {
        "id": "X4IFpB8ig4nq"
      },
      "source": [
        "`alpha` and `beta` are both the same as before. The only thing that has changed is the threshold.\r\n",
        "\r\n",
        "Now let's reinitialize our state variables, our outputs, and pass the exact same input spikes back into the neuron:"
      ]
    },
    {
      "cell_type": "code",
      "metadata": {
        "id": "LQGkd2ipg4Nt"
      },
      "source": [
        "# Refresh all our hidden and output variables\r\n",
        "syn = torch.ones(1) * 0.15  # synaptic current of 0.15 at t=0\r\n",
        "mem = torch.ones(1) * 0.6  # membrane potential of 0.6 at t=0\r\n",
        "spk_out = torch.zeros(1)  # neuron needs somewhere to dump its output spikes\r\n",
        "\r\n",
        "syn_rec = [syn]\r\n",
        "mem_rec = [mem]\r\n",
        "spk_rec = [spk_out]\r\n",
        "\r\n",
        "for step in range(num_steps):\r\n",
        "  spk_out, syn, mem = lif2(spk_in[step], syn, mem)\r\n",
        "\r\n",
        "  # Store recordings of output and hidden states\r\n",
        "  spk_rec.append(spk_out)\r\n",
        "  syn_rec.append(syn)\r\n",
        "  mem_rec.append(mem)"
      ],
      "execution_count": 40,
      "outputs": []
    },
    {
      "cell_type": "markdown",
      "metadata": {
        "id": "tUPmPFOFhTHt"
      },
      "source": [
        "Plotting the above results:"
      ]
    },
    {
      "cell_type": "code",
      "metadata": {
        "colab": {
          "base_uri": "https://localhost:8080/",
          "height": 395
        },
        "id": "GLXRaAz6hSEK",
        "outputId": "d87c0bfb-c789-4028-c2ac-172e821246eb"
      },
      "source": [
        "fig = plt.figure(facecolor=\"w\", figsize=(6, 6))\r\n",
        "spec = gridspec.GridSpec(ncols=1, nrows=3,\r\n",
        "                         height_ratios=[0.4, 1.8, 0.4])\r\n",
        "\r\n",
        "# Plot input spikes\r\n",
        "ax0 = fig.add_subplot(spec[0])\r\n",
        "splt.raster(spk_in.reshape(num_steps, -1), ax0, s=100, c=\"black\", marker=\"|\")\r\n",
        "plt.ylabel(\"Input spikes\")\r\n",
        "plt.yticks([]) \r\n",
        "\r\n",
        "# Plot hidden states\r\n",
        "ax1 = fig.add_subplot(spec[1], sharex = ax0)\r\n",
        "plt.plot(mem_rec, label=\"Membrane Potential\")\r\n",
        "plt.plot(syn_rec, label=\"Synaptic Current\")\r\n",
        "plt.hlines(lif2.threshold, 0, num_steps, colors=None, linestyles='dashed', label='Threshold')  # Plots a threshold bar\r\n",
        "plt.ylabel(\"Hidden States\")\r\n",
        "# plt.xticks([]) \r\n",
        "plt.legend()\r\n",
        "\r\n",
        "# Plot output spikes generated by neuron\r\n",
        "ax2 = fig.add_subplot(spec[2], sharex = ax1)\r\n",
        "splt.raster(torch.tensor(spk_rec[0:50]).reshape(num_steps, -1), ax2, s=100, c=\"black\", marker=\"|\")\r\n",
        "plt.yticks([]) \r\n",
        "plt.xlabel(\"Time step\")\r\n",
        "plt.ylabel(\"Output spikes\")\r\n",
        "plt.xticks()\r\n",
        "\r\n",
        "plt.show()"
      ],
      "execution_count": 41,
      "outputs": [
        {
          "output_type": "display_data",
          "data": {
            "image/png": "[encoded data removed]",
            "text/plain": [
              "<Figure size 432x432 with 3 Axes>"
            ]
          },
          "metadata": {
            "tags": []
          }
        }
      ]
    },
    {
      "cell_type": "markdown",
      "metadata": {
        "id": "IYF8EFwJXWbF"
      },
      "source": [
        "Looks like our theory was right! Dropping our threshold generates more spiking."
      ]
    },
    {
      "cell_type": "markdown",
      "metadata": {
        "id": "HMW0OMdVjiBr"
      },
      "source": [
        "### 2.1.4 The Reset Mechanism \r\n",
        "One more thing worth noting is how the membrane potential experiences a sharp drop every time the neuron emits an output spike. This sharp drops promotes a reduction of spike generation, which supplements part of the theory on how brains are so power efficient. Biologically, this is known as the 'refractory period' where the the neuron's firing ability is suppressed. Here, we use a reset mechanism to crudely model the refractory period. \r\n",
        "\r\n",
        "There are two ways to implement the reset mechanism:\r\n",
        "\r\n",
        "1.  *reset by subtraction* (default) $-$ subtract the threshold from the membrane potential each time a spike is generated;\r\n",
        "2.   *reset to zero* $-$ force the membrane potential to zero each time a spike is generated.\r\n",
        "\r\n",
        "Let's instantiate another neuron model to demonstrate how to alternate between reset mechanisms. \r\n",
        "\r\n",
        "All neurons have an optional argument called `reset_mechanism`. By default, *reset by subtraction* is used but can also be explicitly called with the `reset_mechanism = \"subtract\"` argument. Let's override this to *reset to zero* by setting `reset_mechanism = \"zero\"`."
      ]
    },
    {
      "cell_type": "code",
      "metadata": {
        "id": "LGzBdrGSlFw3"
      },
      "source": [
        "# leaky integrate and fire neuron\r\n",
        "lif3 = snn.Stein(alpha=alpha, beta=beta, threshold=0.5, reset_mechanism=\"zero\")"
      ],
      "execution_count": 25,
      "outputs": []
    },
    {
      "cell_type": "code",
      "metadata": {
        "id": "QAIeKNE9lkkn"
      },
      "source": [
        "# Refresh all our hidden and output variables\r\n",
        "syn = torch.ones(1) * 0.15  # synaptic current of 0.15 at t=0\r\n",
        "mem = torch.ones(1) * 0.6  # membrane potential of 0.6 at t=0\r\n",
        "spk_out = torch.zeros(1)  # neuron needs somewhere to dump its output spikes\r\n",
        "\r\n",
        "syn_rec_zero = [syn]\r\n",
        "mem_rec_zero = [mem]\r\n",
        "spk_rec_zero = [spk_out]\r\n",
        "\r\n",
        "# Run simulation\r\n",
        "for step in range(num_steps):\r\n",
        "  spk_out, syn, mem = lif3(spk_in[step], syn, mem)\r\n",
        "\r\n",
        "  # Store recordings of output and hidden states\r\n",
        "  spk_rec_zero.append(spk_out)\r\n",
        "  syn_rec_zero.append(syn)\r\n",
        "  mem_rec_zero.append(mem)"
      ],
      "execution_count": 42,
      "outputs": []
    },
    {
      "cell_type": "code",
      "metadata": {
        "colab": {
          "base_uri": "https://localhost:8080/",
          "height": 404
        },
        "id": "32JHuRpelrGz",
        "outputId": "5ce11848-4f86-46f5-9e5b-2a23ce190a48"
      },
      "source": [
        "# Plot a comparison between the reset mechanisms \r\n",
        "\r\n",
        "fig = plt.figure(facecolor=\"w\", figsize=(14, 6))\r\n",
        "spec = gridspec.GridSpec(ncols=2, nrows=3,\r\n",
        "                         height_ratios=[0.4, 1.8, 0.4])\r\n",
        "\r\n",
        "# Plot input spikes\r\n",
        "ax0 = fig.add_subplot(spec[0])\r\n",
        "splt.raster(spk_in.reshape(num_steps, -1), ax0, s=100, c=\"black\", marker=\"|\")\r\n",
        "plt.ylabel(\"Input spikes\")\r\n",
        "plt.yticks([]) \r\n",
        "plt.title(\"Reset to Zero\")\r\n",
        "\r\n",
        "ax1 = fig.add_subplot(spec[1])\r\n",
        "splt.raster(spk_in.reshape(num_steps, -1), ax1, s=100, c=\"black\", marker=\"|\")\r\n",
        "plt.ylabel(\"Input spikes\")\r\n",
        "plt.yticks([]) \r\n",
        "plt.title(\"Reset by Subtraction\")\r\n",
        "\r\n",
        "# Plot hidden states: reset to zero\r\n",
        "ax2 = fig.add_subplot(spec[2], sharex = ax0)\r\n",
        "plt.plot(mem_rec_zero, label=\"Membrane Potential\")\r\n",
        "plt.plot(syn_rec_zero, label=\"Synaptic Current\")\r\n",
        "plt.hlines(lif3.threshold, 0, num_steps, colors=None, linestyles='dashed', label='Threshold')  # Plots a threshold bar\r\n",
        "plt.ylabel(\"Hidden States\")\r\n",
        "plt.legend()\r\n",
        "\r\n",
        "# Plot hidden states: reset by subtraction\r\n",
        "ax3 = fig.add_subplot(spec[3], sharex = ax1)\r\n",
        "plt.plot(mem_rec, label=\"Membrane Potential\")\r\n",
        "plt.plot(syn_rec, label=\"Synaptic Current\")\r\n",
        "plt.hlines(lif2.threshold, 0, num_steps, colors=None, linestyles='dashed', label='Threshold')  # Plots a threshold bar\r\n",
        "plt.ylabel(\"Hidden States\")\r\n",
        "plt.legend()\r\n",
        "\r\n",
        "# Plot output spikes generated by neuron\r\n",
        "ax4 = fig.add_subplot(spec[4], sharex = ax0)\r\n",
        "splt.raster(torch.tensor(spk_rec_zero[0:50]).reshape(num_steps, -1), ax4, s=100, c=\"black\", marker=\"|\")\r\n",
        "plt.yticks([]) \r\n",
        "plt.xlabel(\"Time step\")\r\n",
        "plt.ylabel(\"Output spikes\")\r\n",
        "plt.xticks()\r\n",
        "\r\n",
        "ax5 = fig.add_subplot(spec[5], sharex = ax1)\r\n",
        "splt.raster(torch.tensor(spk_rec[0:50]).reshape(num_steps, -1), ax5, s=100, c=\"black\", marker=\"|\")\r\n",
        "plt.yticks([]) \r\n",
        "plt.xlabel(\"Time step\")\r\n",
        "plt.ylabel(\"Output spikes\")\r\n",
        "plt.xticks()\r\n",
        "\r\n",
        "plt.show()"
      ],
      "execution_count": 49,
      "outputs": [
        {
          "output_type": "display_data",
          "data": {
            "image/png": "[encoded data removed]",
            "text/plain": [
              "<Figure size 1008x432 with 6 Axes>"
            ]
          },
          "metadata": {
            "tags": []
          }
        }
      ]
    },
    {
      "cell_type": "markdown",
      "metadata": {
        "id": "lfRL7Xggl4LH"
      },
      "source": [
        "Pay close attention to the evolution of the membrane potential, especially in the moments after it reaches the threshold. Although quite similar, it is possible to see for \"Reset to Zero\", the membrane potential is forced back to zero after each spike.  \r\n",
        "\r\n",
        "So which one is better? Applying `\"subtract\"` (the default value in `reset_mechanism`) loses less information, because `\"zero\"` will ignore how much the membrane exceeds the threshold by.\r\n",
        "\r\n",
        "On the other hand, applying a hard reset with `\"zero\"` promotes sparsity and potentially less power consumption. Both options are available for you to experiment with. "
      ]
    },
    {
      "cell_type": "markdown",
      "metadata": {
        "id": "GjOVjE9YWhex"
      },
      "source": [
        "### 2.2 The Quantitative Approach\r\n",
        "\r\n",
        "By now, should have a feel for what's going on with the leaky integrate and fire neuron:\r\n",
        "\r\n",
        "1.   Input spikes are integrated by the synaptic current\r\n",
        "2.   The synaptic current decays at a rate, $\\alpha$\r\n",
        "3.   The membrane potential integrates the synaptic current, and decays at a rate $\\beta$\r\n",
        "4.   If the membrane potential reaches its threshold, it will emit a spike and reset by subtraction (default).\r\n",
        "\r\n",
        "Let's dig a bit deeper. Where do these dynamics come from? \r\n",
        "\r\n",
        "--> Neuronal Dynamics Circuit\r\n",
        "\r\n",
        "--> Accompanying Mathematical Description\r\n",
        "\r\n",
        "--> Mathematical description with reset function\r\n",
        "\r\n",
        "--> Computational graph\r\n",
        "\r\n",
        "Neural Network\r\n",
        "\r\n",
        "--> Population of Stein neuron models\r\n",
        "\r\n",
        "--> Combining it with nn.Linear"
      ]
    },
    {
      "cell_type": "markdown",
      "metadata": {
        "id": "jgw8e6_P8mLE"
      },
      "source": [
        "* First do a code demo. Watch the membrane rise with incoming spikes [create a spiketrain using spikegen?]\r\n",
        "\r\n",
        "* Increasing the decay rate, change alpha/beta around\r\n",
        "\r\n",
        "* Electrical model of Stein's model [use the previous latency diagram]\r\n",
        "\r\n",
        "* computational graph of Stein's model interpretation\r\n",
        "\r\n",
        "* SRM0 model\r\n",
        "\r\n",
        "* First do a code demo and show the differences\r\n",
        "\r\n",
        "* Convolution interpretation\r\n",
        "\r\n",
        "* recurrent model\r\n",
        "\r\n",
        "* reset by zero, reset by subtraction\r\n",
        "\r\n",
        "* try concatenating many SRM0's together. bit painful. let's try hidden_init instead and show how that works. Call the instance variables etc. \r\n",
        "\r\n",
        "---\r\n",
        "\r\n"
      ]
    },
    {
      "cell_type": "markdown",
      "metadata": {
        "id": "sCPoBddn8lHU"
      },
      "source": [
        ""
      ]
    },
    {
      "cell_type": "markdown",
      "metadata": {
        "collapsed": false,
        "id": "RcX7J9vVRp76"
      },
      "source": [
        "### 1.2 Define network and SNN parameters\n",
        "We will use a 784-1000-10 FCN architecture for a sequence of 25 time steps.\n",
        "\n",
        "* `alpha` is the decay rate of the synaptic current of a neuron\n",
        "* `beta` is the decay rate of the membrane potential of a neuron"
      ]
    },
    {
      "cell_type": "code",
      "metadata": {
        "pycharm": {
          "name": "#%%\n"
        },
        "id": "bKEj2hucRp77"
      },
      "source": [
        "# Network Architecture\n",
        "num_inputs = 28*28\n",
        "num_hidden = 1000\n",
        "num_outputs = 10\n",
        "\n",
        "# Training Parameters\n",
        "batch_size=128\n",
        "data_path='/data/mnist'\n",
        "\n",
        "# Temporal Dynamics\n",
        "num_steps = 25\n",
        "time_step = 1e-3\n",
        "tau_mem = 3e-3\n",
        "tau_syn = 2.2e-3\n",
        "alpha = float(np.exp(-time_step/tau_syn))\n",
        "beta = float(np.exp(-time_step/tau_mem))\n",
        "\n",
        "dtype = torch.float\n",
        "device = torch.device(\"cuda\") if torch.cuda.is_available() else torch.device(\"cpu\")"
      ],
      "execution_count": null,
      "outputs": []
    },
    {
      "cell_type": "markdown",
      "metadata": {
        "collapsed": false,
        "pycharm": {
          "name": "#%% md\n"
        },
        "id": "gM_hcwDIRp78"
      },
      "source": [
        "### 1.3 Download MNIST Dataset\n",
        "To see how to construct a validation set, refer to Tutorial 1."
      ]
    },
    {
      "cell_type": "code",
      "metadata": {
        "pycharm": {
          "name": "#%%\n"
        },
        "id": "0xwYb15xRp79"
      },
      "source": [
        "# Define a transform\n",
        "transform = transforms.Compose([\n",
        "            transforms.Resize((28, 28)),\n",
        "            transforms.Grayscale(),\n",
        "            transforms.ToTensor(),\n",
        "            transforms.Normalize((0,), (1,))])\n",
        "\n",
        "mnist_train = datasets.MNIST(data_path, train=True, download=True, transform=transform)\n",
        "mnist_test = datasets.MNIST(data_path, train=False, download=True, transform=transform)"
      ],
      "execution_count": null,
      "outputs": []
    },
    {
      "cell_type": "markdown",
      "metadata": {
        "collapsed": false,
        "pycharm": {
          "name": "#%% md\n"
        },
        "id": "DIg3vLmURp7-"
      },
      "source": [
        "### 1.4 Create DataLoaders"
      ]
    },
    {
      "cell_type": "code",
      "metadata": {
        "pycharm": {
          "name": "#%%\n"
        },
        "id": "K4DF-odMRp7_"
      },
      "source": [
        "train_loader = DataLoader(mnist_train, batch_size=batch_size, shuffle=True, drop_last=True)\n",
        "test_loader = DataLoader(mnist_test, batch_size=batch_size, shuffle=True, drop_last=True)"
      ],
      "execution_count": null,
      "outputs": []
    },
    {
      "cell_type": "markdown",
      "metadata": {
        "collapsed": false,
        "pycharm": {
          "name": "#%% md\n"
        },
        "id": "pD4Dw-RoRp7_"
      },
      "source": [
        "## 2. Define Network\n",
        "snnTorch treats neurons as activations with recurrent connections. This allows for smooth integration with PyTorch.\n",
        "There are a few useful neuron models and surrogate gradient functions which approximate the gradient of spikes.\n",
        "\n",
        "Our network will use one type of neuron model and one surrogate gradient:\n",
        "1. `snntorch.Stein` is a basic leaky integrate and fire (LIF) neuron. Specifically, it assumes instantaneous rise times for synaptic current and membrane potential.\n",
        "2. `snntorch.FastSigmoidSurrogate` defines separate forward and backward functions. The forward function is a Heaviside step function for spike generation. The backward function is the derivative of a fast sigmoid function, to ensure continuous differentiability.\n",
        "The `FastSigmoidSurrogate` function has been adapted from:\n",
        "\n",
        ">Neftci, E. O., Mostafa, H., and Zenke, F. (2019) Surrogate Gradient Learning in Spiking Neural Networks. https://arxiv.org/abs/1901/09948"
      ]
    },
    {
      "cell_type": "code",
      "metadata": {
        "pycharm": {
          "name": "#%%\n"
        },
        "id": "Sf9RdE9jRp8A"
      },
      "source": [
        "# from snntorch import surrogate\n",
        "#\n",
        "# spike_grad = surrogate.FastSigmoid.apply\n",
        "# snn.slope = 50"
      ],
      "execution_count": null,
      "outputs": []
    },
    {
      "cell_type": "markdown",
      "metadata": {
        "collapsed": false,
        "pycharm": {
          "name": "#%% md\n"
        },
        "id": "Og9e57W0Rp8B"
      },
      "source": [
        "The surrogate is passed to `spike_grad` and overrides the default gradient of the Heaviside step function.\n",
        "If we did not override the default gradient, (zero everywhere, except for $x=1$ where it is technically infinite but clipped to 1 here), then learning would not take place for as long as the neuron was not emitting post-synaptic spikes.\n",
        "\n",
        "`snn.slope` defines the slope of the backward surrogate.\n",
        "\n",
        "TO-DO: Include visualisation."
      ]
    },
    {
      "cell_type": "markdown",
      "metadata": {
        "collapsed": false,
        "pycharm": {
          "name": "#%% md\n"
        },
        "id": "Yo-x48mARp8C"
      },
      "source": [
        "Now we can define our spiking neural network (SNN).\n",
        "Creating an instance of the `Stein` neuron requires two arguments and two optional arguments:\n",
        "1. $I_{syn}$ decay rate, $\\alpha$,\n",
        "2. $V_{mem}$ decay rate, $\\beta$,\n",
        "3. the surrogate spiking function, `spike_grad` (*default*: the gradient of the Heaviside function), and\n",
        "4. the threshold for spiking, (*default*: 1.0).\n",
        "\n",
        "snnTorch treats the LIF neuron as a recurrent activation. Therefore, it requires initialization of its internal states.\n",
        "For each layer, we initialize the synaptic current `syn1` and `syn2`, the membrane potential `mem1` and `mem2`, and the post-synaptic spikes `spk1` and `spk2` to zero.\n",
        "A class method `init_stein` will take care of this.\n",
        "\n",
        "For rate coding, the final layer of spikes and membrane potential are used to determine accuracy and loss, respectively.\n",
        "So their historical values are recorded in `spk2_rec` and `mem2_rec`.\n",
        "\n",
        "Keep in mind, the dataset we are using is just static MNIST. I.e., it is *not* time-varying.\n",
        "Therefore, we pass the same MNIST sample to the input at each time step.\n",
        "This is handled in the line `cur1 = self.fc1(x)`, where `x` is the same input over the whole for-loop."
      ]
    },
    {
      "cell_type": "code",
      "metadata": {
        "pycharm": {
          "name": "#%%\n"
        },
        "id": "P6RHCnXMRp8D"
      },
      "source": [
        "# Define Network\n",
        "class Net(nn.Module):\n",
        "    def __init__(self):\n",
        "        super().__init__()\n",
        "\n",
        "    # initialize layers\n",
        "        self.fc1 = nn.Linear(num_inputs, num_hidden)\n",
        "        self.lif1 = snn.Stein(alpha=alpha, beta=beta, spike_grad=spike_grad)\n",
        "        self.fc2 = nn.Linear(num_hidden, num_outputs)\n",
        "        self.lif2 = snn.Stein(alpha=alpha, beta=beta, spike_grad=spike_grad)\n",
        "\n",
        "    def forward(self, x):\n",
        "        spk1, syn1, mem1 = self.lif1.init_stein(batch_size, num_hidden)\n",
        "        spk2, syn2, mem2 = self.lif2.init_stein(batch_size, num_outputs)\n",
        "\n",
        "        spk2_rec = []\n",
        "        mem2_rec = []\n",
        "\n",
        "        for step in range(num_steps):\n",
        "            cur1 = self.fc1(x)\n",
        "            spk1, syn1, mem1 = self.lif1(cur1, syn1, mem1)\n",
        "            cur2 = self.fc2(spk1)\n",
        "            spk2, syn2, mem2 = self.lif2(cur2, syn2, mem2)\n",
        "\n",
        "            spk2_rec.append(spk2)\n",
        "            mem2_rec.append(mem2)\n",
        "\n",
        "        return torch.stack(spk2_rec, dim=0), torch.stack(mem2_rec, dim=0)\n",
        "\n",
        "net = Net().to(device)"
      ],
      "execution_count": null,
      "outputs": []
    },
    {
      "cell_type": "markdown",
      "metadata": {
        "collapsed": false,
        "pycharm": {
          "name": "#%% md\n"
        },
        "id": "386KNHG7Rp8E"
      },
      "source": [
        "## 3. Training\n",
        "Time for training! Let's first define a couple of functions to print out test/train accuracy."
      ]
    },
    {
      "cell_type": "code",
      "metadata": {
        "pycharm": {
          "name": "#%%\n"
        },
        "id": "cOKKbUnDRp8F"
      },
      "source": [
        "def print_batch_accuracy(data, targets, train=False):\n",
        "    output, _ = net(data.view(batch_size, -1))\n",
        "    _, idx = output.sum(dim=0).max(1)\n",
        "    acc = np.mean((targets == idx).detach().cpu().numpy())\n",
        "\n",
        "    if train:\n",
        "        print(f\"Train Set Accuracy: {acc}\")\n",
        "    else:\n",
        "        print(f\"Test Set Accuracy: {acc}\")\n",
        "\n",
        "def train_printer():\n",
        "    print(f\"Epoch {epoch}, Minibatch {minibatch_counter}\")\n",
        "    print(f\"Train Set Loss: {loss_hist[counter]}\")\n",
        "    print(f\"Test Set Loss: {test_loss_hist[counter]}\")\n",
        "    print_batch_accuracy(data_it, targets_it, train=True)\n",
        "    print_batch_accuracy(testdata_it, testtargets_it, train=False)\n",
        "    print(\"\\n\")"
      ],
      "execution_count": null,
      "outputs": []
    },
    {
      "cell_type": "markdown",
      "metadata": {
        "collapsed": false,
        "pycharm": {
          "name": "#%% md\n"
        },
        "id": "mZqfCe0KRp8J"
      },
      "source": [
        "### 3.1 Optimizer & Loss\n",
        "* *Output Activation*: We'll apply the softmax function to the membrane potentials of the output layer, rather than the spikes.\n",
        "* *Loss*: This will then be used to calculate the negative log-likelihood loss.\n",
        "By encouraging the membrane of the correct neuron class to reach the threshold, we expect that neuron will fire more frequently.\n",
        "The loss could be applied to the spike count as well, but the membrane is  continuous whereas spike count is discrete.\n",
        "* *Optimizer*: The Adam optimizer is used for weight updates.\n",
        "* *Accuracy*: Accuracy is measured by counting the spikes of the output neurons. The neuron that fires the most frequently will be our predicted class."
      ]
    },
    {
      "cell_type": "code",
      "metadata": {
        "pycharm": {
          "name": "#%%\n"
        },
        "id": "UMZ-4uGlRp8K"
      },
      "source": [
        "optimizer = torch.optim.Adam(net.parameters(), lr=2e-4, betas=(0.9, 0.999))\n",
        "log_softmax_fn = nn.LogSoftmax(dim=-1)\n",
        "loss_fn = nn.NLLLoss()"
      ],
      "execution_count": null,
      "outputs": []
    },
    {
      "cell_type": "markdown",
      "metadata": {
        "collapsed": false,
        "pycharm": {
          "name": "#%% md\n"
        },
        "id": "UerqLkd1Rp8K"
      },
      "source": [
        "### 3.2 Training Loop\n",
        "Now just sit back, relax, and wait for convergence."
      ]
    },
    {
      "cell_type": "code",
      "metadata": {
        "pycharm": {
          "name": "#%%\n"
        },
        "id": "76CEHI2xRp8L"
      },
      "source": [
        "loss_hist = []\n",
        "test_loss_hist = []\n",
        "counter = 0\n",
        "\n",
        "# Outer training loop\n",
        "for epoch in range(3):\n",
        "    minibatch_counter = 0\n",
        "    train_batch = iter(train_loader)\n",
        "\n",
        "    # Minibatch training loop\n",
        "    for data_it, targets_it in train_batch:\n",
        "        data_it = data_it.to(device)\n",
        "        targets_it = targets_it.to(device)\n",
        "\n",
        "        output, mem_rec = net(data_it.view(batch_size, -1))\n",
        "        log_p_y = log_softmax_fn(mem_rec)\n",
        "        loss_val = torch.zeros((1), dtype=dtype, device=device)\n",
        "\n",
        "        # Sum loss over time steps: BPTT\n",
        "        for step in range(num_steps):\n",
        "          loss_val += loss_fn(log_p_y[step], targets_it)\n",
        "\n",
        "        # Gradient calculation\n",
        "        optimizer.zero_grad()\n",
        "        loss_val.backward(retain_graph=True)\n",
        "\n",
        "        # Weight Update\n",
        "        nn.utils.clip_grad_norm_(net.parameters(), 1) # gradient clipping\n",
        "        optimizer.step()\n",
        "\n",
        "        # Store loss history for future plotting\n",
        "        loss_hist.append(loss_val.item())\n",
        "\n",
        "        # Test set\n",
        "        test_data = itertools.cycle(test_loader)\n",
        "        testdata_it, testtargets_it = next(test_data)\n",
        "        testdata_it = testdata_it.to(device)\n",
        "        testtargets_it = testtargets_it.to(device)\n",
        "\n",
        "        # Test set forward pass\n",
        "        test_output, test_mem_rec = net(testdata_it.view(batch_size, -1))\n",
        "\n",
        "        # Test set loss\n",
        "        log_p_ytest = log_softmax_fn(test_mem_rec)\n",
        "        log_p_ytest = log_p_ytest.sum(dim=0)\n",
        "        loss_val_test = loss_fn(log_p_ytest, testtargets_it)\n",
        "        test_loss_hist.append(loss_val_test.item())\n",
        "\n",
        "        # Print test/train loss/accuracy\n",
        "        if counter % 50 == 0:\n",
        "            train_printer()\n",
        "        minibatch_counter += 1\n",
        "        counter += 1\n",
        "\n",
        "loss_hist_true_grad = loss_hist\n",
        "test_loss_hist_true_grad = test_loss_hist"
      ],
      "execution_count": null,
      "outputs": []
    },
    {
      "cell_type": "markdown",
      "metadata": {
        "collapsed": false,
        "pycharm": {
          "name": "#%% md\n"
        },
        "id": "fdOuwCWHRp8L"
      },
      "source": [
        "## 4. Results\n",
        "### 4.1 Plot Training/Test Loss"
      ]
    },
    {
      "cell_type": "code",
      "metadata": {
        "pycharm": {
          "name": "#%%\n"
        },
        "id": "WJGSBq6zRp8M"
      },
      "source": [
        "# Plot Loss\n",
        "fig = plt.figure(facecolor=\"w\", figsize=(10, 5))\n",
        "plt.plot(loss_hist)\n",
        "plt.plot(test_loss_hist)\n",
        "plt.legend([\"Test Loss\", \"Train Loss\"])\n",
        "plt.xlabel(\"Epoch\")\n",
        "plt.ylabel(\"Loss\")\n",
        "plt.show()"
      ],
      "execution_count": null,
      "outputs": []
    },
    {
      "cell_type": "markdown",
      "metadata": {
        "collapsed": false,
        "pycharm": {
          "name": "#%% md\n"
        },
        "id": "h7xb37iHRp8N"
      },
      "source": [
        "### 4.2 Test Set Accuracy\n",
        "This function just iterates over all minibatches to obtain a measure of accuracy over the full 10,000 samples in the test set."
      ]
    },
    {
      "cell_type": "code",
      "metadata": {
        "pycharm": {
          "name": "#%%\n"
        },
        "id": "R1ReGuNURp8N"
      },
      "source": [
        "total = 0\n",
        "correct = 0\n",
        "test_loader = DataLoader(mnist_test, batch_size=batch_size, shuffle=True, drop_last=False)\n",
        "\n",
        "with torch.no_grad():\n",
        "  net.eval()\n",
        "  for data in test_loader:\n",
        "    images, labels = data\n",
        "    images = images.to(device)\n",
        "    labels = labels.to(device)\n",
        "\n",
        "    # If current batch matches batch_size, just do the usual thing\n",
        "    if images.size()[0] == batch_size:\n",
        "      outputs, _ = net(images.view(batch_size, -1))\n",
        "\n",
        "    # If current batch does not match batch_size (e.g., is the final minibatch),\n",
        "    # modify batch_size in a temp variable and restore it at the end of the else block\n",
        "    else:\n",
        "      temp_bs = batch_size\n",
        "      batch_size = images.size()[0]\n",
        "      outputs, _ = net(images.view(images.size()[0], -1))\n",
        "      batch_size = temp_bs\n",
        "\n",
        "    _, predicted = outputs.sum(dim=0).max(1)\n",
        "    total += labels.size(0)\n",
        "    correct += (predicted == labels).sum().item()\n",
        "\n",
        "print(f\"Total correctly classified test set images: {correct}/{total}\")\n",
        "print(f\"Test Set Accuracy: {100 * correct / total}%\")"
      ],
      "execution_count": null,
      "outputs": []
    },
    {
      "cell_type": "markdown",
      "metadata": {
        "collapsed": false,
        "pycharm": {
          "name": "#%% md\n"
        },
        "id": "zNJjSKATRp8N"
      },
      "source": [
        "Voila! That's it for static MNIST."
      ]
    },
    {
      "cell_type": "markdown",
      "metadata": {
        "collapsed": false,
        "pycharm": {
          "name": "#%% md\n"
        },
        "id": "2qUxjHwBRp8f"
      },
      "source": [
        "## 5. Spiking MNIST\n",
        "Part of the appeal of SNNs is their ability to handle time-varying spiking data. So let's use rate-coding to convert MNIST into spiking MNIST using the `spikegen` module in the previous tutorial, and train our network with that instead."
      ]
    },
    {
      "cell_type": "code",
      "metadata": {
        "pycharm": {
          "name": "#%%\n"
        },
        "id": "8K7_C-2rRp8g"
      },
      "source": [
        "from snntorch import spikegen\n",
        "\n",
        "# MNIST to spiking-MNIST\n",
        "spike_data, spike_targets = spikegen.rate(data_it, targets_it, num_outputs=num_outputs, num_steps=num_steps, gain=1,\n",
        "                                          offset=0, convert_targets=False, temporal_targets=False)"
      ],
      "execution_count": null,
      "outputs": []
    },
    {
      "cell_type": "markdown",
      "metadata": {
        "collapsed": false,
        "pycharm": {
          "name": "#%% md\n"
        },
        "id": "BvaNfns_Rp8h"
      },
      "source": [
        "### 5.1 Visualiser\n",
        "Just so you're damn sure it's a spiking input."
      ]
    },
    {
      "cell_type": "code",
      "metadata": {
        "pycharm": {
          "name": "#%%\n"
        },
        "id": "ll2D4jtdRp8i"
      },
      "source": [
        "!pip install celluloid # matplotlib animations made easy"
      ],
      "execution_count": null,
      "outputs": []
    },
    {
      "cell_type": "code",
      "metadata": {
        "pycharm": {
          "name": "#%%\n"
        },
        "id": "cJQ0XUAZRp8i"
      },
      "source": [
        "from celluloid import Camera\n",
        "from IPython.display import HTML\n",
        "\n",
        "# Animator\n",
        "spike_data_sample = spike_data[:, 0, 0].cpu()\n",
        "\n",
        "fig, ax = plt.subplots()\n",
        "camera = Camera(fig)\n",
        "plt.axis('off')\n",
        "\n",
        "for step in range(num_steps):\n",
        "    im = ax.imshow(spike_data_sample[step, :, :], cmap='plasma')\n",
        "    camera.snap()\n",
        "\n",
        "# interval=40 specifies 40ms delay between frames\n",
        "a = camera.animate(interval=40)\n",
        "HTML(a.to_html5_video())"
      ],
      "execution_count": null,
      "outputs": []
    },
    {
      "cell_type": "code",
      "metadata": {
        "pycharm": {
          "name": "#%%\n"
        },
        "id": "T-dMHLBbRp8k"
      },
      "source": [
        "print(spike_targets[0])"
      ],
      "execution_count": null,
      "outputs": []
    },
    {
      "cell_type": "markdown",
      "metadata": {
        "collapsed": false,
        "pycharm": {
          "name": "#%% md\n"
        },
        "id": "I63CROTaRp8k"
      },
      "source": [
        "## 6. Define Network\n",
        "The network is the same as before. The one difference is that the for-loop iterates through the first dimension of the input:\n",
        "`cur1 = self.fc1(x[step])`"
      ]
    },
    {
      "cell_type": "code",
      "metadata": {
        "pycharm": {
          "name": "#%%\n"
        },
        "id": "a_elvRYIRp8k"
      },
      "source": [
        "spike_grad = snn.FastSigmoidSurrogate.apply\n",
        "snn.slope = 50 # The lower the slope, the smoother the gradient\n",
        "\n",
        "# Define Network\n",
        "class Net(nn.Module):\n",
        "    def __init__(self):\n",
        "        super().__init__()\n",
        "\n",
        "        # Initialize layers\n",
        "        self.fc1 = nn.Linear(num_inputs, num_hidden)\n",
        "        self.lif1 = snn.Stein(alpha=alpha, beta=beta, spike_grad=spike_grad)\n",
        "        self.fc2 = nn.Linear(num_hidden, num_outputs)\n",
        "        self.lif2 = snn.Stein(alpha=alpha, beta=beta, spike_grad=spike_grad)\n",
        "\n",
        "    def forward(self, x):\n",
        "        # Initialize hidden states + output spike at t=0\n",
        "        spk1, syn1, mem1 = self.lif1.init_stein(batch_size, num_hidden)\n",
        "        spk2, syn2, mem2 = self.lif2.init_stein(batch_size, num_outputs)\n",
        "\n",
        "        spk2_rec = []\n",
        "        mem2_rec = []\n",
        "\n",
        "        for step in range(num_steps):\n",
        "            cur1 = self.fc1(x[step])\n",
        "            spk1, syn1, mem1 = self.lif1(cur1, syn1, mem1)\n",
        "            cur2 = self.fc2(spk1)\n",
        "            spk2, syn2, mem2 = self.lif2(cur2, syn2, mem2)\n",
        "\n",
        "            spk2_rec.append(spk2)\n",
        "            mem2_rec.append(mem2)\n",
        "\n",
        "        return torch.stack(spk2_rec, dim=0), torch.stack(mem2_rec, dim=0)\n",
        "\n",
        "net = Net().to(device)"
      ],
      "execution_count": null,
      "outputs": []
    },
    {
      "cell_type": "markdown",
      "metadata": {
        "collapsed": false,
        "pycharm": {
          "name": "#%% md\n"
        },
        "id": "E8utR7I9Rp8l"
      },
      "source": [
        "## 7. Training\n",
        "We make a slight modification to our print-out functions to handle the new first dimension of the input:"
      ]
    },
    {
      "cell_type": "code",
      "metadata": {
        "pycharm": {
          "name": "#%%\n"
        },
        "id": "FlkQt3skRp8l"
      },
      "source": [
        "def print_batch_accuracy(data, targets, train=False):\n",
        "    output, _ = net(data.view(num_steps, batch_size, -1))\n",
        "    _, idx = output.sum(dim=0).max(1)\n",
        "    acc = np.mean((targets == idx).detach().cpu().numpy())\n",
        "\n",
        "    if train:\n",
        "        print(f\"Train Set Accuracy: {acc}\")\n",
        "    else:\n",
        "        print(f\"Test Set Accuracy: {acc}\")\n",
        "\n",
        "def train_printer():\n",
        "    print(f\"Epoch {epoch}, Minibatch {minibatch_counter}\")\n",
        "    print(f\"Train Set Loss: {loss_hist[counter]}\")\n",
        "    print(f\"Test Set Loss: {test_loss_hist[counter]}\")\n",
        "    print_batch_accuracy(spike_data, spike_targets, train=True)\n",
        "    print_batch_accuracy(test_spike_data, test_spike_targets, train=False)\n",
        "    print(\"\\n\")\n"
      ],
      "execution_count": null,
      "outputs": []
    },
    {
      "cell_type": "markdown",
      "metadata": {
        "collapsed": false,
        "pycharm": {
          "name": "#%% md\n"
        },
        "id": "vbve35sDRp8l"
      },
      "source": [
        "### 7.1 Optimizer & Loss\n",
        "We'll keep our optimizer and loss the exact same as the static MNIST case."
      ]
    },
    {
      "cell_type": "code",
      "metadata": {
        "pycharm": {
          "name": "#%%\n"
        },
        "id": "10CH8RKHRp8l"
      },
      "source": [
        "optimizer = torch.optim.Adam(net.parameters(), lr=2e-4, betas=(0.9, 0.999))\n",
        "log_softmax_fn = nn.LogSoftmax(dim=-1)\n",
        "loss_fn = nn.NLLLoss()"
      ],
      "execution_count": null,
      "outputs": []
    },
    {
      "cell_type": "markdown",
      "metadata": {
        "collapsed": false,
        "pycharm": {
          "name": "#%% md\n"
        },
        "id": "Ef0TM6yIRp8m"
      },
      "source": [
        "### 7.2 Training Loop\n",
        "The training loop is identical to the static MNIST case, but we pass each minibatch through `spikegen.rate` before running it through the feedforward network."
      ]
    },
    {
      "cell_type": "code",
      "metadata": {
        "pycharm": {
          "name": "#%%\n"
        },
        "id": "ISLzPpwvRp8m"
      },
      "source": [
        "loss_hist = []\n",
        "test_loss_hist = []\n",
        "counter = 0\n",
        "\n",
        "# Outer training loop\n",
        "for epoch in range(3):\n",
        "    minibatch_counter = 0\n",
        "    data = iter(train_loader)\n",
        "\n",
        "    # Minibatch training loop\n",
        "    for data_it, targets_it in data:\n",
        "        data_it = data_it.to(device)\n",
        "        targets_it = targets_it.to(device)\n",
        "\n",
        "        # Spike generator\n",
        "        spike_data, spike_targets = spikegen.rate(data_it, targets_it, num_outputs=num_outputs, num_steps=num_steps,\n",
        "                                                  gain=1, offset=0, convert_targets=False, temporal_targets=False)\n",
        "\n",
        "        # Forward pass\n",
        "        output, mem_rec = net(spike_data.view(num_steps, batch_size, -1))\n",
        "        log_p_y = log_softmax_fn(mem_rec)\n",
        "        loss_val = torch.zeros((1), dtype=dtype, device=device)\n",
        "\n",
        "        # Sum loss over time steps to perform BPTT\n",
        "        for step in range(num_steps):\n",
        "          loss_val += loss_fn(log_p_y[step], targets_it)\n",
        "\n",
        "        # Gradient Calculation\n",
        "        optimizer.zero_grad()\n",
        "        loss_val.backward(retain_graph=True)\n",
        "        nn.utils.clip_grad_norm_(net.parameters(), 1)\n",
        "\n",
        "        # Weight Update\n",
        "        optimizer.step()\n",
        "\n",
        "        # Store Loss history\n",
        "        loss_hist.append(loss_val.item())\n",
        "\n",
        "        # Test set\n",
        "        test_data = itertools.cycle(test_loader)\n",
        "        testdata_it, testtargets_it = next(test_data)\n",
        "        testdata_it = testdata_it.to(device)\n",
        "        testtargets_it = testtargets_it.to(device)\n",
        "\n",
        "        # Test set spike conversion\n",
        "        test_spike_data, test_spike_targets = spikegen.rate(testdata_it, testtargets_it, num_outputs=num_outputs,\n",
        "                                                            num_steps=num_steps, gain=1, offset=0, convert_targets=False, temporal_targets=False)\n",
        "\n",
        "        # Test set forward pass\n",
        "        test_output, test_mem_rec = net(test_spike_data.view(num_steps, batch_size, -1))\n",
        "\n",
        "        # Test set loss\n",
        "        log_p_ytest = log_softmax_fn(test_mem_rec)\n",
        "        log_p_ytest = log_p_ytest.sum(dim=0)\n",
        "        loss_val_test = loss_fn(log_p_ytest, test_spike_targets)\n",
        "        test_loss_hist.append(loss_val_test.item())\n",
        "\n",
        "        # Print test/train loss/accuracy\n",
        "        if counter % 50 == 0:\n",
        "            train_printer()\n",
        "        minibatch_counter += 1\n",
        "        counter += 1\n",
        "\n",
        "loss_hist_true_grad = loss_hist\n",
        "test_loss_hist_true_grad = test_loss_hist"
      ],
      "execution_count": null,
      "outputs": []
    },
    {
      "cell_type": "markdown",
      "metadata": {
        "collapsed": false,
        "id": "EuRL61AnRp8m"
      },
      "source": [
        "## 8. Spiking MNIST Results\n",
        "### 8.1 Plot Training/Test Loss"
      ]
    },
    {
      "cell_type": "code",
      "metadata": {
        "pycharm": {
          "name": "#%%\n"
        },
        "id": "fl5griHBRp8n"
      },
      "source": [
        "# Plot Loss\n",
        "fig = plt.figure(facecolor=\"w\", figsize=(10, 5))\n",
        "plt.plot(loss_hist)\n",
        "plt.plot(test_loss_hist)\n",
        "plt.legend([\"Test Loss\", \"Train Loss\"])\n",
        "plt.xlabel(\"Epoch\")\n",
        "plt.ylabel(\"Loss\")\n",
        "plt.show()"
      ],
      "execution_count": null,
      "outputs": []
    },
    {
      "cell_type": "markdown",
      "metadata": {
        "collapsed": false,
        "id": "IZMH5UOlRp8n"
      },
      "source": [
        "### 8.2 Test Set Accuracy"
      ]
    },
    {
      "cell_type": "code",
      "metadata": {
        "pycharm": {
          "name": "#%%\n"
        },
        "id": "eO2Krz1mRp8n"
      },
      "source": [
        "total = 0\n",
        "correct = 0\n",
        "test_loader = DataLoader(mnist_test, batch_size=batch_size, shuffle=True, drop_last=False)\n",
        "\n",
        "with torch.no_grad():\n",
        "  net.eval()\n",
        "  for data in test_loader:\n",
        "    images, labels = data\n",
        "    images = images.to(device)\n",
        "    labels = labels.to(device)\n",
        "\n",
        "    # If current batch matches batch_size, just do the usual thing\n",
        "    if images.size()[0] == batch_size:\n",
        "      spike_test, spike_targets = spikegen.rate(images, labels, num_outputs=num_outputs, num_steps=num_steps,\n",
        "                                                            gain=1, offset=0, convert_targets=False, temporal_targets=False)\n",
        "\n",
        "      outputs, _ = net(spike_test.view(num_steps, batch_size, -1))\n",
        "\n",
        "    # If current batch does not match batch_size (e.g., is the final minibatch),\n",
        "    # modify batch_size in a temp variable and restore it at the end of the else block\n",
        "    else:\n",
        "      temp_bs = batch_size\n",
        "      batch_size = images.size()[0]\n",
        "      spike_test, spike_targets = spikegen.rate(images, labels, num_outputs=num_outputs, num_steps=num_steps,\n",
        "                                                gain=1, offset=0, convert_targets=False, temporal_targets=False)\n",
        "\n",
        "      outputs, _ = net(spike_test.view(num_steps, images.size()[0], -1))\n",
        "      batch_size = temp_bs\n",
        "\n",
        "    _, predicted = outputs.sum(dim=0).max(1)\n",
        "    total += spike_targets.size(0)\n",
        "    correct += (predicted == spike_targets).sum().item()\n",
        "\n",
        "print(f\"Total correctly classified test set images: {correct}/{total}\")\n",
        "print(f\"Test Set Accuracy: {100 * correct / total}%\")"
      ],
      "execution_count": null,
      "outputs": []
    },
    {
      "cell_type": "markdown",
      "metadata": {
        "collapsed": false,
        "id": "ztM4ogAqRp8n"
      },
      "source": [
        "That's all for now!\n",
        "Next time, we'll introduce how to use spiking convolutional layers to improve accuracy."
      ]
    },
    {
      "cell_type": "markdown",
      "metadata": {
        "id": "41JE8mzpvjiD"
      },
      "source": [
        ""
      ]
    },
    {
      "cell_type": "markdown",
      "metadata": {
        "id": "sqHlrfyCJuCV"
      },
      "source": [
        ""
      ]
    }
  ]
}